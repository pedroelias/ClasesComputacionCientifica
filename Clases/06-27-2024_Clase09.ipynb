{
 "cells": [
  {
   "cell_type": "code",
   "execution_count": 1,
   "id": "55142c46",
   "metadata": {},
   "outputs": [
    {
     "name": "stdout",
     "output_type": "stream",
     "text": [
      "search: \u001b[0m\u001b[1mm\u001b[22m\u001b[0m\u001b[1mo\u001b[22m\u001b[0m\u001b[1md\u001b[22m \u001b[0m\u001b[1mm\u001b[22m\u001b[0m\u001b[1mo\u001b[22m\u001b[0m\u001b[1md\u001b[22mf \u001b[0m\u001b[1mm\u001b[22m\u001b[0m\u001b[1mo\u001b[22m\u001b[0m\u001b[1md\u001b[22m1 \u001b[0m\u001b[1mm\u001b[22m\u001b[0m\u001b[1mo\u001b[22m\u001b[0m\u001b[1md\u001b[22mule \u001b[0m\u001b[1mm\u001b[22m\u001b[0m\u001b[1mo\u001b[22m\u001b[0m\u001b[1md\u001b[22m2pi \u001b[0m\u001b[1mM\u001b[22m\u001b[0m\u001b[1mo\u001b[22m\u001b[0m\u001b[1md\u001b[22mule \u001b[0m\u001b[1mm\u001b[22m\u001b[0m\u001b[1mo\u001b[22m\u001b[0m\u001b[1md\u001b[22mifyfield! \u001b[0m\u001b[1mm\u001b[22m\u001b[0m\u001b[1mo\u001b[22m\u001b[0m\u001b[1md\u001b[22mifyproperty! ch\u001b[0m\u001b[1mm\u001b[22m\u001b[0m\u001b[1mo\u001b[22m\u001b[0m\u001b[1md\u001b[22m\n",
      "\n"
     ]
    },
    {
     "data": {
      "text/latex": [
       "\\begin{verbatim}\n",
       "mod(x::Integer, r::AbstractUnitRange)\n",
       "\\end{verbatim}\n",
       "Find \\texttt{y} in the range \\texttt{r} such that $x ≡ y (mod n)$, where \\texttt{n = length(r)}, i.e. \\texttt{y = mod(x - first(r), n) + first(r)}.\n",
       "\n",
       "See also \\href{@ref}{\\texttt{mod1}}.\n",
       "\n",
       "\\section{Examples}\n",
       "\\begin{verbatim}\n",
       "julia> mod(0, Base.OneTo(3))\n",
       "3\n",
       "\n",
       "julia> mod(3, 0:2)\n",
       "0\n",
       "\\end{verbatim}\n",
       "\\begin{quote}\n",
       "\\textbf{compat}\n",
       "\n",
       "Julia 1.3\n",
       "\n",
       "This method requires at least Julia 1.3.\n",
       "\n",
       "\\end{quote}\n",
       "\\rule{\\textwidth}{1pt}\n",
       "\\begin{verbatim}\n",
       "mod(x, y)\n",
       "rem(x, y, RoundDown)\n",
       "\\end{verbatim}\n",
       "The reduction of \\texttt{x} modulo \\texttt{y}, or equivalently, the remainder of \\texttt{x} after floored division by \\texttt{y}, i.e. \\texttt{x - y*fld(x,y)} if computed without intermediate rounding.\n",
       "\n",
       "The result will have the same sign as \\texttt{y}, and magnitude less than \\texttt{abs(y)} (with some exceptions, see note below).\n",
       "\n",
       "\\begin{quote}\n",
       "\\textbf{note}\n",
       "\n",
       "Note\n",
       "\n",
       "When used with floating point values, the exact result may not be representable by the type, and so rounding error may occur. In particular, if the exact result is very close to \\texttt{y}, then it may be rounded to \\texttt{y}.\n",
       "\n",
       "\\end{quote}\n",
       "See also: \\href{@ref}{\\texttt{rem}}, \\href{@ref}{\\texttt{div}}, \\href{@ref}{\\texttt{fld}}, \\href{@ref}{\\texttt{mod1}}, \\href{@ref}{\\texttt{invmod}}.\n",
       "\n",
       "\\begin{verbatim}\n",
       "julia> mod(8, 3)\n",
       "2\n",
       "\n",
       "julia> mod(9, 3)\n",
       "0\n",
       "\n",
       "julia> mod(8.9, 3)\n",
       "2.9000000000000004\n",
       "\n",
       "julia> mod(eps(), 3)\n",
       "2.220446049250313e-16\n",
       "\n",
       "julia> mod(-eps(), 3)\n",
       "3.0\n",
       "\n",
       "julia> mod.(-5:5, 3)'\n",
       "1×11 adjoint(::Vector{Int64}) with eltype Int64:\n",
       " 1  2  0  1  2  0  1  2  0  1  2\n",
       "\\end{verbatim}\n",
       "\\rule{\\textwidth}{1pt}\n",
       "\\begin{verbatim}\n",
       "rem(x::Integer, T::Type{<:Integer}) -> T\n",
       "mod(x::Integer, T::Type{<:Integer}) -> T\n",
       "%(x::Integer, T::Type{<:Integer}) -> T\n",
       "\\end{verbatim}\n",
       "Find \\texttt{y::T} such that \\texttt{x} ≡ \\texttt{y} (mod n), where n is the number of integers representable in \\texttt{T}, and \\texttt{y} is an integer in \\texttt{[typemin(T),typemax(T)]}. If \\texttt{T} can represent any integer (e.g. \\texttt{T == BigInt}), then this operation corresponds to a conversion to \\texttt{T}.\n",
       "\n",
       "\\section{Examples}\n",
       "\\begin{verbatim}\n",
       "julia> 129 % Int8\n",
       "-127\n",
       "\\end{verbatim}\n"
      ],
      "text/markdown": [
       "```\n",
       "mod(x::Integer, r::AbstractUnitRange)\n",
       "```\n",
       "\n",
       "Find `y` in the range `r` such that $x ≡ y (mod n)$, where `n = length(r)`, i.e. `y = mod(x - first(r), n) + first(r)`.\n",
       "\n",
       "See also [`mod1`](@ref).\n",
       "\n",
       "# Examples\n",
       "\n",
       "```jldoctest\n",
       "julia> mod(0, Base.OneTo(3))\n",
       "3\n",
       "\n",
       "julia> mod(3, 0:2)\n",
       "0\n",
       "```\n",
       "\n",
       "!!! compat \"Julia 1.3\"\n",
       "    This method requires at least Julia 1.3.\n",
       "\n",
       "\n",
       "---\n",
       "\n",
       "```\n",
       "mod(x, y)\n",
       "rem(x, y, RoundDown)\n",
       "```\n",
       "\n",
       "The reduction of `x` modulo `y`, or equivalently, the remainder of `x` after floored division by `y`, i.e. `x - y*fld(x,y)` if computed without intermediate rounding.\n",
       "\n",
       "The result will have the same sign as `y`, and magnitude less than `abs(y)` (with some exceptions, see note below).\n",
       "\n",
       "!!! note\n",
       "    When used with floating point values, the exact result may not be representable by the type, and so rounding error may occur. In particular, if the exact result is very close to `y`, then it may be rounded to `y`.\n",
       "\n",
       "\n",
       "See also: [`rem`](@ref), [`div`](@ref), [`fld`](@ref), [`mod1`](@ref), [`invmod`](@ref).\n",
       "\n",
       "```jldoctest\n",
       "julia> mod(8, 3)\n",
       "2\n",
       "\n",
       "julia> mod(9, 3)\n",
       "0\n",
       "\n",
       "julia> mod(8.9, 3)\n",
       "2.9000000000000004\n",
       "\n",
       "julia> mod(eps(), 3)\n",
       "2.220446049250313e-16\n",
       "\n",
       "julia> mod(-eps(), 3)\n",
       "3.0\n",
       "\n",
       "julia> mod.(-5:5, 3)'\n",
       "1×11 adjoint(::Vector{Int64}) with eltype Int64:\n",
       " 1  2  0  1  2  0  1  2  0  1  2\n",
       "```\n",
       "\n",
       "---\n",
       "\n",
       "```\n",
       "rem(x::Integer, T::Type{<:Integer}) -> T\n",
       "mod(x::Integer, T::Type{<:Integer}) -> T\n",
       "%(x::Integer, T::Type{<:Integer}) -> T\n",
       "```\n",
       "\n",
       "Find `y::T` such that `x` ≡ `y` (mod n), where n is the number of integers representable in `T`, and `y` is an integer in `[typemin(T),typemax(T)]`. If `T` can represent any integer (e.g. `T == BigInt`), then this operation corresponds to a conversion to `T`.\n",
       "\n",
       "# Examples\n",
       "\n",
       "```jldoctest\n",
       "julia> 129 % Int8\n",
       "-127\n",
       "```\n"
      ],
      "text/plain": [
       "\u001b[36m  mod(x::Integer, r::AbstractUnitRange)\u001b[39m\n",
       "\n",
       "  Find \u001b[36my\u001b[39m in the range \u001b[36mr\u001b[39m such that \u001b[35mx ≡ y (mod n)\u001b[39m, where \u001b[36mn = length(r)\u001b[39m, i.e. \u001b[36my =\n",
       "  mod(x - first(r), n) + first(r)\u001b[39m.\n",
       "\n",
       "  See also \u001b[36mmod1\u001b[39m.\n",
       "\n",
       "\u001b[1m  Examples\u001b[22m\n",
       "\u001b[1m  ≡≡≡≡≡≡≡≡≡≡\u001b[22m\n",
       "\n",
       "\u001b[36m  julia> mod(0, Base.OneTo(3))\u001b[39m\n",
       "\u001b[36m  3\u001b[39m\n",
       "\u001b[36m  \u001b[39m\n",
       "\u001b[36m  julia> mod(3, 0:2)\u001b[39m\n",
       "\u001b[36m  0\u001b[39m\n",
       "\n",
       "\u001b[39m\u001b[1m  │ \u001b[22m\u001b[39m\u001b[1mJulia 1.3\u001b[22m\n",
       "\u001b[39m\u001b[1m  │\u001b[22m\n",
       "\u001b[39m\u001b[1m  │\u001b[22m  This method requires at least Julia 1.3.\n",
       "\n",
       "  ────────────────────────────────────────────────────────────────────────────\n",
       "\n",
       "\u001b[36m  mod(x, y)\u001b[39m\n",
       "\u001b[36m  rem(x, y, RoundDown)\u001b[39m\n",
       "\n",
       "  The reduction of \u001b[36mx\u001b[39m modulo \u001b[36my\u001b[39m, or equivalently, the remainder of \u001b[36mx\u001b[39m after\n",
       "  floored division by \u001b[36my\u001b[39m, i.e. \u001b[36mx - y*fld(x,y)\u001b[39m if computed without intermediate\n",
       "  rounding.\n",
       "\n",
       "  The result will have the same sign as \u001b[36my\u001b[39m, and magnitude less than \u001b[36mabs(y)\u001b[39m\n",
       "  (with some exceptions, see note below).\n",
       "\n",
       "\u001b[36m\u001b[1m  │ \u001b[22m\u001b[39m\u001b[36m\u001b[1mNote\u001b[22m\u001b[39m\n",
       "\u001b[36m\u001b[1m  │\u001b[22m\u001b[39m\n",
       "\u001b[36m\u001b[1m  │\u001b[22m\u001b[39m  When used with floating point values, the exact result may not be\n",
       "\u001b[36m\u001b[1m  │\u001b[22m\u001b[39m  representable by the type, and so rounding error may occur. In\n",
       "\u001b[36m\u001b[1m  │\u001b[22m\u001b[39m  particular, if the exact result is very close to \u001b[36my\u001b[39m, then it may be\n",
       "\u001b[36m\u001b[1m  │\u001b[22m\u001b[39m  rounded to \u001b[36my\u001b[39m.\n",
       "\n",
       "  See also: \u001b[36mrem\u001b[39m, \u001b[36mdiv\u001b[39m, \u001b[36mfld\u001b[39m, \u001b[36mmod1\u001b[39m, \u001b[36minvmod\u001b[39m.\n",
       "\n",
       "\u001b[36m  julia> mod(8, 3)\u001b[39m\n",
       "\u001b[36m  2\u001b[39m\n",
       "\u001b[36m  \u001b[39m\n",
       "\u001b[36m  julia> mod(9, 3)\u001b[39m\n",
       "\u001b[36m  0\u001b[39m\n",
       "\u001b[36m  \u001b[39m\n",
       "\u001b[36m  julia> mod(8.9, 3)\u001b[39m\n",
       "\u001b[36m  2.9000000000000004\u001b[39m\n",
       "\u001b[36m  \u001b[39m\n",
       "\u001b[36m  julia> mod(eps(), 3)\u001b[39m\n",
       "\u001b[36m  2.220446049250313e-16\u001b[39m\n",
       "\u001b[36m  \u001b[39m\n",
       "\u001b[36m  julia> mod(-eps(), 3)\u001b[39m\n",
       "\u001b[36m  3.0\u001b[39m\n",
       "\u001b[36m  \u001b[39m\n",
       "\u001b[36m  julia> mod.(-5:5, 3)'\u001b[39m\n",
       "\u001b[36m  1×11 adjoint(::Vector{Int64}) with eltype Int64:\u001b[39m\n",
       "\u001b[36m   1  2  0  1  2  0  1  2  0  1  2\u001b[39m\n",
       "\n",
       "  ────────────────────────────────────────────────────────────────────────────\n",
       "\n",
       "\u001b[36m  rem(x::Integer, T::Type{<:Integer}) -> T\u001b[39m\n",
       "\u001b[36m  mod(x::Integer, T::Type{<:Integer}) -> T\u001b[39m\n",
       "\u001b[36m  %(x::Integer, T::Type{<:Integer}) -> T\u001b[39m\n",
       "\n",
       "  Find \u001b[36my::T\u001b[39m such that \u001b[36mx\u001b[39m ≡ \u001b[36my\u001b[39m (mod n), where n is the number of integers\n",
       "  representable in \u001b[36mT\u001b[39m, and \u001b[36my\u001b[39m is an integer in \u001b[36m[typemin(T),typemax(T)]\u001b[39m. If \u001b[36mT\u001b[39m can\n",
       "  represent any integer (e.g. \u001b[36mT == BigInt\u001b[39m), then this operation corresponds to\n",
       "  a conversion to \u001b[36mT\u001b[39m.\n",
       "\n",
       "\u001b[1m  Examples\u001b[22m\n",
       "\u001b[1m  ≡≡≡≡≡≡≡≡≡≡\u001b[22m\n",
       "\n",
       "\u001b[36m  julia> 129 % Int8\u001b[39m\n",
       "\u001b[36m  -127\u001b[39m"
      ]
     },
     "execution_count": 1,
     "metadata": {},
     "output_type": "execute_result"
    }
   ],
   "source": [
    "?mod"
   ]
  },
  {
   "cell_type": "code",
   "execution_count": 2,
   "id": "0a4e6e50",
   "metadata": {},
   "outputs": [
    {
     "data": {
      "text/plain": [
       "seno (generic function with 1 method)"
      ]
     },
     "execution_count": 2,
     "metadata": {},
     "output_type": "execute_result"
    }
   ],
   "source": [
    "function absoluto(x::Number)\n",
    "    if x <0\n",
    "        x*=-1\n",
    "    end\n",
    "    return x\n",
    "end\n",
    "\n",
    "function raizc(x::Number)\n",
    "    a=x\n",
    "    b=1.0\n",
    "    while absoluto(b-a) > 0.001\n",
    "        a=(a+b)/2.0\n",
    "        b=x/a\n",
    "    end\n",
    "    return (a+b)/2\n",
    "end\n",
    "\n",
    "function seno(x::Number)\n",
    "    signo=1.0\n",
    "    its=14\n",
    "    x0=mod(x,π)\n",
    "    x0=x/2^(its)\n",
    "    y=x0*x0\n",
    "    if x<0 \n",
    "        signo = -1.0 \n",
    "    end\n",
    "    if -π<x && x<=π\n",
    "        for i ∈ 1:its\n",
    "            y=4y*(1-y)\n",
    "        end\n",
    "    end\n",
    "    y=signo*sqrt(y)\n",
    "end"
   ]
  },
  {
   "cell_type": "code",
   "execution_count": 33,
   "id": "5dd18998",
   "metadata": {},
   "outputs": [],
   "source": [
    "using Plots"
   ]
  },
  {
   "cell_type": "code",
   "execution_count": 41,
   "id": "73f6c1fc",
   "metadata": {},
   "outputs": [
    {
     "data": {
      "text/plain": [
       "1:10"
      ]
     },
     "execution_count": 41,
     "metadata": {},
     "output_type": "execute_result"
    }
   ],
   "source": [
    "x=range(1,10)"
   ]
  },
  {
   "cell_type": "code",
   "execution_count": 72,
   "id": "45244fcc",
   "metadata": {},
   "outputs": [
    {
     "data": {
      "text/plain": [
       "-0.9997551733586199"
      ]
     },
     "execution_count": 72,
     "metadata": {},
     "output_type": "execute_result"
    }
   ],
   "source": [
    "sin(55)"
   ]
  },
  {
   "cell_type": "code",
   "execution_count": 71,
   "id": "4aa10d89",
   "metadata": {},
   "outputs": [
    {
     "data": {
      "text/plain": [
       "0.00335693359375"
      ]
     },
     "execution_count": 71,
     "metadata": {},
     "output_type": "execute_result"
    }
   ],
   "source": [
    "seno(55)"
   ]
  },
  {
   "cell_type": "markdown",
   "id": "546ee9f9",
   "metadata": {},
   "source": [
    "\n",
    "### En python\n",
    "\n",
    "```\n",
    "import math\n",
    "\n",
    "def seno(x):\n",
    "    signo=1.0\n",
    "    its=14\n",
    "    x0=mod(x,π)\n",
    "    x0=x/2^(its)\n",
    "    y=x0*x0\n",
    "    if x<0\n",
    "        signo = -1.0 \n",
    "    if -math.pi <x and x<=math.pi\n",
    "        for i in range(its):\n",
    "            y=4y*(1-y)\n",
    "    return y\n",
    "```"
   ]
  },
  {
   "cell_type": "code",
   "execution_count": 1,
   "id": "2a777d8b",
   "metadata": {},
   "outputs": [
    {
     "data": {
      "text/plain": [
       "5-element Vector{Float64}:\n",
       " 1.0\n",
       " 1.0\n",
       " 1.0\n",
       " 1.0000000000000002\n",
       " 1.0000000000000002"
      ]
     },
     "execution_count": 1,
     "metadata": {},
     "output_type": "execute_result"
    }
   ],
   "source": [
    "mutable struct Matriz3\n",
    "    d0::Vector\n",
    "    d1::Vector\n",
    "    d2::Vector\n",
    "end\n",
    "\n",
    "function thomas(una_matriz3::Matriz3,b::Vector)\n",
    "    n = length(b)\n",
    "    x = zeros(n)\n",
    "    d0=una_matriz3.d0\n",
    "    d1=una_matriz3.d1\n",
    "    d2=una_matriz3.d2\n",
    "    for i = 2:n\n",
    "        α = d1[i]/d0[i-1]\n",
    "        d0[i] = d0[i]-α*d2[i-1]\n",
    "        b[i] = b[i]-α*b[i-1]\n",
    "    end\n",
    "    x[n] = b[n]/d0[n]\n",
    "    for i=n-1:-1:1\n",
    "        x[i] = (b[i] - d2[i]*x[i+1])/d0[i]\n",
    "    end\n",
    "    x\n",
    "end\n",
    "\n",
    "function multMa3diagVector(matriz::Matriz3, b::Vector)\n",
    "    n=length(b)\n",
    "    c=zeros(n)\n",
    "    tempora=0.0\n",
    "    c[1] = b[1]*matriz.d0[1] +b[2]*matriz.d2[1]\n",
    "    c[n] = b[n]*matriz.d0[n] +b[n-1]*matriz.d1[n-1]\n",
    "    for i=2:n-1\n",
    "        c[i]=b[i-1]*matriz.d1[i] + (b[i-1]*matriz.d0[i] + b[i+1]*matriz.d2[i])\n",
    "    end\n",
    "    return c\n",
    "end\n",
    "\n",
    "a1=[0.,3.,-4.,-2.,3.] # Inferior\n",
    "a0=[2.,5.,7.,3.,-1.]\n",
    "a2=[4,-2,3,1,0] #Superior\n",
    "b=[6.,6.,6.,2.,2.]\n",
    "eje_matriz=Matriz3(a0,a1,a2)\n",
    "thomas(eje_matriz,b)"
   ]
  },
  {
   "cell_type": "code",
   "execution_count": 3,
   "id": "6d4df6de",
   "metadata": {},
   "outputs": [
    {
     "data": {
      "text/plain": [
       "Matriz3([2.0, -1.0, 15.0, 3.4, -1.8823529411764706], [0.0, 3.0, -4.0, -2.0, 3.0], [4, -2, 3, 1, 0])"
      ]
     },
     "execution_count": 3,
     "metadata": {},
     "output_type": "execute_result"
    }
   ],
   "source": [
    "eje_matriz"
   ]
  },
  {
   "cell_type": "code",
   "execution_count": 2,
   "id": "f0bf8d60",
   "metadata": {},
   "outputs": [
    {
     "data": {
      "text/plain": [
       "suma (generic function with 1 method)"
      ]
     },
     "execution_count": 2,
     "metadata": {},
     "output_type": "execute_result"
    }
   ],
   "source": [
    "function suma(matriz1::Matriz3, matriz2::Matriz3)\n",
    "    n=length(matriz1.d0)\n",
    "    a=zeros(n)\n",
    "    b=zeros(n)\n",
    "    c=zeros(n)\n",
    "    resultado=Matriz3(a,b,c)\n",
    "    for i ∈ 1:n\n",
    "        resultado.d0[i]=matriz1.d0[i]+matriz2.d0[i]\n",
    "        resultado.d1[i]=matriz1.d1[i]+matriz2.d1[i]\n",
    "        resultado.d2[i]=matriz1.d2[i]+matriz2.d2[i]\n",
    "    end\n",
    "    return resultado\n",
    "end"
   ]
  },
  {
   "cell_type": "code",
   "execution_count": 3,
   "id": "9342e629",
   "metadata": {},
   "outputs": [
    {
     "data": {
      "text/plain": [
       "suma2 (generic function with 1 method)"
      ]
     },
     "execution_count": 3,
     "metadata": {},
     "output_type": "execute_result"
    }
   ],
   "source": [
    "function suma2(matriz1::Matriz3,matriz2::Matriz3)\n",
    "    n = length(matriz1.d0)\n",
    "    resultado = Matriz3(zeros(n),zeros(n),zeros(n))\n",
    "    for i in 1:n\n",
    "        resultado.d0[i] += matriz2.d0[i]\n",
    "        resultado.d1[i] += matriz2.d1[i]\n",
    "        resultado.d2[i] += matriz2.d2[i]\n",
    "    end\n",
    "    resultado\n",
    "end"
   ]
  },
  {
   "cell_type": "code",
   "execution_count": 3,
   "id": "acb98911",
   "metadata": {},
   "outputs": [
    {
     "data": {
      "text/plain": [
       "Matriz3([2.0, -1.0, 15.0, 3.4, -1.8823529411764706], [0.0, 3.0, -4.0, -2.0, 3.0], [4, -2, 3, 1, 0])"
      ]
     },
     "execution_count": 3,
     "metadata": {},
     "output_type": "execute_result"
    }
   ],
   "source": [
    "eje_matriz"
   ]
  },
  {
   "cell_type": "code",
   "execution_count": 4,
   "id": "788b8a34",
   "metadata": {},
   "outputs": [
    {
     "data": {
      "text/plain": [
       "test (generic function with 1 method)"
      ]
     },
     "execution_count": 4,
     "metadata": {},
     "output_type": "execute_result"
    }
   ],
   "source": [
    "function test(a::Vector)\n",
    "    println(a)\n",
    "end"
   ]
  },
  {
   "cell_type": "code",
   "execution_count": 4,
   "id": "791f93c5",
   "metadata": {},
   "outputs": [
    {
     "data": {
      "text/plain": [
       "Matriz3([2.0, 5.0, 7.0, 3.0, -1.0], [0.0, 3.0, -4.0, -2.0, 3.0], [4, -2, 3, 1, 0])"
      ]
     },
     "execution_count": 4,
     "metadata": {},
     "output_type": "execute_result"
    }
   ],
   "source": [
    "a1=[0.,3.,-4.,-2.,3.]\n",
    "a0=[2.,5.,7.,3.,-1.]\n",
    "a2=[4,-2,3,1,0]\n",
    "b=[6.,6.,6.,2.,2.]\n",
    "eje_matriz=Matriz3(a0,a1,a2)\n",
    "\n",
    "eje_2=Matriz3(a0,a1,a2)"
   ]
  },
  {
   "cell_type": "code",
   "execution_count": 5,
   "id": "1f4ebddc",
   "metadata": {},
   "outputs": [
    {
     "data": {
      "text/plain": [
       "Matriz3([2.0, 5.0, 7.0, 3.0, -1.0], [0.0, 3.0, -4.0, -2.0, 3.0], [4, -2, 3, 1, 0])"
      ]
     },
     "execution_count": 5,
     "metadata": {},
     "output_type": "execute_result"
    }
   ],
   "source": [
    "eje_matriz"
   ]
  },
  {
   "cell_type": "code",
   "execution_count": 22,
   "id": "56f83c9f",
   "metadata": {},
   "outputs": [
    {
     "name": "stdout",
     "output_type": "stream",
     "text": [
      "  0.000016 seconds (34 allocations: 800 bytes)\n"
     ]
    },
    {
     "data": {
      "text/plain": [
       "Matriz3([4.0, 10.0, 14.0, 6.0, -2.0], [0.0, 6.0, -8.0, -4.0, 6.0], [8.0, -4.0, 6.0, 2.0, 0.0])"
      ]
     },
     "execution_count": 22,
     "metadata": {},
     "output_type": "execute_result"
    }
   ],
   "source": [
    "@time suma(eje_matriz,eje_2)"
   ]
  },
  {
   "cell_type": "code",
   "execution_count": 23,
   "id": "3dfca93e",
   "metadata": {},
   "outputs": [
    {
     "name": "stdout",
     "output_type": "stream",
     "text": [
      "  0.000028 seconds (44 allocations: 960 bytes)\n"
     ]
    },
    {
     "data": {
      "text/plain": [
       "Matriz3([2.0, 5.0, 7.0, 3.0, -1.0], [0.0, 3.0, -4.0, -2.0, 3.0], [4.0, -2.0, 3.0, 1.0, 0.0])"
      ]
     },
     "execution_count": 23,
     "metadata": {},
     "output_type": "execute_result"
    }
   ],
   "source": [
    "@time suma2(eje_matriz,eje_2)"
   ]
  },
  {
   "cell_type": "code",
   "execution_count": 7,
   "id": "95133843",
   "metadata": {},
   "outputs": [
    {
     "data": {
      "text/plain": [
       "Matriz3([2.0, 5.0, 7.0, 3.0, -1.0], [0.0, 3.0, -4.0, -2.0, 3.0], [4, -2, 3, 1, 0])"
      ]
     },
     "execution_count": 7,
     "metadata": {},
     "output_type": "execute_result"
    }
   ],
   "source": [
    "eje_matriz"
   ]
  },
  {
   "cell_type": "code",
   "execution_count": 8,
   "id": "547f1a97",
   "metadata": {},
   "outputs": [
    {
     "data": {
      "text/plain": [
       "Matriz3([2.0, 5.0, 7.0, 3.0, -1.0], [0.0, 3.0, -4.0, -2.0, 3.0], [4, -2, 3, 1, 0])"
      ]
     },
     "execution_count": 8,
     "metadata": {},
     "output_type": "execute_result"
    }
   ],
   "source": [
    "eje_2"
   ]
  },
  {
   "cell_type": "code",
   "execution_count": 10,
   "id": "c653a1b9",
   "metadata": {},
   "outputs": [
    {
     "data": {
      "text/plain": [
       "5-element Vector{Float64}:\n",
       "  0.0\n",
       "  6.0\n",
       " -8.0\n",
       " -4.0\n",
       "  6.0"
      ]
     },
     "execution_count": 10,
     "metadata": {},
     "output_type": "execute_result"
    }
   ],
   "source": [
    "a1"
   ]
  },
  {
   "cell_type": "code",
   "execution_count": 11,
   "id": "af353f36",
   "metadata": {},
   "outputs": [
    {
     "data": {
      "text/plain": [
       "5-element Vector{Int64}:\n",
       "  8\n",
       " -4\n",
       "  6\n",
       "  2\n",
       "  0"
      ]
     },
     "execution_count": 11,
     "metadata": {},
     "output_type": "execute_result"
    }
   ],
   "source": [
    "a2"
   ]
  },
  {
   "cell_type": "code",
   "execution_count": 12,
   "id": "7a30867c",
   "metadata": {},
   "outputs": [
    {
     "data": {
      "text/plain": [
       "5-element Vector{Float64}:\n",
       "  4.0\n",
       " 10.0\n",
       " 14.0\n",
       "  6.0\n",
       " -2.0"
      ]
     },
     "execution_count": 12,
     "metadata": {},
     "output_type": "execute_result"
    }
   ],
   "source": [
    "a0"
   ]
  },
  {
   "cell_type": "code",
   "execution_count": 24,
   "id": "cbc1f30d",
   "metadata": {},
   "outputs": [
    {
     "data": {
      "text/plain": [
       "4"
      ]
     },
     "execution_count": 24,
     "metadata": {},
     "output_type": "execute_result"
    }
   ],
   "source": [
    "a=[2,3,4]\n",
    "b=a\n",
    "b[2]=4"
   ]
  },
  {
   "cell_type": "code",
   "execution_count": 25,
   "id": "681850a0",
   "metadata": {},
   "outputs": [
    {
     "data": {
      "text/plain": [
       "3-element Vector{Int64}:\n",
       " 2\n",
       " 4\n",
       " 4"
      ]
     },
     "execution_count": 25,
     "metadata": {},
     "output_type": "execute_result"
    }
   ],
   "source": [
    "a"
   ]
  },
  {
   "cell_type": "code",
   "execution_count": 26,
   "id": "14174cf8",
   "metadata": {},
   "outputs": [
    {
     "name": "stdout",
     "output_type": "stream",
     "text": [
      "search: \u001b[0m\u001b[1mc\u001b[22m\u001b[0m\u001b[1mo\u001b[22m\u001b[0m\u001b[1mp\u001b[22m\u001b[0m\u001b[1my\u001b[22m \u001b[0m\u001b[1mc\u001b[22m\u001b[0m\u001b[1mo\u001b[22m\u001b[0m\u001b[1mp\u001b[22m\u001b[0m\u001b[1my\u001b[22m! \u001b[0m\u001b[1mc\u001b[22m\u001b[0m\u001b[1mo\u001b[22m\u001b[0m\u001b[1mp\u001b[22m\u001b[0m\u001b[1my\u001b[22mto! \u001b[0m\u001b[1mc\u001b[22m\u001b[0m\u001b[1mo\u001b[22m\u001b[0m\u001b[1mp\u001b[22m\u001b[0m\u001b[1my\u001b[22msign deep\u001b[0m\u001b[1mc\u001b[22m\u001b[0m\u001b[1mo\u001b[22m\u001b[0m\u001b[1mp\u001b[22m\u001b[0m\u001b[1my\u001b[22m unsafe_\u001b[0m\u001b[1mc\u001b[22m\u001b[0m\u001b[1mo\u001b[22m\u001b[0m\u001b[1mp\u001b[22m\u001b[0m\u001b[1my\u001b[22mto! \u001b[0m\u001b[1mc\u001b[22mircc\u001b[0m\u001b[1mo\u001b[22m\u001b[0m\u001b[1mp\u001b[22m\u001b[0m\u001b[1my\u001b[22m!\n",
      "\n"
     ]
    },
    {
     "data": {
      "text/latex": [
       "\\begin{verbatim}\n",
       "copy(x)\n",
       "\\end{verbatim}\n",
       "Create a shallow copy of \\texttt{x}: the outer structure is copied, but not all internal values. For example, copying an array produces a new array with identically-same elements as the original.\n",
       "\n",
       "See also \\href{@ref Base.copy!}{\\texttt{copy!}}, \\href{@ref}{\\texttt{copyto!}}.\n",
       "\n",
       "\\rule{\\textwidth}{1pt}\n",
       "\\begin{verbatim}\n",
       "copy(A::Transpose)\n",
       "copy(A::Adjoint)\n",
       "\\end{verbatim}\n",
       "Eagerly evaluate the lazy matrix transpose/adjoint. Note that the transposition is applied recursively to elements.\n",
       "\n",
       "This operation is intended for linear algebra usage - for general data manipulation see \\href{@ref Base.permutedims}{\\texttt{permutedims}}, which is non-recursive.\n",
       "\n",
       "\\section{Examples}\n",
       "\\begin{verbatim}\n",
       "julia> A = [1 2im; -3im 4]\n",
       "2×2 Matrix{Complex{Int64}}:\n",
       " 1+0im  0+2im\n",
       " 0-3im  4+0im\n",
       "\n",
       "julia> T = transpose(A)\n",
       "2×2 transpose(::Matrix{Complex{Int64}}) with eltype Complex{Int64}:\n",
       " 1+0im  0-3im\n",
       " 0+2im  4+0im\n",
       "\n",
       "julia> copy(T)\n",
       "2×2 Matrix{Complex{Int64}}:\n",
       " 1+0im  0-3im\n",
       " 0+2im  4+0im\n",
       "\\end{verbatim}\n"
      ],
      "text/markdown": [
       "```\n",
       "copy(x)\n",
       "```\n",
       "\n",
       "Create a shallow copy of `x`: the outer structure is copied, but not all internal values. For example, copying an array produces a new array with identically-same elements as the original.\n",
       "\n",
       "See also [`copy!`](@ref Base.copy!), [`copyto!`](@ref).\n",
       "\n",
       "---\n",
       "\n",
       "```\n",
       "copy(A::Transpose)\n",
       "copy(A::Adjoint)\n",
       "```\n",
       "\n",
       "Eagerly evaluate the lazy matrix transpose/adjoint. Note that the transposition is applied recursively to elements.\n",
       "\n",
       "This operation is intended for linear algebra usage - for general data manipulation see [`permutedims`](@ref Base.permutedims), which is non-recursive.\n",
       "\n",
       "# Examples\n",
       "\n",
       "```jldoctest\n",
       "julia> A = [1 2im; -3im 4]\n",
       "2×2 Matrix{Complex{Int64}}:\n",
       " 1+0im  0+2im\n",
       " 0-3im  4+0im\n",
       "\n",
       "julia> T = transpose(A)\n",
       "2×2 transpose(::Matrix{Complex{Int64}}) with eltype Complex{Int64}:\n",
       " 1+0im  0-3im\n",
       " 0+2im  4+0im\n",
       "\n",
       "julia> copy(T)\n",
       "2×2 Matrix{Complex{Int64}}:\n",
       " 1+0im  0-3im\n",
       " 0+2im  4+0im\n",
       "```\n"
      ],
      "text/plain": [
       "\u001b[36m  copy(x)\u001b[39m\n",
       "\n",
       "  Create a shallow copy of \u001b[36mx\u001b[39m: the outer structure is copied, but not all\n",
       "  internal values. For example, copying an array produces a new array with\n",
       "  identically-same elements as the original.\n",
       "\n",
       "  See also \u001b[36mcopy!\u001b[39m, \u001b[36mcopyto!\u001b[39m.\n",
       "\n",
       "  ────────────────────────────────────────────────────────────────────────────\n",
       "\n",
       "\u001b[36m  copy(A::Transpose)\u001b[39m\n",
       "\u001b[36m  copy(A::Adjoint)\u001b[39m\n",
       "\n",
       "  Eagerly evaluate the lazy matrix transpose/adjoint. Note that the\n",
       "  transposition is applied recursively to elements.\n",
       "\n",
       "  This operation is intended for linear algebra usage - for general data\n",
       "  manipulation see \u001b[36mpermutedims\u001b[39m, which is non-recursive.\n",
       "\n",
       "\u001b[1m  Examples\u001b[22m\n",
       "\u001b[1m  ≡≡≡≡≡≡≡≡≡≡\u001b[22m\n",
       "\n",
       "\u001b[36m  julia> A = [1 2im; -3im 4]\u001b[39m\n",
       "\u001b[36m  2×2 Matrix{Complex{Int64}}:\u001b[39m\n",
       "\u001b[36m   1+0im  0+2im\u001b[39m\n",
       "\u001b[36m   0-3im  4+0im\u001b[39m\n",
       "\u001b[36m  \u001b[39m\n",
       "\u001b[36m  julia> T = transpose(A)\u001b[39m\n",
       "\u001b[36m  2×2 transpose(::Matrix{Complex{Int64}}) with eltype Complex{Int64}:\u001b[39m\n",
       "\u001b[36m   1+0im  0-3im\u001b[39m\n",
       "\u001b[36m   0+2im  4+0im\u001b[39m\n",
       "\u001b[36m  \u001b[39m\n",
       "\u001b[36m  julia> copy(T)\u001b[39m\n",
       "\u001b[36m  2×2 Matrix{Complex{Int64}}:\u001b[39m\n",
       "\u001b[36m   1+0im  0-3im\u001b[39m\n",
       "\u001b[36m   0+2im  4+0im\u001b[39m"
      ]
     },
     "execution_count": 26,
     "metadata": {},
     "output_type": "execute_result"
    }
   ],
   "source": [
    "?copy"
   ]
  },
  {
   "cell_type": "code",
   "execution_count": 27,
   "id": "89f92b03",
   "metadata": {},
   "outputs": [
    {
     "ename": "LoadError",
     "evalue": "MethodError: no method matching copy(::Matriz3)\n\u001b[0mClosest candidates are:\n\u001b[0m  copy(\u001b[91m::SuiteSparse.CHOLMOD.Dense{Tv}\u001b[39m) where Tv<:Union{Float64, ComplexF64} at C:\\ProgramData\\Julia-1.7.2\\share\\julia\\stdlib\\v1.7\\SuiteSparse\\src\\cholmod.jl:416\n\u001b[0m  copy(\u001b[91m::LinearAlgebra.UpperTriangular\u001b[39m) at C:\\ProgramData\\Julia-1.7.2\\share\\julia\\stdlib\\v1.7\\LinearAlgebra\\src\\triangular.jl:46\n\u001b[0m  copy(\u001b[91m::Base.Broadcast.Broadcasted{Base.Broadcast.Style{Tuple}}\u001b[39m) at C:\\ProgramData\\Julia-1.7.2\\share\\julia\\base\\broadcast.jl:1071\n\u001b[0m  ...",
     "output_type": "error",
     "traceback": [
      "MethodError: no method matching copy(::Matriz3)\n\u001b[0mClosest candidates are:\n\u001b[0m  copy(\u001b[91m::SuiteSparse.CHOLMOD.Dense{Tv}\u001b[39m) where Tv<:Union{Float64, ComplexF64} at C:\\ProgramData\\Julia-1.7.2\\share\\julia\\stdlib\\v1.7\\SuiteSparse\\src\\cholmod.jl:416\n\u001b[0m  copy(\u001b[91m::LinearAlgebra.UpperTriangular\u001b[39m) at C:\\ProgramData\\Julia-1.7.2\\share\\julia\\stdlib\\v1.7\\LinearAlgebra\\src\\triangular.jl:46\n\u001b[0m  copy(\u001b[91m::Base.Broadcast.Broadcasted{Base.Broadcast.Style{Tuple}}\u001b[39m) at C:\\ProgramData\\Julia-1.7.2\\share\\julia\\base\\broadcast.jl:1071\n\u001b[0m  ...",
      "",
      "Stacktrace:",
      " [1] top-level scope",
      "   @ In[27]:1",
      " [2] eval",
      "   @ .\\boot.jl:373 [inlined]",
      " [3] include_string(mapexpr::typeof(REPL.softscope), mod::Module, code::String, filename::String)",
      "   @ Base .\\loading.jl:1196"
     ]
    }
   ],
   "source": [
    "matriz_copia=copy(eje_matriz)"
   ]
  },
  {
   "cell_type": "code",
   "execution_count": 28,
   "id": "dc5a5b90",
   "metadata": {},
   "outputs": [
    {
     "name": "stderr",
     "output_type": "stream",
     "text": [
      "\u001b[32m\u001b[1m    Updating\u001b[22m\u001b[39m registry at `C:\\Users\\Pedro Elias\\.julia\\registries\\General.toml`\n",
      "\u001b[32m\u001b[1m   Resolving\u001b[22m\u001b[39m package versions...\n",
      "\u001b[32m\u001b[1m  No Changes\u001b[22m\u001b[39m to `C:\\Users\\Pedro Elias\\.julia\\environments\\v1.7\\Project.toml`\n",
      "\u001b[32m\u001b[1m  No Changes\u001b[22m\u001b[39m to `C:\\Users\\Pedro Elias\\.julia\\environments\\v1.7\\Manifest.toml`\n"
     ]
    }
   ],
   "source": [
    "using Pkg\n",
    "Pkg.add(\"PyCall\")"
   ]
  },
  {
   "cell_type": "code",
   "execution_count": 3,
   "id": "05c02727",
   "metadata": {},
   "outputs": [],
   "source": [
    "using Pkg"
   ]
  },
  {
   "cell_type": "code",
   "execution_count": 1,
   "id": "2d13cfe2",
   "metadata": {},
   "outputs": [],
   "source": [
    "using PyCall"
   ]
  },
  {
   "cell_type": "code",
   "execution_count": 4,
   "id": "c9ff9cd0",
   "metadata": {},
   "outputs": [
    {
     "name": "stdout",
     "output_type": "stream",
     "text": [
      "\u001b[32m\u001b[1m      Status\u001b[22m\u001b[39m `C:\\Users\\Pedro Elias\\.julia\\environments\\v1.7\\Project.toml`\n",
      " \u001b[90m [a2cac450] \u001b[39mColorBrewer v0.4.0\n",
      " \u001b[90m [35d6a980] \u001b[39mColorSchemes v3.17.1\n",
      " \u001b[90m [3da002f7] \u001b[39mColorTypes v0.11.0\n",
      " \u001b[90m [5ae59095] \u001b[39mColors v0.12.8\n",
      " \u001b[90m [8f4d0f93] \u001b[39mConda v1.7.0\n",
      " \u001b[90m [a93c6f00] \u001b[39mDataFrames v1.3.5\n",
      " \u001b[90m [0c46a032] \u001b[39mDifferentialEquations v7.1.0\n",
      " \u001b[90m [7073ff75] \u001b[39mIJulia v1.23.2\n",
      " \u001b[90m [033835bb] \u001b[39mJLD2 v0.4.22\n",
      " \u001b[90m [b964fa9f] \u001b[39mLaTeXStrings v1.3.0\n",
      " \u001b[90m [442fdcdd] \u001b[39mMeasures v0.3.1\n",
      " \u001b[90m [91a5bcdd] \u001b[39mPlots v1.27.4\n",
      " \u001b[90m [438e738f] \u001b[39mPyCall v1.93.1\n",
      " \u001b[90m [d330b81b] \u001b[39mPyPlot v2.10.0\n",
      " \u001b[90m [276daf66] \u001b[39mSpecialFunctions v2.1.4\n",
      " \u001b[90m [c3572dad] \u001b[39mSundials v4.9.3\n",
      " \u001b[90m [8bb1440f] \u001b[39mDelimitedFiles\n",
      " \u001b[90m [8ba89e20] \u001b[39mDistributed\n",
      " \u001b[90m [37e2e46d] \u001b[39mLinearAlgebra\n"
     ]
    }
   ],
   "source": [
    "Pkg.status()"
   ]
  },
  {
   "cell_type": "code",
   "execution_count": 6,
   "id": "7d8dac50",
   "metadata": {},
   "outputs": [
    {
     "data": {
      "text/plain": [
       "0.7071067811865476"
      ]
     },
     "execution_count": 6,
     "metadata": {},
     "output_type": "execute_result"
    }
   ],
   "source": [
    "mate=pyimport(\"math\")\n",
    "mate.sin(mate.pi/4)"
   ]
  },
  {
   "cell_type": "code",
   "execution_count": 8,
   "id": "4a6d2055",
   "metadata": {},
   "outputs": [
    {
     "ename": "LoadError",
     "evalue": "PyError (PyImport_ImportModule\n\nThe Python package numpy could not be imported by pyimport. Usually this means\nthat you did not install numpy in the Python version being used by PyCall.\n\nPyCall is currently configured to use the Julia-specific Python distribution\ninstalled by the Conda.jl package.  To install the numpy module, you can\nuse `pyimport_conda(\"numpy\", PKG)`, where PKG is the Anaconda\npackage that contains the module numpy, or alternatively you can use the\nConda package directly (via `using Conda` followed by `Conda.add` etcetera).\n\nAlternatively, if you want to use a different Python distribution on your\nsystem, such as a system-wide Python (as opposed to the Julia-specific Python),\nyou can re-configure PyCall with that Python.   As explained in the PyCall\ndocumentation, set ENV[\"PYTHON\"] to the path/name of the python executable\nyou want to use, run Pkg.build(\"PyCall\"), and re-launch Julia.\n\n) <class 'ModuleNotFoundError'>\nModuleNotFoundError(\"No module named 'numpy'\")\n",
     "output_type": "error",
     "traceback": [
      "PyError (PyImport_ImportModule\n\nThe Python package numpy could not be imported by pyimport. Usually this means\nthat you did not install numpy in the Python version being used by PyCall.\n\nPyCall is currently configured to use the Julia-specific Python distribution\ninstalled by the Conda.jl package.  To install the numpy module, you can\nuse `pyimport_conda(\"numpy\", PKG)`, where PKG is the Anaconda\npackage that contains the module numpy, or alternatively you can use the\nConda package directly (via `using Conda` followed by `Conda.add` etcetera).\n\nAlternatively, if you want to use a different Python distribution on your\nsystem, such as a system-wide Python (as opposed to the Julia-specific Python),\nyou can re-configure PyCall with that Python.   As explained in the PyCall\ndocumentation, set ENV[\"PYTHON\"] to the path/name of the python executable\nyou want to use, run Pkg.build(\"PyCall\"), and re-launch Julia.\n\n) <class 'ModuleNotFoundError'>\nModuleNotFoundError(\"No module named 'numpy'\")\n",
      "",
      "Stacktrace:",
      " [1] pyimport(name::String)",
      "   @ PyCall C:\\Users\\Pedro Elias\\.julia\\packages\\PyCall\\7a7w0\\src\\PyCall.jl:550",
      " [2] top-level scope",
      "   @ In[8]:1",
      " [3] eval",
      "   @ .\\boot.jl:373 [inlined]",
      " [4] include_string(mapexpr::typeof(REPL.softscope), mod::Module, code::String, filename::String)",
      "   @ Base .\\loading.jl:1196"
     ]
    }
   ],
   "source": [
    "numpy = pyimport(\"numpy\")"
   ]
  },
  {
   "cell_type": "code",
   "execution_count": 9,
   "id": "69729bce",
   "metadata": {},
   "outputs": [
    {
     "ename": "LoadError",
     "evalue": "UndefVarError: Conda not defined",
     "output_type": "error",
     "traceback": [
      "UndefVarError: Conda not defined",
      "",
      "Stacktrace:",
      " [1] top-level scope",
      "   @ In[9]:1",
      " [2] eval",
      "   @ .\\boot.jl:373 [inlined]",
      " [3] include_string(mapexpr::typeof(REPL.softscope), mod::Module, code::String, filename::String)",
      "   @ Base .\\loading.jl:1196"
     ]
    }
   ],
   "source": [
    "Conda.add(numpy)"
   ]
  },
  {
   "cell_type": "code",
   "execution_count": 10,
   "id": "f32ad8b9",
   "metadata": {},
   "outputs": [
    {
     "ename": "LoadError",
     "evalue": "UndefVarError: PKG not defined",
     "output_type": "error",
     "traceback": [
      "UndefVarError: PKG not defined",
      "",
      "Stacktrace:",
      " [1] top-level scope",
      "   @ In[10]:1",
      " [2] eval",
      "   @ .\\boot.jl:373 [inlined]",
      " [3] include_string(mapexpr::typeof(REPL.softscope), mod::Module, code::String, filename::String)",
      "   @ Base .\\loading.jl:1196"
     ]
    }
   ],
   "source": [
    "pyimport_conda(\"numpy\", PKG)"
   ]
  },
  {
   "cell_type": "code",
   "execution_count": 11,
   "id": "f6f2df80",
   "metadata": {},
   "outputs": [],
   "source": [
    "using Conda"
   ]
  },
  {
   "cell_type": "code",
   "execution_count": 12,
   "id": "a3a42e0b",
   "metadata": {},
   "outputs": [
    {
     "name": "stderr",
     "output_type": "stream",
     "text": [
      "┌ Info: Running `conda install -y numpy` in root environment\n",
      "└ @ Conda C:\\Users\\Pedro Elias\\.julia\\packages\\Conda\\x2UxR\\src\\Conda.jl:127\n",
      "failed to create process.\r\n"
     ]
    }
   ],
   "source": [
    "Conda.add(\"numpy\")"
   ]
  },
  {
   "cell_type": "code",
   "execution_count": 13,
   "id": "d90a9541",
   "metadata": {},
   "outputs": [
    {
     "ename": "LoadError",
     "evalue": "PyError (PyImport_ImportModule\n\nThe Python package numpy could not be imported by pyimport. Usually this means\nthat you did not install numpy in the Python version being used by PyCall.\n\nPyCall is currently configured to use the Julia-specific Python distribution\ninstalled by the Conda.jl package.  To install the numpy module, you can\nuse `pyimport_conda(\"numpy\", PKG)`, where PKG is the Anaconda\npackage that contains the module numpy, or alternatively you can use the\nConda package directly (via `using Conda` followed by `Conda.add` etcetera).\n\nAlternatively, if you want to use a different Python distribution on your\nsystem, such as a system-wide Python (as opposed to the Julia-specific Python),\nyou can re-configure PyCall with that Python.   As explained in the PyCall\ndocumentation, set ENV[\"PYTHON\"] to the path/name of the python executable\nyou want to use, run Pkg.build(\"PyCall\"), and re-launch Julia.\n\n) <class 'ModuleNotFoundError'>\nModuleNotFoundError(\"No module named 'numpy'\")\n",
     "output_type": "error",
     "traceback": [
      "PyError (PyImport_ImportModule\n\nThe Python package numpy could not be imported by pyimport. Usually this means\nthat you did not install numpy in the Python version being used by PyCall.\n\nPyCall is currently configured to use the Julia-specific Python distribution\ninstalled by the Conda.jl package.  To install the numpy module, you can\nuse `pyimport_conda(\"numpy\", PKG)`, where PKG is the Anaconda\npackage that contains the module numpy, or alternatively you can use the\nConda package directly (via `using Conda` followed by `Conda.add` etcetera).\n\nAlternatively, if you want to use a different Python distribution on your\nsystem, such as a system-wide Python (as opposed to the Julia-specific Python),\nyou can re-configure PyCall with that Python.   As explained in the PyCall\ndocumentation, set ENV[\"PYTHON\"] to the path/name of the python executable\nyou want to use, run Pkg.build(\"PyCall\"), and re-launch Julia.\n\n) <class 'ModuleNotFoundError'>\nModuleNotFoundError(\"No module named 'numpy'\")\n",
      "",
      "Stacktrace:",
      " [1] pyimport(name::String)",
      "   @ PyCall C:\\Users\\Pedro Elias\\.julia\\packages\\PyCall\\7a7w0\\src\\PyCall.jl:550",
      " [2] top-level scope",
      "   @ In[13]:1",
      " [3] eval",
      "   @ .\\boot.jl:373 [inlined]",
      " [4] include_string(mapexpr::typeof(REPL.softscope), mod::Module, code::String, filename::String)",
      "   @ Base .\\loading.jl:1196"
     ]
    }
   ],
   "source": [
    "numpy=pyimport(\"numpy\")"
   ]
  },
  {
   "cell_type": "code",
   "execution_count": null,
   "id": "5a375945",
   "metadata": {},
   "outputs": [],
   "source": [
    "a=numpy1.zeros(10) #np.zeros\n",
    "typeof(a) # Sera un vector\n",
    "\n",
    "## En \n",
    "\n",
    "B=numpy.zeros([3,3])"
   ]
  },
  {
   "cell_type": "code",
   "execution_count": 16,
   "id": "3bf102fa",
   "metadata": {},
   "outputs": [
    {
     "ename": "LoadError",
     "evalue": "PyError (PyImport_ImportModule\n\nThe Python package matplotlib.pyplot could not be imported by pyimport. Usually this means\nthat you did not install matplotlib.pyplot in the Python version being used by PyCall.\n\nPyCall is currently configured to use the Julia-specific Python distribution\ninstalled by the Conda.jl package.  To install the matplotlib.pyplot module, you can\nuse `pyimport_conda(\"matplotlib.pyplot\", PKG)`, where PKG is the Anaconda\npackage that contains the module matplotlib.pyplot, or alternatively you can use the\nConda package directly (via `using Conda` followed by `Conda.add` etcetera).\n\nAlternatively, if you want to use a different Python distribution on your\nsystem, such as a system-wide Python (as opposed to the Julia-specific Python),\nyou can re-configure PyCall with that Python.   As explained in the PyCall\ndocumentation, set ENV[\"PYTHON\"] to the path/name of the python executable\nyou want to use, run Pkg.build(\"PyCall\"), and re-launch Julia.\n\n) <class 'ModuleNotFoundError'>\nModuleNotFoundError(\"No module named 'matplotlib'\")\n",
     "output_type": "error",
     "traceback": [
      "PyError (PyImport_ImportModule\n\nThe Python package matplotlib.pyplot could not be imported by pyimport. Usually this means\nthat you did not install matplotlib.pyplot in the Python version being used by PyCall.\n\nPyCall is currently configured to use the Julia-specific Python distribution\ninstalled by the Conda.jl package.  To install the matplotlib.pyplot module, you can\nuse `pyimport_conda(\"matplotlib.pyplot\", PKG)`, where PKG is the Anaconda\npackage that contains the module matplotlib.pyplot, or alternatively you can use the\nConda package directly (via `using Conda` followed by `Conda.add` etcetera).\n\nAlternatively, if you want to use a different Python distribution on your\nsystem, such as a system-wide Python (as opposed to the Julia-specific Python),\nyou can re-configure PyCall with that Python.   As explained in the PyCall\ndocumentation, set ENV[\"PYTHON\"] to the path/name of the python executable\nyou want to use, run Pkg.build(\"PyCall\"), and re-launch Julia.\n\n) <class 'ModuleNotFoundError'>\nModuleNotFoundError(\"No module named 'matplotlib'\")\n",
      "",
      "Stacktrace:",
      " [1] pyimport(name::String)",
      "   @ PyCall C:\\Users\\Pedro Elias\\.julia\\packages\\PyCall\\7a7w0\\src\\PyCall.jl:550",
      " [2] top-level scope",
      "   @ In[16]:2",
      " [3] eval",
      "   @ .\\boot.jl:373 [inlined]",
      " [4] include_string(mapexpr::typeof(REPL.softscope), mod::Module, code::String, filename::String)",
      "   @ Base .\\loading.jl:1196"
     ]
    }
   ],
   "source": [
    "\n",
    "plt = pyimport(\"matplotlib.pyplot\")\n",
    "x = range(0; stop=2*pi, length=1000; y=sin.(3*x+4*cos.(2*x)));\n",
    "plt.plot(x,y,color=\"red\", linewidth=2.0, linestyle=\"--\")\n",
    "plt.savefig(\"test.png\");"
   ]
  },
  {
   "cell_type": "code",
   "execution_count": 17,
   "id": "cacc7cdd",
   "metadata": {},
   "outputs": [
    {
     "data": {
      "text/latex": [
       "\\begin{verbatim}\n",
       "@pyinclude(filename)\n",
       "\\end{verbatim}\n",
       "Execute the Python script in the file \\texttt{filename} as if it were in a \\texttt{py\"\"\" ... \"\"\"} block, e.g. so that any globals defined in \\texttt{filename} are available to subsequent \\texttt{py\"...\"} evaluations.\n",
       "\n",
       "(Unlike \\texttt{py\"...\"}, however, \\texttt{@pyinclude} does not interpolate Julia variables into \\texttt{\\$var} expressions — the \\texttt{filename} script must be pure Python.)\n",
       "\n"
      ],
      "text/markdown": [
       "```\n",
       "@pyinclude(filename)\n",
       "```\n",
       "\n",
       "Execute the Python script in the file `filename` as if it were in a `py\"\"\" ... \"\"\"` block, e.g. so that any globals defined in `filename` are available to subsequent `py\"...\"` evaluations.\n",
       "\n",
       "(Unlike `py\"...\"`, however, `@pyinclude` does not interpolate Julia variables into `$var` expressions — the `filename` script must be pure Python.)\n"
      ],
      "text/plain": [
       "\u001b[36m  @pyinclude(filename)\u001b[39m\n",
       "\n",
       "  Execute the Python script in the file \u001b[36mfilename\u001b[39m as if it were in a \u001b[36mpy\"\"\" ...\n",
       "  \"\"\"\u001b[39m block, e.g. so that any globals defined in \u001b[36mfilename\u001b[39m are available to\n",
       "  subsequent \u001b[36mpy\"...\"\u001b[39m evaluations.\n",
       "\n",
       "  (Unlike \u001b[36mpy\"...\"\u001b[39m, however, \u001b[36m@pyinclude\u001b[39m does not interpolate Julia variables\n",
       "  into \u001b[36m$var\u001b[39m expressions — the \u001b[36mfilename\u001b[39m script must be pure Python.)"
      ]
     },
     "execution_count": 17,
     "metadata": {},
     "output_type": "execute_result"
    }
   ],
   "source": [
    "?@pyinclude"
   ]
  },
  {
   "cell_type": "code",
   "execution_count": 19,
   "id": "e79cb9e1",
   "metadata": {},
   "outputs": [
    {
     "name": "stdout",
     "output_type": "stream",
     "text": [
      "search: \u001b[0m\u001b[1m\"\u001b[22m\u001b[0m\u001b[1m\"\u001b[22m\u001b[0m\u001b[1m\"\u001b[22m\n",
      "\n"
     ]
    },
    {
     "data": {
      "text/latex": [
       "\\begin{verbatim}\n",
       "\"\"\"\n",
       "\\end{verbatim}\n",
       "\\texttt{\"\"\"} is used to delimit string literals. Strings created by triple quotation marks can contain \\texttt{\"} characters without escaping and are dedented to the level of the least-indented line. This is useful for defining strings within code that is indented.\n",
       "\n",
       "\\section{Examples}\n",
       "\\begin{verbatim}\n",
       "julia> \"\"\"Hello World!\"\"\"\n",
       "\"Hello World!\"\n",
       "\n",
       "julia> \"\"\"Contains \"quote\" characters\"\"\"\n",
       "\"Contains \\\"quote\\\" characters\"\n",
       "\n",
       "julia> \"\"\"\n",
       "         Hello,\n",
       "         world.\"\"\"\n",
       "\"Hello,\\nworld.\"\n",
       "\\end{verbatim}\n",
       "See also \\href{@ref \"}{\\texttt{\"}}\n",
       "\n"
      ],
      "text/markdown": [
       "```\n",
       "\"\"\"\n",
       "```\n",
       "\n",
       "`\"\"\"` is used to delimit string literals. Strings created by triple quotation marks can contain `\"` characters without escaping and are dedented to the level of the least-indented line. This is useful for defining strings within code that is indented.\n",
       "\n",
       "# Examples\n",
       "\n",
       "```jldoctest\n",
       "julia> \"\"\"Hello World!\"\"\"\n",
       "\"Hello World!\"\n",
       "\n",
       "julia> \"\"\"Contains \"quote\" characters\"\"\"\n",
       "\"Contains \\\"quote\\\" characters\"\n",
       "\n",
       "julia> \"\"\"\n",
       "         Hello,\n",
       "         world.\"\"\"\n",
       "\"Hello,\\nworld.\"\n",
       "```\n",
       "\n",
       "See also [`\"`](@ref \")\n"
      ],
      "text/plain": [
       "\u001b[36m  \"\"\"\u001b[39m\n",
       "\n",
       "  \u001b[36m\"\"\"\u001b[39m is used to delimit string literals. Strings created by triple quotation\n",
       "  marks can contain \u001b[36m\"\u001b[39m characters without escaping and are dedented to the\n",
       "  level of the least-indented line. This is useful for defining strings within\n",
       "  code that is indented.\n",
       "\n",
       "\u001b[1m  Examples\u001b[22m\n",
       "\u001b[1m  ≡≡≡≡≡≡≡≡≡≡\u001b[22m\n",
       "\n",
       "\u001b[36m  julia> \"\"\"Hello World!\"\"\"\u001b[39m\n",
       "\u001b[36m  \"Hello World!\"\u001b[39m\n",
       "\u001b[36m  \u001b[39m\n",
       "\u001b[36m  julia> \"\"\"Contains \"quote\" characters\"\"\"\u001b[39m\n",
       "\u001b[36m  \"Contains \\\"quote\\\" characters\"\u001b[39m\n",
       "\u001b[36m  \u001b[39m\n",
       "\u001b[36m  julia> \"\"\"\u001b[39m\n",
       "\u001b[36m           Hello,\u001b[39m\n",
       "\u001b[36m           world.\"\"\"\u001b[39m\n",
       "\u001b[36m  \"Hello,\\nworld.\"\u001b[39m\n",
       "\n",
       "  See also \u001b[36m\"\u001b[39m"
      ]
     },
     "execution_count": 19,
     "metadata": {},
     "output_type": "execute_result"
    }
   ],
   "source": [
    "?\"\"\""
   ]
  },
  {
   "cell_type": "code",
   "execution_count": 20,
   "id": "16f39e2e",
   "metadata": {},
   "outputs": [
    {
     "name": "stdout",
     "output_type": "stream",
     "text": [
      "search: \u001b[0m\u001b[1m@\u001b[22m \u001b[0m\u001b[1m@\u001b[22mdoc \u001b[0m\u001b[1m@\u001b[22mcmd \u001b[0m\u001b[1m@\u001b[22mwarn \u001b[0m\u001b[1m@\u001b[22mview \u001b[0m\u001b[1m@\u001b[22mtime \u001b[0m\u001b[1m@\u001b[22mtask \u001b[0m\u001b[1m@\u001b[22msync \u001b[0m\u001b[1m@\u001b[22msimd \u001b[0m\u001b[1m@\u001b[22mshow \u001b[0m\u001b[1m@\u001b[22mlock \u001b[0m\u001b[1m@\u001b[22minfo \u001b[0m\u001b[1m@\u001b[22mgoto\n",
      "\n"
     ]
    },
    {
     "data": {
      "text/latex": [
       "\\begin{verbatim}\n",
       "@\n",
       "\\end{verbatim}\n",
       "The at sign followed by a macro name marks a macro call. Macros provide the ability to include generated code in the final body of a program. A macro maps a tuple of arguments, expressed as space-separated expressions or a function-call-like argument list, to a returned \\emph{expression}. The resulting expression is compiled directly into the surrounding code. See \\href{@ref man-macros}{Metaprogramming} for more details and examples.\n",
       "\n"
      ],
      "text/markdown": [
       "```\n",
       "@\n",
       "```\n",
       "\n",
       "The at sign followed by a macro name marks a macro call. Macros provide the ability to include generated code in the final body of a program. A macro maps a tuple of arguments, expressed as space-separated expressions or a function-call-like argument list, to a returned *expression*. The resulting expression is compiled directly into the surrounding code. See [Metaprogramming](@ref man-macros) for more details and examples.\n"
      ],
      "text/plain": [
       "\u001b[36m  @\u001b[39m\n",
       "\n",
       "  The at sign followed by a macro name marks a macro call. Macros provide the\n",
       "  ability to include generated code in the final body of a program. A macro\n",
       "  maps a tuple of arguments, expressed as space-separated expressions or a\n",
       "  function-call-like argument list, to a returned \u001b[4mexpression\u001b[24m. The resulting\n",
       "  expression is compiled directly into the surrounding code. See\n",
       "  Metaprogramming for more details and examples."
      ]
     },
     "execution_count": 20,
     "metadata": {},
     "output_type": "execute_result"
    }
   ],
   "source": [
    "?@"
   ]
  },
  {
   "cell_type": "markdown",
   "id": "435a6379",
   "metadata": {},
   "source": [
    "## invocando código C desde Julia"
   ]
  },
  {
   "cell_type": "code",
   "execution_count": null,
   "id": "1f41713d",
   "metadata": {},
   "outputs": [],
   "source": [
    "#=\n",
    "@ccall biblioteca.nom_funcion(arg1::tipoarg, arg2::tipoarg, ...)::tiporegresado\n",
    "@ccall nombre_fun(arg1::tipoarg, arg2::tipoarg, ...)::tiporegresado\n",
    "@ccall $apuntador_funcion(arg1::tipoarg, arg2::tipoarg, ...)::tiporegresado\n",
    "=#"
   ]
  },
  {
   "cell_type": "code",
   "execution_count": 22,
   "id": "1dcdbf57",
   "metadata": {},
   "outputs": [
    {
     "data": {
      "text/latex": [
       "\\begin{verbatim}\n",
       "@ccall library.function_name(argvalue1::argtype1, ...)::returntype\n",
       "@ccall function_name(argvalue1::argtype1, ...)::returntype\n",
       "@ccall $function_pointer(argvalue1::argtype1, ...)::returntype\n",
       "\\end{verbatim}\n",
       "Call a function in a C-exported shared library, specified by \\texttt{library.function\\_name}, where \\texttt{library} is a string constant or literal. The library may be omitted, in which case the \\texttt{function\\_name} is resolved in the current process. Alternatively, \\texttt{@ccall} may also be used to call a function pointer \\texttt{\\$function\\_pointer}, such as one returned by \\texttt{dlsym}.\n",
       "\n",
       "Each \\texttt{argvalue} to \\texttt{@ccall} is converted to the corresponding \\texttt{argtype}, by automatic insertion of calls to \\texttt{unsafe\\_convert(argtype, cconvert(argtype, argvalue))}. (See also the documentation for \\href{@ref Base.unsafe_convert}{\\texttt{unsafe\\_convert}} and \\href{@ref Base.cconvert}{\\texttt{cconvert}} for further details.) In most cases, this simply results in a call to \\texttt{convert(argtype, argvalue)}.\n",
       "\n",
       "\\section{Examples}\n",
       "\\begin{verbatim}\n",
       "@ccall strlen(s::Cstring)::Csize_t\n",
       "\\end{verbatim}\n",
       "This calls the C standard library function:\n",
       "\n",
       "\\begin{verbatim}\n",
       "size_t strlen(char *)\n",
       "\\end{verbatim}\n",
       "with a Julia variable named \\texttt{s}. See also \\texttt{ccall}.\n",
       "\n",
       "Varargs are supported with the following convention:\n",
       "\n",
       "\\begin{verbatim}\n",
       "@ccall printf(\"%s = %d\"::Cstring ; \"foo\"::Cstring, foo::Cint)::Cint\n",
       "\\end{verbatim}\n",
       "The semicolon is used to separate required arguments (of which there must be at least one) from variadic arguments.\n",
       "\n",
       "Example using an external library:\n",
       "\n",
       "\\begin{verbatim}\n",
       "# C signature of g_uri_escape_string:\n",
       "# char *g_uri_escape_string(const char *unescaped, const char *reserved_chars_allowed, gboolean allow_utf8);\n",
       "\n",
       "const glib = \"libglib-2.0\"\n",
       "@ccall glib.g_uri_escape_string(my_uri::Cstring, \":/\"::Cstring, true::Cint)::Cstring\n",
       "\\end{verbatim}\n",
       "The string literal could also be used directly before the function name, if desired \\texttt{\"libglib-2.0\".g\\_uri\\_escape\\_string(...}\n",
       "\n"
      ],
      "text/markdown": [
       "```\n",
       "@ccall library.function_name(argvalue1::argtype1, ...)::returntype\n",
       "@ccall function_name(argvalue1::argtype1, ...)::returntype\n",
       "@ccall $function_pointer(argvalue1::argtype1, ...)::returntype\n",
       "```\n",
       "\n",
       "Call a function in a C-exported shared library, specified by `library.function_name`, where `library` is a string constant or literal. The library may be omitted, in which case the `function_name` is resolved in the current process. Alternatively, `@ccall` may also be used to call a function pointer `$function_pointer`, such as one returned by `dlsym`.\n",
       "\n",
       "Each `argvalue` to `@ccall` is converted to the corresponding `argtype`, by automatic insertion of calls to `unsafe_convert(argtype, cconvert(argtype, argvalue))`. (See also the documentation for [`unsafe_convert`](@ref Base.unsafe_convert) and [`cconvert`](@ref Base.cconvert) for further details.) In most cases, this simply results in a call to `convert(argtype, argvalue)`.\n",
       "\n",
       "# Examples\n",
       "\n",
       "```\n",
       "@ccall strlen(s::Cstring)::Csize_t\n",
       "```\n",
       "\n",
       "This calls the C standard library function:\n",
       "\n",
       "```\n",
       "size_t strlen(char *)\n",
       "```\n",
       "\n",
       "with a Julia variable named `s`. See also `ccall`.\n",
       "\n",
       "Varargs are supported with the following convention:\n",
       "\n",
       "```\n",
       "@ccall printf(\"%s = %d\"::Cstring ; \"foo\"::Cstring, foo::Cint)::Cint\n",
       "```\n",
       "\n",
       "The semicolon is used to separate required arguments (of which there must be at least one) from variadic arguments.\n",
       "\n",
       "Example using an external library:\n",
       "\n",
       "```\n",
       "# C signature of g_uri_escape_string:\n",
       "# char *g_uri_escape_string(const char *unescaped, const char *reserved_chars_allowed, gboolean allow_utf8);\n",
       "\n",
       "const glib = \"libglib-2.0\"\n",
       "@ccall glib.g_uri_escape_string(my_uri::Cstring, \":/\"::Cstring, true::Cint)::Cstring\n",
       "```\n",
       "\n",
       "The string literal could also be used directly before the function name, if desired `\"libglib-2.0\".g_uri_escape_string(...`\n"
      ],
      "text/plain": [
       "\u001b[36m  @ccall library.function_name(argvalue1::argtype1, ...)::returntype\u001b[39m\n",
       "\u001b[36m  @ccall function_name(argvalue1::argtype1, ...)::returntype\u001b[39m\n",
       "\u001b[36m  @ccall $function_pointer(argvalue1::argtype1, ...)::returntype\u001b[39m\n",
       "\n",
       "  Call a function in a C-exported shared library, specified by\n",
       "  \u001b[36mlibrary.function_name\u001b[39m, where \u001b[36mlibrary\u001b[39m is a string constant or literal. The\n",
       "  library may be omitted, in which case the \u001b[36mfunction_name\u001b[39m is resolved in the\n",
       "  current process. Alternatively, \u001b[36m@ccall\u001b[39m may also be used to call a function\n",
       "  pointer \u001b[36m$function_pointer\u001b[39m, such as one returned by \u001b[36mdlsym\u001b[39m.\n",
       "\n",
       "  Each \u001b[36margvalue\u001b[39m to \u001b[36m@ccall\u001b[39m is converted to the corresponding \u001b[36margtype\u001b[39m, by\n",
       "  automatic insertion of calls to \u001b[36munsafe_convert(argtype, cconvert(argtype,\n",
       "  argvalue))\u001b[39m. (See also the documentation for \u001b[36munsafe_convert\u001b[39m and \u001b[36mcconvert\u001b[39m for\n",
       "  further details.) In most cases, this simply results in a call to\n",
       "  \u001b[36mconvert(argtype, argvalue)\u001b[39m.\n",
       "\n",
       "\u001b[1m  Examples\u001b[22m\n",
       "\u001b[1m  ≡≡≡≡≡≡≡≡≡≡\u001b[22m\n",
       "\n",
       "\u001b[36m  @ccall strlen(s::Cstring)::Csize_t\u001b[39m\n",
       "\n",
       "  This calls the C standard library function:\n",
       "\n",
       "\u001b[36m  size_t strlen(char *)\u001b[39m\n",
       "\n",
       "  with a Julia variable named \u001b[36ms\u001b[39m. See also \u001b[36mccall\u001b[39m.\n",
       "\n",
       "  Varargs are supported with the following convention:\n",
       "\n",
       "\u001b[36m  @ccall printf(\"%s = %d\"::Cstring ; \"foo\"::Cstring, foo::Cint)::Cint\u001b[39m\n",
       "\n",
       "  The semicolon is used to separate required arguments (of which there must be\n",
       "  at least one) from variadic arguments.\n",
       "\n",
       "  Example using an external library:\n",
       "\n",
       "\u001b[36m  # C signature of g_uri_escape_string:\u001b[39m\n",
       "\u001b[36m  # char *g_uri_escape_string(const char *unescaped, const char *reserved_chars_allowed, gboolean allow_utf8);\u001b[39m\n",
       "\u001b[36m  \u001b[39m\n",
       "\u001b[36m  const glib = \"libglib-2.0\"\u001b[39m\n",
       "\u001b[36m  @ccall glib.g_uri_escape_string(my_uri::Cstring, \":/\"::Cstring, true::Cint)::Cstring\u001b[39m\n",
       "\n",
       "  The string literal could also be used directly before the function name, if\n",
       "  desired \u001b[36m\"libglib-2.0\".g_uri_escape_string(...\u001b[39m"
      ]
     },
     "execution_count": 22,
     "metadata": {},
     "output_type": "execute_result"
    }
   ],
   "source": [
    "?@ccall"
   ]
  },
  {
   "cell_type": "code",
   "execution_count": 83,
   "id": "37455c19",
   "metadata": {},
   "outputs": [
    {
     "data": {
      "text/plain": [
       "7.337492f23"
      ]
     },
     "execution_count": 83,
     "metadata": {},
     "output_type": "execute_result"
    }
   ],
   "source": [
    "t=@ccall clock()::Float32"
   ]
  },
  {
   "cell_type": "code",
   "execution_count": 81,
   "id": "b03caaf0",
   "metadata": {},
   "outputs": [
    {
     "data": {
      "text/latex": [
       "\\begin{verbatim}\n",
       "@ccall library.function_name(argvalue1::argtype1, ...)::returntype\n",
       "@ccall function_name(argvalue1::argtype1, ...)::returntype\n",
       "@ccall $function_pointer(argvalue1::argtype1, ...)::returntype\n",
       "\\end{verbatim}\n",
       "Call a function in a C-exported shared library, specified by \\texttt{library.function\\_name}, where \\texttt{library} is a string constant or literal. The library may be omitted, in which case the \\texttt{function\\_name} is resolved in the current process. Alternatively, \\texttt{@ccall} may also be used to call a function pointer \\texttt{\\$function\\_pointer}, such as one returned by \\texttt{dlsym}.\n",
       "\n",
       "Each \\texttt{argvalue} to \\texttt{@ccall} is converted to the corresponding \\texttt{argtype}, by automatic insertion of calls to \\texttt{unsafe\\_convert(argtype, cconvert(argtype, argvalue))}. (See also the documentation for \\href{@ref Base.unsafe_convert}{\\texttt{unsafe\\_convert}} and \\href{@ref Base.cconvert}{\\texttt{cconvert}} for further details.) In most cases, this simply results in a call to \\texttt{convert(argtype, argvalue)}.\n",
       "\n",
       "\\section{Examples}\n",
       "\\begin{verbatim}\n",
       "@ccall strlen(s::Cstring)::Csize_t\n",
       "\\end{verbatim}\n",
       "This calls the C standard library function:\n",
       "\n",
       "\\begin{verbatim}\n",
       "size_t strlen(char *)\n",
       "\\end{verbatim}\n",
       "with a Julia variable named \\texttt{s}. See also \\texttt{ccall}.\n",
       "\n",
       "Varargs are supported with the following convention:\n",
       "\n",
       "\\begin{verbatim}\n",
       "@ccall printf(\"%s = %d\"::Cstring ; \"foo\"::Cstring, foo::Cint)::Cint\n",
       "\\end{verbatim}\n",
       "The semicolon is used to separate required arguments (of which there must be at least one) from variadic arguments.\n",
       "\n",
       "Example using an external library:\n",
       "\n",
       "\\begin{verbatim}\n",
       "# C signature of g_uri_escape_string:\n",
       "# char *g_uri_escape_string(const char *unescaped, const char *reserved_chars_allowed, gboolean allow_utf8);\n",
       "\n",
       "const glib = \"libglib-2.0\"\n",
       "@ccall glib.g_uri_escape_string(my_uri::Cstring, \":/\"::Cstring, true::Cint)::Cstring\n",
       "\\end{verbatim}\n",
       "The string literal could also be used directly before the function name, if desired \\texttt{\"libglib-2.0\".g\\_uri\\_escape\\_string(...}\n",
       "\n"
      ],
      "text/markdown": [
       "```\n",
       "@ccall library.function_name(argvalue1::argtype1, ...)::returntype\n",
       "@ccall function_name(argvalue1::argtype1, ...)::returntype\n",
       "@ccall $function_pointer(argvalue1::argtype1, ...)::returntype\n",
       "```\n",
       "\n",
       "Call a function in a C-exported shared library, specified by `library.function_name`, where `library` is a string constant or literal. The library may be omitted, in which case the `function_name` is resolved in the current process. Alternatively, `@ccall` may also be used to call a function pointer `$function_pointer`, such as one returned by `dlsym`.\n",
       "\n",
       "Each `argvalue` to `@ccall` is converted to the corresponding `argtype`, by automatic insertion of calls to `unsafe_convert(argtype, cconvert(argtype, argvalue))`. (See also the documentation for [`unsafe_convert`](@ref Base.unsafe_convert) and [`cconvert`](@ref Base.cconvert) for further details.) In most cases, this simply results in a call to `convert(argtype, argvalue)`.\n",
       "\n",
       "# Examples\n",
       "\n",
       "```\n",
       "@ccall strlen(s::Cstring)::Csize_t\n",
       "```\n",
       "\n",
       "This calls the C standard library function:\n",
       "\n",
       "```\n",
       "size_t strlen(char *)\n",
       "```\n",
       "\n",
       "with a Julia variable named `s`. See also `ccall`.\n",
       "\n",
       "Varargs are supported with the following convention:\n",
       "\n",
       "```\n",
       "@ccall printf(\"%s = %d\"::Cstring ; \"foo\"::Cstring, foo::Cint)::Cint\n",
       "```\n",
       "\n",
       "The semicolon is used to separate required arguments (of which there must be at least one) from variadic arguments.\n",
       "\n",
       "Example using an external library:\n",
       "\n",
       "```\n",
       "# C signature of g_uri_escape_string:\n",
       "# char *g_uri_escape_string(const char *unescaped, const char *reserved_chars_allowed, gboolean allow_utf8);\n",
       "\n",
       "const glib = \"libglib-2.0\"\n",
       "@ccall glib.g_uri_escape_string(my_uri::Cstring, \":/\"::Cstring, true::Cint)::Cstring\n",
       "```\n",
       "\n",
       "The string literal could also be used directly before the function name, if desired `\"libglib-2.0\".g_uri_escape_string(...`\n"
      ],
      "text/plain": [
       "\u001b[36m  @ccall library.function_name(argvalue1::argtype1, ...)::returntype\u001b[39m\n",
       "\u001b[36m  @ccall function_name(argvalue1::argtype1, ...)::returntype\u001b[39m\n",
       "\u001b[36m  @ccall $function_pointer(argvalue1::argtype1, ...)::returntype\u001b[39m\n",
       "\n",
       "  Call a function in a C-exported shared library, specified by\n",
       "  \u001b[36mlibrary.function_name\u001b[39m, where \u001b[36mlibrary\u001b[39m is a string constant or literal. The\n",
       "  library may be omitted, in which case the \u001b[36mfunction_name\u001b[39m is resolved in the\n",
       "  current process. Alternatively, \u001b[36m@ccall\u001b[39m may also be used to call a function\n",
       "  pointer \u001b[36m$function_pointer\u001b[39m, such as one returned by \u001b[36mdlsym\u001b[39m.\n",
       "\n",
       "  Each \u001b[36margvalue\u001b[39m to \u001b[36m@ccall\u001b[39m is converted to the corresponding \u001b[36margtype\u001b[39m, by\n",
       "  automatic insertion of calls to \u001b[36munsafe_convert(argtype, cconvert(argtype,\n",
       "  argvalue))\u001b[39m. (See also the documentation for \u001b[36munsafe_convert\u001b[39m and \u001b[36mcconvert\u001b[39m for\n",
       "  further details.) In most cases, this simply results in a call to\n",
       "  \u001b[36mconvert(argtype, argvalue)\u001b[39m.\n",
       "\n",
       "\u001b[1m  Examples\u001b[22m\n",
       "\u001b[1m  ≡≡≡≡≡≡≡≡≡≡\u001b[22m\n",
       "\n",
       "\u001b[36m  @ccall strlen(s::Cstring)::Csize_t\u001b[39m\n",
       "\n",
       "  This calls the C standard library function:\n",
       "\n",
       "\u001b[36m  size_t strlen(char *)\u001b[39m\n",
       "\n",
       "  with a Julia variable named \u001b[36ms\u001b[39m. See also \u001b[36mccall\u001b[39m.\n",
       "\n",
       "  Varargs are supported with the following convention:\n",
       "\n",
       "\u001b[36m  @ccall printf(\"%s = %d\"::Cstring ; \"foo\"::Cstring, foo::Cint)::Cint\u001b[39m\n",
       "\n",
       "  The semicolon is used to separate required arguments (of which there must be\n",
       "  at least one) from variadic arguments.\n",
       "\n",
       "  Example using an external library:\n",
       "\n",
       "\u001b[36m  # C signature of g_uri_escape_string:\u001b[39m\n",
       "\u001b[36m  # char *g_uri_escape_string(const char *unescaped, const char *reserved_chars_allowed, gboolean allow_utf8);\u001b[39m\n",
       "\u001b[36m  \u001b[39m\n",
       "\u001b[36m  const glib = \"libglib-2.0\"\u001b[39m\n",
       "\u001b[36m  @ccall glib.g_uri_escape_string(my_uri::Cstring, \":/\"::Cstring, true::Cint)::Cstring\u001b[39m\n",
       "\n",
       "  The string literal could also be used directly before the function name, if\n",
       "  desired \u001b[36m\"libglib-2.0\".g_uri_escape_string(...\u001b[39m"
      ]
     },
     "execution_count": 81,
     "metadata": {},
     "output_type": "execute_result"
    }
   ],
   "source": [
    "?@ccall clock()"
   ]
  },
  {
   "cell_type": "code",
   "execution_count": 68,
   "id": "74d31ea4",
   "metadata": {},
   "outputs": [
    {
     "data": {
      "text/plain": [
       "4744473"
      ]
     },
     "execution_count": 68,
     "metadata": {},
     "output_type": "execute_result"
    }
   ],
   "source": [
    "t2=@ccall clock()::Int32"
   ]
  },
  {
   "cell_type": "code",
   "execution_count": 43,
   "id": "e5372b39",
   "metadata": {},
   "outputs": [
    {
     "data": {
      "text/plain": [
       "Cstring(0x0000000000000000)"
      ]
     },
     "execution_count": 43,
     "metadata": {},
     "output_type": "execute_result"
    }
   ],
   "source": [
    "mi_shell=@ccall getenv(\"SHELL\"::Cstring)::Cstring"
   ]
  },
  {
   "cell_type": "code",
   "execution_count": 38,
   "id": "8d0fd2f6",
   "metadata": {},
   "outputs": [
    {
     "ename": "LoadError",
     "evalue": "ArgumentError: cannot convert NULL to string",
     "output_type": "error",
     "traceback": [
      "ArgumentError: cannot convert NULL to string",
      "",
      "Stacktrace:",
      " [1] unsafe_string",
      "   @ .\\strings\\string.jl:70 [inlined]",
      " [2] unsafe_string(s::Cstring)",
      "   @ Base .\\c.jl:193",
      " [3] top-level scope",
      "   @ In[38]:1",
      " [4] eval",
      "   @ .\\boot.jl:373 [inlined]",
      " [5] include_string(mapexpr::typeof(REPL.softscope), mod::Module, code::String, filename::String)",
      "   @ Base .\\loading.jl:1196"
     ]
    }
   ],
   "source": [
    "unsafe_string(mi_shell)"
   ]
  },
  {
   "cell_type": "code",
   "execution_count": 40,
   "id": "7bbfa9be",
   "metadata": {},
   "outputs": [
    {
     "ename": "LoadError",
     "evalue": "getenv: Variable de ambiente no encontrada: mi_shell",
     "output_type": "error",
     "traceback": [
      "getenv: Variable de ambiente no encontrada: mi_shell",
      "",
      "Stacktrace:",
      " [1] error(::String, ::String)",
      "   @ Base .\\error.jl:42",
      " [2] valorVariable(var::String)",
      "   @ Main .\\In[40]:4",
      " [3] top-level scope",
      "   @ In[40]:9",
      " [4] eval",
      "   @ .\\boot.jl:373 [inlined]",
      " [5] include_string(mapexpr::typeof(REPL.softscope), mod::Module, code::String, filename::String)",
      "   @ Base .\\loading.jl:1196"
     ]
    }
   ],
   "source": [
    "function valorVariable(var::AbstractString)\n",
    "    valor = @ccall getenv(var::Cstring)::Cstring\n",
    "    if valor == C_NULL\n",
    "        error(\"getenv: Variable de ambiente no encontrada: \", var)\n",
    "    end\n",
    "    return unsage_string(valor)\n",
    "end\n",
    "\n",
    "valorVariable(\"mi_shell\")\n",
    "    "
   ]
  },
  {
   "cell_type": "markdown",
   "id": "f27b6fda",
   "metadata": {},
   "source": [
    "ldd #en C o en un .out nos dice que librerias fueron usadas para su compilación"
   ]
  },
  {
   "cell_type": "code",
   "execution_count": null,
   "id": "566afde0",
   "metadata": {},
   "outputs": [],
   "source": []
  },
  {
   "cell_type": "code",
   "execution_count": null,
   "id": "28460258",
   "metadata": {},
   "outputs": [],
   "source": []
  }
 ],
 "metadata": {
  "kernelspec": {
   "display_name": "Julia 1.7.2",
   "language": "julia",
   "name": "julia-1.7"
  },
  "language_info": {
   "file_extension": ".jl",
   "mimetype": "application/julia",
   "name": "julia",
   "version": "1.7.2"
  }
 },
 "nbformat": 4,
 "nbformat_minor": 5
}
