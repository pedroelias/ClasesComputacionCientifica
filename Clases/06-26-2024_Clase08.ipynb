{
 "cells": [
  {
   "cell_type": "markdown",
   "id": "d147cfb7",
   "metadata": {},
   "source": [
    "## Tipos y subtipos"
   ]
  },
  {
   "cell_type": "markdown",
   "id": "8e0d02b0",
   "metadata": {},
   "source": [
    "`a::TipoB` \"a debe ser del TipoB\"\n",
    "\n",
    "`A<:TipoB` \"A debe ser de un subtipo de TipoB\"\n",
    "\n",
    "Software debe de cumplir con lo siguiente:\n",
    "\n",
    "* Adaptabilidad\n",
    "* Extensibilidad\n",
    "* Escalabilidad\n",
    "* Mantenibilidad\n",
    "\n",
    "Busca reducir la deuda técnica"
   ]
  },
  {
   "cell_type": "code",
   "execution_count": 8,
   "id": "e990eac9",
   "metadata": {},
   "outputs": [
    {
     "data": {
      "text/plain": [
       "8 - 7im"
      ]
     },
     "execution_count": 8,
     "metadata": {},
     "output_type": "execute_result"
    }
   ],
   "source": [
    "a=Number(8-7im)"
   ]
  },
  {
   "cell_type": "code",
   "execution_count": 3,
   "id": "e666e87a",
   "metadata": {},
   "outputs": [
    {
     "name": "stdout",
     "output_type": "stream",
     "text": [
      "8 - 7im"
     ]
    }
   ],
   "source": [
    "print(a)"
   ]
  },
  {
   "cell_type": "code",
   "execution_count": 4,
   "id": "e0599e0c",
   "metadata": {},
   "outputs": [
    {
     "data": {
      "text/plain": [
       "Complex{Int64}"
      ]
     },
     "execution_count": 4,
     "metadata": {},
     "output_type": "execute_result"
    }
   ],
   "source": [
    "typeof(a)"
   ]
  },
  {
   "cell_type": "code",
   "execution_count": 5,
   "id": "13c543f8",
   "metadata": {},
   "outputs": [
    {
     "data": {
      "text/plain": [
       "-89.79"
      ]
     },
     "execution_count": 5,
     "metadata": {},
     "output_type": "execute_result"
    }
   ],
   "source": [
    "a=-89.79"
   ]
  },
  {
   "cell_type": "code",
   "execution_count": 6,
   "id": "3ffa6447",
   "metadata": {},
   "outputs": [
    {
     "data": {
      "text/plain": [
       "Float64"
      ]
     },
     "execution_count": 6,
     "metadata": {},
     "output_type": "execute_result"
    }
   ],
   "source": [
    "typeof(a)"
   ]
  },
  {
   "cell_type": "code",
   "execution_count": 9,
   "id": "7e86f675",
   "metadata": {},
   "outputs": [
    {
     "data": {
      "text/plain": [
       "\"hola\""
      ]
     },
     "execution_count": 9,
     "metadata": {},
     "output_type": "execute_result"
    }
   ],
   "source": [
    "a=\"hola\""
   ]
  },
  {
   "cell_type": "code",
   "execution_count": 11,
   "id": "f0acfce7",
   "metadata": {},
   "outputs": [
    {
     "ename": "LoadError",
     "evalue": "syntax: invalid assignment location \"b <: Number\" around In[11]:1",
     "output_type": "error",
     "traceback": [
      "syntax: invalid assignment location \"b <: Number\" around In[11]:1",
      "",
      "Stacktrace:",
      " [1] top-level scope",
      "   @ In[11]:1",
      " [2] eval",
      "   @ .\\boot.jl:373 [inlined]",
      " [3] include_string(mapexpr::typeof(REPL.softscope), mod::Module, code::String, filename::String)",
      "   @ Base .\\loading.jl:1196"
     ]
    }
   ],
   "source": [
    "b<:Number=7-6im"
   ]
  },
  {
   "cell_type": "code",
   "execution_count": 12,
   "id": "e89b9e72",
   "metadata": {},
   "outputs": [
    {
     "name": "stdout",
     "output_type": "stream",
     "text": [
      "search: \u001b[0m\u001b[1mN\u001b[22m\u001b[0m\u001b[1mu\u001b[22m\u001b[0m\u001b[1mm\u001b[22m\u001b[0m\u001b[1mb\u001b[22m\u001b[0m\u001b[1me\u001b[22m\u001b[0m\u001b[1mr\u001b[22m Li\u001b[0m\u001b[1mn\u001b[22meN\u001b[0m\u001b[1mu\u001b[22m\u001b[0m\u001b[1mm\u001b[22m\u001b[0m\u001b[1mb\u001b[22m\u001b[0m\u001b[1me\u001b[22m\u001b[0m\u001b[1mr\u001b[22mNode Versio\u001b[0m\u001b[1mn\u001b[22mN\u001b[0m\u001b[1mu\u001b[22m\u001b[0m\u001b[1mm\u001b[22m\u001b[0m\u001b[1mb\u001b[22m\u001b[0m\u001b[1me\u001b[22m\u001b[0m\u001b[1mr\u001b[22m\n",
      "\n"
     ]
    },
    {
     "data": {
      "text/latex": [
       "\\begin{verbatim}\n",
       "Number\n",
       "\\end{verbatim}\n",
       "Abstract supertype for all number types.\n",
       "\n"
      ],
      "text/markdown": [
       "```\n",
       "Number\n",
       "```\n",
       "\n",
       "Abstract supertype for all number types.\n"
      ],
      "text/plain": [
       "\u001b[36m  Number\u001b[39m\n",
       "\n",
       "  Abstract supertype for all number types."
      ]
     },
     "execution_count": 12,
     "metadata": {},
     "output_type": "execute_result"
    }
   ],
   "source": [
    "?Number"
   ]
  },
  {
   "cell_type": "code",
   "execution_count": 10,
   "id": "67b7a1af",
   "metadata": {},
   "outputs": [
    {
     "data": {
      "text/plain": [
       "hablar (generic function with 1 method)"
      ]
     },
     "execution_count": 10,
     "metadata": {},
     "output_type": "execute_result"
    }
   ],
   "source": [
    "mutable struct Mascotas\n",
    "    tipo::String\n",
    "    nombre::String\n",
    "    edad::UInt16\n",
    "    vacunado::Bool\n",
    "    hambriento::Bool\n",
    "end\n",
    "\n",
    "function get_atributos(una_mascota::Mascotas)\n",
    "    [una_mascota.tipo, una_mascota.nombre, una_mascota.edad]\n",
    "end\n",
    "\n",
    "function comer(una_mascota::Mascotas)\n",
    "    if una_mascota.hambriento\n",
    "        print(\"Se le da de comer al $(una_mascota.tipo)\")\n",
    "        hambriento=false\n",
    "    else\n",
    "        println(\"Estoy bien\")\n",
    "    end\n",
    "end\n",
    "\n",
    "function set_atributos(una_mascota::Mascotas, tipo=\"Cualquiera\", nombre=\"Toby\", edad=0, vacunado=false, hambriento=false)\n",
    "    una_mascota.tipo=tipo\n",
    "    una_mascota.nombre=nombre\n",
    "    una_mascota.edad=edad\n",
    "    una_mascota.vacunado=vacunado\n",
    "    una_mascota.hambriento=hambriento\n",
    "end\n",
    "\n",
    "function set_atributos(una_mascota::Mascotas; tipo=\"Cualquiera\", nombre=\"Toby\", edad=0, vacunado=false, hambriento=false)\n",
    "    una_mascota.tipo=tipo\n",
    "    una_mascota.nombre=nombre\n",
    "    una_mascota.edad=edad\n",
    "    una_mascota.vacunado=vacunado\n",
    "    una_mascota.hambriento=hambriento\n",
    "end\n",
    "\n",
    "function set_atributos_ext(una_mascota, atributos::Dict)\n",
    "    for i ∈ atributos\n",
    "        if i[1]==\"tipo\"\n",
    "            una_mascota.tipo=i[2]\n",
    "        elseif i[1]==\"nombre\"\n",
    "            una_mascota.nombre=i[2]\n",
    "        elseif i[1]==\"edad\"\n",
    "            una_mascota.edad=i[2]\n",
    "        elseif i[1]==\"vacunado\"\n",
    "            una_mascota.vacunado=i[2]\n",
    "        elseif i[1]==\"hambriento\"\n",
    "            una_mascota.hambriento=i[2]\n",
    "        end\n",
    "    end\n",
    "end\n",
    "\n",
    "function muestraMascota(una_mascota)\n",
    "    \"Mi nombre es: $(una_mascota.nombre), soy un $(una_mascota.tipo) y tengo $(una_mascota.edad) años\"\n",
    "end\n",
    "\n",
    "function hablar(una_mascota::Mascotas,mensaje)\n",
    "    if !(una_mascota.tipo == \"pez\" || una_mascota.tipo==\"tarantula\")\n",
    "        println(mensaje)\n",
    "    else\n",
    "        println(\"No hablo con extraños\")\n",
    "    end\n",
    "end\n"
   ]
  },
  {
   "cell_type": "code",
   "execution_count": 12,
   "id": "872fa9d8",
   "metadata": {},
   "outputs": [
    {
     "name": "stdout",
     "output_type": "stream",
     "text": [
      "search: \u001b[0m\u001b[1mD\u001b[22m\u001b[0m\u001b[1mi\u001b[22m\u001b[0m\u001b[1mc\u001b[22m\u001b[0m\u001b[1mt\u001b[22m mi_\u001b[0m\u001b[1md\u001b[22m\u001b[0m\u001b[1mi\u001b[22m\u001b[0m\u001b[1mc\u001b[22m\u001b[0m\u001b[1mt\u001b[22m I\u001b[0m\u001b[1md\u001b[22mD\u001b[0m\u001b[1mi\u001b[22m\u001b[0m\u001b[1mc\u001b[22m\u001b[0m\u001b[1mt\u001b[22m WeakKey\u001b[0m\u001b[1mD\u001b[22m\u001b[0m\u001b[1mi\u001b[22m\u001b[0m\u001b[1mc\u001b[22m\u001b[0m\u001b[1mt\u001b[22m Abstract\u001b[0m\u001b[1mD\u001b[22m\u001b[0m\u001b[1mi\u001b[22m\u001b[0m\u001b[1mc\u001b[22m\u001b[0m\u001b[1mt\u001b[22m re\u001b[0m\u001b[1md\u001b[22m\u001b[0m\u001b[1mi\u001b[22mre\u001b[0m\u001b[1mc\u001b[22m\u001b[0m\u001b[1mt\u001b[22m_stdio\n",
      "\n"
     ]
    },
    {
     "data": {
      "text/latex": [
       "\\begin{verbatim}\n",
       "Dict([itr])\n",
       "\\end{verbatim}\n",
       "\\texttt{Dict\\{K,V\\}()} constructs a hash table with keys of type \\texttt{K} and values of type \\texttt{V}. Keys are compared with \\href{@ref}{\\texttt{isequal}} and hashed with \\href{@ref}{\\texttt{hash}}.\n",
       "\n",
       "Given a single iterable argument, constructs a \\href{@ref}{\\texttt{Dict}} whose key-value pairs are taken from 2-tuples \\texttt{(key,value)} generated by the argument.\n",
       "\n",
       "\\section{Examples}\n",
       "\\begin{verbatim}\n",
       "julia> Dict([(\"A\", 1), (\"B\", 2)])\n",
       "Dict{String, Int64} with 2 entries:\n",
       "  \"B\" => 2\n",
       "  \"A\" => 1\n",
       "\\end{verbatim}\n",
       "Alternatively, a sequence of pair arguments may be passed.\n",
       "\n",
       "\\begin{verbatim}\n",
       "julia> Dict(\"A\"=>1, \"B\"=>2)\n",
       "Dict{String, Int64} with 2 entries:\n",
       "  \"B\" => 2\n",
       "  \"A\" => 1\n",
       "\\end{verbatim}\n"
      ],
      "text/markdown": [
       "```\n",
       "Dict([itr])\n",
       "```\n",
       "\n",
       "`Dict{K,V}()` constructs a hash table with keys of type `K` and values of type `V`. Keys are compared with [`isequal`](@ref) and hashed with [`hash`](@ref).\n",
       "\n",
       "Given a single iterable argument, constructs a [`Dict`](@ref) whose key-value pairs are taken from 2-tuples `(key,value)` generated by the argument.\n",
       "\n",
       "# Examples\n",
       "\n",
       "```jldoctest\n",
       "julia> Dict([(\"A\", 1), (\"B\", 2)])\n",
       "Dict{String, Int64} with 2 entries:\n",
       "  \"B\" => 2\n",
       "  \"A\" => 1\n",
       "```\n",
       "\n",
       "Alternatively, a sequence of pair arguments may be passed.\n",
       "\n",
       "```jldoctest\n",
       "julia> Dict(\"A\"=>1, \"B\"=>2)\n",
       "Dict{String, Int64} with 2 entries:\n",
       "  \"B\" => 2\n",
       "  \"A\" => 1\n",
       "```\n"
      ],
      "text/plain": [
       "\u001b[36m  Dict([itr])\u001b[39m\n",
       "\n",
       "  \u001b[36mDict{K,V}()\u001b[39m constructs a hash table with keys of type \u001b[36mK\u001b[39m and values of type\n",
       "  \u001b[36mV\u001b[39m. Keys are compared with \u001b[36misequal\u001b[39m and hashed with \u001b[36mhash\u001b[39m.\n",
       "\n",
       "  Given a single iterable argument, constructs a \u001b[36mDict\u001b[39m whose key-value pairs\n",
       "  are taken from 2-tuples \u001b[36m(key,value)\u001b[39m generated by the argument.\n",
       "\n",
       "\u001b[1m  Examples\u001b[22m\n",
       "\u001b[1m  ≡≡≡≡≡≡≡≡≡≡\u001b[22m\n",
       "\n",
       "\u001b[36m  julia> Dict([(\"A\", 1), (\"B\", 2)])\u001b[39m\n",
       "\u001b[36m  Dict{String, Int64} with 2 entries:\u001b[39m\n",
       "\u001b[36m    \"B\" => 2\u001b[39m\n",
       "\u001b[36m    \"A\" => 1\u001b[39m\n",
       "\n",
       "  Alternatively, a sequence of pair arguments may be passed.\n",
       "\n",
       "\u001b[36m  julia> Dict(\"A\"=>1, \"B\"=>2)\u001b[39m\n",
       "\u001b[36m  Dict{String, Int64} with 2 entries:\u001b[39m\n",
       "\u001b[36m    \"B\" => 2\u001b[39m\n",
       "\u001b[36m    \"A\" => 1\u001b[39m"
      ]
     },
     "execution_count": 12,
     "metadata": {},
     "output_type": "execute_result"
    }
   ],
   "source": []
  },
  {
   "cell_type": "code",
   "execution_count": 9,
   "id": "574c010b",
   "metadata": {},
   "outputs": [
    {
     "name": "stdout",
     "output_type": "stream",
     "text": [
      "tipo\n",
      "nombre\n"
     ]
    }
   ],
   "source": [
    "mi_dict=(\"tipo\" => \"gato\", \"nombre\" =>\"patito\")\n",
    "\n",
    "for i ∈ mi_dict\n",
    "    println(i[1])\n",
    "end"
   ]
  },
  {
   "cell_type": "code",
   "execution_count": 13,
   "id": "0bc9ad08",
   "metadata": {},
   "outputs": [
    {
     "name": "stdout",
     "output_type": "stream",
     "text": [
      "Guauuuu\n",
      "Miaauu\n",
      "Cuac\n",
      "Any[\"perro\", \"Solovino\", 0x0001]\n",
      "Mi nombre es: Toby, soy un Cualquiera y tengo 90 años\n",
      "Mi nombre es: Garfield, soy un gato y tengo 50 años\n",
      "Mi nombre es: Patricio, soy un Cualquiera y tengo 90 años\n"
     ]
    },
    {
     "data": {
      "text/plain": [
       "2-element Vector{Mascotas}:\n",
       " Mascotas(\"gato\", \"Garfield\", 0x0032, true, true)\n",
       " Mascotas(\"Cualquiera\", \"Patricio\", 0x005a, true, false)"
      ]
     },
     "execution_count": 13,
     "metadata": {},
     "output_type": "execute_result"
    }
   ],
   "source": [
    "function main()\n",
    "    Solovino=Mascotas(\"perro\", \"Solovino\",1,true,false)\n",
    "    Naranjoso=Mascotas(\"gato\", \"Naranjoso\", 1, true, false)\n",
    "    patricio=Mascotas(\"pato\", \"Patricio\", 1, true, false)\n",
    "    hablar(Solovino,\"Guauuuu\")\n",
    "    hablar(Naranjoso, \"Miaauu\")\n",
    "    hablar(patricio, \"Cuac\")\n",
    "    println(get_atributos(Solovino))\n",
    "    set_atributos(patricio, edad=90)\n",
    "    println(muestraMascota(patricio))\n",
    "    set_atributos(Naranjoso,\"gato\", \"Garfield\", 50, true, true)\n",
    "    println(muestraMascota(Naranjoso))\n",
    "    set_atributos_ext(patricio, Dict(\"nombre\"=>\"Patricio\", \"vacunado\" => true))\n",
    "    println(muestraMascota(patricio))\n",
    "    mis_mascotas=Mascotas[]\n",
    "    push!(mis_mascotas, Naranjoso)\n",
    "    push!(mis_mascotas, patricio)\n",
    "end\n",
    "    \n",
    "main()"
   ]
  },
  {
   "cell_type": "code",
   "execution_count": 6,
   "id": "e51ec7ee",
   "metadata": {},
   "outputs": [
    {
     "name": "stdout",
     "output_type": "stream",
     "text": [
      "search: \u001b[0m\u001b[1m;\u001b[22m\n",
      "\n"
     ]
    }
   ],
   "source": [
    "?;"
   ]
  },
  {
   "cell_type": "code",
   "execution_count": 32,
   "id": "fc573f5d",
   "metadata": {},
   "outputs": [
    {
     "data": {
      "text/plain": [
       "Any[\"gato\", \"Naranjoso\", 0x0001]"
      ]
     },
     "execution_count": 32,
     "metadata": {},
     "output_type": "execute_result"
    }
   ],
   "source": [
    "Naranjoso=Mascotas(\"gato\", \"Naranjoso\", 1, true, false)"
   ]
  },
  {
   "cell_type": "markdown",
   "id": "92a75642",
   "metadata": {},
   "source": [
    "Los métodos get y set son útiles para efectuar cambios de las variables de manera \"consistente\" aunque los atributos sean accesibles de manera global"
   ]
  },
  {
   "cell_type": "markdown",
   "id": "0343017f",
   "metadata": {},
   "source": [
    "###  Método display"
   ]
  },
  {
   "cell_type": "code",
   "execution_count": 5,
   "id": "1684b23f",
   "metadata": {},
   "outputs": [],
   "source": [
    "import Base.show"
   ]
  },
  {
   "cell_type": "code",
   "execution_count": 8,
   "id": "613a3070",
   "metadata": {},
   "outputs": [
    {
     "data": {
      "text/plain": [
       "show (generic function with 273 methods)"
      ]
     },
     "execution_count": 8,
     "metadata": {},
     "output_type": "execute_result"
    }
   ],
   "source": [
    "show(io::IO, una_mascota::Mascotas) = print(io, \"$(get_atributos(una_mascota))\")"
   ]
  },
  {
   "cell_type": "code",
   "execution_count": 28,
   "id": "9671136b",
   "metadata": {},
   "outputs": [
    {
     "data": {
      "text/plain": [
       "generica (generic function with 3 methods)"
      ]
     },
     "execution_count": 28,
     "metadata": {},
     "output_type": "execute_result"
    }
   ],
   "source": [
    "function generica(a; b=0, c=0)\n",
    "    println(\"$a, $b, $c\")\n",
    "end"
   ]
  },
  {
   "cell_type": "code",
   "execution_count": 29,
   "id": "f36dabea",
   "metadata": {},
   "outputs": [
    {
     "name": "stdout",
     "output_type": "stream",
     "text": [
      "3, 0, 4\n"
     ]
    }
   ],
   "source": [
    "generica(3,c=4)"
   ]
  },
  {
   "cell_type": "code",
   "execution_count": 14,
   "id": "7bf049e0",
   "metadata": {},
   "outputs": [
    {
     "data": {
      "text/plain": [
       "Elemento(\"carbono\", Particula(Vect3D(1, 1, 1), 1.0e-45, Vect3D(1, 1, 1), Vect3D(1, 1, 1)), 12)"
      ]
     },
     "execution_count": 14,
     "metadata": {},
     "output_type": "execute_result"
    }
   ],
   "source": [
    "mutable struct Vect3D\n",
    "    x::Number\n",
    "    y::Number\n",
    "    z::Number\n",
    "end\n",
    "\n",
    "mutable struct Particula\n",
    "    posicion::Vect3D\n",
    "    masa::Float64\n",
    "    velocidad::Vect3D\n",
    "    aceleracion::Vect3D\n",
    "end\n",
    "\n",
    "\n",
    "mutable struct Elemento\n",
    "    nombre::String\n",
    "    caracteristicas::Particula\n",
    "    num_atomico::Int\n",
    "end\n",
    "\n",
    "dato=Particula(Vect3D(1,1,1), 1e-45,Vect3D(1,1,1), Vect3D(1,1,1))\n",
    "mi_atomo=Elemento(\"carbono\",dato, 12)\n",
    "#carbono=Elemento"
   ]
  },
  {
   "cell_type": "code",
   "execution_count": 15,
   "id": "059084fe",
   "metadata": {},
   "outputs": [
    {
     "name": "stdout",
     "output_type": "stream",
     "text": [
      "search: \u001b[0m\u001b[1mI\u001b[22m\u001b[0m\u001b[1mn\u001b[22m\u001b[0m\u001b[1mt\u001b[22m \u001b[0m\u001b[1mI\u001b[22m\u001b[0m\u001b[1mn\u001b[22m\u001b[0m\u001b[1mt\u001b[22m8 \u001b[0m\u001b[1mI\u001b[22m\u001b[0m\u001b[1mn\u001b[22m\u001b[0m\u001b[1mt\u001b[22m64 \u001b[0m\u001b[1mI\u001b[22m\u001b[0m\u001b[1mn\u001b[22m\u001b[0m\u001b[1mt\u001b[22m32 \u001b[0m\u001b[1mI\u001b[22m\u001b[0m\u001b[1mn\u001b[22m\u001b[0m\u001b[1mt\u001b[22m16 \u001b[0m\u001b[1mI\u001b[22m\u001b[0m\u001b[1mn\u001b[22m\u001b[0m\u001b[1mt\u001b[22m128 \u001b[0m\u001b[1mI\u001b[22m\u001b[0m\u001b[1mn\u001b[22m\u001b[0m\u001b[1mt\u001b[22meger \u001b[0m\u001b[1mi\u001b[22m\u001b[0m\u001b[1mn\u001b[22m\u001b[0m\u001b[1mt\u001b[22mersect \u001b[0m\u001b[1mi\u001b[22m\u001b[0m\u001b[1mn\u001b[22m\u001b[0m\u001b[1mt\u001b[22mersect!\n",
      "\n"
     ]
    },
    {
     "data": {
      "text/latex": [
       "\\begin{verbatim}\n",
       "Int64 <: Signed\n",
       "\\end{verbatim}\n",
       "64-bit signed integer type.\n",
       "\n"
      ],
      "text/markdown": [
       "```\n",
       "Int64 <: Signed\n",
       "```\n",
       "\n",
       "64-bit signed integer type.\n"
      ],
      "text/plain": [
       "\u001b[36m  Int64 <: Signed\u001b[39m\n",
       "\n",
       "  64-bit signed integer type."
      ]
     },
     "execution_count": 15,
     "metadata": {},
     "output_type": "execute_result"
    }
   ],
   "source": [
    "?Int"
   ]
  },
  {
   "cell_type": "code",
   "execution_count": null,
   "id": "df2a6f7d",
   "metadata": {},
   "outputs": [],
   "source": [
    "mutable struct Ejemplo\n",
    "    atributo1\n",
    "    atributo2\n",
    "    \n",
    "    metodo1\n",
    "    \n",
    "    function Ejemplo(atrib1, atrib2)\n",
    "        este = new()\n",
    "        este.atributo1=atrib1\n",
    "        este.atributo2=atrib2\n",
    "        \n",
    "        \n",
    "        este.metodo1 = function()\n",
    "            return este.atributo1\n",
    "        end\n",
    "\n",
    "        return este\n",
    "    end\n",
    "end"
   ]
  },
  {
   "cell_type": "code",
   "execution_count": 6,
   "id": "8a507a60",
   "metadata": {},
   "outputs": [],
   "source": [
    "mutable struct Ejemplo1\n",
    "    atributo1\n",
    "    atributo2\n",
    "    \n",
    "    metodo1\n",
    "    metodo2\n",
    "    \n",
    "    function Ejemplo1(atrib1, atrib2)\n",
    "        este =new()\n",
    "        este.atributo1=atrib1\n",
    "        este.atributo2=atrib2\n",
    "        \n",
    "        \n",
    "        este.metodo1 = function()\n",
    "            return este.atributo1\n",
    "        end\n",
    "        este.metodo2 = function(a,b)\n",
    "            este.atributo1=a\n",
    "            este.atributo2=b\n",
    "        end\n",
    "        return este\n",
    "    end\n",
    "end"
   ]
  },
  {
   "cell_type": "code",
   "execution_count": 8,
   "id": "6c0036f3",
   "metadata": {},
   "outputs": [
    {
     "name": "stdout",
     "output_type": "stream",
     "text": [
      "2\n"
     ]
    }
   ],
   "source": [
    "ej2 = Ejemplo1(10,10)\n",
    "ej2.metodo1()\n",
    "ej2.metodo2(2,3)\n",
    "println(ej2.atributo1)"
   ]
  },
  {
   "cell_type": "code",
   "execution_count": 2,
   "id": "87de7da6",
   "metadata": {},
   "outputs": [
    {
     "name": "stdout",
     "output_type": "stream",
     "text": [
      "search: \u001b[0m\u001b[1mn\u001b[22m\u001b[0m\u001b[1me\u001b[22m\u001b[0m\u001b[1mw\u001b[22m \u001b[0m\u001b[1mn\u001b[22m\u001b[0m\u001b[1me\u001b[22mxtpo\u001b[0m\u001b[1mw\u001b[22m u\u001b[0m\u001b[1mn\u001b[22msaf\u001b[0m\u001b[1me\u001b[22m_\u001b[0m\u001b[1mw\u001b[22mrap u\u001b[0m\u001b[1mn\u001b[22msaf\u001b[0m\u001b[1me\u001b[22m_\u001b[0m\u001b[1mw\u001b[22mrite U\u001b[0m\u001b[1mn\u001b[22md\u001b[0m\u001b[1me\u001b[22mfKey\u001b[0m\u001b[1mw\u001b[22mordError\n",
      "\n"
     ]
    },
    {
     "data": {
      "text/latex": [
       "\\begin{verbatim}\n",
       "new\n",
       "\\end{verbatim}\n",
       "Special function available to inner constructors which created a new object of the type. See the manual section on \\href{@ref man-inner-constructor-methods}{Inner Constructor Methods} for more information.\n",
       "\n"
      ],
      "text/markdown": [
       "```\n",
       "new\n",
       "```\n",
       "\n",
       "Special function available to inner constructors which created a new object of the type. See the manual section on [Inner Constructor Methods](@ref man-inner-constructor-methods) for more information.\n"
      ],
      "text/plain": [
       "\u001b[36m  new\u001b[39m\n",
       "\n",
       "  Special function available to inner constructors which created a new object\n",
       "  of the type. See the manual section on Inner Constructor Methods for more\n",
       "  information."
      ]
     },
     "execution_count": 2,
     "metadata": {},
     "output_type": "execute_result"
    }
   ],
   "source": [
    "?new"
   ]
  },
  {
   "cell_type": "markdown",
   "id": "3a44ca63",
   "metadata": {},
   "source": [
    "# Herencia en OOP\n",
    "\n",
    "A partir de una clase simple se pueden generar clases más complejas.\n",
    "\n",
    "Clase base -> clase padre, superclase\n",
    "Clase que hereda -> clase hija, subclase\n",
    "\n",
    "Clase Particula\n",
    "    atributo1\n",
    "    atributo2\n",
    "    atributo3\n",
    "    \n",
    "    metodo1\n",
    "    metodo2\n",
    "fin clase\n",
    "\n",
    "clase Planeta -> Particula\n",
    "    atributo4\n",
    "    \n",
    "    metodo3\n",
    "    #Constructor\n",
    "    \n",
    "fin clase\n",
    "\n",
    "\n",
    "mi_particula=Particula(dato1, dato2, dato3)\n",
    "mi_particula.metodo1()\n",
    "\n",
    "Venus=Planeta(dato1,dato2,dato3,dato4)\n",
    "\n",
    "atributo1=dato1\n",
    "atributo2=dato2\n",
    "atributo3=dato3\n",
    "atributo4=dato4\n",
    "\n",
    "\n",
    "Elemento(\n",
    "    |-\"carbono\",\n",
    "    |-Particula(\n",
    "        |- Vect3D(\n",
    "            |-1,\n",
    "            |-1,\n",
    "            |-1), \n",
    "        |- 1e-45,\n",
    "        |- Vect3D(\n",
    "            |-1,\n",
    "            |-1,\n",
    "            |-1), \n",
    "        |- Vect3D(\n",
    "            |-1,\n",
    "            |-1,\n",
    "            |-1)), \n",
    "    |-12)\n",
    "    \n",
    "Elemento(carbono, (1,1,1), 1e-45, (1,1,1), (1,1,1), 12) < - herencia formal"
   ]
  },
  {
   "cell_type": "code",
   "execution_count": 12,
   "id": "56e2e4fd",
   "metadata": {},
   "outputs": [
    {
     "name": "stdout",
     "output_type": "stream",
     "text": [
      "Elemento(\"carbono\", Particula(Vect3D(1, 1, 1), 1.0e-45, Vect3D(1, 1, 1), Vect3D(1, 1, 1)), 8)\n"
     ]
    }
   ],
   "source": [
    "prod_ini=Vect3D(1,1,1)\n",
    "dato=Particula(prod_ini, 1e-45,prod_ini, prod_ini)\n",
    "mi_atomo2=Elemento(\"carbono\",dato, 8)\n",
    "println(mi_atomo2)"
   ]
  },
  {
   "cell_type": "code",
   "execution_count": 36,
   "id": "18322102",
   "metadata": {},
   "outputs": [
    {
     "data": {
      "text/plain": [
       "suma (generic function with 2 methods)"
      ]
     },
     "execution_count": 36,
     "metadata": {},
     "output_type": "execute_result"
    }
   ],
   "source": [
    "function moduloV3(un_vector::Vect3D)\n",
    "    sqrt(un_vector.x*un_vector.x+un_vector.y*un_vector.y+un_vector.z*un_vector.z)\n",
    "end\n",
    "\n",
    "function sumaV3(vector1::Vect3D,vector2::Vect3D)\n",
    "    salida=Vect3D(0.,0.,0.)\n",
    "    salida.x=vector1.x+vector2.x\n",
    "    salida.y=vector1.y+vector2.y\n",
    "    salida.z=vector1.z+vector2.z\n",
    "    return salida\n",
    "end\n",
    "\n",
    "function suma(part1::Particula, part2::Particula, propiedad)\n",
    "    salida=Vect3D(0.,0.,0.)\n",
    "    if propiedad ==\"posicion\"\n",
    "        salida.x=part1.posicion.x+part2.posicion.x\n",
    "        salida.y=part1.posicion.y+part2.posicion.y\n",
    "        salida.z=part1.posicion.z+part2.posicion.z\n",
    "    end\n",
    "    return salida\n",
    "end"
   ]
  },
  {
   "cell_type": "code",
   "execution_count": 38,
   "id": "7469a8e2",
   "metadata": {},
   "outputs": [
    {
     "name": "stdout",
     "output_type": "stream",
     "text": [
      "Vect3D(3, 3, 3)\n",
      "Vect3D(2, 2, 2)\n"
     ]
    }
   ],
   "source": [
    "test1=Vect3D(1,1,1)\n",
    "test2=Vect3D(2,2,2)\n",
    "println(sumaV3(test1,test2))\n",
    "println(suma(mi_atomo.caracteristicas,mi_atomo2.caracteristicas,\"posicion\"))"
   ]
  },
  {
   "cell_type": "code",
   "execution_count": 17,
   "id": "ac13a624",
   "metadata": {},
   "outputs": [
    {
     "name": "stdout",
     "output_type": "stream",
     "text": [
      "1.7320508075688772\n"
     ]
    }
   ],
   "source": [
    "println(moduloV3(mi_atomo2.caracteristicas.posicion))"
   ]
  },
  {
   "cell_type": "code",
   "execution_count": 35,
   "id": "48888de5",
   "metadata": {},
   "outputs": [
    {
     "name": "stdout",
     "output_type": "stream",
     "text": [
      "2.0\n",
      "nothing\n",
      "2 3\n",
      "nothing\n"
     ]
    }
   ],
   "source": [
    "function generica(n::Float64)\n",
    "    println(n)\n",
    "end\n",
    "\n",
    "function generica(n::Int,m::Int)\n",
    "    println(\"$n $m\")\n",
    "end\n",
    "\n",
    "println(generica(2.))\n",
    "println(generica(2,3))\n"
   ]
  },
  {
   "cell_type": "code",
   "execution_count": 43,
   "id": "9d941f2c",
   "metadata": {},
   "outputs": [
    {
     "data": {
      "text/plain": [
       "hablar (generic function with 2 methods)"
      ]
     },
     "execution_count": 43,
     "metadata": {},
     "output_type": "execute_result"
    }
   ],
   "source": [
    "abstract type Mascota2 end\n",
    "\n",
    "mutable struct Perro <: Mascota2\n",
    "    nombre::String\n",
    "    edad::Int\n",
    "end\n",
    "\n",
    "mutable struct Gato <: Mascota2\n",
    "    nombre::String\n",
    "    edad::Int\n",
    "end\n",
    "\n",
    "\n",
    "ladrar(un_perro::Perro) = println(\"Guau\")\n",
    "maullar(un_gato::Gato)= println(\"Miau\")\n",
    "\n",
    "hablar(una_mascota::Mascota2)=println(\"hace algo\")\n",
    "habla(un_perro::Perro)=ladrar(un_perro)\n",
    "hablar(un_gato::Gato)=maullar(un_gato)"
   ]
  },
  {
   "cell_type": "code",
   "execution_count": 44,
   "id": "e0c71bbe",
   "metadata": {},
   "outputs": [
    {
     "name": "stdout",
     "output_type": "stream",
     "text": [
      "Guau\n",
      "Miau\n",
      "Miau\n"
     ]
    }
   ],
   "source": [
    "fido=Perro(\"Fido\", 5)\n",
    "ladrar(fido)\n",
    "gato=Gato(\"Garfield\", 50)\n",
    "maullar(gato)\n",
    "\n",
    "hablar(gato)"
   ]
  },
  {
   "cell_type": "code",
   "execution_count": 2,
   "id": "39f09a0c",
   "metadata": {},
   "outputs": [
    {
     "name": "stdout",
     "output_type": "stream",
     "text": [
      "Perro(Mascotas3Propiedades(\"Fido\", 4), \"Chocolatoso\")\n"
     ]
    },
    {
     "data": {
      "text/plain": [
       "Perro(Mascotas3Propiedades(\"Pulgas\", 4), \"Azabache\")"
      ]
     },
     "execution_count": 2,
     "metadata": {},
     "output_type": "execute_result"
    }
   ],
   "source": [
    "Base.@kwdef struct Mascotas3Propiedades\n",
    "    nombre::String\n",
    "    edad::Int\n",
    "end\n",
    "\n",
    "abstract type Mascotas3 end\n",
    "\n",
    "mutable struct Perro <: Mascotas3\n",
    "    comun::Mascotas3Propiedades\n",
    "    color::String\n",
    "    function Perro(; nombre::String, edad::Int, color::String)\n",
    "        return new(Mascotas3Propiedades(nombre, edad), color)\n",
    "    end\n",
    "end\n",
    "\n",
    "\n",
    "\n",
    "\n",
    "mutable struct Gato <: Mascotas3\n",
    "    comun::Mascotas3Propiedades\n",
    "    garras::Bool\n",
    "    function Gato(; nombre::String, edad::Int, garras::Bool)\n",
    "        return new(Mascotas3Propiedades(nombre, edad), garras)\n",
    "    end\n",
    "end\n",
    "\n",
    "\n",
    "mi_perro=Perro(nombre=\"Fido\",edad= 4, color=\"Chocolatoso\")\n",
    "println(mi_perro)\n",
    "mi_otro_perro=Perro(nombre=\"Pulgas\",color=\"Azabache\",edad= 4 )"
   ]
  },
  {
   "cell_type": "code",
   "execution_count": 47,
   "id": "132bc438",
   "metadata": {},
   "outputs": [
    {
     "data": {
      "text/latex": [
       "\\begin{verbatim}\n",
       "@kwdef typedef\n",
       "\\end{verbatim}\n",
       "This is a helper macro that automatically defines a keyword-based constructor for the type declared in the expression \\texttt{typedef}, which must be a \\texttt{struct} or \\texttt{mutable struct} expression. The default argument is supplied by declaring fields of the form \\texttt{field::T = default} or \\texttt{field = default}. If no default is provided then the keyword argument becomes a required keyword argument in the resulting type constructor.\n",
       "\n",
       "Inner constructors can still be defined, but at least one should accept arguments in the same form as the default inner constructor (i.e. one positional argument per field) in order to function correctly with the keyword outer constructor.\n",
       "\n",
       "\\begin{quote}\n",
       "\\textbf{compat}\n",
       "\n",
       "Julia 1.1\n",
       "\n",
       "\\texttt{Base.@kwdef} for parametric structs, and structs with supertypes requires at least Julia 1.1.\n",
       "\n",
       "\\end{quote}\n",
       "\\section{Examples}\n",
       "\\begin{verbatim}\n",
       "julia> Base.@kwdef struct Foo\n",
       "           a::Int = 1         # specified default\n",
       "           b::String          # required keyword\n",
       "       end\n",
       "Foo\n",
       "\n",
       "julia> Foo(b=\"hi\")\n",
       "Foo(1, \"hi\")\n",
       "\n",
       "julia> Foo()\n",
       "ERROR: UndefKeywordError: keyword argument b not assigned\n",
       "Stacktrace:\n",
       "[...]\n",
       "\\end{verbatim}\n"
      ],
      "text/markdown": [
       "```\n",
       "@kwdef typedef\n",
       "```\n",
       "\n",
       "This is a helper macro that automatically defines a keyword-based constructor for the type declared in the expression `typedef`, which must be a `struct` or `mutable struct` expression. The default argument is supplied by declaring fields of the form `field::T = default` or `field = default`. If no default is provided then the keyword argument becomes a required keyword argument in the resulting type constructor.\n",
       "\n",
       "Inner constructors can still be defined, but at least one should accept arguments in the same form as the default inner constructor (i.e. one positional argument per field) in order to function correctly with the keyword outer constructor.\n",
       "\n",
       "!!! compat \"Julia 1.1\"\n",
       "    `Base.@kwdef` for parametric structs, and structs with supertypes requires at least Julia 1.1.\n",
       "\n",
       "\n",
       "# Examples\n",
       "\n",
       "```jldoctest\n",
       "julia> Base.@kwdef struct Foo\n",
       "           a::Int = 1         # specified default\n",
       "           b::String          # required keyword\n",
       "       end\n",
       "Foo\n",
       "\n",
       "julia> Foo(b=\"hi\")\n",
       "Foo(1, \"hi\")\n",
       "\n",
       "julia> Foo()\n",
       "ERROR: UndefKeywordError: keyword argument b not assigned\n",
       "Stacktrace:\n",
       "[...]\n",
       "```\n"
      ],
      "text/plain": [
       "\u001b[36m  @kwdef typedef\u001b[39m\n",
       "\n",
       "  This is a helper macro that automatically defines a keyword-based\n",
       "  constructor for the type declared in the expression \u001b[36mtypedef\u001b[39m, which must be a\n",
       "  \u001b[36mstruct\u001b[39m or \u001b[36mmutable struct\u001b[39m expression. The default argument is supplied by\n",
       "  declaring fields of the form \u001b[36mfield::T = default\u001b[39m or \u001b[36mfield = default\u001b[39m. If no\n",
       "  default is provided then the keyword argument becomes a required keyword\n",
       "  argument in the resulting type constructor.\n",
       "\n",
       "  Inner constructors can still be defined, but at least one should accept\n",
       "  arguments in the same form as the default inner constructor (i.e. one\n",
       "  positional argument per field) in order to function correctly with the\n",
       "  keyword outer constructor.\n",
       "\n",
       "\u001b[39m\u001b[1m  │ \u001b[22m\u001b[39m\u001b[1mJulia 1.1\u001b[22m\n",
       "\u001b[39m\u001b[1m  │\u001b[22m\n",
       "\u001b[39m\u001b[1m  │\u001b[22m  \u001b[36mBase.@kwdef\u001b[39m for parametric structs, and structs with supertypes\n",
       "\u001b[39m\u001b[1m  │\u001b[22m  requires at least Julia 1.1.\n",
       "\n",
       "\u001b[1m  Examples\u001b[22m\n",
       "\u001b[1m  ≡≡≡≡≡≡≡≡≡≡\u001b[22m\n",
       "\n",
       "\u001b[36m  julia> Base.@kwdef struct Foo\u001b[39m\n",
       "\u001b[36m             a::Int = 1         # specified default\u001b[39m\n",
       "\u001b[36m             b::String          # required keyword\u001b[39m\n",
       "\u001b[36m         end\u001b[39m\n",
       "\u001b[36m  Foo\u001b[39m\n",
       "\u001b[36m  \u001b[39m\n",
       "\u001b[36m  julia> Foo(b=\"hi\")\u001b[39m\n",
       "\u001b[36m  Foo(1, \"hi\")\u001b[39m\n",
       "\u001b[36m  \u001b[39m\n",
       "\u001b[36m  julia> Foo()\u001b[39m\n",
       "\u001b[36m  ERROR: UndefKeywordError: keyword argument b not assigned\u001b[39m\n",
       "\u001b[36m  Stacktrace:\u001b[39m\n",
       "\u001b[36m  [...]\u001b[39m"
      ]
     },
     "execution_count": 47,
     "metadata": {},
     "output_type": "execute_result"
    }
   ],
   "source": [
    "?Base.@kwdef"
   ]
  },
  {
   "cell_type": "code",
   "execution_count": null,
   "id": "dc3640f3",
   "metadata": {},
   "outputs": [],
   "source": [
    "#=\n",
    "using PyCall\n",
    "numpy=import(\"numpy\")\n",
    "a=numpy.zeros([2,3])\n",
    "=#"
   ]
  }
 ],
 "metadata": {
  "kernelspec": {
   "display_name": "Julia 1.7.2",
   "language": "julia",
   "name": "julia-1.7"
  },
  "language_info": {
   "file_extension": ".jl",
   "mimetype": "application/julia",
   "name": "julia",
   "version": "1.7.2"
  }
 },
 "nbformat": 4,
 "nbformat_minor": 5
}
