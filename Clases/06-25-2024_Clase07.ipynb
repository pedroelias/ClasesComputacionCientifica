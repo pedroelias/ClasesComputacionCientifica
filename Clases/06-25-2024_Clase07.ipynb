{
 "cells": [
  {
   "cell_type": "markdown",
   "id": "893f54bf",
   "metadata": {},
   "source": [
    "# "
   ]
  },
  {
   "cell_type": "code",
   "execution_count": 1,
   "id": "1c082abf",
   "metadata": {},
   "outputs": [
    {
     "name": "stdout",
     "output_type": "stream",
     "text": [
      "Hola\n"
     ]
    }
   ],
   "source": [
    "function saludo()\n",
    "    println(\"Hola\")\n",
    "end\n",
    "\n",
    "function main()\n",
    "    saludo()\n",
    "end\n",
    "\n",
    "main()"
   ]
  },
  {
   "cell_type": "code",
   "execution_count": 10,
   "id": "e1f07816",
   "metadata": {},
   "outputs": [
    {
     "name": "stdout",
     "output_type": "stream",
     "text": [
      "El cuadrado de 6.7 es 44.89\n",
      "nothing\n",
      "El cuadrado de -34.5 es 1190.25\n",
      "nothing\n",
      "El cuadrado de 4 es 16\n",
      "nothing\n",
      "Int64\n",
      "El cuadrado de -6 es 36\n",
      "Nothing\n"
     ]
    }
   ],
   "source": [
    "function cuadrado(x)\n",
    "    println(\"El cuadrado de $x es $(x*x)\")\n",
    "end\n",
    "\n",
    "function main()\n",
    "    y=-34.5\n",
    "    println(cuadrado(6.7))\n",
    "    println(cuadrado(y))\n",
    "    println(cuadrado(4))\n",
    "    z=-6\n",
    "    println(typeof(z))\n",
    "    println(typeof(cuadrado(z)))\n",
    "end\n",
    "\n",
    "main()"
   ]
  },
  {
   "cell_type": "markdown",
   "id": "c7171e6a",
   "metadata": {},
   "source": [
    "el `nothing` se debe a que técnicamente no devuelve nada"
   ]
  },
  {
   "cell_type": "code",
   "execution_count": null,
   "id": "82510c6a",
   "metadata": {},
   "outputs": [],
   "source": [
    "function cuadrado()\n",
    "    return(x)"
   ]
  },
  {
   "cell_type": "code",
   "execution_count": 6,
   "id": "b0719396",
   "metadata": {},
   "outputs": [
    {
     "data": {
      "text/plain": [
       "0.0 + 1.4142135623730951im"
      ]
     },
     "execution_count": 6,
     "metadata": {},
     "output_type": "execute_result"
    }
   ],
   "source": [
    "sqrt(-2+0im)"
   ]
  },
  {
   "cell_type": "markdown",
   "id": "38c5679d",
   "metadata": {},
   "source": [
    "KISS -> Keep It Simple Stupid\n",
    "1. Utilizar en la medida de lo posible usar minúsculas para los nombres de los identificadores\n",
    "2. Para separar palabras en nombres de variables usar _\n",
    "3. Para nombres de funciones o métodos usar la primera letra de la segunda palabra en mayucula alCuadrado.\n",
    "4. Los nombres de las clases la primera letra del nombre se mayúscula\n",
    "    - clase Zapato:..."
   ]
  },
  {
   "cell_type": "code",
   "execution_count": 14,
   "id": "1fcc0dba",
   "metadata": {},
   "outputs": [
    {
     "name": "stdout",
     "output_type": "stream",
     "text": [
      "El cuadrado de 6 es 36\n",
      "nothing\n",
      "El cuadrado de 3 es 9\n"
     ]
    },
    {
     "ename": "LoadError",
     "evalue": "MethodError: no method matching *(::Int64, ::Nothing)\n\u001b[0mClosest candidates are:\n\u001b[0m  *(::Any, ::Any, \u001b[91m::Any\u001b[39m, \u001b[91m::Any...\u001b[39m) at C:\\ProgramData\\Julia-1.7.2\\share\\julia\\base\\operators.jl:655\n\u001b[0m  *(::T, \u001b[91m::T\u001b[39m) where T<:Union{Int128, Int16, Int32, Int64, Int8, UInt128, UInt16, UInt32, UInt64, UInt8} at C:\\ProgramData\\Julia-1.7.2\\share\\julia\\base\\int.jl:88\n\u001b[0m  *(::Union{Real, Complex}, \u001b[91m::Union{LinearAlgebra.Adjoint{var\"#s859\", var\"#s8591\"}, LinearAlgebra.Transpose{var\"#s859\", var\"#s8591\"}} where {var\"#s859\"<:Union{Real, Complex}, var\"#s8591\"<:(AbstractVector)}\u001b[39m, \u001b[91m::AbstractMatrix{<:Union{Real, Complex}}\u001b[39m, \u001b[91m::AbstractMatrix{<:Union{Real, Complex}}\u001b[39m) at C:\\ProgramData\\Julia-1.7.2\\share\\julia\\stdlib\\v1.7\\LinearAlgebra\\src\\matmul.jl:1172\n\u001b[0m  ...",
     "output_type": "error",
     "traceback": [
      "MethodError: no method matching *(::Int64, ::Nothing)\n\u001b[0mClosest candidates are:\n\u001b[0m  *(::Any, ::Any, \u001b[91m::Any\u001b[39m, \u001b[91m::Any...\u001b[39m) at C:\\ProgramData\\Julia-1.7.2\\share\\julia\\base\\operators.jl:655\n\u001b[0m  *(::T, \u001b[91m::T\u001b[39m) where T<:Union{Int128, Int16, Int32, Int64, Int8, UInt128, UInt16, UInt32, UInt64, UInt8} at C:\\ProgramData\\Julia-1.7.2\\share\\julia\\base\\int.jl:88\n\u001b[0m  *(::Union{Real, Complex}, \u001b[91m::Union{LinearAlgebra.Adjoint{var\"#s859\", var\"#s8591\"}, LinearAlgebra.Transpose{var\"#s859\", var\"#s8591\"}} where {var\"#s859\"<:Union{Real, Complex}, var\"#s8591\"<:(AbstractVector)}\u001b[39m, \u001b[91m::AbstractMatrix{<:Union{Real, Complex}}\u001b[39m, \u001b[91m::AbstractMatrix{<:Union{Real, Complex}}\u001b[39m) at C:\\ProgramData\\Julia-1.7.2\\share\\julia\\stdlib\\v1.7\\LinearAlgebra\\src\\matmul.jl:1172\n\u001b[0m  ...",
      "",
      "Stacktrace:",
      " [1] top-level scope",
      "   @ In[14]:4",
      " [2] eval",
      "   @ .\\boot.jl:373 [inlined]",
      " [3] include_string(mapexpr::typeof(REPL.softscope), mod::Module, code::String, filename::String)",
      "   @ Base .\\loading.jl:1196"
     ]
    }
   ],
   "source": [
    "num1 = 6\n",
    "resultado = cuadrado(6)\n",
    "println(resultado)\n",
    "otro_resultado=2cuadrado(3)+5\n",
    "println(otro_resultado)"
   ]
  },
  {
   "cell_type": "code",
   "execution_count": 16,
   "id": "aff480db",
   "metadata": {},
   "outputs": [
    {
     "name": "stdout",
     "output_type": "stream",
     "text": [
      "El cuadrado de Hola es HolaHola\n",
      "Nothing\n",
      "nothing\n"
     ]
    }
   ],
   "source": [
    "variable_cadena = cuadrado(\"Hola\")\n",
    "println(typeof(variable_cadena))\n",
    "println(variable_cadena)"
   ]
  },
  {
   "cell_type": "code",
   "execution_count": 19,
   "id": "e0b8ab39",
   "metadata": {},
   "outputs": [
    {
     "name": "stdout",
     "output_type": "stream",
     "text": [
      "25\n",
      "Int64\n"
     ]
    }
   ],
   "source": [
    "function cuadradoEntero(n::Int32)\n",
    "    return n*n\n",
    "end\n",
    "    \n",
    "function main()\n",
    "    println(cuadradoEntero(5))\n",
    "    println(typeof(cuadradoEntero(5)))\n",
    "end\n",
    "\n",
    "main()"
   ]
  },
  {
   "cell_type": "code",
   "execution_count": 33,
   "id": "f1b0982e",
   "metadata": {},
   "outputs": [
    {
     "name": "stdout",
     "output_type": "stream",
     "text": [
      "81\n",
      "Int64\n"
     ]
    }
   ],
   "source": [
    "function cuadradoEntero_4(n::Int64)\n",
    "    resultado=Int32(n)\n",
    "    resultado = n*n\n",
    "    return resultado\n",
    "end\n",
    "    \n",
    "function main()\n",
    "    n2=Int32(5)\n",
    "    println(cuadradoEntero_4(9))\n",
    "    println(typeof(cuadradoEntero_4(9)))\n",
    "end\n",
    "\n",
    "main()"
   ]
  },
  {
   "cell_type": "code",
   "execution_count": 36,
   "id": "0b569403",
   "metadata": {},
   "outputs": [
    {
     "name": "stdout",
     "output_type": "stream",
     "text": [
      "19.360000000000003\n",
      "36\n"
     ]
    },
    {
     "ename": "LoadError",
     "evalue": "MethodError: no method matching cuadradoB(::String)\n\u001b[0mClosest candidates are:\n\u001b[0m  cuadradoB(\u001b[91m::Int64\u001b[39m) at In[36]:1\n\u001b[0m  cuadradoB(\u001b[91m::Float64\u001b[39m) at In[36]:5",
     "output_type": "error",
     "traceback": [
      "MethodError: no method matching cuadradoB(::String)\n\u001b[0mClosest candidates are:\n\u001b[0m  cuadradoB(\u001b[91m::Int64\u001b[39m) at In[36]:1\n\u001b[0m  cuadradoB(\u001b[91m::Float64\u001b[39m) at In[36]:5",
      "",
      "Stacktrace:",
      " [1] main()",
      "   @ Main .\\In[36]:12",
      " [2] top-level scope",
      "   @ In[36]:15",
      " [3] eval",
      "   @ .\\boot.jl:373 [inlined]",
      " [4] include_string(mapexpr::typeof(REPL.softscope), mod::Module, code::String, filename::String)",
      "   @ Base .\\loading.jl:1196"
     ]
    }
   ],
   "source": [
    "function cuadradoB(n::Int64)\n",
    "    return n * n\n",
    "end\n",
    "\n",
    "function cuadradoB(x::Float64)\n",
    "    return x*x\n",
    "end\n",
    "\n",
    "function main()\n",
    "    println(cuadradoB(4.4))\n",
    "    println(cuadradoB(6))\n",
    "    println(cuadradoB(\"Hola\"))\n",
    "end\n",
    "\n",
    "main()"
   ]
  },
  {
   "cell_type": "code",
   "execution_count": 37,
   "id": "940d6ce7",
   "metadata": {},
   "outputs": [
    {
     "name": "stdout",
     "output_type": "stream",
     "text": [
      "1\n",
      "3.0\n"
     ]
    }
   ],
   "source": [
    "function miFuncion(n::Int64)\n",
    "    resultado=Int64(n ÷ n)\n",
    "    return resultado\n",
    "end\n",
    "\n",
    "function miFuncion(x::Float64)\n",
    "    resultado=Float64(x*0.5)\n",
    "    return resultado\n",
    "end\n",
    "\n",
    "function main()\n",
    "    println(miFuncion(6))\n",
    "    println(miFuncion(6.0))\n",
    "end\n",
    "\n",
    "main()"
   ]
  },
  {
   "cell_type": "code",
   "execution_count": 38,
   "id": "4d319a9f",
   "metadata": {},
   "outputs": [
    {
     "name": "stdout",
     "output_type": "stream",
     "text": [
      "En la función principal, x es 5\n",
      "En miFuncion2, antes de incrementar, n es 5\n",
      "En miFuncion2(), después de incrementar, n es 12\n",
      "Después de invocar la función principal, x es 5\n",
      "nothing\n"
     ]
    }
   ],
   "source": [
    "function miFuncion2(n)\n",
    "    println(\"En miFuncion2, antes de incrementar, n es $n\")\n",
    "    n+=7\n",
    "    println(\"En miFuncion2(), después de incrementar, n es $n\")\n",
    "end\n",
    "\n",
    "function main()\n",
    "    x=5\n",
    "    println(\"En la función principal, x es $x\")\n",
    "    y=miFuncion2(x)\n",
    "    println(\"Después de invocar la función principal, x es $x\")\n",
    "    println(y)\n",
    "end\n",
    "\n",
    "main()"
   ]
  },
  {
   "cell_type": "code",
   "execution_count": 39,
   "id": "e919fb75",
   "metadata": {},
   "outputs": [
    {
     "data": {
      "text/plain": [
       "intercambioM (generic function with 1 method)"
      ]
     },
     "execution_count": 39,
     "metadata": {},
     "output_type": "execute_result"
    }
   ],
   "source": [
    "function intercambioM(a,b)\n",
    "    println(\"Sus valores antes de intercambiar son a = $a, b = $b\")\n",
    "    t=a\n",
    "    a=b\n",
    "    b=t\n",
    "    println(\"Sus calores después de intercambiar a = $a, b=$b\")\n",
    "end"
   ]
  },
  {
   "cell_type": "code",
   "execution_count": 40,
   "id": "3f323be2",
   "metadata": {},
   "outputs": [
    {
     "name": "stdout",
     "output_type": "stream",
     "text": [
      "Sus valores antes de intercambiar son a = 3, b = 8\n",
      "Sus calores después de intercambiar a = 8, b=3\n",
      "3,8\n"
     ]
    }
   ],
   "source": [
    "a=3; b=8\n",
    "intercambioM(a,b)\n",
    "println(\"$a,$b\")"
   ]
  },
  {
   "cell_type": "code",
   "execution_count": 42,
   "id": "9327ca75",
   "metadata": {},
   "outputs": [
    {
     "name": "stdout",
     "output_type": "stream",
     "text": [
      "3,8\n",
      "8,3\n"
     ]
    }
   ],
   "source": [
    "function intercambioN(a,b)\n",
    "    return b,a\n",
    "end\n",
    "\n",
    "function main()\n",
    "    x=3\n",
    "    y=8\n",
    "    println(\"$x,$y\")\n",
    "    x,y=intercambioN(x,y)\n",
    "    println(\"$x,$y\")\n",
    "end\n",
    "\n",
    "main()\n"
   ]
  },
  {
   "cell_type": "code",
   "execution_count": 43,
   "id": "e583872b",
   "metadata": {},
   "outputs": [
    {
     "name": "stdout",
     "output_type": "stream",
     "text": [
      "3,8\n",
      "8,3\n"
     ]
    }
   ],
   "source": [
    "function intercambio0(a,b)\n",
    "    b,a\n",
    "end\n",
    "\n",
    "function main()\n",
    "    x=3\n",
    "    y=8\n",
    "    println(\"$x,$y\")\n",
    "    x,y=intercambio0(x,y)\n",
    "    println(\"$x,$y\")\n",
    "end\n",
    "\n",
    "main()\n"
   ]
  },
  {
   "cell_type": "code",
   "execution_count": 44,
   "id": "6da25aec",
   "metadata": {},
   "outputs": [
    {
     "name": "stdout",
     "output_type": "stream",
     "text": [
      "search: \u001b[0m\u001b[1mr\u001b[22m\u001b[0m\u001b[1me\u001b[22m\u001b[0m\u001b[1mt\u001b[22m\u001b[0m\u001b[1mu\u001b[22m\u001b[0m\u001b[1mr\u001b[22m\u001b[0m\u001b[1mn\u001b[22m \u001b[0m\u001b[1mR\u001b[22m\u001b[0m\u001b[1me\u001b[22m\u001b[0m\u001b[1mt\u001b[22m\u001b[0m\u001b[1mu\u001b[22m\u001b[0m\u001b[1mr\u001b[22m\u001b[0m\u001b[1mn\u001b[22ms\n",
      "\n"
     ]
    },
    {
     "data": {
      "text/latex": [
       "\\begin{verbatim}\n",
       "return\n",
       "\\end{verbatim}\n",
       "\\texttt{return x} causes the enclosing function to exit early, passing the given value \\texttt{x} back to its caller. \\texttt{return} by itself with no value is equivalent to \\texttt{return nothing} (see \\href{@ref}{\\texttt{nothing}}).\n",
       "\n",
       "\\begin{verbatim}\n",
       "function compare(a, b)\n",
       "    a == b && return \"equal to\"\n",
       "    a < b ? \"less than\" : \"greater than\"\n",
       "end\n",
       "\\end{verbatim}\n",
       "In general you can place a \\texttt{return} statement anywhere within a function body, including within deeply nested loops or conditionals, but be careful with \\texttt{do} blocks. For example:\n",
       "\n",
       "\\begin{verbatim}\n",
       "function test1(xs)\n",
       "    for x in xs\n",
       "        iseven(x) && return 2x\n",
       "    end\n",
       "end\n",
       "\n",
       "function test2(xs)\n",
       "    map(xs) do x\n",
       "        iseven(x) && return 2x\n",
       "        x\n",
       "    end\n",
       "end\n",
       "\\end{verbatim}\n",
       "In the first example, the return breaks out of \\texttt{test1} as soon as it hits an even number, so \\texttt{test1([5,6,7])} returns \\texttt{12}.\n",
       "\n",
       "You might expect the second example to behave the same way, but in fact the \\texttt{return} there only breaks out of the \\emph{inner} function (inside the \\texttt{do} block) and gives a value back to \\texttt{map}. \\texttt{test2([5,6,7])} then returns \\texttt{[5,12,7]}.\n",
       "\n",
       "When used in a top-level expression (i.e. outside any function), \\texttt{return} causes the entire current top-level expression to terminate early.\n",
       "\n"
      ],
      "text/markdown": [
       "```\n",
       "return\n",
       "```\n",
       "\n",
       "`return x` causes the enclosing function to exit early, passing the given value `x` back to its caller. `return` by itself with no value is equivalent to `return nothing` (see [`nothing`](@ref)).\n",
       "\n",
       "```julia\n",
       "function compare(a, b)\n",
       "    a == b && return \"equal to\"\n",
       "    a < b ? \"less than\" : \"greater than\"\n",
       "end\n",
       "```\n",
       "\n",
       "In general you can place a `return` statement anywhere within a function body, including within deeply nested loops or conditionals, but be careful with `do` blocks. For example:\n",
       "\n",
       "```julia\n",
       "function test1(xs)\n",
       "    for x in xs\n",
       "        iseven(x) && return 2x\n",
       "    end\n",
       "end\n",
       "\n",
       "function test2(xs)\n",
       "    map(xs) do x\n",
       "        iseven(x) && return 2x\n",
       "        x\n",
       "    end\n",
       "end\n",
       "```\n",
       "\n",
       "In the first example, the return breaks out of `test1` as soon as it hits an even number, so `test1([5,6,7])` returns `12`.\n",
       "\n",
       "You might expect the second example to behave the same way, but in fact the `return` there only breaks out of the *inner* function (inside the `do` block) and gives a value back to `map`. `test2([5,6,7])` then returns `[5,12,7]`.\n",
       "\n",
       "When used in a top-level expression (i.e. outside any function), `return` causes the entire current top-level expression to terminate early.\n"
      ],
      "text/plain": [
       "\u001b[36m  return\u001b[39m\n",
       "\n",
       "  \u001b[36mreturn x\u001b[39m causes the enclosing function to exit early, passing the given\n",
       "  value \u001b[36mx\u001b[39m back to its caller. \u001b[36mreturn\u001b[39m by itself with no value is equivalent to\n",
       "  \u001b[36mreturn nothing\u001b[39m (see \u001b[36mnothing\u001b[39m).\n",
       "\n",
       "\u001b[36m  function compare(a, b)\u001b[39m\n",
       "\u001b[36m      a == b && return \"equal to\"\u001b[39m\n",
       "\u001b[36m      a < b ? \"less than\" : \"greater than\"\u001b[39m\n",
       "\u001b[36m  end\u001b[39m\n",
       "\n",
       "  In general you can place a \u001b[36mreturn\u001b[39m statement anywhere within a function body,\n",
       "  including within deeply nested loops or conditionals, but be careful with \u001b[36mdo\u001b[39m\n",
       "  blocks. For example:\n",
       "\n",
       "\u001b[36m  function test1(xs)\u001b[39m\n",
       "\u001b[36m      for x in xs\u001b[39m\n",
       "\u001b[36m          iseven(x) && return 2x\u001b[39m\n",
       "\u001b[36m      end\u001b[39m\n",
       "\u001b[36m  end\u001b[39m\n",
       "\u001b[36m  \u001b[39m\n",
       "\u001b[36m  function test2(xs)\u001b[39m\n",
       "\u001b[36m      map(xs) do x\u001b[39m\n",
       "\u001b[36m          iseven(x) && return 2x\u001b[39m\n",
       "\u001b[36m          x\u001b[39m\n",
       "\u001b[36m      end\u001b[39m\n",
       "\u001b[36m  end\u001b[39m\n",
       "\n",
       "  In the first example, the return breaks out of \u001b[36mtest1\u001b[39m as soon as it hits an\n",
       "  even number, so \u001b[36mtest1([5,6,7])\u001b[39m returns \u001b[36m12\u001b[39m.\n",
       "\n",
       "  You might expect the second example to behave the same way, but in fact the\n",
       "  \u001b[36mreturn\u001b[39m there only breaks out of the \u001b[4minner\u001b[24m function (inside the \u001b[36mdo\u001b[39m block) and\n",
       "  gives a value back to \u001b[36mmap\u001b[39m. \u001b[36mtest2([5,6,7])\u001b[39m then returns \u001b[36m[5,12,7]\u001b[39m.\n",
       "\n",
       "  When used in a top-level expression (i.e. outside any function), \u001b[36mreturn\u001b[39m\n",
       "  causes the entire current top-level expression to terminate early."
      ]
     },
     "execution_count": 44,
     "metadata": {},
     "output_type": "execute_result"
    }
   ],
   "source": [
    "?return"
   ]
  },
  {
   "cell_type": "code",
   "execution_count": 45,
   "id": "2ca5c39a",
   "metadata": {},
   "outputs": [
    {
     "data": {
      "text/plain": [
       "\"Hola 34\""
      ]
     },
     "execution_count": 45,
     "metadata": {},
     "output_type": "execute_result"
    }
   ],
   "source": [
    "function test1(n)\n",
    "    \"Hola $n\"\n",
    "end\n",
    "\n",
    "test1(34)"
   ]
  },
  {
   "cell_type": "code",
   "execution_count": 56,
   "id": "146f4d5c",
   "metadata": {},
   "outputs": [
    {
     "name": "stdout",
     "output_type": "stream",
     "text": [
      "-7163178492194900501382885091770892288\n",
      "3.0414093201713376e64\n"
     ]
    }
   ],
   "source": [
    "function fact1(n::Int128)\n",
    "    resultado=1\n",
    "    for i ∈ 1:n\n",
    "        resultado = resultado*i\n",
    "    end\n",
    "    resultado\n",
    "end\n",
    "\n",
    "function fact1(x::Float64)\n",
    "    resultado=1.0\n",
    "    contador = 1\n",
    "    while contador <= x\n",
    "        resultado = resultado*contador\n",
    "        contador+=1\n",
    "    end\n",
    "    resultado\n",
    "end\n",
    "\n",
    "x=Int128(49)\n",
    "\n",
    "\n",
    "println(fact1(x))\n",
    "println(fact1(50.0))\n"
   ]
  },
  {
   "cell_type": "code",
   "execution_count": 1,
   "id": "35a21a36",
   "metadata": {},
   "outputs": [
    {
     "name": "stdout",
     "output_type": "stream",
     "text": [
      "2432902008176640000\n"
     ]
    }
   ],
   "source": [
    "function fact2(n::Int128)\n",
    "    if n==1 || n==0\n",
    "        return 1\n",
    "    end\n",
    "    return n*fact2(n-1)\n",
    "end\n",
    "p=Int128(20)\n",
    "println(fact2(p))\n"
   ]
  },
  {
   "cell_type": "code",
   "execution_count": 3,
   "id": "60f80914",
   "metadata": {},
   "outputs": [
    {
     "data": {
      "text/plain": [
       "8-element Vector{Int64}:\n",
       "   4\n",
       "   6\n",
       "   7\n",
       "   1\n",
       "  28\n",
       " -16\n",
       "  32\n",
       "  -2"
      ]
     },
     "execution_count": 3,
     "metadata": {},
     "output_type": "execute_result"
    }
   ],
   "source": [
    "[4,6,7,1,28,-16,32,-2]\n",
    "#quicksort()"
   ]
  },
  {
   "cell_type": "code",
   "execution_count": 5,
   "id": "51cc1baa",
   "metadata": {},
   "outputs": [
    {
     "data": {
      "text/plain": [
       "51090942171709440000"
      ]
     },
     "execution_count": 5,
     "metadata": {},
     "output_type": "execute_result"
    }
   ],
   "source": [
    "b1=Int128(fact2(Int128(21)))"
   ]
  },
  {
   "cell_type": "code",
   "execution_count": 7,
   "id": "70740186",
   "metadata": {},
   "outputs": [
    {
     "data": {
      "text/plain": [
       "Int128"
      ]
     },
     "execution_count": 7,
     "metadata": {},
     "output_type": "execute_result"
    }
   ],
   "source": [
    "typeof(fact2(Int128(21)))"
   ]
  },
  {
   "cell_type": "code",
   "execution_count": 8,
   "id": "a1d9074b",
   "metadata": {},
   "outputs": [
    {
     "data": {
      "text/plain": [
       "Int128"
      ]
     },
     "execution_count": 8,
     "metadata": {},
     "output_type": "execute_result"
    }
   ],
   "source": [
    "typeof(fact2(Int128(23)))"
   ]
  },
  {
   "cell_type": "code",
   "execution_count": 10,
   "id": "be2bf44d",
   "metadata": {},
   "outputs": [
    {
     "name": "stdout",
     "output_type": "stream",
     "text": [
      "search: \u001b[0m\u001b[1mQ\u001b[22m\u001b[0m\u001b[1mu\u001b[22m\u001b[0m\u001b[1mi\u001b[22m\u001b[0m\u001b[1mc\u001b[22m\u001b[0m\u001b[1mk\u001b[22m\u001b[0m\u001b[1mS\u001b[22m\u001b[0m\u001b[1mo\u001b[22m\u001b[0m\u001b[1mr\u001b[22m\u001b[0m\u001b[1mt\u001b[22m Partial\u001b[0m\u001b[1mQ\u001b[22m\u001b[0m\u001b[1mu\u001b[22m\u001b[0m\u001b[1mi\u001b[22m\u001b[0m\u001b[1mc\u001b[22m\u001b[0m\u001b[1mk\u001b[22m\u001b[0m\u001b[1mS\u001b[22m\u001b[0m\u001b[1mo\u001b[22m\u001b[0m\u001b[1mr\u001b[22m\u001b[0m\u001b[1mt\u001b[22m\n",
      "\n"
     ]
    },
    {
     "data": {
      "text/latex": [
       "\\begin{verbatim}\n",
       "QuickSort\n",
       "\\end{verbatim}\n",
       "Indicate that a sorting function should use the quick sort algorithm, which is \\emph{not} stable.\n",
       "\n",
       "Characteristics:\n",
       "\n",
       "\\begin{itemize}\n",
       "\\item \\emph{not stable}: does not preserve the ordering of elements which compare equal (e.g. \"a\" and \"A\" in a sort of letters which ignores case).\n",
       "\n",
       "\n",
       "\\item \\emph{in-place} in memory.\n",
       "\n",
       "\n",
       "\\item \\emph{divide-and-conquer}: sort strategy similar to \\href{@ref}{\\texttt{MergeSort}}.\n",
       "\n",
       "\n",
       "\\item \\emph{good performance} for large collections.\n",
       "\n",
       "\\end{itemize}\n"
      ],
      "text/markdown": [
       "```\n",
       "QuickSort\n",
       "```\n",
       "\n",
       "Indicate that a sorting function should use the quick sort algorithm, which is *not* stable.\n",
       "\n",
       "Characteristics:\n",
       "\n",
       "  * *not stable*: does not preserve the ordering of elements which compare equal (e.g. \"a\" and \"A\" in a sort of letters which ignores case).\n",
       "  * *in-place* in memory.\n",
       "  * *divide-and-conquer*: sort strategy similar to [`MergeSort`](@ref).\n",
       "  * *good performance* for large collections.\n"
      ],
      "text/plain": [
       "\u001b[36m  QuickSort\u001b[39m\n",
       "\n",
       "  Indicate that a sorting function should use the quick sort algorithm, which\n",
       "  is \u001b[4mnot\u001b[24m stable.\n",
       "\n",
       "  Characteristics:\n",
       "\n",
       "    •  \u001b[4mnot stable\u001b[24m: does not preserve the ordering of elements which\n",
       "       compare equal (e.g. \"a\" and \"A\" in a sort of letters which ignores\n",
       "       case).\n",
       "\n",
       "    •  \u001b[4min-place\u001b[24m in memory.\n",
       "\n",
       "    •  \u001b[4mdivide-and-conquer\u001b[24m: sort strategy similar to \u001b[36mMergeSort\u001b[39m.\n",
       "\n",
       "    •  \u001b[4mgood performance\u001b[24m for large collections."
      ]
     },
     "execution_count": 10,
     "metadata": {},
     "output_type": "execute_result"
    }
   ],
   "source": [
    "?QuickSort"
   ]
  },
  {
   "cell_type": "code",
   "execution_count": 12,
   "id": "b24adbab",
   "metadata": {},
   "outputs": [
    {
     "name": "stdout",
     "output_type": "stream",
     "text": [
      "search: \u001b[0m\u001b[1ms\u001b[22m\u001b[0m\u001b[1mo\u001b[22m\u001b[0m\u001b[1mr\u001b[22m\u001b[0m\u001b[1mt\u001b[22m \u001b[0m\u001b[1ms\u001b[22m\u001b[0m\u001b[1mo\u001b[22m\u001b[0m\u001b[1mr\u001b[22m\u001b[0m\u001b[1mt\u001b[22m! \u001b[0m\u001b[1ms\u001b[22m\u001b[0m\u001b[1mo\u001b[22m\u001b[0m\u001b[1mr\u001b[22m\u001b[0m\u001b[1mt\u001b[22mperm \u001b[0m\u001b[1ms\u001b[22m\u001b[0m\u001b[1mo\u001b[22m\u001b[0m\u001b[1mr\u001b[22m\u001b[0m\u001b[1mt\u001b[22mperm! \u001b[0m\u001b[1ms\u001b[22m\u001b[0m\u001b[1mo\u001b[22m\u001b[0m\u001b[1mr\u001b[22m\u001b[0m\u001b[1mt\u001b[22mslices in\u001b[0m\u001b[1ms\u001b[22m\u001b[0m\u001b[1mo\u001b[22m\u001b[0m\u001b[1mr\u001b[22m\u001b[0m\u001b[1mt\u001b[22med C\u001b[0m\u001b[1ms\u001b[22mh\u001b[0m\u001b[1mo\u001b[22m\u001b[0m\u001b[1mr\u001b[22m\u001b[0m\u001b[1mt\u001b[22m i\u001b[0m\u001b[1ms\u001b[22ms\u001b[0m\u001b[1mo\u001b[22m\u001b[0m\u001b[1mr\u001b[22m\u001b[0m\u001b[1mt\u001b[22med\n",
      "\n"
     ]
    },
    {
     "data": {
      "text/latex": [
       "\\begin{verbatim}\n",
       "sort(v; alg::Algorithm=defalg(v), lt=isless, by=identity, rev::Bool=false, order::Ordering=Forward)\n",
       "\\end{verbatim}\n",
       "Variant of \\href{@ref}{\\texttt{sort!}} that returns a sorted copy of \\texttt{v} leaving \\texttt{v} itself unmodified.\n",
       "\n",
       "\\section{Examples}\n",
       "\\begin{verbatim}\n",
       "julia> v = [3, 1, 2];\n",
       "\n",
       "julia> sort(v)\n",
       "3-element Vector{Int64}:\n",
       " 1\n",
       " 2\n",
       " 3\n",
       "\n",
       "julia> v\n",
       "3-element Vector{Int64}:\n",
       " 3\n",
       " 1\n",
       " 2\n",
       "\\end{verbatim}\n",
       "\\rule{\\textwidth}{1pt}\n",
       "\\begin{verbatim}\n",
       "sort(A; dims::Integer, alg::Algorithm=DEFAULT_UNSTABLE, lt=isless, by=identity, rev::Bool=false, order::Ordering=Forward)\n",
       "\\end{verbatim}\n",
       "Sort a multidimensional array \\texttt{A} along the given dimension. See \\href{@ref}{\\texttt{sort!}} for a description of possible keyword arguments.\n",
       "\n",
       "To sort slices of an array, refer to \\href{@ref}{\\texttt{sortslices}}.\n",
       "\n",
       "\\section{Examples}\n",
       "\\begin{verbatim}\n",
       "julia> A = [4 3; 1 2]\n",
       "2×2 Matrix{Int64}:\n",
       " 4  3\n",
       " 1  2\n",
       "\n",
       "julia> sort(A, dims = 1)\n",
       "2×2 Matrix{Int64}:\n",
       " 1  2\n",
       " 4  3\n",
       "\n",
       "julia> sort(A, dims = 2)\n",
       "2×2 Matrix{Int64}:\n",
       " 3  4\n",
       " 1  2\n",
       "\\end{verbatim}\n"
      ],
      "text/markdown": [
       "```\n",
       "sort(v; alg::Algorithm=defalg(v), lt=isless, by=identity, rev::Bool=false, order::Ordering=Forward)\n",
       "```\n",
       "\n",
       "Variant of [`sort!`](@ref) that returns a sorted copy of `v` leaving `v` itself unmodified.\n",
       "\n",
       "# Examples\n",
       "\n",
       "```jldoctest\n",
       "julia> v = [3, 1, 2];\n",
       "\n",
       "julia> sort(v)\n",
       "3-element Vector{Int64}:\n",
       " 1\n",
       " 2\n",
       " 3\n",
       "\n",
       "julia> v\n",
       "3-element Vector{Int64}:\n",
       " 3\n",
       " 1\n",
       " 2\n",
       "```\n",
       "\n",
       "---\n",
       "\n",
       "```\n",
       "sort(A; dims::Integer, alg::Algorithm=DEFAULT_UNSTABLE, lt=isless, by=identity, rev::Bool=false, order::Ordering=Forward)\n",
       "```\n",
       "\n",
       "Sort a multidimensional array `A` along the given dimension. See [`sort!`](@ref) for a description of possible keyword arguments.\n",
       "\n",
       "To sort slices of an array, refer to [`sortslices`](@ref).\n",
       "\n",
       "# Examples\n",
       "\n",
       "```jldoctest\n",
       "julia> A = [4 3; 1 2]\n",
       "2×2 Matrix{Int64}:\n",
       " 4  3\n",
       " 1  2\n",
       "\n",
       "julia> sort(A, dims = 1)\n",
       "2×2 Matrix{Int64}:\n",
       " 1  2\n",
       " 4  3\n",
       "\n",
       "julia> sort(A, dims = 2)\n",
       "2×2 Matrix{Int64}:\n",
       " 3  4\n",
       " 1  2\n",
       "```\n"
      ],
      "text/plain": [
       "\u001b[36m  sort(v; alg::Algorithm=defalg(v), lt=isless, by=identity, rev::Bool=false, order::Ordering=Forward)\u001b[39m\n",
       "\n",
       "  Variant of \u001b[36msort!\u001b[39m that returns a sorted copy of \u001b[36mv\u001b[39m leaving \u001b[36mv\u001b[39m itself\n",
       "  unmodified.\n",
       "\n",
       "\u001b[1m  Examples\u001b[22m\n",
       "\u001b[1m  ≡≡≡≡≡≡≡≡≡≡\u001b[22m\n",
       "\n",
       "\u001b[36m  julia> v = [3, 1, 2];\u001b[39m\n",
       "\u001b[36m  \u001b[39m\n",
       "\u001b[36m  julia> sort(v)\u001b[39m\n",
       "\u001b[36m  3-element Vector{Int64}:\u001b[39m\n",
       "\u001b[36m   1\u001b[39m\n",
       "\u001b[36m   2\u001b[39m\n",
       "\u001b[36m   3\u001b[39m\n",
       "\u001b[36m  \u001b[39m\n",
       "\u001b[36m  julia> v\u001b[39m\n",
       "\u001b[36m  3-element Vector{Int64}:\u001b[39m\n",
       "\u001b[36m   3\u001b[39m\n",
       "\u001b[36m   1\u001b[39m\n",
       "\u001b[36m   2\u001b[39m\n",
       "\n",
       "  ────────────────────────────────────────────────────────────────────────────\n",
       "\n",
       "\u001b[36m  sort(A; dims::Integer, alg::Algorithm=DEFAULT_UNSTABLE, lt=isless, by=identity, rev::Bool=false, order::Ordering=Forward)\u001b[39m\n",
       "\n",
       "  Sort a multidimensional array \u001b[36mA\u001b[39m along the given dimension. See \u001b[36msort!\u001b[39m for a\n",
       "  description of possible keyword arguments.\n",
       "\n",
       "  To sort slices of an array, refer to \u001b[36msortslices\u001b[39m.\n",
       "\n",
       "\u001b[1m  Examples\u001b[22m\n",
       "\u001b[1m  ≡≡≡≡≡≡≡≡≡≡\u001b[22m\n",
       "\n",
       "\u001b[36m  julia> A = [4 3; 1 2]\u001b[39m\n",
       "\u001b[36m  2×2 Matrix{Int64}:\u001b[39m\n",
       "\u001b[36m   4  3\u001b[39m\n",
       "\u001b[36m   1  2\u001b[39m\n",
       "\u001b[36m  \u001b[39m\n",
       "\u001b[36m  julia> sort(A, dims = 1)\u001b[39m\n",
       "\u001b[36m  2×2 Matrix{Int64}:\u001b[39m\n",
       "\u001b[36m   1  2\u001b[39m\n",
       "\u001b[36m   4  3\u001b[39m\n",
       "\u001b[36m  \u001b[39m\n",
       "\u001b[36m  julia> sort(A, dims = 2)\u001b[39m\n",
       "\u001b[36m  2×2 Matrix{Int64}:\u001b[39m\n",
       "\u001b[36m   3  4\u001b[39m\n",
       "\u001b[36m   1  2\u001b[39m"
      ]
     },
     "execution_count": 12,
     "metadata": {},
     "output_type": "execute_result"
    }
   ],
   "source": [
    "?sort"
   ]
  },
  {
   "cell_type": "code",
   "execution_count": 13,
   "id": "9c97d494",
   "metadata": {},
   "outputs": [
    {
     "data": {
      "text/plain": [
       "815915283247897734345611269596115894272000000000"
      ]
     },
     "execution_count": 13,
     "metadata": {},
     "output_type": "execute_result"
    }
   ],
   "source": [
    "factorial(big(40))"
   ]
  },
  {
   "cell_type": "code",
   "execution_count": 15,
   "id": "2ac4901f",
   "metadata": {},
   "outputs": [
    {
     "data": {
      "text/plain": [
       "-163786086074113512846170655452924215296"
      ]
     },
     "execution_count": 15,
     "metadata": {},
     "output_type": "execute_result"
    }
   ],
   "source": [
    "fact2(Int128(40))"
   ]
  },
  {
   "cell_type": "markdown",
   "id": "7d779a24",
   "metadata": {},
   "source": [
    "fact2(5) -> 5 * fact(4)\n",
    "              * 3\n",
    "                  *2\n",
    "                      *1\n",
    "# Clases\n",
    "\n",
    "Tipos base\n",
    "* primitivos\n",
    "* * Enteros \n",
    "  * Flotantes\n",
    "  * caracter\n",
    "* Compuestos\n",
    "* * Vectores\n",
    "  * Matrices\n",
    "  * Diccionarios\n",
    "  * Tuplas\n",
    "  \n",
    "Tipos de datos definidos por el usuario\n",
    "* Compuestos, heterogeneos\n",
    "* * Heterorgeneos: tipos de datos primitivos\n",
    "\n",
    "Persona \n",
    "nombre -> cadena\n",
    "edad -> natural\n",
    "identificador -> cadena\n",
    "\n",
    "struct -> Lenguaje C\n",
    "Fortran 90/95 -> datatype\n",
    "struct -> Julia\n",
    "\n",
    "`class`\n",
    "Lenguajes como C++, Java, C#, Python\n",
    "\n",
    "clase:\n",
    "    * características: atributos\n",
    "    * comportamientos: métodos\n",
    "\n",
    "Metodos: constructor, destructor, getter, setter, display, cálculo\n",
    "\n",
    "Pilares de la programación orientada a objetos:\n",
    "\n",
    "* Abstraccción\n",
    "* Encapsulamiento\n",
    "* Herencia\n",
    "* Polomorfismo"
   ]
  },
  {
   "cell_type": "code",
   "execution_count": 18,
   "id": "d88ec9bb",
   "metadata": {},
   "outputs": [
    {
     "data": {
      "text/plain": [
       "Cosa(\"chunchita\")"
      ]
     },
     "execution_count": 18,
     "metadata": {},
     "output_type": "execute_result"
    }
   ],
   "source": [
    "struct Cosa\n",
    "    nombre::String\n",
    "end\n",
    "\n",
    "\n",
    "chunche = Cosa(\"chunchita\")\n",
    "#nombreObjeto = cosa(\"nombre\", dato_numérico)"
   ]
  },
  {
   "cell_type": "code",
   "execution_count": 30,
   "id": "c59a2d5a",
   "metadata": {},
   "outputs": [
    {
     "name": "stdout",
     "output_type": "stream",
     "text": [
      "Alumno(\"José Perez\", 240, \"899808-12\")\n",
      "Nombre: José Perez\n",
      "Avance de créditos: 240\n",
      "Número de cuenta: 899808-12\n",
      "-------------\n",
      "Nombre: Dorotea Hernández\n",
      "Cursos impartidos: 5\n",
      "Número de trabajador: 89123478-1-13-4\n"
     ]
    }
   ],
   "source": [
    "struct Alumno\n",
    "    nombre::String\n",
    "    avance_creditos::Int16\n",
    "    num_cta::String\n",
    "end\n",
    "\n",
    "struct Profesor\n",
    "    nombre::String\n",
    "    cursos_impartidos::UInt16\n",
    "    num_trabajador::String\n",
    "end\n",
    "\n",
    "\n",
    "\n",
    "function muestraDatos(unalumno)\n",
    "    println(unalumno.nombre)\n",
    "end\n",
    "\n",
    "function muestraDatosAlumno(unalumno::Alumno)\n",
    "    println(\"Nombre: $(unalumno.nombre)\")\n",
    "    println(\"Avance de créditos: $(unalumno.avance_creditos)\")\n",
    "    println(\"Número de cuenta: $(unalumno.num_cta)\")\n",
    "end\n",
    "\n",
    "\n",
    "function muestraDatosProfesor(un_profesor::Profesor)\n",
    "    println(\"Nombre: $(un_profesor.nombre)\")\n",
    "    println(\"Cursos impartidos: $(un_profesor.cursos_impartidos)\")\n",
    "    println(\"Número de trabajador: $(un_profesor.num_trabajador)\")\n",
    "end\n",
    "\n",
    "\n",
    "pepe=Alumno(\"José Perez\",240,\"899808-12\")\n",
    "\n",
    "dora=Profesor(\"Dorotea Hernández\", 5, \"89123478-1-13-4\")\n",
    "println(pepe)\n",
    "\n",
    "muestraDatosAlumno(pepe)\n",
    "println(\"-------------\")\n",
    "muestraDatosProfesor(dora)\n"
   ]
  },
  {
   "cell_type": "code",
   "execution_count": 21,
   "id": "b4befdb5",
   "metadata": {},
   "outputs": [
    {
     "name": "stdout",
     "output_type": "stream",
     "text": [
      "José Perez\n"
     ]
    }
   ],
   "source": [
    "println(pepe.nombre)"
   ]
  },
  {
   "cell_type": "code",
   "execution_count": 33,
   "id": "38401bcd",
   "metadata": {},
   "outputs": [
    {
     "name": "stdout",
     "output_type": "stream",
     "text": [
      "pepe2\n",
      "pepe2\n",
      "Nombre: Otro nombre\n",
      "Avance de créditos: 240\n",
      "Número de cuenta: 899808-12\n"
     ]
    }
   ],
   "source": [
    "mutable struct AlumnoTmp\n",
    "    nombre::String\n",
    "    avance_creditos::Int16\n",
    "    num_cta::String\n",
    "end\n",
    "pepe2=AlumnoTmp(\"José Perez\",240,\"899808-12\")\n",
    "println(\"pepe2\")\n",
    "\n",
    "function muestraDatosAlumno(unalumno::AlumnoTmp)\n",
    "    println(\"Nombre: $(unalumno.nombre)\")\n",
    "    println(\"Avance de créditos: $(unalumno.avance_creditos)\")\n",
    "    println(\"Número de cuenta: $(unalumno.num_cta)\")\n",
    "end\n",
    "\n",
    "\n",
    "pepe2.nombre=\"Otro nombre\"\n",
    "println(\"pepe2\")\n",
    "muestraDatosAlumno(pepe2)"
   ]
  },
  {
   "cell_type": "code",
   "execution_count": 34,
   "id": "6eb351e5",
   "metadata": {},
   "outputs": [
    {
     "data": {
      "text/plain": [
       "\"José Perez\""
      ]
     },
     "execution_count": 34,
     "metadata": {},
     "output_type": "execute_result"
    }
   ],
   "source": [
    "function get_nombre(un_alumno::Alumno)\n",
    "    return un_alumno.nombre\n",
    "end\n",
    "\n",
    "function get_numCta(un_alumno::Alumno)\n",
    "    return un_alumno.num_cta\n",
    "end\n",
    "\n",
    "num_alumno_uno = get_nombre(pepe)"
   ]
  },
  {
   "cell_type": "code",
   "execution_count": 35,
   "id": "1e5b7e53",
   "metadata": {},
   "outputs": [
    {
     "name": "stdout",
     "output_type": "stream",
     "text": [
      "Nombre: José Pérez\n",
      "Avance de créditos: 240\n",
      "Número de cuenta: 899808-12\n"
     ]
    }
   ],
   "source": [
    "function set_nombre(un_alumno::AlumnoTmp,nombre_nuevo)\n",
    "    return un_alumno.nombre=nombre_nuevo\n",
    "end\n",
    "\n",
    "set_nombre(pepe2, \"José Pérez\")\n",
    "muestraDatosAlumno(pepe2)"
   ]
  },
  {
   "cell_type": "code",
   "execution_count": 36,
   "id": "3572ebf4",
   "metadata": {},
   "outputs": [
    {
     "data": {
      "text/plain": [
       "Escuela(Alumno(\"uno\", 23, \"123\"), Profesor(\"dos\", 0x0017, \"123\"))"
      ]
     },
     "execution_count": 36,
     "metadata": {},
     "output_type": "execute_result"
    }
   ],
   "source": [
    "struct Escuela\n",
    "    alumnos::Alumno\n",
    "    profesores::Profesor\n",
    "end\n",
    "\n",
    "unaEscuela=Escuela(pepe,dora)\n",
    "otraEscuela=Escuela(Alumno(\"uno\", 23, \"123\"), Profesor(\"dos\", 23, \"123\"))"
   ]
  },
  {
   "cell_type": "code",
   "execution_count": 37,
   "id": "78154e74",
   "metadata": {},
   "outputs": [
    {
     "data": {
      "text/plain": [
       "Escuela(Alumno(\"José Perez\", 240, \"899808-12\"), Profesor(\"Dorotea Hernández\", 0x0005, \"89123478-1-13-4\"))"
      ]
     },
     "execution_count": 37,
     "metadata": {},
     "output_type": "execute_result"
    }
   ],
   "source": [
    "unaEscuela"
   ]
  },
  {
   "cell_type": "markdown",
   "id": "c5be5ce9",
   "metadata": {},
   "source": [
    "# Introducción a Julia\n",
    "\n",
    "## Objetos, estructuras y tipos de datos parametrizados\n",
    "\n",
    "La filosofía del paradigma de progamación orientada a objetos consiste en *encapsular* datos (variables) y acciones (funciones) en una sola estructura de datos, esto intenta disminuir la complejidad del software por medio de la abstracción.\n",
    "\n",
    "## Objetos\n",
    "\n",
    "Un objeto representa en una sola entidad un conjunto de características y funcionalidades. Una de las principales acciones de los objetos consiste en que tengan la facultad de interactuar con objetos de la misma clase por medio de de sus propiedades y métodos.\n",
    "\n",
    "## Clase\n",
    "\n",
    "Para implementar un objeto es necesario definir una clase de objeto que contendrá una función inicial de invocación automática, el constructor, variables y funciones para que accione el objeto.\n"
   ]
  },
  {
   "cell_type": "code",
   "execution_count": 1,
   "id": "9998c701",
   "metadata": {},
   "outputs": [
    {
     "name": "stdout",
     "output_type": "stream",
     "text": [
      "3/4\n"
     ]
    }
   ],
   "source": [
    "struct Fraccion\n",
    "    num::Int\n",
    "    den::Int\n",
    "end\n",
    "\n",
    "function mostrar(f::Fraccion)\n",
    "    println(\"$(f.num)/$(f.den)\")\n",
    "end\n",
    "\n",
    "a = Fraccion(3, 4)   # construye una variable de tipo Fraccion\n",
    "mostrar(a)    # invoca la función mostrar con el objeto a como argumento"
   ]
  },
  {
   "cell_type": "markdown",
   "id": "446fa309",
   "metadata": {},
   "source": [
    "## Tipos de datos en Julia\n",
    "Sin embargo, el manejo de objetos no es del todo eficiente en términos de velocidad de ejecución, Julia privilegia la eficiencia sin sacrificar la abstracción. En Julia es posible crear **estructuras de datos definidas por el usuario** que empaquetan variables y de manera separada se diseñan métodos que operan sobe estas estructuras por medio del **despacho múltiple**.\n",
    "\n",
    "## Definición del tipo de dato Vector2D\n",
    "\n",
    "Es muy común la necesidad de cierta forma de comportamiento que no es capturada por los tipos de datos básicos (*built-in types*), por tanto es necesario crear un nuevo tipo de dato con ciertas funacionalidades.\n",
    "\n",
    "Un tipo de dato definido por el usuario (composite types) es una colección de datos que está fundamentado en los tipos de datos básicos (`Int, Float64, ...`  ) para los cuales está condificada su definición en Julia.\n",
    "\n",
    "estos tipos no tienen sus propios métodos (funciones internas del tipo). Los métodos son definidos de forma separada y están caracterizados por todos y cada uno de los tipos de sus argumentos, esto es conocido como *despacho múltiple* (multiple dispatch). Nos referiremos a despacho como el proceso de elegir la \"versión\" adecuada para que ejecute una función.\n",
    "\n",
    "Vamos a definir el tipo **Vector2D**\n",
    "\n",
    "Utilizamos `struct` para empaquetar en una estrucutra variables:"
   ]
  },
  {
   "cell_type": "code",
   "execution_count": 3,
   "id": "b55e5487",
   "metadata": {},
   "outputs": [],
   "source": [
    "struct Vector2D\n",
    "    x\n",
    "    y\n",
    "end"
   ]
  },
  {
   "cell_type": "markdown",
   "id": "8343aca6",
   "metadata": {},
   "source": [
    "`struct` define por defecto un tipo de dato inmutable.\n",
    "\n",
    "Una instancia de este tipo de dato no puede ser modificada después de su construcción. En cambio, usar un mutable struct declara un tipo cuyas instancias pueden ser modificadas. Tipos inmutables evitan manipular individualmente los elementos del objeto, tipos mutables permiten manipulaciones.\n",
    "\n",
    "Los datos almacenados en objetos inmutables están colocados consecutivamente en memoria -en lugar de estar en una caja- por lo que no hay punteros al objeto, esto permite mayor velocidad de acceso al objeto; el objeto está almacenado en una forma empaquetada eficiente."
   ]
  },
  {
   "cell_type": "code",
   "execution_count": 4,
   "id": "fa8b0c7c",
   "metadata": {},
   "outputs": [
    {
     "data": {
      "text/plain": [
       "Vector2D(2, 4)"
      ]
     },
     "execution_count": 4,
     "metadata": {},
     "output_type": "execute_result"
    }
   ],
   "source": [
    "a = Vector2D(2,4)  # crea una varible del tipo struct"
   ]
  },
  {
   "cell_type": "code",
   "execution_count": 5,
   "id": "9bf6cc48",
   "metadata": {},
   "outputs": [
    {
     "data": {
      "text/plain": [
       "Vector2D(2.5, 5.5)"
      ]
     },
     "execution_count": 5,
     "metadata": {},
     "output_type": "execute_result"
    }
   ],
   "source": [
    "b = Vector2D(2.5, 5.5)\n"
   ]
  },
  {
   "cell_type": "code",
   "execution_count": 6,
   "id": "c95775e3",
   "metadata": {},
   "outputs": [
    {
     "data": {
      "text/plain": [
       "Vector2D(\"Hola\", \"Crayola\")"
      ]
     },
     "execution_count": 6,
     "metadata": {},
     "output_type": "execute_result"
    }
   ],
   "source": [
    "c = Vector2D(\"Hola\", \"Crayola\")\n"
   ]
  },
  {
   "cell_type": "code",
   "execution_count": 7,
   "id": "93ca877b",
   "metadata": {},
   "outputs": [
    {
     "data": {
      "text/plain": [
       "Vector2D"
      ]
     },
     "execution_count": 7,
     "metadata": {},
     "output_type": "execute_result"
    }
   ],
   "source": [
    "typeof(c)\n"
   ]
  },
  {
   "cell_type": "markdown",
   "id": "de468c45",
   "metadata": {},
   "source": [
    "Esta primera aproximación es funcional pero no se recomienda. La razón de peso, es que Julia tendrá que inferir en cada ejecución el tipo de dato de las variables de la estructura y esto se traducirá en un código lento.\n",
    "\n"
   ]
  },
  {
   "cell_type": "markdown",
   "id": "9a1edeb8",
   "metadata": {},
   "source": [
    "Redifiniremos `Vector2D` y especificaremos el tipo de dato de sus componentes\n",
    "\n"
   ]
  },
  {
   "cell_type": "markdown",
   "id": "856bfc8f",
   "metadata": {},
   "source": [
    "    Debido a que struct crea tipos de datos inmutables, será necesario reiniciar el kernel para redefinir la estructura"
   ]
  },
  {
   "cell_type": "code",
   "execution_count": 13,
   "id": "18b3ee0c",
   "metadata": {},
   "outputs": [
    {
     "ename": "LoadError",
     "evalue": "invalid redefinition of type Vector2D",
     "output_type": "error",
     "traceback": [
      "invalid redefinition of type Vector2D",
      "",
      "Stacktrace:",
      " [1] top-level scope",
      "   @ In[13]:1",
      " [2] eval",
      "   @ .\\boot.jl:373 [inlined]",
      " [3] include_string(mapexpr::typeof(REPL.softscope), mod::Module, code::String, filename::String)",
      "   @ Base .\\loading.jl:1196"
     ]
    }
   ],
   "source": [
    "struct Vector2D\n",
    "    x::Float64\n",
    "    y::Float64\n",
    "end"
   ]
  },
  {
   "cell_type": "code",
   "execution_count": 11,
   "id": "16696121",
   "metadata": {},
   "outputs": [
    {
     "data": {
      "text/plain": [
       "DataType"
      ]
     },
     "execution_count": 11,
     "metadata": {},
     "output_type": "execute_result"
    }
   ],
   "source": [
    "typeof(Vector2D)\n"
   ]
  },
  {
   "cell_type": "code",
   "execution_count": 12,
   "id": "688c84ba",
   "metadata": {},
   "outputs": [
    {
     "data": {
      "text/html": [
       "# 1 method for type constructor:<ul><li> Vector2D(x, y) in Main at In[3]:2</li> </ul>"
      ],
      "text/plain": [
       "# 1 method for type constructor:\n",
       "[1] Vector2D(x, y) in Main at In[3]:2"
      ]
     },
     "execution_count": 12,
     "metadata": {},
     "output_type": "execute_result"
    }
   ],
   "source": [
    "methods(Vector2D)"
   ]
  },
  {
   "cell_type": "code",
   "execution_count": 14,
   "id": "2010c629",
   "metadata": {},
   "outputs": [
    {
     "data": {
      "text/plain": [
       "Vector2D(3, 4)"
      ]
     },
     "execution_count": 14,
     "metadata": {},
     "output_type": "execute_result"
    }
   ],
   "source": [
    "v = Vector2D(3,4)\n"
   ]
  },
  {
   "cell_type": "code",
   "execution_count": 15,
   "id": "1ee118d7",
   "metadata": {},
   "outputs": [
    {
     "data": {
      "text/plain": [
       "Vector2D"
      ]
     },
     "execution_count": 15,
     "metadata": {},
     "output_type": "execute_result"
    }
   ],
   "source": [
    "typeof(v)\n"
   ]
  },
  {
   "cell_type": "code",
   "execution_count": 16,
   "id": "52f5b205",
   "metadata": {},
   "outputs": [
    {
     "data": {
      "text/plain": [
       "Vector2D(3.0, 2.0)"
      ]
     },
     "execution_count": 16,
     "metadata": {},
     "output_type": "execute_result"
    }
   ],
   "source": [
    "v1 = Vector2D(3., 2.)\n"
   ]
  },
  {
   "cell_type": "code",
   "execution_count": 17,
   "id": "4767b63f",
   "metadata": {},
   "outputs": [
    {
     "data": {
      "text/plain": [
       "Vector2D(3.0, 2)"
      ]
     },
     "execution_count": 17,
     "metadata": {},
     "output_type": "execute_result"
    }
   ],
   "source": [
    "v2 = Vector2D(3., 2)\n"
   ]
  },
  {
   "cell_type": "code",
   "execution_count": 18,
   "id": "e96ac108",
   "metadata": {},
   "outputs": [
    {
     "data": {
      "text/plain": [
       "Vector2D(3, 2.0)"
      ]
     },
     "execution_count": 18,
     "metadata": {},
     "output_type": "execute_result"
    }
   ],
   "source": [
    "v3 = Vector2D(3, 2.)\n"
   ]
  },
  {
   "cell_type": "code",
   "execution_count": 19,
   "id": "19c42ffd",
   "metadata": {},
   "outputs": [
    {
     "data": {
      "text/plain": [
       "Vector2D(3//4, 2//3)"
      ]
     },
     "execution_count": 19,
     "metadata": {},
     "output_type": "execute_result"
    }
   ],
   "source": [
    "v4 = Vector2D(3//4, 2//3)\n"
   ]
  },
  {
   "cell_type": "markdown",
   "id": "dfcd3439",
   "metadata": {},
   "source": [
    "Es posible obtener los campos de las instancias del tipo `Vector2D` escribiendo `instacia. + <TAB>` o bien por medio\n",
    "\n"
   ]
  },
  {
   "cell_type": "code",
   "execution_count": 20,
   "id": "413ef8bb",
   "metadata": {},
   "outputs": [
    {
     "data": {
      "text/plain": [
       "(:x, :y)"
      ]
     },
     "execution_count": 20,
     "metadata": {},
     "output_type": "execute_result"
    }
   ],
   "source": [
    "fieldnames(Vector2D)"
   ]
  },
  {
   "cell_type": "code",
   "execution_count": 21,
   "id": "07ecaa4c",
   "metadata": {},
   "outputs": [
    {
     "data": {
      "text/plain": [
       "3"
      ]
     },
     "execution_count": 21,
     "metadata": {},
     "output_type": "execute_result"
    }
   ],
   "source": [
    "v.x\n"
   ]
  },
  {
   "cell_type": "code",
   "execution_count": 23,
   "id": "e6bbe963",
   "metadata": {},
   "outputs": [
    {
     "data": {
      "text/plain": [
       "4"
      ]
     },
     "execution_count": 23,
     "metadata": {},
     "output_type": "execute_result"
    }
   ],
   "source": [
    "v.y"
   ]
  },
  {
   "cell_type": "markdown",
   "id": "3657b268",
   "metadata": {},
   "source": [
    "También podemos acceder al campo con cualquiera de los siguientes funciones:"
   ]
  },
  {
   "cell_type": "code",
   "execution_count": 25,
   "id": "4e604e9f",
   "metadata": {},
   "outputs": [
    {
     "data": {
      "text/plain": [
       "3"
      ]
     },
     "execution_count": 25,
     "metadata": {},
     "output_type": "execute_result"
    }
   ],
   "source": [
    "getfield(v, :x)   # por nombre"
   ]
  },
  {
   "cell_type": "code",
   "execution_count": 26,
   "id": "51aa1fc6",
   "metadata": {},
   "outputs": [
    {
     "data": {
      "text/plain": [
       "3"
      ]
     },
     "execution_count": 26,
     "metadata": {},
     "output_type": "execute_result"
    }
   ],
   "source": [
    "getfield(v, 1)   #por orden numérico"
   ]
  },
  {
   "cell_type": "markdown",
   "id": "60501c62",
   "metadata": {},
   "source": [
    "¿Qué pasa si deseamos sumar vectores de tipo Vector2D?\n",
    "\n"
   ]
  },
  {
   "cell_type": "code",
   "execution_count": 27,
   "id": "d5722ce2",
   "metadata": {},
   "outputs": [
    {
     "ename": "LoadError",
     "evalue": "MethodError: no method matching +(::Vector2D, ::Vector2D)\n\u001b[0mClosest candidates are:\n\u001b[0m  +(::Any, ::Any, \u001b[91m::Any\u001b[39m, \u001b[91m::Any...\u001b[39m) at C:\\ProgramData\\Julia-1.7.2\\share\\julia\\base\\operators.jl:655",
     "output_type": "error",
     "traceback": [
      "MethodError: no method matching +(::Vector2D, ::Vector2D)\n\u001b[0mClosest candidates are:\n\u001b[0m  +(::Any, ::Any, \u001b[91m::Any\u001b[39m, \u001b[91m::Any...\u001b[39m) at C:\\ProgramData\\Julia-1.7.2\\share\\julia\\base\\operators.jl:655",
      "",
      "Stacktrace:",
      " [1] top-level scope",
      "   @ In[27]:1",
      " [2] eval",
      "   @ .\\boot.jl:373 [inlined]",
      " [3] include_string(mapexpr::typeof(REPL.softscope), mod::Module, code::String, filename::String)",
      "   @ Base .\\loading.jl:1196"
     ]
    }
   ],
   "source": [
    "v1 + v2\n"
   ]
  },
  {
   "cell_type": "markdown",
   "id": "d08ceca3",
   "metadata": {},
   "source": [
    "Julia no puede operar dos vectores de tipo `Vector2D` con el operador +, por lo que vamos a tratar de redefinir este operador para que funcione. La definición de un método que ofrezca funcionalidades a variables de un tipo definido por el usuario se realiza de manera equivalente a la definición de una función genérica.\n",
    "\n"
   ]
  },
  {
   "cell_type": "code",
   "execution_count": 28,
   "id": "a03f8e20",
   "metadata": {
    "collapsed": true
   },
   "outputs": [
    {
     "data": {
      "text/html": [
       "# 208 methods for generic function <b>+</b>:<ul><li> +(x::<b>T</b>, y::<b>T</b>)<i> where T<:Union{Int128, Int16, Int32, Int64, Int8, UInt128, UInt16, UInt32, UInt64, UInt8}</i> in Base at <a href=\"https://github.com/JuliaLang/julia/tree/bf534986350a991e4a1b29126de0342ffd76205e/base/int.jl#L87\" target=\"_blank\">int.jl:87</a></li> <li> +(c::<b>Union{UInt16, UInt32, UInt8}</b>, x::<b>BigInt</b>) in Base.GMP at <a href=\"https://github.com/JuliaLang/julia/tree/bf534986350a991e4a1b29126de0342ffd76205e/base/gmp.jl#L529\" target=\"_blank\">gmp.jl:529</a></li> <li> +(c::<b>Union{Int16, Int32, Int8}</b>, x::<b>BigInt</b>) in Base.GMP at <a href=\"https://github.com/JuliaLang/julia/tree/bf534986350a991e4a1b29126de0342ffd76205e/base/gmp.jl#L535\" target=\"_blank\">gmp.jl:535</a></li> <li> +(c::<b>Union{UInt16, UInt32, UInt8}</b>, x::<b>BigFloat</b>) in Base.MPFR at <a href=\"https://github.com/JuliaLang/julia/tree/bf534986350a991e4a1b29126de0342ffd76205e/base/mpfr.jl#L390\" target=\"_blank\">mpfr.jl:390</a></li> <li> +(c::<b>Union{Int16, Int32, Int8}</b>, x::<b>BigFloat</b>) in Base.MPFR at <a href=\"https://github.com/JuliaLang/julia/tree/bf534986350a991e4a1b29126de0342ffd76205e/base/mpfr.jl#L398\" target=\"_blank\">mpfr.jl:398</a></li> <li> +(c::<b>Union{Float16, Float32, Float64}</b>, x::<b>BigFloat</b>) in Base.MPFR at <a href=\"https://github.com/JuliaLang/julia/tree/bf534986350a991e4a1b29126de0342ffd76205e/base/mpfr.jl#L406\" target=\"_blank\">mpfr.jl:406</a></li> <li> +(x::<b>Union{Dates.CompoundPeriod, Dates.Period}</b>) in Dates at <a href=\"file://C:/buildbot/worker/package_win64/build/usr/share/julia/stdlib/v1.7/Dates/src/periods.jl\" target=\"_blank\">C:\\ProgramData\\Julia-1.7.2\\share\\julia\\stdlib\\v1.7\\Dates\\src\\periods.jl:372</a></li> <li> +(x::<b>Rational</b>, y::<b>Integer</b>) in Base at <a href=\"https://github.com/JuliaLang/julia/tree/bf534986350a991e4a1b29126de0342ffd76205e/base/rational.jl#L311\" target=\"_blank\">rational.jl:311</a></li> <li> +(A::<b>LinearAlgebra.UpperTriangular</b>, B::<b>LinearAlgebra.UpperTriangular</b>) in LinearAlgebra at <a href=\"file://C:/buildbot/worker/package_win64/build/usr/share/julia/stdlib/v1.7/LinearAlgebra/src/triangular.jl\" target=\"_blank\">C:\\ProgramData\\Julia-1.7.2\\share\\julia\\stdlib\\v1.7\\LinearAlgebra\\src\\triangular.jl:636</a></li> <li> +(A::<b>LinearAlgebra.UpperTriangular</b>, B::<b>LinearAlgebra.UnitUpperTriangular</b>) in LinearAlgebra at <a href=\"file://C:/buildbot/worker/package_win64/build/usr/share/julia/stdlib/v1.7/LinearAlgebra/src/triangular.jl\" target=\"_blank\">C:\\ProgramData\\Julia-1.7.2\\share\\julia\\stdlib\\v1.7\\LinearAlgebra\\src\\triangular.jl:638</a></li> <li> +(x::<b>LinearAlgebra.UpperTriangular</b>, H::<b>LinearAlgebra.UpperHessenberg</b>) in LinearAlgebra at <a href=\"file://C:/buildbot/worker/package_win64/build/usr/share/julia/stdlib/v1.7/LinearAlgebra/src/hessenberg.jl\" target=\"_blank\">C:\\ProgramData\\Julia-1.7.2\\share\\julia\\stdlib\\v1.7\\LinearAlgebra\\src\\hessenberg.jl:107</a></li> <li> +(A::<b>LinearAlgebra.UpperTriangular</b>, B::<b>LinearAlgebra.Bidiagonal</b>) in LinearAlgebra at <a href=\"file://C:/buildbot/worker/package_win64/build/usr/share/julia/stdlib/v1.7/LinearAlgebra/src/special.jl\" target=\"_blank\">C:\\ProgramData\\Julia-1.7.2\\share\\julia\\stdlib\\v1.7\\LinearAlgebra\\src\\special.jl:86</a></li> <li> +(Da::<b>LinearAlgebra.Diagonal</b>, Db::<b>LinearAlgebra.Diagonal</b>) in LinearAlgebra at <a href=\"file://C:/buildbot/worker/package_win64/build/usr/share/julia/stdlib/v1.7/LinearAlgebra/src/diagonal.jl\" target=\"_blank\">C:\\ProgramData\\Julia-1.7.2\\share\\julia\\stdlib\\v1.7\\LinearAlgebra\\src\\diagonal.jl:172</a></li> <li> +(D::<b>LinearAlgebra.Diagonal</b>, S::<b>LinearAlgebra.Symmetric</b>) in LinearAlgebra at <a href=\"file://C:/buildbot/worker/package_win64/build/usr/share/julia/stdlib/v1.7/LinearAlgebra/src/diagonal.jl\" target=\"_blank\">C:\\ProgramData\\Julia-1.7.2\\share\\julia\\stdlib\\v1.7\\LinearAlgebra\\src\\diagonal.jl:176</a></li> <li> +(D::<b>LinearAlgebra.Diagonal{var\"#s859\", V} where {var\"#s859\"<:Real, V<:AbstractVector{var\"#s859\"}}</b>, H::<b>LinearAlgebra.Hermitian</b>) in LinearAlgebra at <a href=\"file://C:/buildbot/worker/package_win64/build/usr/share/julia/stdlib/v1.7/LinearAlgebra/src/diagonal.jl\" target=\"_blank\">C:\\ProgramData\\Julia-1.7.2\\share\\julia\\stdlib\\v1.7\\LinearAlgebra\\src\\diagonal.jl:182</a></li> <li> +(x::<b>LinearAlgebra.Diagonal</b>, H::<b>LinearAlgebra.UpperHessenberg</b>) in LinearAlgebra at <a href=\"file://C:/buildbot/worker/package_win64/build/usr/share/julia/stdlib/v1.7/LinearAlgebra/src/hessenberg.jl\" target=\"_blank\">C:\\ProgramData\\Julia-1.7.2\\share\\julia\\stdlib\\v1.7\\LinearAlgebra\\src\\hessenberg.jl:107</a></li> <li> +(A::<b>LinearAlgebra.Diagonal</b>, B::<b>LinearAlgebra.Bidiagonal</b>) in LinearAlgebra at <a href=\"file://C:/buildbot/worker/package_win64/build/usr/share/julia/stdlib/v1.7/LinearAlgebra/src/special.jl\" target=\"_blank\">C:\\ProgramData\\Julia-1.7.2\\share\\julia\\stdlib\\v1.7\\LinearAlgebra\\src\\special.jl:125</a></li> <li> +(A::<b>LinearAlgebra.Diagonal</b>, B::<b>LinearAlgebra.SymTridiagonal</b>) in LinearAlgebra at <a href=\"file://C:/buildbot/worker/package_win64/build/usr/share/julia/stdlib/v1.7/LinearAlgebra/src/special.jl\" target=\"_blank\">C:\\ProgramData\\Julia-1.7.2\\share\\julia\\stdlib\\v1.7\\LinearAlgebra\\src\\special.jl:135</a></li> <li> +(A::<b>LinearAlgebra.Diagonal</b>, B::<b>LinearAlgebra.Tridiagonal</b>) in LinearAlgebra at <a href=\"file://C:/buildbot/worker/package_win64/build/usr/share/julia/stdlib/v1.7/LinearAlgebra/src/special.jl\" target=\"_blank\">C:\\ProgramData\\Julia-1.7.2\\share\\julia\\stdlib\\v1.7\\LinearAlgebra\\src\\special.jl:163</a></li> <li> +(A::<b>LinearAlgebra.Diagonal{var\"#s859\", V} where {var\"#s859\"<:Number, V<:AbstractVector{var\"#s859\"}}</b>, B::<b>LinearAlgebra.UniformScaling</b>) in LinearAlgebra at <a href=\"file://C:/buildbot/worker/package_win64/build/usr/share/julia/stdlib/v1.7/LinearAlgebra/src/special.jl\" target=\"_blank\">C:\\ProgramData\\Julia-1.7.2\\share\\julia\\stdlib\\v1.7\\LinearAlgebra\\src\\special.jl:241</a></li> <li> +(A::<b>LinearAlgebra.Bidiagonal</b>, B::<b>LinearAlgebra.Bidiagonal</b>) in LinearAlgebra at <a href=\"file://C:/buildbot/worker/package_win64/build/usr/share/julia/stdlib/v1.7/LinearAlgebra/src/bidiag.jl\" target=\"_blank\">C:\\ProgramData\\Julia-1.7.2\\share\\julia\\stdlib\\v1.7\\LinearAlgebra\\src\\bidiag.jl:354</a></li> <li> +(x::<b>LinearAlgebra.Bidiagonal</b>, H::<b>LinearAlgebra.UpperHessenberg</b>) in LinearAlgebra at <a href=\"file://C:/buildbot/worker/package_win64/build/usr/share/julia/stdlib/v1.7/LinearAlgebra/src/hessenberg.jl\" target=\"_blank\">C:\\ProgramData\\Julia-1.7.2\\share\\julia\\stdlib\\v1.7\\LinearAlgebra\\src\\hessenberg.jl:107</a></li> <li> +(A::<b>LinearAlgebra.Bidiagonal</b>, B::<b>LinearAlgebra.UpperTriangular</b>) in LinearAlgebra at <a href=\"file://C:/buildbot/worker/package_win64/build/usr/share/julia/stdlib/v1.7/LinearAlgebra/src/special.jl\" target=\"_blank\">C:\\ProgramData\\Julia-1.7.2\\share\\julia\\stdlib\\v1.7\\LinearAlgebra\\src\\special.jl:94</a></li> <li> +(A::<b>LinearAlgebra.Bidiagonal</b>, B::<b>LinearAlgebra.UnitUpperTriangular</b>) in LinearAlgebra at <a href=\"file://C:/buildbot/worker/package_win64/build/usr/share/julia/stdlib/v1.7/LinearAlgebra/src/special.jl\" target=\"_blank\">C:\\ProgramData\\Julia-1.7.2\\share\\julia\\stdlib\\v1.7\\LinearAlgebra\\src\\special.jl:94</a></li> <li> +(A::<b>LinearAlgebra.Bidiagonal</b>, B::<b>LinearAlgebra.LowerTriangular</b>) in LinearAlgebra at <a href=\"file://C:/buildbot/worker/package_win64/build/usr/share/julia/stdlib/v1.7/LinearAlgebra/src/special.jl\" target=\"_blank\">C:\\ProgramData\\Julia-1.7.2\\share\\julia\\stdlib\\v1.7\\LinearAlgebra\\src\\special.jl:94</a></li> <li> +(A::<b>LinearAlgebra.Bidiagonal</b>, B::<b>LinearAlgebra.UnitLowerTriangular</b>) in LinearAlgebra at <a href=\"file://C:/buildbot/worker/package_win64/build/usr/share/julia/stdlib/v1.7/LinearAlgebra/src/special.jl\" target=\"_blank\">C:\\ProgramData\\Julia-1.7.2\\share\\julia\\stdlib\\v1.7\\LinearAlgebra\\src\\special.jl:94</a></li> <li> +(A::<b>LinearAlgebra.Bidiagonal</b>, B::<b>LinearAlgebra.Diagonal</b>) in LinearAlgebra at <a href=\"file://C:/buildbot/worker/package_win64/build/usr/share/julia/stdlib/v1.7/LinearAlgebra/src/special.jl\" target=\"_blank\">C:\\ProgramData\\Julia-1.7.2\\share\\julia\\stdlib\\v1.7\\LinearAlgebra\\src\\special.jl:115</a></li> <li> +(A::<b>LinearAlgebra.Bidiagonal</b>, B::<b>LinearAlgebra.Tridiagonal</b>) in LinearAlgebra at <a href=\"file://C:/buildbot/worker/package_win64/build/usr/share/julia/stdlib/v1.7/LinearAlgebra/src/special.jl\" target=\"_blank\">C:\\ProgramData\\Julia-1.7.2\\share\\julia\\stdlib\\v1.7\\LinearAlgebra\\src\\special.jl:183</a></li> <li> +(A::<b>LinearAlgebra.Bidiagonal</b>, B::<b>LinearAlgebra.SymTridiagonal</b>) in LinearAlgebra at <a href=\"file://C:/buildbot/worker/package_win64/build/usr/share/julia/stdlib/v1.7/LinearAlgebra/src/special.jl\" target=\"_blank\">C:\\ProgramData\\Julia-1.7.2\\share\\julia\\stdlib\\v1.7\\LinearAlgebra\\src\\special.jl:203</a></li> <li> +(A::<b>LinearAlgebra.Bidiagonal{var\"#s859\", V} where {var\"#s859\"<:Number, V<:AbstractVector{var\"#s859\"}}</b>, B::<b>LinearAlgebra.UniformScaling</b>) in LinearAlgebra at <a href=\"file://C:/buildbot/worker/package_win64/build/usr/share/julia/stdlib/v1.7/LinearAlgebra/src/special.jl\" target=\"_blank\">C:\\ProgramData\\Julia-1.7.2\\share\\julia\\stdlib\\v1.7\\LinearAlgebra\\src\\special.jl:236</a></li> <li> +(A::<b>LinearAlgebra.Symmetric</b>, B::<b>LinearAlgebra.Symmetric</b>) in LinearAlgebra at <a href=\"file://C:/buildbot/worker/package_win64/build/usr/share/julia/stdlib/v1.7/LinearAlgebra/src/symmetric.jl\" target=\"_blank\">C:\\ProgramData\\Julia-1.7.2\\share\\julia\\stdlib\\v1.7\\LinearAlgebra\\src\\symmetric.jl:469</a></li> <li> +(A::<b>LinearAlgebra.Symmetric</b>, B::<b>LinearAlgebra.SymTridiagonal</b>) in LinearAlgebra at <a href=\"file://C:/buildbot/worker/package_win64/build/usr/share/julia/stdlib/v1.7/LinearAlgebra/src/symmetric.jl\" target=\"_blank\">C:\\ProgramData\\Julia-1.7.2\\share\\julia\\stdlib\\v1.7\\LinearAlgebra\\src\\symmetric.jl:486</a></li> <li> +(S::<b>LinearAlgebra.Symmetric</b>, D::<b>LinearAlgebra.Diagonal</b>) in LinearAlgebra at <a href=\"file://C:/buildbot/worker/package_win64/build/usr/share/julia/stdlib/v1.7/LinearAlgebra/src/diagonal.jl\" target=\"_blank\">C:\\ProgramData\\Julia-1.7.2\\share\\julia\\stdlib\\v1.7\\LinearAlgebra\\src\\diagonal.jl:179</a></li> <li> +(A::<b>LinearAlgebra.Symmetric{<:Any, <:SparseArrays.AbstractSparseMatrix}</b>, B::<b>SparseArrays.AbstractSparseMatrix</b>) in SparseArrays at <a href=\"file://C:/buildbot/worker/package_win64/build/usr/share/julia/stdlib/v1.7/SparseArrays/src/linalg.jl\" target=\"_blank\">C:\\ProgramData\\Julia-1.7.2\\share\\julia\\stdlib\\v1.7\\SparseArrays\\src\\linalg.jl:15</a></li> <li> +(A::<b>LinearAlgebra.Symmetric</b>, B::<b>SparseArrays.AbstractSparseMatrix</b>) in SparseArrays at <a href=\"file://C:/buildbot/worker/package_win64/build/usr/share/julia/stdlib/v1.7/SparseArrays/src/linalg.jl\" target=\"_blank\">C:\\ProgramData\\Julia-1.7.2\\share\\julia\\stdlib\\v1.7\\SparseArrays\\src\\linalg.jl:18</a></li> <li> +(A::<b>LinearAlgebra.Symmetric{<:Real, <:SparseArrays.AbstractSparseMatrix}</b>, B::<b>LinearAlgebra.Hermitian{<:Any, <:SparseArrays.AbstractSparseMatrix}</b>) in SparseArrays at <a href=\"file://C:/buildbot/worker/package_win64/build/usr/share/julia/stdlib/v1.7/SparseArrays/src/linalg.jl\" target=\"_blank\">C:\\ProgramData\\Julia-1.7.2\\share\\julia\\stdlib\\v1.7\\SparseArrays\\src\\linalg.jl:25</a></li> <li> +(A::<b>LinearAlgebra.Symmetric{var\"#s858\", S} where {var\"#s858\"<:Real, S<:(AbstractMatrix{<:var\"#s858\"})}</b>, B::<b>LinearAlgebra.Hermitian</b>) in LinearAlgebra at <a href=\"file://C:/buildbot/worker/package_win64/build/usr/share/julia/stdlib/v1.7/LinearAlgebra/src/symmetric.jl\" target=\"_blank\">C:\\ProgramData\\Julia-1.7.2\\share\\julia\\stdlib\\v1.7\\LinearAlgebra\\src\\symmetric.jl:484</a></li> <li> +(A::<b>LinearAlgebra.Symmetric{<:Any, <:SparseArrays.AbstractSparseMatrix}</b>, B::<b>LinearAlgebra.Hermitian{<:Any, <:SparseArrays.AbstractSparseMatrix}</b>) in SparseArrays at <a href=\"file://C:/buildbot/worker/package_win64/build/usr/share/julia/stdlib/v1.7/SparseArrays/src/linalg.jl\" target=\"_blank\">C:\\ProgramData\\Julia-1.7.2\\share\\julia\\stdlib\\v1.7\\SparseArrays\\src\\linalg.jl:23</a></li> <li> +(A::<b>LinearAlgebra.SymTridiagonal</b>, B::<b>LinearAlgebra.SymTridiagonal</b>) in LinearAlgebra at <a href=\"file://C:/buildbot/worker/package_win64/build/usr/share/julia/stdlib/v1.7/LinearAlgebra/src/tridiag.jl\" target=\"_blank\">C:\\ProgramData\\Julia-1.7.2\\share\\julia\\stdlib\\v1.7\\LinearAlgebra\\src\\tridiag.jl:208</a></li> <li> +(A::<b>LinearAlgebra.SymTridiagonal</b>, B::<b>LinearAlgebra.Symmetric</b>) in LinearAlgebra at <a href=\"file://C:/buildbot/worker/package_win64/build/usr/share/julia/stdlib/v1.7/LinearAlgebra/src/symmetric.jl\" target=\"_blank\">C:\\ProgramData\\Julia-1.7.2\\share\\julia\\stdlib\\v1.7\\LinearAlgebra\\src\\symmetric.jl:485</a></li> <li> +(A::<b>LinearAlgebra.SymTridiagonal{var\"#s857\", V} where {var\"#s857\"<:Real, V<:AbstractVector{var\"#s857\"}}</b>, B::<b>LinearAlgebra.Hermitian</b>) in LinearAlgebra at <a href=\"file://C:/buildbot/worker/package_win64/build/usr/share/julia/stdlib/v1.7/LinearAlgebra/src/symmetric.jl\" target=\"_blank\">C:\\ProgramData\\Julia-1.7.2\\share\\julia\\stdlib\\v1.7\\LinearAlgebra\\src\\symmetric.jl:487</a></li> <li> +(x::<b>LinearAlgebra.SymTridiagonal</b>, H::<b>LinearAlgebra.UpperHessenberg</b>) in LinearAlgebra at <a href=\"file://C:/buildbot/worker/package_win64/build/usr/share/julia/stdlib/v1.7/LinearAlgebra/src/hessenberg.jl\" target=\"_blank\">C:\\ProgramData\\Julia-1.7.2\\share\\julia\\stdlib\\v1.7\\LinearAlgebra\\src\\hessenberg.jl:107</a></li> <li> +(A::<b>LinearAlgebra.SymTridiagonal</b>, B::<b>LinearAlgebra.Diagonal</b>) in LinearAlgebra at <a href=\"file://C:/buildbot/worker/package_win64/build/usr/share/julia/stdlib/v1.7/LinearAlgebra/src/special.jl\" target=\"_blank\">C:\\ProgramData\\Julia-1.7.2\\share\\julia\\stdlib\\v1.7\\LinearAlgebra\\src\\special.jl:145</a></li> <li> +(A::<b>LinearAlgebra.SymTridiagonal</b>, B::<b>LinearAlgebra.Tridiagonal</b>) in LinearAlgebra at <a href=\"file://C:/buildbot/worker/package_win64/build/usr/share/julia/stdlib/v1.7/LinearAlgebra/src/special.jl\" target=\"_blank\">C:\\ProgramData\\Julia-1.7.2\\share\\julia\\stdlib\\v1.7\\LinearAlgebra\\src\\special.jl:159</a></li> <li> +(A::<b>LinearAlgebra.SymTridiagonal</b>, B::<b>LinearAlgebra.Bidiagonal</b>) in LinearAlgebra at <a href=\"file://C:/buildbot/worker/package_win64/build/usr/share/julia/stdlib/v1.7/LinearAlgebra/src/special.jl\" target=\"_blank\">C:\\ProgramData\\Julia-1.7.2\\share\\julia\\stdlib\\v1.7\\LinearAlgebra\\src\\special.jl:213</a></li> <li> +(A::<b>LinearAlgebra.SymTridiagonal{var\"#s859\", V} where {var\"#s859\"<:Number, V<:AbstractVector{var\"#s859\"}}</b>, B::<b>LinearAlgebra.UniformScaling</b>) in LinearAlgebra at <a href=\"file://C:/buildbot/worker/package_win64/build/usr/share/julia/stdlib/v1.7/LinearAlgebra/src/special.jl\" target=\"_blank\">C:\\ProgramData\\Julia-1.7.2\\share\\julia\\stdlib\\v1.7\\LinearAlgebra\\src\\special.jl:231</a></li> <li> +(index1::<b>CartesianIndex{N}</b>, index2::<b>CartesianIndex{N}</b>)<i> where N</i> in Base.IteratorsMD at <a href=\"https://github.com/JuliaLang/julia/tree/bf534986350a991e4a1b29126de0342ffd76205e/base/multidimensional.jl#L114\" target=\"_blank\">multidimensional.jl:114</a></li> <li> +(A::<b>LinearAlgebra.Tridiagonal</b>, B::<b>LinearAlgebra.Tridiagonal</b>) in LinearAlgebra at <a href=\"file://C:/buildbot/worker/package_win64/build/usr/share/julia/stdlib/v1.7/LinearAlgebra/src/tridiag.jl\" target=\"_blank\">C:\\ProgramData\\Julia-1.7.2\\share\\julia\\stdlib\\v1.7\\LinearAlgebra\\src\\tridiag.jl:740</a></li> <li> +(x::<b>LinearAlgebra.Tridiagonal</b>, H::<b>LinearAlgebra.UpperHessenberg</b>) in LinearAlgebra at <a href=\"file://C:/buildbot/worker/package_win64/build/usr/share/julia/stdlib/v1.7/LinearAlgebra/src/hessenberg.jl\" target=\"_blank\">C:\\ProgramData\\Julia-1.7.2\\share\\julia\\stdlib\\v1.7\\LinearAlgebra\\src\\hessenberg.jl:107</a></li> <li> +(A::<b>LinearAlgebra.Tridiagonal</b>, B::<b>LinearAlgebra.SymTridiagonal</b>) in LinearAlgebra at <a href=\"file://C:/buildbot/worker/package_win64/build/usr/share/julia/stdlib/v1.7/LinearAlgebra/src/special.jl\" target=\"_blank\">C:\\ProgramData\\Julia-1.7.2\\share\\julia\\stdlib\\v1.7\\LinearAlgebra\\src\\special.jl:157</a></li> <li> +(A::<b>LinearAlgebra.Tridiagonal</b>, B::<b>LinearAlgebra.Diagonal</b>) in LinearAlgebra at <a href=\"file://C:/buildbot/worker/package_win64/build/usr/share/julia/stdlib/v1.7/LinearAlgebra/src/special.jl\" target=\"_blank\">C:\\ProgramData\\Julia-1.7.2\\share\\julia\\stdlib\\v1.7\\LinearAlgebra\\src\\special.jl:173</a></li> <li> +(A::<b>LinearAlgebra.Tridiagonal</b>, B::<b>LinearAlgebra.Bidiagonal</b>) in LinearAlgebra at <a href=\"file://C:/buildbot/worker/package_win64/build/usr/share/julia/stdlib/v1.7/LinearAlgebra/src/special.jl\" target=\"_blank\">C:\\ProgramData\\Julia-1.7.2\\share\\julia\\stdlib\\v1.7\\LinearAlgebra\\src\\special.jl:193</a></li> <li> +(A::<b>LinearAlgebra.Tridiagonal{var\"#s859\", V} where {var\"#s859\"<:Number, V<:AbstractVector{var\"#s859\"}}</b>, B::<b>LinearAlgebra.UniformScaling</b>) in LinearAlgebra at <a href=\"file://C:/buildbot/worker/package_win64/build/usr/share/julia/stdlib/v1.7/LinearAlgebra/src/special.jl\" target=\"_blank\">C:\\ProgramData\\Julia-1.7.2\\share\\julia\\stdlib\\v1.7\\LinearAlgebra\\src\\special.jl:226</a></li> <li> +(y::<b>Dates.TimeType</b>, x::<b>StridedArray{<:Union{Dates.CompoundPeriod, Dates.Period}}</b>) in Dates at <a href=\"file://C:/buildbot/worker/package_win64/build/usr/share/julia/stdlib/v1.7/Dates/src/deprecated.jl\" target=\"_blank\">C:\\ProgramData\\Julia-1.7.2\\share\\julia\\stdlib\\v1.7\\Dates\\src\\deprecated.jl:18</a></li> <li> +(A::<b>SparseArrays.AbstractSparseMatrix</b>, B::<b>LinearAlgebra.Hermitian{<:Any, <:SparseArrays.AbstractSparseMatrix}</b>) in SparseArrays at <a href=\"file://C:/buildbot/worker/package_win64/build/usr/share/julia/stdlib/v1.7/SparseArrays/src/linalg.jl\" target=\"_blank\">C:\\ProgramData\\Julia-1.7.2\\share\\julia\\stdlib\\v1.7\\SparseArrays\\src\\linalg.jl:14</a></li> <li> +(A::<b>SparseArrays.AbstractSparseMatrix</b>, B::<b>LinearAlgebra.Hermitian</b>) in SparseArrays at <a href=\"file://C:/buildbot/worker/package_win64/build/usr/share/julia/stdlib/v1.7/SparseArrays/src/linalg.jl\" target=\"_blank\">C:\\ProgramData\\Julia-1.7.2\\share\\julia\\stdlib\\v1.7\\SparseArrays\\src\\linalg.jl:17</a></li> <li> +(A::<b>SparseArrays.AbstractSparseMatrix</b>, B::<b>LinearAlgebra.Symmetric{<:Any, <:SparseArrays.AbstractSparseMatrix}</b>) in SparseArrays at <a href=\"file://C:/buildbot/worker/package_win64/build/usr/share/julia/stdlib/v1.7/SparseArrays/src/linalg.jl\" target=\"_blank\">C:\\ProgramData\\Julia-1.7.2\\share\\julia\\stdlib\\v1.7\\SparseArrays\\src\\linalg.jl:14</a></li> <li> +(A::<b>SparseArrays.AbstractSparseMatrix</b>, B::<b>LinearAlgebra.Symmetric</b>) in SparseArrays at <a href=\"file://C:/buildbot/worker/package_win64/build/usr/share/julia/stdlib/v1.7/SparseArrays/src/linalg.jl\" target=\"_blank\">C:\\ProgramData\\Julia-1.7.2\\share\\julia\\stdlib\\v1.7\\SparseArrays\\src\\linalg.jl:17</a></li> <li> +(A::<b>LinearAlgebra.LowerTriangular</b>, B::<b>LinearAlgebra.LowerTriangular</b>) in LinearAlgebra at <a href=\"file://C:/buildbot/worker/package_win64/build/usr/share/julia/stdlib/v1.7/LinearAlgebra/src/triangular.jl\" target=\"_blank\">C:\\ProgramData\\Julia-1.7.2\\share\\julia\\stdlib\\v1.7\\LinearAlgebra\\src\\triangular.jl:637</a></li> <li> +(A::<b>LinearAlgebra.LowerTriangular</b>, B::<b>LinearAlgebra.UnitLowerTriangular</b>) in LinearAlgebra at <a href=\"file://C:/buildbot/worker/package_win64/build/usr/share/julia/stdlib/v1.7/LinearAlgebra/src/triangular.jl\" target=\"_blank\">C:\\ProgramData\\Julia-1.7.2\\share\\julia\\stdlib\\v1.7\\LinearAlgebra\\src\\triangular.jl:639</a></li> <li> +(A::<b>LinearAlgebra.LowerTriangular</b>, B::<b>LinearAlgebra.Bidiagonal</b>) in LinearAlgebra at <a href=\"file://C:/buildbot/worker/package_win64/build/usr/share/julia/stdlib/v1.7/LinearAlgebra/src/special.jl\" target=\"_blank\">C:\\ProgramData\\Julia-1.7.2\\share\\julia\\stdlib\\v1.7\\LinearAlgebra\\src\\special.jl:86</a></li> <li> +(r1::<b>OrdinalRange</b>, r2::<b>OrdinalRange</b>) in Base at <a href=\"https://github.com/JuliaLang/julia/tree/bf534986350a991e4a1b29126de0342ffd76205e/base/range.jl#L1347\" target=\"_blank\">range.jl:1347</a></li> <li> +(A::<b>BitArray</b>, B::<b>BitArray</b>) in Base at <a href=\"https://github.com/JuliaLang/julia/tree/bf534986350a991e4a1b29126de0342ffd76205e/base/bitarray.jl#L1180\" target=\"_blank\">bitarray.jl:1180</a></li> <li> +(y::<b>AbstractFloat</b>, x::<b>Bool</b>) in Base at <a href=\"https://github.com/JuliaLang/julia/tree/bf534986350a991e4a1b29126de0342ffd76205e/base/bool.jl#L172\" target=\"_blank\">bool.jl:172</a></li> <li> +(x::<b>P</b>, y::<b>P</b>)<i> where P<:Dates.Period</i> in Dates at <a href=\"file://C:/buildbot/worker/package_win64/build/usr/share/julia/stdlib/v1.7/Dates/src/periods.jl\" target=\"_blank\">C:\\ProgramData\\Julia-1.7.2\\share\\julia\\stdlib\\v1.7\\Dates\\src\\periods.jl:79</a></li> <li> +(x::<b>Dates.Period</b>, y::<b>Dates.Period</b>) in Dates at <a href=\"file://C:/buildbot/worker/package_win64/build/usr/share/julia/stdlib/v1.7/Dates/src/periods.jl\" target=\"_blank\">C:\\ProgramData\\Julia-1.7.2\\share\\julia\\stdlib\\v1.7\\Dates\\src\\periods.jl:361</a></li> <li> +(y::<b>Dates.Period</b>, x::<b>Dates.CompoundPeriod</b>) in Dates at <a href=\"file://C:/buildbot/worker/package_win64/build/usr/share/julia/stdlib/v1.7/Dates/src/periods.jl\" target=\"_blank\">C:\\ProgramData\\Julia-1.7.2\\share\\julia\\stdlib\\v1.7\\Dates\\src\\periods.jl:363</a></li> <li> +(y::<b>Dates.Period</b>, x::<b>Dates.TimeType</b>) in Dates at <a href=\"file://C:/buildbot/worker/package_win64/build/usr/share/julia/stdlib/v1.7/Dates/src/arithmetic.jl\" target=\"_blank\">C:\\ProgramData\\Julia-1.7.2\\share\\julia\\stdlib\\v1.7\\Dates\\src\\arithmetic.jl:85</a></li> <li> +(x::<b>Dates.Period</b>, r::<b>AbstractRange{<:Dates.TimeType}</b>) in Dates at <a href=\"file://C:/buildbot/worker/package_win64/build/usr/share/julia/stdlib/v1.7/Dates/src/ranges.jl\" target=\"_blank\">C:\\ProgramData\\Julia-1.7.2\\share\\julia\\stdlib\\v1.7\\Dates\\src\\ranges.jl:62</a></li> <li> +(y::<b>Union{Dates.CompoundPeriod, Dates.Period}</b>, x::<b>AbstractArray{<:Dates.TimeType}</b>) in Dates at <a href=\"file://C:/buildbot/worker/package_win64/build/usr/share/julia/stdlib/v1.7/Dates/src/deprecated.jl\" target=\"_blank\">C:\\ProgramData\\Julia-1.7.2\\share\\julia\\stdlib\\v1.7\\Dates\\src\\deprecated.jl:14</a></li> <li> +(z::<b>Complex</b>, w::<b>Complex</b>) in Base at <a href=\"https://github.com/JuliaLang/julia/tree/bf534986350a991e4a1b29126de0342ffd76205e/base/complex.jl#L288\" target=\"_blank\">complex.jl:288</a></li> <li> +(A::<b>SparseArrays.AbstractSparseMatrixCSC</b>, B::<b>SparseArrays.AbstractSparseMatrixCSC</b>) in SparseArrays at <a href=\"file://C:/buildbot/worker/package_win64/build/usr/share/julia/stdlib/v1.7/SparseArrays/src/sparsematrix.jl\" target=\"_blank\">C:\\ProgramData\\Julia-1.7.2\\share\\julia\\stdlib\\v1.7\\SparseArrays\\src\\sparsematrix.jl:1771</a></li> <li> +(x::<b>SparseArrays.AbstractSparseVector</b>, y::<b>SparseArrays.AbstractSparseVector</b>) in SparseArrays at <a href=\"file://C:/buildbot/worker/package_win64/build/usr/share/julia/stdlib/v1.7/SparseArrays/src/sparsevector.jl\" target=\"_blank\">C:\\ProgramData\\Julia-1.7.2\\share\\julia\\stdlib\\v1.7\\SparseArrays\\src\\sparsevector.jl:1355</a></li> <li> +(A::<b>SparseArrays.AbstractSparseMatrixCSC</b>, B::<b>Array</b>) in SparseArrays at <a href=\"file://C:/buildbot/worker/package_win64/build/usr/share/julia/stdlib/v1.7/SparseArrays/src/sparsematrix.jl\" target=\"_blank\">C:\\ProgramData\\Julia-1.7.2\\share\\julia\\stdlib\\v1.7\\SparseArrays\\src\\sparsematrix.jl:1774</a></li> <li> +(A::<b>SparseArrays.AbstractSparseMatrixCSC</b>, J::<b>LinearAlgebra.UniformScaling</b>) in SparseArrays at <a href=\"file://C:/buildbot/worker/package_win64/build/usr/share/julia/stdlib/v1.7/SparseArrays/src/sparsematrix.jl\" target=\"_blank\">C:\\ProgramData\\Julia-1.7.2\\share\\julia\\stdlib\\v1.7\\SparseArrays\\src\\sparsematrix.jl:3754</a></li> <li> +(x::<b>AbstractIrrational</b>, y::<b>AbstractIrrational</b>) in Base at <a href=\"https://github.com/JuliaLang/julia/tree/bf534986350a991e4a1b29126de0342ffd76205e/base/irrationals.jl#L158\" target=\"_blank\">irrationals.jl:158</a></li> <li> +(A::<b>LinearAlgebra.UnitUpperTriangular</b>, B::<b>LinearAlgebra.UpperTriangular</b>) in LinearAlgebra at <a href=\"file://C:/buildbot/worker/package_win64/build/usr/share/julia/stdlib/v1.7/LinearAlgebra/src/triangular.jl\" target=\"_blank\">C:\\ProgramData\\Julia-1.7.2\\share\\julia\\stdlib\\v1.7\\LinearAlgebra\\src\\triangular.jl:640</a></li> <li> +(A::<b>LinearAlgebra.UnitUpperTriangular</b>, B::<b>LinearAlgebra.UnitUpperTriangular</b>) in LinearAlgebra at <a href=\"file://C:/buildbot/worker/package_win64/build/usr/share/julia/stdlib/v1.7/LinearAlgebra/src/triangular.jl\" target=\"_blank\">C:\\ProgramData\\Julia-1.7.2\\share\\julia\\stdlib\\v1.7\\LinearAlgebra\\src\\triangular.jl:642</a></li> <li> +(UL::<b>LinearAlgebra.UnitUpperTriangular</b>, J::<b>LinearAlgebra.UniformScaling</b>) in LinearAlgebra at <a href=\"file://C:/buildbot/worker/package_win64/build/usr/share/julia/stdlib/v1.7/LinearAlgebra/src/uniformscaling.jl\" target=\"_blank\">C:\\ProgramData\\Julia-1.7.2\\share\\julia\\stdlib\\v1.7\\LinearAlgebra\\src\\uniformscaling.jl:182</a></li> <li> +(x::<b>LinearAlgebra.UnitUpperTriangular</b>, H::<b>LinearAlgebra.UpperHessenberg</b>) in LinearAlgebra at <a href=\"file://C:/buildbot/worker/package_win64/build/usr/share/julia/stdlib/v1.7/LinearAlgebra/src/hessenberg.jl\" target=\"_blank\">C:\\ProgramData\\Julia-1.7.2\\share\\julia\\stdlib\\v1.7\\LinearAlgebra\\src\\hessenberg.jl:107</a></li> <li> +(A::<b>LinearAlgebra.UnitUpperTriangular</b>, B::<b>LinearAlgebra.Bidiagonal</b>) in LinearAlgebra at <a href=\"file://C:/buildbot/worker/package_win64/build/usr/share/julia/stdlib/v1.7/LinearAlgebra/src/special.jl\" target=\"_blank\">C:\\ProgramData\\Julia-1.7.2\\share\\julia\\stdlib\\v1.7\\LinearAlgebra\\src\\special.jl:86</a></li> <li> +(A::<b>LinearAlgebra.Hermitian</b>, B::<b>LinearAlgebra.Hermitian</b>) in LinearAlgebra at <a href=\"file://C:/buildbot/worker/package_win64/build/usr/share/julia/stdlib/v1.7/LinearAlgebra/src/symmetric.jl\" target=\"_blank\">C:\\ProgramData\\Julia-1.7.2\\share\\julia\\stdlib\\v1.7\\LinearAlgebra\\src\\symmetric.jl:469</a></li> <li> +(A::<b>LinearAlgebra.Hermitian</b>, B::<b>LinearAlgebra.SymTridiagonal{var\"#s856\", V} where {var\"#s856\"<:Real, V<:AbstractVector{var\"#s856\"}}</b>) in LinearAlgebra at <a href=\"file://C:/buildbot/worker/package_win64/build/usr/share/julia/stdlib/v1.7/LinearAlgebra/src/symmetric.jl\" target=\"_blank\">C:\\ProgramData\\Julia-1.7.2\\share\\julia\\stdlib\\v1.7\\LinearAlgebra\\src\\symmetric.jl:488</a></li> <li> +(H::<b>LinearAlgebra.Hermitian</b>, D::<b>LinearAlgebra.Diagonal{var\"#s859\", V} where {var\"#s859\"<:Real, V<:AbstractVector{var\"#s859\"}}</b>) in LinearAlgebra at <a href=\"file://C:/buildbot/worker/package_win64/build/usr/share/julia/stdlib/v1.7/LinearAlgebra/src/diagonal.jl\" target=\"_blank\">C:\\ProgramData\\Julia-1.7.2\\share\\julia\\stdlib\\v1.7\\LinearAlgebra\\src\\diagonal.jl:185</a></li> <li> +(A::<b>LinearAlgebra.Hermitian</b>, J::<b>LinearAlgebra.UniformScaling{<:Complex}</b>) in LinearAlgebra at <a href=\"file://C:/buildbot/worker/package_win64/build/usr/share/julia/stdlib/v1.7/LinearAlgebra/src/uniformscaling.jl\" target=\"_blank\">C:\\ProgramData\\Julia-1.7.2\\share\\julia\\stdlib\\v1.7\\LinearAlgebra\\src\\uniformscaling.jl:196</a></li> <li> +(A::<b>LinearAlgebra.Hermitian{<:Any, <:SparseArrays.AbstractSparseMatrix}</b>, B::<b>SparseArrays.AbstractSparseMatrix</b>) in SparseArrays at <a href=\"file://C:/buildbot/worker/package_win64/build/usr/share/julia/stdlib/v1.7/SparseArrays/src/linalg.jl\" target=\"_blank\">C:\\ProgramData\\Julia-1.7.2\\share\\julia\\stdlib\\v1.7\\SparseArrays\\src\\linalg.jl:15</a></li> <li> +(A::<b>LinearAlgebra.Hermitian</b>, B::<b>SparseArrays.AbstractSparseMatrix</b>) in SparseArrays at <a href=\"file://C:/buildbot/worker/package_win64/build/usr/share/julia/stdlib/v1.7/SparseArrays/src/linalg.jl\" target=\"_blank\">C:\\ProgramData\\Julia-1.7.2\\share\\julia\\stdlib\\v1.7\\SparseArrays\\src\\linalg.jl:18</a></li> <li> +(A::<b>LinearAlgebra.Hermitian{<:Any, <:SparseArrays.AbstractSparseMatrix}</b>, B::<b>LinearAlgebra.Symmetric{<:Real, <:SparseArrays.AbstractSparseMatrix}</b>) in SparseArrays at <a href=\"file://C:/buildbot/worker/package_win64/build/usr/share/julia/stdlib/v1.7/SparseArrays/src/linalg.jl\" target=\"_blank\">C:\\ProgramData\\Julia-1.7.2\\share\\julia\\stdlib\\v1.7\\SparseArrays\\src\\linalg.jl:26</a></li> <li> +(A::<b>LinearAlgebra.Hermitian</b>, B::<b>LinearAlgebra.Symmetric{var\"#s859\", S} where {var\"#s859\"<:Real, S<:(AbstractMatrix{<:var\"#s859\"})}</b>) in LinearAlgebra at <a href=\"file://C:/buildbot/worker/package_win64/build/usr/share/julia/stdlib/v1.7/LinearAlgebra/src/symmetric.jl\" target=\"_blank\">C:\\ProgramData\\Julia-1.7.2\\share\\julia\\stdlib\\v1.7\\LinearAlgebra\\src\\symmetric.jl:483</a></li> <li> +(A::<b>LinearAlgebra.Hermitian{<:Any, <:SparseArrays.AbstractSparseMatrix}</b>, B::<b>LinearAlgebra.Symmetric{<:Any, <:SparseArrays.AbstractSparseMatrix}</b>) in SparseArrays at <a href=\"file://C:/buildbot/worker/package_win64/build/usr/share/julia/stdlib/v1.7/SparseArrays/src/linalg.jl\" target=\"_blank\">C:\\ProgramData\\Julia-1.7.2\\share\\julia\\stdlib\\v1.7\\SparseArrays\\src\\linalg.jl:24</a></li> <li> +(A::<b>LinearAlgebra.UpperHessenberg</b>, B::<b>LinearAlgebra.UpperHessenberg</b>) in LinearAlgebra at <a href=\"file://C:/buildbot/worker/package_win64/build/usr/share/julia/stdlib/v1.7/LinearAlgebra/src/hessenberg.jl\" target=\"_blank\">C:\\ProgramData\\Julia-1.7.2\\share\\julia\\stdlib\\v1.7\\LinearAlgebra\\src\\hessenberg.jl:99</a></li> <li> +(H::<b>LinearAlgebra.UpperHessenberg</b>, x::<b>LinearAlgebra.UniformScaling</b>) in LinearAlgebra at <a href=\"file://C:/buildbot/worker/package_win64/build/usr/share/julia/stdlib/v1.7/LinearAlgebra/src/hessenberg.jl\" target=\"_blank\">C:\\ProgramData\\Julia-1.7.2\\share\\julia\\stdlib\\v1.7\\LinearAlgebra\\src\\hessenberg.jl:106</a></li> <li> +(H::<b>LinearAlgebra.UpperHessenberg</b>, x::<b>LinearAlgebra.Diagonal</b>) in LinearAlgebra at <a href=\"file://C:/buildbot/worker/package_win64/build/usr/share/julia/stdlib/v1.7/LinearAlgebra/src/hessenberg.jl\" target=\"_blank\">C:\\ProgramData\\Julia-1.7.2\\share\\julia\\stdlib\\v1.7\\LinearAlgebra\\src\\hessenberg.jl:106</a></li> <li> +(H::<b>LinearAlgebra.UpperHessenberg</b>, x::<b>LinearAlgebra.Bidiagonal</b>) in LinearAlgebra at <a href=\"file://C:/buildbot/worker/package_win64/build/usr/share/julia/stdlib/v1.7/LinearAlgebra/src/hessenberg.jl\" target=\"_blank\">C:\\ProgramData\\Julia-1.7.2\\share\\julia\\stdlib\\v1.7\\LinearAlgebra\\src\\hessenberg.jl:106</a></li> <li> +(H::<b>LinearAlgebra.UpperHessenberg</b>, x::<b>LinearAlgebra.Tridiagonal</b>) in LinearAlgebra at <a href=\"file://C:/buildbot/worker/package_win64/build/usr/share/julia/stdlib/v1.7/LinearAlgebra/src/hessenberg.jl\" target=\"_blank\">C:\\ProgramData\\Julia-1.7.2\\share\\julia\\stdlib\\v1.7\\LinearAlgebra\\src\\hessenberg.jl:106</a></li> <li> +(H::<b>LinearAlgebra.UpperHessenberg</b>, x::<b>LinearAlgebra.SymTridiagonal</b>) in LinearAlgebra at <a href=\"file://C:/buildbot/worker/package_win64/build/usr/share/julia/stdlib/v1.7/LinearAlgebra/src/hessenberg.jl\" target=\"_blank\">C:\\ProgramData\\Julia-1.7.2\\share\\julia\\stdlib\\v1.7\\LinearAlgebra\\src\\hessenberg.jl:106</a></li> <li> +(H::<b>LinearAlgebra.UpperHessenberg</b>, x::<b>LinearAlgebra.UpperTriangular</b>) in LinearAlgebra at <a href=\"file://C:/buildbot/worker/package_win64/build/usr/share/julia/stdlib/v1.7/LinearAlgebra/src/hessenberg.jl\" target=\"_blank\">C:\\ProgramData\\Julia-1.7.2\\share\\julia\\stdlib\\v1.7\\LinearAlgebra\\src\\hessenberg.jl:106</a></li> <li> +(H::<b>LinearAlgebra.UpperHessenberg</b>, x::<b>LinearAlgebra.UnitUpperTriangular</b>) in LinearAlgebra at <a href=\"file://C:/buildbot/worker/package_win64/build/usr/share/julia/stdlib/v1.7/LinearAlgebra/src/hessenberg.jl\" target=\"_blank\">C:\\ProgramData\\Julia-1.7.2\\share\\julia\\stdlib\\v1.7\\LinearAlgebra\\src\\hessenberg.jl:106</a></li> <li> +(A::<b>LinearAlgebra.UnitLowerTriangular</b>, B::<b>LinearAlgebra.LowerTriangular</b>) in LinearAlgebra at <a href=\"file://C:/buildbot/worker/package_win64/build/usr/share/julia/stdlib/v1.7/LinearAlgebra/src/triangular.jl\" target=\"_blank\">C:\\ProgramData\\Julia-1.7.2\\share\\julia\\stdlib\\v1.7\\LinearAlgebra\\src\\triangular.jl:641</a></li> <li> +(A::<b>LinearAlgebra.UnitLowerTriangular</b>, B::<b>LinearAlgebra.UnitLowerTriangular</b>) in LinearAlgebra at <a href=\"file://C:/buildbot/worker/package_win64/build/usr/share/julia/stdlib/v1.7/LinearAlgebra/src/triangular.jl\" target=\"_blank\">C:\\ProgramData\\Julia-1.7.2\\share\\julia\\stdlib\\v1.7\\LinearAlgebra\\src\\triangular.jl:643</a></li> <li> +(UL::<b>LinearAlgebra.UnitLowerTriangular</b>, J::<b>LinearAlgebra.UniformScaling</b>) in LinearAlgebra at <a href=\"file://C:/buildbot/worker/package_win64/build/usr/share/julia/stdlib/v1.7/LinearAlgebra/src/uniformscaling.jl\" target=\"_blank\">C:\\ProgramData\\Julia-1.7.2\\share\\julia\\stdlib\\v1.7\\LinearAlgebra\\src\\uniformscaling.jl:182</a></li> <li> +(A::<b>LinearAlgebra.UnitLowerTriangular</b>, B::<b>LinearAlgebra.Bidiagonal</b>) in LinearAlgebra at <a href=\"file://C:/buildbot/worker/package_win64/build/usr/share/julia/stdlib/v1.7/LinearAlgebra/src/special.jl\" target=\"_blank\">C:\\ProgramData\\Julia-1.7.2\\share\\julia\\stdlib\\v1.7\\LinearAlgebra\\src\\special.jl:86</a></li> <li> +(r::<b>AbstractRange{<:Dates.TimeType}</b>, x::<b>Dates.Period</b>) in Dates at <a href=\"file://C:/buildbot/worker/package_win64/build/usr/share/julia/stdlib/v1.7/Dates/src/ranges.jl\" target=\"_blank\">C:\\ProgramData\\Julia-1.7.2\\share\\julia\\stdlib\\v1.7\\Dates\\src\\ranges.jl:63</a></li> <li> +(x::<b>AbstractArray{<:Dates.TimeType}</b>, y::<b>Union{Dates.CompoundPeriod, Dates.Period}</b>) in Dates at <a href=\"file://C:/buildbot/worker/package_win64/build/usr/share/julia/stdlib/v1.7/Dates/src/deprecated.jl\" target=\"_blank\">C:\\ProgramData\\Julia-1.7.2\\share\\julia\\stdlib\\v1.7\\Dates\\src\\deprecated.jl:6</a></li> <li> +(x::<b>T</b>, y::<b>Integer</b>)<i> where T<:AbstractChar</i> in Base at <a href=\"https://github.com/JuliaLang/julia/tree/bf534986350a991e4a1b29126de0342ffd76205e/base/char.jl#L237\" target=\"_blank\">char.jl:237</a></li> <li> +(x::<b>Ptr</b>, y::<b>Integer</b>) in Base at <a href=\"https://github.com/JuliaLang/julia/tree/bf534986350a991e4a1b29126de0342ffd76205e/base/pointer.jl#L159\" target=\"_blank\">pointer.jl:159</a></li> <li> +(r1::<b>StepRangeLen{T, R}</b>, r2::<b>StepRangeLen{T, R}</b>)<i> where {R<:Base.TwicePrecision, T}</i> in Base at <a href=\"https://github.com/JuliaLang/julia/tree/bf534986350a991e4a1b29126de0342ffd76205e/base/twiceprecision.jl#L613\" target=\"_blank\">twiceprecision.jl:613</a></li> <li> +(r1::<b>StepRangeLen{T, S}</b>, r2::<b>StepRangeLen{T, S}</b>)<i> where {T, S}</i> in Base at <a href=\"https://github.com/JuliaLang/julia/tree/bf534986350a991e4a1b29126de0342ffd76205e/base/range.jl#L1370\" target=\"_blank\">range.jl:1370</a></li> <li> +(F::<b>LinearAlgebra.Hessenberg</b>, J::<b>LinearAlgebra.UniformScaling</b>) in LinearAlgebra at <a href=\"file://C:/buildbot/worker/package_win64/build/usr/share/julia/stdlib/v1.7/LinearAlgebra/src/hessenberg.jl\" target=\"_blank\">C:\\ProgramData\\Julia-1.7.2\\share\\julia\\stdlib\\v1.7\\LinearAlgebra\\src\\hessenberg.jl:640</a></li> <li> +(x::<b>Base.TwicePrecision</b>, y::<b>Number</b>) in Base at <a href=\"https://github.com/JuliaLang/julia/tree/bf534986350a991e4a1b29126de0342ffd76205e/base/twiceprecision.jl#L279\" target=\"_blank\">twiceprecision.jl:279</a></li> <li> +(x::<b>Base.TwicePrecision{T}</b>, y::<b>Base.TwicePrecision{T}</b>)<i> where T</i> in Base at <a href=\"https://github.com/JuliaLang/julia/tree/bf534986350a991e4a1b29126de0342ffd76205e/base/twiceprecision.jl#L285\" target=\"_blank\">twiceprecision.jl:285</a></li> <li> +(x::<b>Base.TwicePrecision</b>, y::<b>Base.TwicePrecision</b>) in Base at <a href=\"https://github.com/JuliaLang/julia/tree/bf534986350a991e4a1b29126de0342ffd76205e/base/twiceprecision.jl#L290\" target=\"_blank\">twiceprecision.jl:290</a></li> <li> +(r1::<b>LinRange{T}</b>, r2::<b>LinRange{T}</b>)<i> where T</i> in Base at <a href=\"https://github.com/JuliaLang/julia/tree/bf534986350a991e4a1b29126de0342ffd76205e/base/range.jl#L1354\" target=\"_blank\">range.jl:1354</a></li> <li> +(r1::<b>Union{LinRange, OrdinalRange, StepRangeLen}</b>, r2::<b>Union{LinRange, OrdinalRange, StepRangeLen}</b>) in Base at <a href=\"https://github.com/JuliaLang/julia/tree/bf534986350a991e4a1b29126de0342ffd76205e/base/range.jl#L1363\" target=\"_blank\">range.jl:1363</a></li> <li> +(J::<b>LinearAlgebra.UniformScaling</b>) in LinearAlgebra at <a href=\"file://C:/buildbot/worker/package_win64/build/usr/share/julia/stdlib/v1.7/LinearAlgebra/src/uniformscaling.jl\" target=\"_blank\">C:\\ProgramData\\Julia-1.7.2\\share\\julia\\stdlib\\v1.7\\LinearAlgebra\\src\\uniformscaling.jl:150</a></li> <li> +(J::<b>LinearAlgebra.UniformScaling</b>, x::<b>Number</b>) in LinearAlgebra at <a href=\"file://C:/buildbot/worker/package_win64/build/usr/share/julia/stdlib/v1.7/LinearAlgebra/src/uniformscaling.jl\" target=\"_blank\">C:\\ProgramData\\Julia-1.7.2\\share\\julia\\stdlib\\v1.7\\LinearAlgebra\\src\\uniformscaling.jl:145</a></li> <li> +(J1::<b>LinearAlgebra.UniformScaling</b>, J2::<b>LinearAlgebra.UniformScaling</b>) in LinearAlgebra at <a href=\"file://C:/buildbot/worker/package_win64/build/usr/share/julia/stdlib/v1.7/LinearAlgebra/src/uniformscaling.jl\" target=\"_blank\">C:\\ProgramData\\Julia-1.7.2\\share\\julia\\stdlib\\v1.7\\LinearAlgebra\\src\\uniformscaling.jl:151</a></li> <li> +(J::<b>LinearAlgebra.UniformScaling</b>, B::<b>BitMatrix</b>) in LinearAlgebra at <a href=\"file://C:/buildbot/worker/package_win64/build/usr/share/julia/stdlib/v1.7/LinearAlgebra/src/uniformscaling.jl\" target=\"_blank\">C:\\ProgramData\\Julia-1.7.2\\share\\julia\\stdlib\\v1.7\\LinearAlgebra\\src\\uniformscaling.jl:153</a></li> <li> +(x::<b>LinearAlgebra.UniformScaling</b>, H::<b>LinearAlgebra.UpperHessenberg</b>) in LinearAlgebra at <a href=\"file://C:/buildbot/worker/package_win64/build/usr/share/julia/stdlib/v1.7/LinearAlgebra/src/hessenberg.jl\" target=\"_blank\">C:\\ProgramData\\Julia-1.7.2\\share\\julia\\stdlib\\v1.7\\LinearAlgebra\\src\\hessenberg.jl:107</a></li> <li> +(J::<b>LinearAlgebra.UniformScaling</b>, F::<b>LinearAlgebra.Hessenberg</b>) in LinearAlgebra at <a href=\"file://C:/buildbot/worker/package_win64/build/usr/share/julia/stdlib/v1.7/LinearAlgebra/src/hessenberg.jl\" target=\"_blank\">C:\\ProgramData\\Julia-1.7.2\\share\\julia\\stdlib\\v1.7\\LinearAlgebra\\src\\hessenberg.jl:641</a></li> <li> +(A::<b>LinearAlgebra.UniformScaling</b>, B::<b>LinearAlgebra.Tridiagonal{var\"#s859\", V} where {var\"#s859\"<:Number, V<:AbstractVector{var\"#s859\"}}</b>) in LinearAlgebra at <a href=\"file://C:/buildbot/worker/package_win64/build/usr/share/julia/stdlib/v1.7/LinearAlgebra/src/special.jl\" target=\"_blank\">C:\\ProgramData\\Julia-1.7.2\\share\\julia\\stdlib\\v1.7\\LinearAlgebra\\src\\special.jl:245</a></li> <li> +(A::<b>LinearAlgebra.UniformScaling</b>, B::<b>LinearAlgebra.SymTridiagonal{var\"#s859\", V} where {var\"#s859\"<:Number, V<:AbstractVector{var\"#s859\"}}</b>) in LinearAlgebra at <a href=\"file://C:/buildbot/worker/package_win64/build/usr/share/julia/stdlib/v1.7/LinearAlgebra/src/special.jl\" target=\"_blank\">C:\\ProgramData\\Julia-1.7.2\\share\\julia\\stdlib\\v1.7\\LinearAlgebra\\src\\special.jl:250</a></li> <li> +(A::<b>LinearAlgebra.UniformScaling</b>, B::<b>LinearAlgebra.Bidiagonal{var\"#s859\", V} where {var\"#s859\"<:Number, V<:AbstractVector{var\"#s859\"}}</b>) in LinearAlgebra at <a href=\"file://C:/buildbot/worker/package_win64/build/usr/share/julia/stdlib/v1.7/LinearAlgebra/src/special.jl\" target=\"_blank\">C:\\ProgramData\\Julia-1.7.2\\share\\julia\\stdlib\\v1.7\\LinearAlgebra\\src\\special.jl:255</a></li> <li> +(A::<b>LinearAlgebra.UniformScaling</b>, B::<b>LinearAlgebra.Diagonal{var\"#s859\", V} where {var\"#s859\"<:Number, V<:AbstractVector{var\"#s859\"}}</b>) in LinearAlgebra at <a href=\"file://C:/buildbot/worker/package_win64/build/usr/share/julia/stdlib/v1.7/LinearAlgebra/src/special.jl\" target=\"_blank\">C:\\ProgramData\\Julia-1.7.2\\share\\julia\\stdlib\\v1.7\\LinearAlgebra\\src\\special.jl:260</a></li> <li> +(J::<b>LinearAlgebra.UniformScaling</b>, A::<b>AbstractMatrix</b>) in LinearAlgebra at <a href=\"file://C:/buildbot/worker/package_win64/build/usr/share/julia/stdlib/v1.7/LinearAlgebra/src/uniformscaling.jl\" target=\"_blank\">C:\\ProgramData\\Julia-1.7.2\\share\\julia\\stdlib\\v1.7\\LinearAlgebra\\src\\uniformscaling.jl:154</a></li> <li> +(A::<b>LinearAlgebra.AbstractTriangular</b>, B::<b>LinearAlgebra.AbstractTriangular</b>) in LinearAlgebra at <a href=\"file://C:/buildbot/worker/package_win64/build/usr/share/julia/stdlib/v1.7/LinearAlgebra/src/triangular.jl\" target=\"_blank\">C:\\ProgramData\\Julia-1.7.2\\share\\julia\\stdlib\\v1.7\\LinearAlgebra\\src\\triangular.jl:644</a></li> <li> +(x::<b>Dates.Instant</b>) in Dates at <a href=\"file://C:/buildbot/worker/package_win64/build/usr/share/julia/stdlib/v1.7/Dates/src/arithmetic.jl\" target=\"_blank\">C:\\ProgramData\\Julia-1.7.2\\share\\julia\\stdlib\\v1.7\\Dates\\src\\arithmetic.jl:4</a></li> <li> +(x::<b>Dates.AbstractTime</b>, y::<b>Missing</b>) in Dates at <a href=\"file://C:/buildbot/worker/package_win64/build/usr/share/julia/stdlib/v1.7/Dates/src/arithmetic.jl\" target=\"_blank\">C:\\ProgramData\\Julia-1.7.2\\share\\julia\\stdlib\\v1.7\\Dates\\src\\arithmetic.jl:88</a></li> <li> +(A::<b>Array</b>, Bs::<b>Array...</b>) in Base at <a href=\"https://github.com/JuliaLang/julia/tree/bf534986350a991e4a1b29126de0342ffd76205e/base/arraymath.jl#L43\" target=\"_blank\">arraymath.jl:43</a></li> <li> +(X::<b>StridedArray{<:Union{Dates.CompoundPeriod, Dates.Period}}</b>, Y::<b>StridedArray{<:Union{Dates.CompoundPeriod, Dates.Period}}</b>) in Dates at <a href=\"file://C:/buildbot/worker/package_win64/build/usr/share/julia/stdlib/v1.7/Dates/src/deprecated.jl\" target=\"_blank\">C:\\ProgramData\\Julia-1.7.2\\share\\julia\\stdlib\\v1.7\\Dates\\src\\deprecated.jl:62</a></li> <li> +(A::<b>Array</b>, B::<b>SparseArrays.AbstractSparseMatrixCSC</b>) in SparseArrays at <a href=\"file://C:/buildbot/worker/package_win64/build/usr/share/julia/stdlib/v1.7/SparseArrays/src/sparsematrix.jl\" target=\"_blank\">C:\\ProgramData\\Julia-1.7.2\\share\\julia\\stdlib\\v1.7\\SparseArrays\\src\\sparsematrix.jl:1775</a></li> <li> +(x::<b>StridedArray{<:Union{Dates.CompoundPeriod, Dates.Period}}</b>) in Dates at <a href=\"file://C:/buildbot/worker/package_win64/build/usr/share/julia/stdlib/v1.7/Dates/src/deprecated.jl\" target=\"_blank\">C:\\ProgramData\\Julia-1.7.2\\share\\julia\\stdlib\\v1.7\\Dates\\src\\deprecated.jl:55</a></li> <li> +(x::<b>StridedArray{<:Union{Dates.CompoundPeriod, Dates.Period}}</b>, y::<b>Dates.TimeType</b>) in Dates at <a href=\"file://C:/buildbot/worker/package_win64/build/usr/share/julia/stdlib/v1.7/Dates/src/deprecated.jl\" target=\"_blank\">C:\\ProgramData\\Julia-1.7.2\\share\\julia\\stdlib\\v1.7\\Dates\\src\\deprecated.jl:10</a></li> <li> +(A::<b>AbstractArray</b>, B::<b>AbstractArray</b>) in Base at <a href=\"https://github.com/JuliaLang/julia/tree/bf534986350a991e4a1b29126de0342ffd76205e/base/arraymath.jl#L37\" target=\"_blank\">arraymath.jl:37</a></li> <li> +(x::<b>Float64</b>, y::<b>Float64</b>) in Base at <a href=\"https://github.com/JuliaLang/julia/tree/bf534986350a991e4a1b29126de0342ffd76205e/base/float.jl#L399\" target=\"_blank\">float.jl:399</a></li> <li> +(x::<b>Dates.CompoundPeriod</b>, y::<b>Dates.Period</b>) in Dates at <a href=\"file://C:/buildbot/worker/package_win64/build/usr/share/julia/stdlib/v1.7/Dates/src/periods.jl\" target=\"_blank\">C:\\ProgramData\\Julia-1.7.2\\share\\julia\\stdlib\\v1.7\\Dates\\src\\periods.jl:362</a></li> <li> +(x::<b>Dates.CompoundPeriod</b>, y::<b>Dates.TimeType</b>) in Dates at <a href=\"file://C:/buildbot/worker/package_win64/build/usr/share/julia/stdlib/v1.7/Dates/src/periods.jl\" target=\"_blank\">C:\\ProgramData\\Julia-1.7.2\\share\\julia\\stdlib\\v1.7\\Dates\\src\\periods.jl:392</a></li> <li> +(x::<b>Dates.CompoundPeriod</b>, y::<b>Dates.CompoundPeriod</b>) in Dates at <a href=\"file://C:/buildbot/worker/package_win64/build/usr/share/julia/stdlib/v1.7/Dates/src/periods.jl\" target=\"_blank\">C:\\ProgramData\\Julia-1.7.2\\share\\julia\\stdlib\\v1.7\\Dates\\src\\periods.jl:364</a></li> <li> +(x::<b>Bool</b>) in Base at <a href=\"https://github.com/JuliaLang/julia/tree/bf534986350a991e4a1b29126de0342ffd76205e/base/bool.jl#L159\" target=\"_blank\">bool.jl:159</a></li> <li> +(x::<b>Integer</b>, y::<b>Ptr</b>) in Base at <a href=\"https://github.com/JuliaLang/julia/tree/bf534986350a991e4a1b29126de0342ffd76205e/base/pointer.jl#L161\" target=\"_blank\">pointer.jl:161</a></li> <li> +(y::<b>Integer</b>, x::<b>Rational</b>) in Base at <a href=\"https://github.com/JuliaLang/julia/tree/bf534986350a991e4a1b29126de0342ffd76205e/base/rational.jl#L318\" target=\"_blank\">rational.jl:318</a></li> <li> +(x::<b>Integer</b>, y::<b>AbstractChar</b>) in Base at <a href=\"https://github.com/JuliaLang/julia/tree/bf534986350a991e4a1b29126de0342ffd76205e/base/char.jl#L247\" target=\"_blank\">char.jl:247</a></li> <li> +(x::<b>Number</b>, y::<b>Base.TwicePrecision</b>) in Base at <a href=\"https://github.com/JuliaLang/julia/tree/bf534986350a991e4a1b29126de0342ffd76205e/base/twiceprecision.jl#L283\" target=\"_blank\">twiceprecision.jl:283</a></li> <li> +(::<b>Number</b>, ::<b>Missing</b>) in Base at <a href=\"https://github.com/JuliaLang/julia/tree/bf534986350a991e4a1b29126de0342ffd76205e/base/missing.jl#L124\" target=\"_blank\">missing.jl:124</a></li> <li> +(x::<b>Number</b>, J::<b>LinearAlgebra.UniformScaling</b>) in LinearAlgebra at <a href=\"file://C:/buildbot/worker/package_win64/build/usr/share/julia/stdlib/v1.7/LinearAlgebra/src/uniformscaling.jl\" target=\"_blank\">C:\\ProgramData\\Julia-1.7.2\\share\\julia\\stdlib\\v1.7\\LinearAlgebra\\src\\uniformscaling.jl:146</a></li> <li> +(x::<b>Bool</b>, y::<b>T</b>)<i> where T<:AbstractFloat</i> in Base at <a href=\"https://github.com/JuliaLang/julia/tree/bf534986350a991e4a1b29126de0342ffd76205e/base/bool.jl#L169\" target=\"_blank\">bool.jl:169</a></li> <li> +(x::<b>Bool</b>, y::<b>Bool</b>) in Base at <a href=\"https://github.com/JuliaLang/julia/tree/bf534986350a991e4a1b29126de0342ffd76205e/base/bool.jl#L162\" target=\"_blank\">bool.jl:162</a></li> <li> +(x::<b>Bool</b>, z::<b>Complex{Bool}</b>) in Base at <a href=\"https://github.com/JuliaLang/julia/tree/bf534986350a991e4a1b29126de0342ffd76205e/base/complex.jl#L299\" target=\"_blank\">complex.jl:299</a></li> <li> +(x::<b>Real</b>, z::<b>Complex{Bool}</b>) in Base at <a href=\"https://github.com/JuliaLang/julia/tree/bf534986350a991e4a1b29126de0342ffd76205e/base/complex.jl#L313\" target=\"_blank\">complex.jl:313</a></li> <li> +(x::<b>Bool</b>, z::<b>Complex</b>) in Base at <a href=\"https://github.com/JuliaLang/julia/tree/bf534986350a991e4a1b29126de0342ffd76205e/base/complex.jl#L306\" target=\"_blank\">complex.jl:306</a></li> <li> +(x::<b>Real</b>, z::<b>Complex</b>) in Base at <a href=\"https://github.com/JuliaLang/julia/tree/bf534986350a991e4a1b29126de0342ffd76205e/base/complex.jl#L325\" target=\"_blank\">complex.jl:325</a></li> <li> +(x::<b>BigInt</b>, c::<b>Union{UInt16, UInt32, UInt8}</b>) in Base.GMP at <a href=\"https://github.com/JuliaLang/julia/tree/bf534986350a991e4a1b29126de0342ffd76205e/base/gmp.jl#L528\" target=\"_blank\">gmp.jl:528</a></li> <li> +(x::<b>BigInt</b>, c::<b>Union{Int16, Int32, Int8}</b>) in Base.GMP at <a href=\"https://github.com/JuliaLang/julia/tree/bf534986350a991e4a1b29126de0342ffd76205e/base/gmp.jl#L534\" target=\"_blank\">gmp.jl:534</a></li> <li> +(x::<b>BigInt</b>, y::<b>BigInt</b>) in Base.GMP at <a href=\"https://github.com/JuliaLang/julia/tree/bf534986350a991e4a1b29126de0342ffd76205e/base/gmp.jl#L480\" target=\"_blank\">gmp.jl:480</a></li> <li> +(a::<b>BigInt</b>, b::<b>BigInt</b>, c::<b>BigInt</b>) in Base.GMP at <a href=\"https://github.com/JuliaLang/julia/tree/bf534986350a991e4a1b29126de0342ffd76205e/base/gmp.jl#L520\" target=\"_blank\">gmp.jl:520</a></li> <li> +(a::<b>BigInt</b>, b::<b>BigInt</b>, c::<b>BigInt</b>, d::<b>BigInt</b>) in Base.GMP at <a href=\"https://github.com/JuliaLang/julia/tree/bf534986350a991e4a1b29126de0342ffd76205e/base/gmp.jl#L521\" target=\"_blank\">gmp.jl:521</a></li> <li> +(a::<b>BigInt</b>, b::<b>BigInt</b>, c::<b>BigInt</b>, d::<b>BigInt</b>, e::<b>BigInt</b>) in Base.GMP at <a href=\"https://github.com/JuliaLang/julia/tree/bf534986350a991e4a1b29126de0342ffd76205e/base/gmp.jl#L522\" target=\"_blank\">gmp.jl:522</a></li> <li> +(x::<b>BigInt</b>, y::<b>BigInt</b>, rest::<b>BigInt...</b>) in Base.GMP at <a href=\"https://github.com/JuliaLang/julia/tree/bf534986350a991e4a1b29126de0342ffd76205e/base/gmp.jl#L635\" target=\"_blank\">gmp.jl:635</a></li> <li> +(a::<b>Integer</b>, b::<b>Integer</b>) in Base at <a href=\"https://github.com/JuliaLang/julia/tree/bf534986350a991e4a1b29126de0342ffd76205e/base/int.jl#L978\" target=\"_blank\">int.jl:978</a></li> <li> +(c::<b>BigInt</b>, x::<b>BigFloat</b>) in Base.MPFR at <a href=\"https://github.com/JuliaLang/julia/tree/bf534986350a991e4a1b29126de0342ffd76205e/base/mpfr.jl#L414\" target=\"_blank\">mpfr.jl:414</a></li> <li> +(x::<b>Float32</b>, y::<b>Float32</b>) in Base at <a href=\"https://github.com/JuliaLang/julia/tree/bf534986350a991e4a1b29126de0342ffd76205e/base/float.jl#L398\" target=\"_blank\">float.jl:398</a></li> <li> +(::<b>Missing</b>) in Base at <a href=\"https://github.com/JuliaLang/julia/tree/bf534986350a991e4a1b29126de0342ffd76205e/base/missing.jl#L101\" target=\"_blank\">missing.jl:101</a></li> <li> +(::<b>Missing</b>, ::<b>Number</b>) in Base at <a href=\"https://github.com/JuliaLang/julia/tree/bf534986350a991e4a1b29126de0342ffd76205e/base/missing.jl#L123\" target=\"_blank\">missing.jl:123</a></li> <li> +(x::<b>Missing</b>, y::<b>Dates.AbstractTime</b>) in Dates at <a href=\"file://C:/buildbot/worker/package_win64/build/usr/share/julia/stdlib/v1.7/Dates/src/arithmetic.jl\" target=\"_blank\">C:\\ProgramData\\Julia-1.7.2\\share\\julia\\stdlib\\v1.7\\Dates\\src\\arithmetic.jl:89</a></li> <li> +(::<b>Missing</b>, ::<b>Missing</b>) in Base at <a href=\"https://github.com/JuliaLang/julia/tree/bf534986350a991e4a1b29126de0342ffd76205e/base/missing.jl#L122\" target=\"_blank\">missing.jl:122</a></li> <li> +(z::<b>Complex{Bool}</b>, x::<b>Bool</b>) in Base at <a href=\"https://github.com/JuliaLang/julia/tree/bf534986350a991e4a1b29126de0342ffd76205e/base/complex.jl#L300\" target=\"_blank\">complex.jl:300</a></li> <li> +(z::<b>Complex</b>, x::<b>Bool</b>) in Base at <a href=\"https://github.com/JuliaLang/julia/tree/bf534986350a991e4a1b29126de0342ffd76205e/base/complex.jl#L307\" target=\"_blank\">complex.jl:307</a></li> <li> +(z::<b>Complex{Bool}</b>, x::<b>Real</b>) in Base at <a href=\"https://github.com/JuliaLang/julia/tree/bf534986350a991e4a1b29126de0342ffd76205e/base/complex.jl#L314\" target=\"_blank\">complex.jl:314</a></li> <li> +(z::<b>Complex</b>) in Base at <a href=\"https://github.com/JuliaLang/julia/tree/bf534986350a991e4a1b29126de0342ffd76205e/base/complex.jl#L286\" target=\"_blank\">complex.jl:286</a></li> <li> +(z::<b>Complex</b>, x::<b>Real</b>) in Base at <a href=\"https://github.com/JuliaLang/julia/tree/bf534986350a991e4a1b29126de0342ffd76205e/base/complex.jl#L326\" target=\"_blank\">complex.jl:326</a></li> <li> +(dt::<b>Dates.DateTime</b>, y::<b>Dates.Year</b>) in Dates at <a href=\"file://C:/buildbot/worker/package_win64/build/usr/share/julia/stdlib/v1.7/Dates/src/arithmetic.jl\" target=\"_blank\">C:\\ProgramData\\Julia-1.7.2\\share\\julia\\stdlib\\v1.7\\Dates\\src\\arithmetic.jl:23</a></li> <li> +(dt::<b>Dates.DateTime</b>, z::<b>Dates.Month</b>) in Dates at <a href=\"file://C:/buildbot/worker/package_win64/build/usr/share/julia/stdlib/v1.7/Dates/src/arithmetic.jl\" target=\"_blank\">C:\\ProgramData\\Julia-1.7.2\\share\\julia\\stdlib\\v1.7\\Dates\\src\\arithmetic.jl:47</a></li> <li> +(x::<b>Dates.DateTime</b>, y::<b>Dates.Quarter</b>) in Dates at <a href=\"file://C:/buildbot/worker/package_win64/build/usr/share/julia/stdlib/v1.7/Dates/src/arithmetic.jl\" target=\"_blank\">C:\\ProgramData\\Julia-1.7.2\\share\\julia\\stdlib\\v1.7\\Dates\\src\\arithmetic.jl:75</a></li> <li> +(x::<b>Dates.DateTime</b>, y::<b>Dates.Period</b>) in Dates at <a href=\"file://C:/buildbot/worker/package_win64/build/usr/share/julia/stdlib/v1.7/Dates/src/arithmetic.jl\" target=\"_blank\">C:\\ProgramData\\Julia-1.7.2\\share\\julia\\stdlib\\v1.7\\Dates\\src\\arithmetic.jl:81</a></li> <li> +(x::<b>Rational{BigInt}</b>, y::<b>Rational{BigInt}</b>) in Base.GMP.MPQ at <a href=\"https://github.com/JuliaLang/julia/tree/bf534986350a991e4a1b29126de0342ffd76205e/base/gmp.jl#L885\" target=\"_blank\">gmp.jl:885</a></li> <li> +(x::<b>Rational</b>) in Base at <a href=\"https://github.com/JuliaLang/julia/tree/bf534986350a991e4a1b29126de0342ffd76205e/base/rational.jl#L268\" target=\"_blank\">rational.jl:268</a></li> <li> +(x::<b>Rational</b>, y::<b>Rational</b>) in Base at <a href=\"https://github.com/JuliaLang/julia/tree/bf534986350a991e4a1b29126de0342ffd76205e/base/rational.jl#L282\" target=\"_blank\">rational.jl:282</a></li> <li> +(level::<b>Base.CoreLogging.LogLevel</b>, inc::<b>Integer</b>) in Base.CoreLogging at <a href=\"https://github.com/JuliaLang/julia/tree/bf534986350a991e4a1b29126de0342ffd76205e/base/logging.jl#L131\" target=\"_blank\">logging.jl:131</a></li> <li> +(x::<b>Dates.Time</b>, y::<b>Dates.TimePeriod</b>) in Dates at <a href=\"file://C:/buildbot/worker/package_win64/build/usr/share/julia/stdlib/v1.7/Dates/src/arithmetic.jl\" target=\"_blank\">C:\\ProgramData\\Julia-1.7.2\\share\\julia\\stdlib\\v1.7\\Dates\\src\\arithmetic.jl:83</a></li> <li> +(t::<b>Dates.Time</b>, dt::<b>Dates.Date</b>) in Dates at <a href=\"file://C:/buildbot/worker/package_win64/build/usr/share/julia/stdlib/v1.7/Dates/src/arithmetic.jl\" target=\"_blank\">C:\\ProgramData\\Julia-1.7.2\\share\\julia\\stdlib\\v1.7\\Dates\\src\\arithmetic.jl:20</a></li> <li> +(B::<b>BitMatrix</b>, J::<b>LinearAlgebra.UniformScaling</b>) in LinearAlgebra at <a href=\"file://C:/buildbot/worker/package_win64/build/usr/share/julia/stdlib/v1.7/LinearAlgebra/src/uniformscaling.jl\" target=\"_blank\">C:\\ProgramData\\Julia-1.7.2\\share\\julia\\stdlib\\v1.7\\LinearAlgebra\\src\\uniformscaling.jl:152</a></li> <li> +(A::<b>AbstractMatrix</b>, J::<b>LinearAlgebra.UniformScaling</b>) in LinearAlgebra at <a href=\"file://C:/buildbot/worker/package_win64/build/usr/share/julia/stdlib/v1.7/LinearAlgebra/src/uniformscaling.jl\" target=\"_blank\">C:\\ProgramData\\Julia-1.7.2\\share\\julia\\stdlib\\v1.7\\LinearAlgebra\\src\\uniformscaling.jl:215</a></li> <li> +(x::<b>AbstractArray{<:Number}</b>) in Base at <a href=\"https://github.com/JuliaLang/julia/tree/bf534986350a991e4a1b29126de0342ffd76205e/base/abstractarraymath.jl#L104\" target=\"_blank\">abstractarraymath.jl:104</a></li> <li> +(a::<b>Pkg.Resolve.VersionWeight</b>, b::<b>Pkg.Resolve.VersionWeight</b>) in Pkg.Resolve at <a href=\"file://C:/buildbot/worker/package_win64/build/usr/share/julia/stdlib/v1.7/Pkg/src/Resolve/versionweights.jl\" target=\"_blank\">C:\\ProgramData\\Julia-1.7.2\\share\\julia\\stdlib\\v1.7\\Pkg\\src\\Resolve\\versionweights.jl:22</a></li> <li> +(a::<b>Pkg.Resolve.FieldValue</b>, b::<b>Pkg.Resolve.FieldValue</b>) in Pkg.Resolve at <a href=\"file://C:/buildbot/worker/package_win64/build/usr/share/julia/stdlib/v1.7/Pkg/src/Resolve/fieldvalues.jl\" target=\"_blank\">C:\\ProgramData\\Julia-1.7.2\\share\\julia\\stdlib\\v1.7\\Pkg\\src\\Resolve\\fieldvalues.jl:43</a></li> <li> +(x::<b>BigFloat</b>, c::<b>Union{UInt16, UInt32, UInt8}</b>) in Base.MPFR at <a href=\"https://github.com/JuliaLang/julia/tree/bf534986350a991e4a1b29126de0342ffd76205e/base/mpfr.jl#L385\" target=\"_blank\">mpfr.jl:385</a></li> <li> +(x::<b>BigFloat</b>, c::<b>Union{Int16, Int32, Int8}</b>) in Base.MPFR at <a href=\"https://github.com/JuliaLang/julia/tree/bf534986350a991e4a1b29126de0342ffd76205e/base/mpfr.jl#L393\" target=\"_blank\">mpfr.jl:393</a></li> <li> +(x::<b>BigFloat</b>, c::<b>Union{Float16, Float32, Float64}</b>) in Base.MPFR at <a href=\"https://github.com/JuliaLang/julia/tree/bf534986350a991e4a1b29126de0342ffd76205e/base/mpfr.jl#L401\" target=\"_blank\">mpfr.jl:401</a></li> <li> +(x::<b>BigFloat</b>, y::<b>BigFloat</b>) in Base.MPFR at <a href=\"https://github.com/JuliaLang/julia/tree/bf534986350a991e4a1b29126de0342ffd76205e/base/mpfr.jl#L378\" target=\"_blank\">mpfr.jl:378</a></li> <li> +(x::<b>BigFloat</b>, c::<b>BigInt</b>) in Base.MPFR at <a href=\"https://github.com/JuliaLang/julia/tree/bf534986350a991e4a1b29126de0342ffd76205e/base/mpfr.jl#L409\" target=\"_blank\">mpfr.jl:409</a></li> <li> +(a::<b>BigFloat</b>, b::<b>BigFloat</b>, c::<b>BigFloat</b>) in Base.MPFR at <a href=\"https://github.com/JuliaLang/julia/tree/bf534986350a991e4a1b29126de0342ffd76205e/base/mpfr.jl#L550\" target=\"_blank\">mpfr.jl:550</a></li> <li> +(a::<b>BigFloat</b>, b::<b>BigFloat</b>, c::<b>BigFloat</b>, d::<b>BigFloat</b>) in Base.MPFR at <a href=\"https://github.com/JuliaLang/julia/tree/bf534986350a991e4a1b29126de0342ffd76205e/base/mpfr.jl#L556\" target=\"_blank\">mpfr.jl:556</a></li> <li> +(a::<b>BigFloat</b>, b::<b>BigFloat</b>, c::<b>BigFloat</b>, d::<b>BigFloat</b>, e::<b>BigFloat</b>) in Base.MPFR at <a href=\"https://github.com/JuliaLang/julia/tree/bf534986350a991e4a1b29126de0342ffd76205e/base/mpfr.jl#L563\" target=\"_blank\">mpfr.jl:563</a></li> <li> +(x::<b>Float16</b>, y::<b>Float16</b>) in Base at <a href=\"https://github.com/JuliaLang/julia/tree/bf534986350a991e4a1b29126de0342ffd76205e/base/float.jl#L397\" target=\"_blank\">float.jl:397</a></li> <li> +(x::<b>Number</b>) in Base at <a href=\"https://github.com/JuliaLang/julia/tree/bf534986350a991e4a1b29126de0342ffd76205e/base/operators.jl#L592\" target=\"_blank\">operators.jl:592</a></li> <li> +(x::<b>T</b>, y::<b>T</b>)<i> where T<:Number</i> in Base at <a href=\"https://github.com/JuliaLang/julia/tree/bf534986350a991e4a1b29126de0342ffd76205e/base/promotion.jl#L454\" target=\"_blank\">promotion.jl:454</a></li> <li> +(x::<b>Number</b>, y::<b>Number</b>) in Base at <a href=\"https://github.com/JuliaLang/julia/tree/bf534986350a991e4a1b29126de0342ffd76205e/base/promotion.jl#L379\" target=\"_blank\">promotion.jl:379</a></li> <li> +(dt::<b>Dates.Date</b>, t::<b>Dates.Time</b>) in Dates at <a href=\"file://C:/buildbot/worker/package_win64/build/usr/share/julia/stdlib/v1.7/Dates/src/arithmetic.jl\" target=\"_blank\">C:\\ProgramData\\Julia-1.7.2\\share\\julia\\stdlib\\v1.7\\Dates\\src\\arithmetic.jl:19</a></li> <li> +(dt::<b>Dates.Date</b>, y::<b>Dates.Year</b>) in Dates at <a href=\"file://C:/buildbot/worker/package_win64/build/usr/share/julia/stdlib/v1.7/Dates/src/arithmetic.jl\" target=\"_blank\">C:\\ProgramData\\Julia-1.7.2\\share\\julia\\stdlib\\v1.7\\Dates\\src\\arithmetic.jl:27</a></li> <li> +(dt::<b>Dates.Date</b>, z::<b>Dates.Month</b>) in Dates at <a href=\"file://C:/buildbot/worker/package_win64/build/usr/share/julia/stdlib/v1.7/Dates/src/arithmetic.jl\" target=\"_blank\">C:\\ProgramData\\Julia-1.7.2\\share\\julia\\stdlib\\v1.7\\Dates\\src\\arithmetic.jl:54</a></li> <li> +(x::<b>Dates.Date</b>, y::<b>Dates.Quarter</b>) in Dates at <a href=\"file://C:/buildbot/worker/package_win64/build/usr/share/julia/stdlib/v1.7/Dates/src/arithmetic.jl\" target=\"_blank\">C:\\ProgramData\\Julia-1.7.2\\share\\julia\\stdlib\\v1.7\\Dates\\src\\arithmetic.jl:73</a></li> <li> +(x::<b>Dates.Date</b>, y::<b>Dates.Week</b>) in Dates at <a href=\"file://C:/buildbot/worker/package_win64/build/usr/share/julia/stdlib/v1.7/Dates/src/arithmetic.jl\" target=\"_blank\">C:\\ProgramData\\Julia-1.7.2\\share\\julia\\stdlib\\v1.7\\Dates\\src\\arithmetic.jl:77</a></li> <li> +(x::<b>Dates.Date</b>, y::<b>Dates.Day</b>) in Dates at <a href=\"file://C:/buildbot/worker/package_win64/build/usr/share/julia/stdlib/v1.7/Dates/src/arithmetic.jl\" target=\"_blank\">C:\\ProgramData\\Julia-1.7.2\\share\\julia\\stdlib\\v1.7\\Dates\\src\\arithmetic.jl:79</a></li> <li> +(x::<b>Dates.TimeType</b>) in Dates at <a href=\"file://C:/buildbot/worker/package_win64/build/usr/share/julia/stdlib/v1.7/Dates/src/arithmetic.jl\" target=\"_blank\">C:\\ProgramData\\Julia-1.7.2\\share\\julia\\stdlib\\v1.7\\Dates\\src\\arithmetic.jl:8</a></li> <li> +(a::<b>Dates.TimeType</b>, b::<b>Dates.Period</b>, c::<b>Dates.Period</b>) in Dates at <a href=\"file://C:/buildbot/worker/package_win64/build/usr/share/julia/stdlib/v1.7/Dates/src/periods.jl\" target=\"_blank\">C:\\ProgramData\\Julia-1.7.2\\share\\julia\\stdlib\\v1.7\\Dates\\src\\periods.jl:383</a></li> <li> +(a::<b>Dates.TimeType</b>, b::<b>Dates.Period</b>, c::<b>Dates.Period</b>, d::<b>Dates.Period...</b>) in Dates at <a href=\"file://C:/buildbot/worker/package_win64/build/usr/share/julia/stdlib/v1.7/Dates/src/periods.jl\" target=\"_blank\">C:\\ProgramData\\Julia-1.7.2\\share\\julia\\stdlib\\v1.7\\Dates\\src\\periods.jl:384</a></li> <li> +(x::<b>Dates.TimeType</b>, y::<b>Dates.CompoundPeriod</b>) in Dates at <a href=\"file://C:/buildbot/worker/package_win64/build/usr/share/julia/stdlib/v1.7/Dates/src/periods.jl\" target=\"_blank\">C:\\ProgramData\\Julia-1.7.2\\share\\julia\\stdlib\\v1.7\\Dates\\src\\periods.jl:386</a></li> <li> +(a, b, c, xs...) in Base at <a href=\"https://github.com/JuliaLang/julia/tree/bf534986350a991e4a1b29126de0342ffd76205e/base/operators.jl#L655\" target=\"_blank\">operators.jl:655</a></li> </ul>"
      ],
      "text/plain": [
       "# 208 methods for generic function \"+\":\n",
       "[1] +(x::T, y::T) where T<:Union{Int128, Int16, Int32, Int64, Int8, UInt128, UInt16, UInt32, UInt64, UInt8} in Base at int.jl:87\n",
       "[2] +(c::Union{UInt16, UInt32, UInt8}, x::BigInt) in Base.GMP at gmp.jl:529\n",
       "[3] +(c::Union{Int16, Int32, Int8}, x::BigInt) in Base.GMP at gmp.jl:535\n",
       "[4] +(c::Union{UInt16, UInt32, UInt8}, x::BigFloat) in Base.MPFR at mpfr.jl:390\n",
       "[5] +(c::Union{Int16, Int32, Int8}, x::BigFloat) in Base.MPFR at mpfr.jl:398\n",
       "[6] +(c::Union{Float16, Float32, Float64}, x::BigFloat) in Base.MPFR at mpfr.jl:406\n",
       "[7] +(x::Union{Dates.CompoundPeriod, Dates.Period}) in Dates at C:\\ProgramData\\Julia-1.7.2\\share\\julia\\stdlib\\v1.7\\Dates\\src\\periods.jl:372\n",
       "[8] +(x::Rational, y::Integer) in Base at rational.jl:311\n",
       "[9] +(A::LinearAlgebra.UpperTriangular, B::LinearAlgebra.UpperTriangular) in LinearAlgebra at C:\\ProgramData\\Julia-1.7.2\\share\\julia\\stdlib\\v1.7\\LinearAlgebra\\src\\triangular.jl:636\n",
       "[10] +(A::LinearAlgebra.UpperTriangular, B::LinearAlgebra.UnitUpperTriangular) in LinearAlgebra at C:\\ProgramData\\Julia-1.7.2\\share\\julia\\stdlib\\v1.7\\LinearAlgebra\\src\\triangular.jl:638\n",
       "[11] +(x::LinearAlgebra.UpperTriangular, H::LinearAlgebra.UpperHessenberg) in LinearAlgebra at C:\\ProgramData\\Julia-1.7.2\\share\\julia\\stdlib\\v1.7\\LinearAlgebra\\src\\hessenberg.jl:107\n",
       "[12] +(A::LinearAlgebra.UpperTriangular, B::LinearAlgebra.Bidiagonal) in LinearAlgebra at C:\\ProgramData\\Julia-1.7.2\\share\\julia\\stdlib\\v1.7\\LinearAlgebra\\src\\special.jl:86\n",
       "[13] +(Da::LinearAlgebra.Diagonal, Db::LinearAlgebra.Diagonal) in LinearAlgebra at C:\\ProgramData\\Julia-1.7.2\\share\\julia\\stdlib\\v1.7\\LinearAlgebra\\src\\diagonal.jl:172\n",
       "[14] +(D::LinearAlgebra.Diagonal, S::LinearAlgebra.Symmetric) in LinearAlgebra at C:\\ProgramData\\Julia-1.7.2\\share\\julia\\stdlib\\v1.7\\LinearAlgebra\\src\\diagonal.jl:176\n",
       "[15] +(D::LinearAlgebra.Diagonal{var\"#s859\", V} where {var\"#s859\"<:Real, V<:AbstractVector{var\"#s859\"}}, H::LinearAlgebra.Hermitian) in LinearAlgebra at C:\\ProgramData\\Julia-1.7.2\\share\\julia\\stdlib\\v1.7\\LinearAlgebra\\src\\diagonal.jl:182\n",
       "[16] +(x::LinearAlgebra.Diagonal, H::LinearAlgebra.UpperHessenberg) in LinearAlgebra at C:\\ProgramData\\Julia-1.7.2\\share\\julia\\stdlib\\v1.7\\LinearAlgebra\\src\\hessenberg.jl:107\n",
       "[17] +(A::LinearAlgebra.Diagonal, B::LinearAlgebra.Bidiagonal) in LinearAlgebra at C:\\ProgramData\\Julia-1.7.2\\share\\julia\\stdlib\\v1.7\\LinearAlgebra\\src\\special.jl:125\n",
       "[18] +(A::LinearAlgebra.Diagonal, B::LinearAlgebra.SymTridiagonal) in LinearAlgebra at C:\\ProgramData\\Julia-1.7.2\\share\\julia\\stdlib\\v1.7\\LinearAlgebra\\src\\special.jl:135\n",
       "[19] +(A::LinearAlgebra.Diagonal, B::LinearAlgebra.Tridiagonal) in LinearAlgebra at C:\\ProgramData\\Julia-1.7.2\\share\\julia\\stdlib\\v1.7\\LinearAlgebra\\src\\special.jl:163\n",
       "[20] +(A::LinearAlgebra.Diagonal{var\"#s859\", V} where {var\"#s859\"<:Number, V<:AbstractVector{var\"#s859\"}}, B::LinearAlgebra.UniformScaling) in LinearAlgebra at C:\\ProgramData\\Julia-1.7.2\\share\\julia\\stdlib\\v1.7\\LinearAlgebra\\src\\special.jl:241\n",
       "[21] +(A::LinearAlgebra.Bidiagonal, B::LinearAlgebra.Bidiagonal) in LinearAlgebra at C:\\ProgramData\\Julia-1.7.2\\share\\julia\\stdlib\\v1.7\\LinearAlgebra\\src\\bidiag.jl:354\n",
       "[22] +(x::LinearAlgebra.Bidiagonal, H::LinearAlgebra.UpperHessenberg) in LinearAlgebra at C:\\ProgramData\\Julia-1.7.2\\share\\julia\\stdlib\\v1.7\\LinearAlgebra\\src\\hessenberg.jl:107\n",
       "[23] +(A::LinearAlgebra.Bidiagonal, B::LinearAlgebra.UpperTriangular) in LinearAlgebra at C:\\ProgramData\\Julia-1.7.2\\share\\julia\\stdlib\\v1.7\\LinearAlgebra\\src\\special.jl:94\n",
       "[24] +(A::LinearAlgebra.Bidiagonal, B::LinearAlgebra.UnitUpperTriangular) in LinearAlgebra at C:\\ProgramData\\Julia-1.7.2\\share\\julia\\stdlib\\v1.7\\LinearAlgebra\\src\\special.jl:94\n",
       "[25] +(A::LinearAlgebra.Bidiagonal, B::LinearAlgebra.LowerTriangular) in LinearAlgebra at C:\\ProgramData\\Julia-1.7.2\\share\\julia\\stdlib\\v1.7\\LinearAlgebra\\src\\special.jl:94\n",
       "[26] +(A::LinearAlgebra.Bidiagonal, B::LinearAlgebra.UnitLowerTriangular) in LinearAlgebra at C:\\ProgramData\\Julia-1.7.2\\share\\julia\\stdlib\\v1.7\\LinearAlgebra\\src\\special.jl:94\n",
       "[27] +(A::LinearAlgebra.Bidiagonal, B::LinearAlgebra.Diagonal) in LinearAlgebra at C:\\ProgramData\\Julia-1.7.2\\share\\julia\\stdlib\\v1.7\\LinearAlgebra\\src\\special.jl:115\n",
       "[28] +(A::LinearAlgebra.Bidiagonal, B::LinearAlgebra.Tridiagonal) in LinearAlgebra at C:\\ProgramData\\Julia-1.7.2\\share\\julia\\stdlib\\v1.7\\LinearAlgebra\\src\\special.jl:183\n",
       "[29] +(A::LinearAlgebra.Bidiagonal, B::LinearAlgebra.SymTridiagonal) in LinearAlgebra at C:\\ProgramData\\Julia-1.7.2\\share\\julia\\stdlib\\v1.7\\LinearAlgebra\\src\\special.jl:203\n",
       "[30] +(A::LinearAlgebra.Bidiagonal{var\"#s859\", V} where {var\"#s859\"<:Number, V<:AbstractVector{var\"#s859\"}}, B::LinearAlgebra.UniformScaling) in LinearAlgebra at C:\\ProgramData\\Julia-1.7.2\\share\\julia\\stdlib\\v1.7\\LinearAlgebra\\src\\special.jl:236\n",
       "[31] +(A::LinearAlgebra.Symmetric, B::LinearAlgebra.Symmetric) in LinearAlgebra at C:\\ProgramData\\Julia-1.7.2\\share\\julia\\stdlib\\v1.7\\LinearAlgebra\\src\\symmetric.jl:469\n",
       "[32] +(A::LinearAlgebra.Symmetric, B::LinearAlgebra.SymTridiagonal) in LinearAlgebra at C:\\ProgramData\\Julia-1.7.2\\share\\julia\\stdlib\\v1.7\\LinearAlgebra\\src\\symmetric.jl:486\n",
       "[33] +(S::LinearAlgebra.Symmetric, D::LinearAlgebra.Diagonal) in LinearAlgebra at C:\\ProgramData\\Julia-1.7.2\\share\\julia\\stdlib\\v1.7\\LinearAlgebra\\src\\diagonal.jl:179\n",
       "[34] +(A::LinearAlgebra.Symmetric{<:Any, <:SparseArrays.AbstractSparseMatrix}, B::SparseArrays.AbstractSparseMatrix) in SparseArrays at C:\\ProgramData\\Julia-1.7.2\\share\\julia\\stdlib\\v1.7\\SparseArrays\\src\\linalg.jl:15\n",
       "[35] +(A::LinearAlgebra.Symmetric, B::SparseArrays.AbstractSparseMatrix) in SparseArrays at C:\\ProgramData\\Julia-1.7.2\\share\\julia\\stdlib\\v1.7\\SparseArrays\\src\\linalg.jl:18\n",
       "[36] +(A::LinearAlgebra.Symmetric{<:Real, <:SparseArrays.AbstractSparseMatrix}, B::LinearAlgebra.Hermitian{<:Any, <:SparseArrays.AbstractSparseMatrix}) in SparseArrays at C:\\ProgramData\\Julia-1.7.2\\share\\julia\\stdlib\\v1.7\\SparseArrays\\src\\linalg.jl:25\n",
       "[37] +(A::LinearAlgebra.Symmetric{var\"#s858\", S} where {var\"#s858\"<:Real, S<:(AbstractMatrix{<:var\"#s858\"})}, B::LinearAlgebra.Hermitian) in LinearAlgebra at C:\\ProgramData\\Julia-1.7.2\\share\\julia\\stdlib\\v1.7\\LinearAlgebra\\src\\symmetric.jl:484\n",
       "[38] +(A::LinearAlgebra.Symmetric{<:Any, <:SparseArrays.AbstractSparseMatrix}, B::LinearAlgebra.Hermitian{<:Any, <:SparseArrays.AbstractSparseMatrix}) in SparseArrays at C:\\ProgramData\\Julia-1.7.2\\share\\julia\\stdlib\\v1.7\\SparseArrays\\src\\linalg.jl:23\n",
       "[39] +(A::LinearAlgebra.SymTridiagonal, B::LinearAlgebra.SymTridiagonal) in LinearAlgebra at C:\\ProgramData\\Julia-1.7.2\\share\\julia\\stdlib\\v1.7\\LinearAlgebra\\src\\tridiag.jl:208\n",
       "[40] +(A::LinearAlgebra.SymTridiagonal, B::LinearAlgebra.Symmetric) in LinearAlgebra at C:\\ProgramData\\Julia-1.7.2\\share\\julia\\stdlib\\v1.7\\LinearAlgebra\\src\\symmetric.jl:485\n",
       "[41] +(A::LinearAlgebra.SymTridiagonal{var\"#s857\", V} where {var\"#s857\"<:Real, V<:AbstractVector{var\"#s857\"}}, B::LinearAlgebra.Hermitian) in LinearAlgebra at C:\\ProgramData\\Julia-1.7.2\\share\\julia\\stdlib\\v1.7\\LinearAlgebra\\src\\symmetric.jl:487\n",
       "[42] +(x::LinearAlgebra.SymTridiagonal, H::LinearAlgebra.UpperHessenberg) in LinearAlgebra at C:\\ProgramData\\Julia-1.7.2\\share\\julia\\stdlib\\v1.7\\LinearAlgebra\\src\\hessenberg.jl:107\n",
       "[43] +(A::LinearAlgebra.SymTridiagonal, B::LinearAlgebra.Diagonal) in LinearAlgebra at C:\\ProgramData\\Julia-1.7.2\\share\\julia\\stdlib\\v1.7\\LinearAlgebra\\src\\special.jl:145\n",
       "[44] +(A::LinearAlgebra.SymTridiagonal, B::LinearAlgebra.Tridiagonal) in LinearAlgebra at C:\\ProgramData\\Julia-1.7.2\\share\\julia\\stdlib\\v1.7\\LinearAlgebra\\src\\special.jl:159\n",
       "[45] +(A::LinearAlgebra.SymTridiagonal, B::LinearAlgebra.Bidiagonal) in LinearAlgebra at C:\\ProgramData\\Julia-1.7.2\\share\\julia\\stdlib\\v1.7\\LinearAlgebra\\src\\special.jl:213\n",
       "[46] +(A::LinearAlgebra.SymTridiagonal{var\"#s859\", V} where {var\"#s859\"<:Number, V<:AbstractVector{var\"#s859\"}}, B::LinearAlgebra.UniformScaling) in LinearAlgebra at C:\\ProgramData\\Julia-1.7.2\\share\\julia\\stdlib\\v1.7\\LinearAlgebra\\src\\special.jl:231\n",
       "[47] +(index1::CartesianIndex{N}, index2::CartesianIndex{N}) where N in Base.IteratorsMD at multidimensional.jl:114\n",
       "[48] +(A::LinearAlgebra.Tridiagonal, B::LinearAlgebra.Tridiagonal) in LinearAlgebra at C:\\ProgramData\\Julia-1.7.2\\share\\julia\\stdlib\\v1.7\\LinearAlgebra\\src\\tridiag.jl:740\n",
       "[49] +(x::LinearAlgebra.Tridiagonal, H::LinearAlgebra.UpperHessenberg) in LinearAlgebra at C:\\ProgramData\\Julia-1.7.2\\share\\julia\\stdlib\\v1.7\\LinearAlgebra\\src\\hessenberg.jl:107\n",
       "[50] +(A::LinearAlgebra.Tridiagonal, B::LinearAlgebra.SymTridiagonal) in LinearAlgebra at C:\\ProgramData\\Julia-1.7.2\\share\\julia\\stdlib\\v1.7\\LinearAlgebra\\src\\special.jl:157\n",
       "[51] +(A::LinearAlgebra.Tridiagonal, B::LinearAlgebra.Diagonal) in LinearAlgebra at C:\\ProgramData\\Julia-1.7.2\\share\\julia\\stdlib\\v1.7\\LinearAlgebra\\src\\special.jl:173\n",
       "[52] +(A::LinearAlgebra.Tridiagonal, B::LinearAlgebra.Bidiagonal) in LinearAlgebra at C:\\ProgramData\\Julia-1.7.2\\share\\julia\\stdlib\\v1.7\\LinearAlgebra\\src\\special.jl:193\n",
       "[53] +(A::LinearAlgebra.Tridiagonal{var\"#s859\", V} where {var\"#s859\"<:Number, V<:AbstractVector{var\"#s859\"}}, B::LinearAlgebra.UniformScaling) in LinearAlgebra at C:\\ProgramData\\Julia-1.7.2\\share\\julia\\stdlib\\v1.7\\LinearAlgebra\\src\\special.jl:226\n",
       "[54] +(y::Dates.TimeType, x::StridedArray{<:Union{Dates.CompoundPeriod, Dates.Period}}) in Dates at C:\\ProgramData\\Julia-1.7.2\\share\\julia\\stdlib\\v1.7\\Dates\\src\\deprecated.jl:18\n",
       "[55] +(A::SparseArrays.AbstractSparseMatrix, B::LinearAlgebra.Hermitian{<:Any, <:SparseArrays.AbstractSparseMatrix}) in SparseArrays at C:\\ProgramData\\Julia-1.7.2\\share\\julia\\stdlib\\v1.7\\SparseArrays\\src\\linalg.jl:14\n",
       "[56] +(A::SparseArrays.AbstractSparseMatrix, B::LinearAlgebra.Hermitian) in SparseArrays at C:\\ProgramData\\Julia-1.7.2\\share\\julia\\stdlib\\v1.7\\SparseArrays\\src\\linalg.jl:17\n",
       "[57] +(A::SparseArrays.AbstractSparseMatrix, B::LinearAlgebra.Symmetric{<:Any, <:SparseArrays.AbstractSparseMatrix}) in SparseArrays at C:\\ProgramData\\Julia-1.7.2\\share\\julia\\stdlib\\v1.7\\SparseArrays\\src\\linalg.jl:14\n",
       "[58] +(A::SparseArrays.AbstractSparseMatrix, B::LinearAlgebra.Symmetric) in SparseArrays at C:\\ProgramData\\Julia-1.7.2\\share\\julia\\stdlib\\v1.7\\SparseArrays\\src\\linalg.jl:17\n",
       "[59] +(A::LinearAlgebra.LowerTriangular, B::LinearAlgebra.LowerTriangular) in LinearAlgebra at C:\\ProgramData\\Julia-1.7.2\\share\\julia\\stdlib\\v1.7\\LinearAlgebra\\src\\triangular.jl:637\n",
       "[60] +(A::LinearAlgebra.LowerTriangular, B::LinearAlgebra.UnitLowerTriangular) in LinearAlgebra at C:\\ProgramData\\Julia-1.7.2\\share\\julia\\stdlib\\v1.7\\LinearAlgebra\\src\\triangular.jl:639\n",
       "[61] +(A::LinearAlgebra.LowerTriangular, B::LinearAlgebra.Bidiagonal) in LinearAlgebra at C:\\ProgramData\\Julia-1.7.2\\share\\julia\\stdlib\\v1.7\\LinearAlgebra\\src\\special.jl:86\n",
       "[62] +(r1::OrdinalRange, r2::OrdinalRange) in Base at range.jl:1347\n",
       "[63] +(A::BitArray, B::BitArray) in Base at bitarray.jl:1180\n",
       "[64] +(y::AbstractFloat, x::Bool) in Base at bool.jl:172\n",
       "[65] +(x::P, y::P) where P<:Dates.Period in Dates at C:\\ProgramData\\Julia-1.7.2\\share\\julia\\stdlib\\v1.7\\Dates\\src\\periods.jl:79\n",
       "[66] +(x::Dates.Period, y::Dates.Period) in Dates at C:\\ProgramData\\Julia-1.7.2\\share\\julia\\stdlib\\v1.7\\Dates\\src\\periods.jl:361\n",
       "[67] +(y::Dates.Period, x::Dates.CompoundPeriod) in Dates at C:\\ProgramData\\Julia-1.7.2\\share\\julia\\stdlib\\v1.7\\Dates\\src\\periods.jl:363\n",
       "[68] +(y::Dates.Period, x::Dates.TimeType) in Dates at C:\\ProgramData\\Julia-1.7.2\\share\\julia\\stdlib\\v1.7\\Dates\\src\\arithmetic.jl:85\n",
       "[69] +(x::Dates.Period, r::AbstractRange{<:Dates.TimeType}) in Dates at C:\\ProgramData\\Julia-1.7.2\\share\\julia\\stdlib\\v1.7\\Dates\\src\\ranges.jl:62\n",
       "[70] +(y::Union{Dates.CompoundPeriod, Dates.Period}, x::AbstractArray{<:Dates.TimeType}) in Dates at C:\\ProgramData\\Julia-1.7.2\\share\\julia\\stdlib\\v1.7\\Dates\\src\\deprecated.jl:14\n",
       "[71] +(z::Complex, w::Complex) in Base at complex.jl:288\n",
       "[72] +(A::SparseArrays.AbstractSparseMatrixCSC, B::SparseArrays.AbstractSparseMatrixCSC) in SparseArrays at C:\\ProgramData\\Julia-1.7.2\\share\\julia\\stdlib\\v1.7\\SparseArrays\\src\\sparsematrix.jl:1771\n",
       "[73] +(x::SparseArrays.AbstractSparseVector, y::SparseArrays.AbstractSparseVector) in SparseArrays at C:\\ProgramData\\Julia-1.7.2\\share\\julia\\stdlib\\v1.7\\SparseArrays\\src\\sparsevector.jl:1355\n",
       "[74] +(A::SparseArrays.AbstractSparseMatrixCSC, B::Array) in SparseArrays at C:\\ProgramData\\Julia-1.7.2\\share\\julia\\stdlib\\v1.7\\SparseArrays\\src\\sparsematrix.jl:1774\n",
       "[75] +(A::SparseArrays.AbstractSparseMatrixCSC, J::LinearAlgebra.UniformScaling) in SparseArrays at C:\\ProgramData\\Julia-1.7.2\\share\\julia\\stdlib\\v1.7\\SparseArrays\\src\\sparsematrix.jl:3754\n",
       "[76] +(x::AbstractIrrational, y::AbstractIrrational) in Base at irrationals.jl:158\n",
       "[77] +(A::LinearAlgebra.UnitUpperTriangular, B::LinearAlgebra.UpperTriangular) in LinearAlgebra at C:\\ProgramData\\Julia-1.7.2\\share\\julia\\stdlib\\v1.7\\LinearAlgebra\\src\\triangular.jl:640\n",
       "[78] +(A::LinearAlgebra.UnitUpperTriangular, B::LinearAlgebra.UnitUpperTriangular) in LinearAlgebra at C:\\ProgramData\\Julia-1.7.2\\share\\julia\\stdlib\\v1.7\\LinearAlgebra\\src\\triangular.jl:642\n",
       "[79] +(UL::LinearAlgebra.UnitUpperTriangular, J::LinearAlgebra.UniformScaling) in LinearAlgebra at C:\\ProgramData\\Julia-1.7.2\\share\\julia\\stdlib\\v1.7\\LinearAlgebra\\src\\uniformscaling.jl:182\n",
       "[80] +(x::LinearAlgebra.UnitUpperTriangular, H::LinearAlgebra.UpperHessenberg) in LinearAlgebra at C:\\ProgramData\\Julia-1.7.2\\share\\julia\\stdlib\\v1.7\\LinearAlgebra\\src\\hessenberg.jl:107\n",
       "[81] +(A::LinearAlgebra.UnitUpperTriangular, B::LinearAlgebra.Bidiagonal) in LinearAlgebra at C:\\ProgramData\\Julia-1.7.2\\share\\julia\\stdlib\\v1.7\\LinearAlgebra\\src\\special.jl:86\n",
       "[82] +(A::LinearAlgebra.Hermitian, B::LinearAlgebra.Hermitian) in LinearAlgebra at C:\\ProgramData\\Julia-1.7.2\\share\\julia\\stdlib\\v1.7\\LinearAlgebra\\src\\symmetric.jl:469\n",
       "[83] +(A::LinearAlgebra.Hermitian, B::LinearAlgebra.SymTridiagonal{var\"#s856\", V} where {var\"#s856\"<:Real, V<:AbstractVector{var\"#s856\"}}) in LinearAlgebra at C:\\ProgramData\\Julia-1.7.2\\share\\julia\\stdlib\\v1.7\\LinearAlgebra\\src\\symmetric.jl:488\n",
       "[84] +(H::LinearAlgebra.Hermitian, D::LinearAlgebra.Diagonal{var\"#s859\", V} where {var\"#s859\"<:Real, V<:AbstractVector{var\"#s859\"}}) in LinearAlgebra at C:\\ProgramData\\Julia-1.7.2\\share\\julia\\stdlib\\v1.7\\LinearAlgebra\\src\\diagonal.jl:185\n",
       "[85] +(A::LinearAlgebra.Hermitian, J::LinearAlgebra.UniformScaling{<:Complex}) in LinearAlgebra at C:\\ProgramData\\Julia-1.7.2\\share\\julia\\stdlib\\v1.7\\LinearAlgebra\\src\\uniformscaling.jl:196\n",
       "[86] +(A::LinearAlgebra.Hermitian{<:Any, <:SparseArrays.AbstractSparseMatrix}, B::SparseArrays.AbstractSparseMatrix) in SparseArrays at C:\\ProgramData\\Julia-1.7.2\\share\\julia\\stdlib\\v1.7\\SparseArrays\\src\\linalg.jl:15\n",
       "[87] +(A::LinearAlgebra.Hermitian, B::SparseArrays.AbstractSparseMatrix) in SparseArrays at C:\\ProgramData\\Julia-1.7.2\\share\\julia\\stdlib\\v1.7\\SparseArrays\\src\\linalg.jl:18\n",
       "[88] +(A::LinearAlgebra.Hermitian{<:Any, <:SparseArrays.AbstractSparseMatrix}, B::LinearAlgebra.Symmetric{<:Real, <:SparseArrays.AbstractSparseMatrix}) in SparseArrays at C:\\ProgramData\\Julia-1.7.2\\share\\julia\\stdlib\\v1.7\\SparseArrays\\src\\linalg.jl:26\n",
       "[89] +(A::LinearAlgebra.Hermitian, B::LinearAlgebra.Symmetric{var\"#s859\", S} where {var\"#s859\"<:Real, S<:(AbstractMatrix{<:var\"#s859\"})}) in LinearAlgebra at C:\\ProgramData\\Julia-1.7.2\\share\\julia\\stdlib\\v1.7\\LinearAlgebra\\src\\symmetric.jl:483\n",
       "[90] +(A::LinearAlgebra.Hermitian{<:Any, <:SparseArrays.AbstractSparseMatrix}, B::LinearAlgebra.Symmetric{<:Any, <:SparseArrays.AbstractSparseMatrix}) in SparseArrays at C:\\ProgramData\\Julia-1.7.2\\share\\julia\\stdlib\\v1.7\\SparseArrays\\src\\linalg.jl:24\n",
       "[91] +(A::LinearAlgebra.UpperHessenberg, B::LinearAlgebra.UpperHessenberg) in LinearAlgebra at C:\\ProgramData\\Julia-1.7.2\\share\\julia\\stdlib\\v1.7\\LinearAlgebra\\src\\hessenberg.jl:99\n",
       "[92] +(H::LinearAlgebra.UpperHessenberg, x::LinearAlgebra.UniformScaling) in LinearAlgebra at C:\\ProgramData\\Julia-1.7.2\\share\\julia\\stdlib\\v1.7\\LinearAlgebra\\src\\hessenberg.jl:106\n",
       "[93] +(H::LinearAlgebra.UpperHessenberg, x::LinearAlgebra.Diagonal) in LinearAlgebra at C:\\ProgramData\\Julia-1.7.2\\share\\julia\\stdlib\\v1.7\\LinearAlgebra\\src\\hessenberg.jl:106\n",
       "[94] +(H::LinearAlgebra.UpperHessenberg, x::LinearAlgebra.Bidiagonal) in LinearAlgebra at C:\\ProgramData\\Julia-1.7.2\\share\\julia\\stdlib\\v1.7\\LinearAlgebra\\src\\hessenberg.jl:106\n",
       "[95] +(H::LinearAlgebra.UpperHessenberg, x::LinearAlgebra.Tridiagonal) in LinearAlgebra at C:\\ProgramData\\Julia-1.7.2\\share\\julia\\stdlib\\v1.7\\LinearAlgebra\\src\\hessenberg.jl:106\n",
       "[96] +(H::LinearAlgebra.UpperHessenberg, x::LinearAlgebra.SymTridiagonal) in LinearAlgebra at C:\\ProgramData\\Julia-1.7.2\\share\\julia\\stdlib\\v1.7\\LinearAlgebra\\src\\hessenberg.jl:106\n",
       "[97] +(H::LinearAlgebra.UpperHessenberg, x::LinearAlgebra.UpperTriangular) in LinearAlgebra at C:\\ProgramData\\Julia-1.7.2\\share\\julia\\stdlib\\v1.7\\LinearAlgebra\\src\\hessenberg.jl:106\n",
       "[98] +(H::LinearAlgebra.UpperHessenberg, x::LinearAlgebra.UnitUpperTriangular) in LinearAlgebra at C:\\ProgramData\\Julia-1.7.2\\share\\julia\\stdlib\\v1.7\\LinearAlgebra\\src\\hessenberg.jl:106\n",
       "[99] +(A::LinearAlgebra.UnitLowerTriangular, B::LinearAlgebra.LowerTriangular) in LinearAlgebra at C:\\ProgramData\\Julia-1.7.2\\share\\julia\\stdlib\\v1.7\\LinearAlgebra\\src\\triangular.jl:641\n",
       "[100] +(A::LinearAlgebra.UnitLowerTriangular, B::LinearAlgebra.UnitLowerTriangular) in LinearAlgebra at C:\\ProgramData\\Julia-1.7.2\\share\\julia\\stdlib\\v1.7\\LinearAlgebra\\src\\triangular.jl:643\n",
       "[101] +(UL::LinearAlgebra.UnitLowerTriangular, J::LinearAlgebra.UniformScaling) in LinearAlgebra at C:\\ProgramData\\Julia-1.7.2\\share\\julia\\stdlib\\v1.7\\LinearAlgebra\\src\\uniformscaling.jl:182\n",
       "[102] +(A::LinearAlgebra.UnitLowerTriangular, B::LinearAlgebra.Bidiagonal) in LinearAlgebra at C:\\ProgramData\\Julia-1.7.2\\share\\julia\\stdlib\\v1.7\\LinearAlgebra\\src\\special.jl:86\n",
       "[103] +(r::AbstractRange{<:Dates.TimeType}, x::Dates.Period) in Dates at C:\\ProgramData\\Julia-1.7.2\\share\\julia\\stdlib\\v1.7\\Dates\\src\\ranges.jl:63\n",
       "[104] +(x::AbstractArray{<:Dates.TimeType}, y::Union{Dates.CompoundPeriod, Dates.Period}) in Dates at C:\\ProgramData\\Julia-1.7.2\\share\\julia\\stdlib\\v1.7\\Dates\\src\\deprecated.jl:6\n",
       "[105] +(x::T, y::Integer) where T<:AbstractChar in Base at char.jl:237\n",
       "[106] +(x::Ptr, y::Integer) in Base at pointer.jl:159\n",
       "[107] +(r1::StepRangeLen{T, R}, r2::StepRangeLen{T, R}) where {R<:Base.TwicePrecision, T} in Base at twiceprecision.jl:613\n",
       "[108] +(r1::StepRangeLen{T, S}, r2::StepRangeLen{T, S}) where {T, S} in Base at range.jl:1370\n",
       "[109] +(F::LinearAlgebra.Hessenberg, J::LinearAlgebra.UniformScaling) in LinearAlgebra at C:\\ProgramData\\Julia-1.7.2\\share\\julia\\stdlib\\v1.7\\LinearAlgebra\\src\\hessenberg.jl:640\n",
       "[110] +(x::Base.TwicePrecision, y::Number) in Base at twiceprecision.jl:279\n",
       "[111] +(x::Base.TwicePrecision{T}, y::Base.TwicePrecision{T}) where T in Base at twiceprecision.jl:285\n",
       "[112] +(x::Base.TwicePrecision, y::Base.TwicePrecision) in Base at twiceprecision.jl:290\n",
       "[113] +(r1::LinRange{T}, r2::LinRange{T}) where T in Base at range.jl:1354\n",
       "[114] +(r1::Union{LinRange, OrdinalRange, StepRangeLen}, r2::Union{LinRange, OrdinalRange, StepRangeLen}) in Base at range.jl:1363\n",
       "[115] +(J::LinearAlgebra.UniformScaling) in LinearAlgebra at C:\\ProgramData\\Julia-1.7.2\\share\\julia\\stdlib\\v1.7\\LinearAlgebra\\src\\uniformscaling.jl:150\n",
       "[116] +(J::LinearAlgebra.UniformScaling, x::Number) in LinearAlgebra at C:\\ProgramData\\Julia-1.7.2\\share\\julia\\stdlib\\v1.7\\LinearAlgebra\\src\\uniformscaling.jl:145\n",
       "[117] +(J1::LinearAlgebra.UniformScaling, J2::LinearAlgebra.UniformScaling) in LinearAlgebra at C:\\ProgramData\\Julia-1.7.2\\share\\julia\\stdlib\\v1.7\\LinearAlgebra\\src\\uniformscaling.jl:151\n",
       "[118] +(J::LinearAlgebra.UniformScaling, B::BitMatrix) in LinearAlgebra at C:\\ProgramData\\Julia-1.7.2\\share\\julia\\stdlib\\v1.7\\LinearAlgebra\\src\\uniformscaling.jl:153\n",
       "[119] +(x::LinearAlgebra.UniformScaling, H::LinearAlgebra.UpperHessenberg) in LinearAlgebra at C:\\ProgramData\\Julia-1.7.2\\share\\julia\\stdlib\\v1.7\\LinearAlgebra\\src\\hessenberg.jl:107\n",
       "[120] +(J::LinearAlgebra.UniformScaling, F::LinearAlgebra.Hessenberg) in LinearAlgebra at C:\\ProgramData\\Julia-1.7.2\\share\\julia\\stdlib\\v1.7\\LinearAlgebra\\src\\hessenberg.jl:641\n",
       "[121] +(A::LinearAlgebra.UniformScaling, B::LinearAlgebra.Tridiagonal{var\"#s859\", V} where {var\"#s859\"<:Number, V<:AbstractVector{var\"#s859\"}}) in LinearAlgebra at C:\\ProgramData\\Julia-1.7.2\\share\\julia\\stdlib\\v1.7\\LinearAlgebra\\src\\special.jl:245\n",
       "[122] +(A::LinearAlgebra.UniformScaling, B::LinearAlgebra.SymTridiagonal{var\"#s859\", V} where {var\"#s859\"<:Number, V<:AbstractVector{var\"#s859\"}}) in LinearAlgebra at C:\\ProgramData\\Julia-1.7.2\\share\\julia\\stdlib\\v1.7\\LinearAlgebra\\src\\special.jl:250\n",
       "[123] +(A::LinearAlgebra.UniformScaling, B::LinearAlgebra.Bidiagonal{var\"#s859\", V} where {var\"#s859\"<:Number, V<:AbstractVector{var\"#s859\"}}) in LinearAlgebra at C:\\ProgramData\\Julia-1.7.2\\share\\julia\\stdlib\\v1.7\\LinearAlgebra\\src\\special.jl:255\n",
       "[124] +(A::LinearAlgebra.UniformScaling, B::LinearAlgebra.Diagonal{var\"#s859\", V} where {var\"#s859\"<:Number, V<:AbstractVector{var\"#s859\"}}) in LinearAlgebra at C:\\ProgramData\\Julia-1.7.2\\share\\julia\\stdlib\\v1.7\\LinearAlgebra\\src\\special.jl:260\n",
       "[125] +(J::LinearAlgebra.UniformScaling, A::AbstractMatrix) in LinearAlgebra at C:\\ProgramData\\Julia-1.7.2\\share\\julia\\stdlib\\v1.7\\LinearAlgebra\\src\\uniformscaling.jl:154\n",
       "[126] +(A::LinearAlgebra.AbstractTriangular, B::LinearAlgebra.AbstractTriangular) in LinearAlgebra at C:\\ProgramData\\Julia-1.7.2\\share\\julia\\stdlib\\v1.7\\LinearAlgebra\\src\\triangular.jl:644\n",
       "[127] +(x::Dates.Instant) in Dates at C:\\ProgramData\\Julia-1.7.2\\share\\julia\\stdlib\\v1.7\\Dates\\src\\arithmetic.jl:4\n",
       "[128] +(x::Dates.AbstractTime, y::Missing) in Dates at C:\\ProgramData\\Julia-1.7.2\\share\\julia\\stdlib\\v1.7\\Dates\\src\\arithmetic.jl:88\n",
       "[129] +(A::Array, Bs::Array...) in Base at arraymath.jl:43\n",
       "[130] +(X::StridedArray{<:Union{Dates.CompoundPeriod, Dates.Period}}, Y::StridedArray{<:Union{Dates.CompoundPeriod, Dates.Period}}) in Dates at C:\\ProgramData\\Julia-1.7.2\\share\\julia\\stdlib\\v1.7\\Dates\\src\\deprecated.jl:62\n",
       "[131] +(A::Array, B::SparseArrays.AbstractSparseMatrixCSC) in SparseArrays at C:\\ProgramData\\Julia-1.7.2\\share\\julia\\stdlib\\v1.7\\SparseArrays\\src\\sparsematrix.jl:1775\n",
       "[132] +(x::StridedArray{<:Union{Dates.CompoundPeriod, Dates.Period}}) in Dates at C:\\ProgramData\\Julia-1.7.2\\share\\julia\\stdlib\\v1.7\\Dates\\src\\deprecated.jl:55\n",
       "[133] +(x::StridedArray{<:Union{Dates.CompoundPeriod, Dates.Period}}, y::Dates.TimeType) in Dates at C:\\ProgramData\\Julia-1.7.2\\share\\julia\\stdlib\\v1.7\\Dates\\src\\deprecated.jl:10\n",
       "[134] +(A::AbstractArray, B::AbstractArray) in Base at arraymath.jl:37\n",
       "[135] +(x::Float64, y::Float64) in Base at float.jl:399\n",
       "[136] +(x::Dates.CompoundPeriod, y::Dates.Period) in Dates at C:\\ProgramData\\Julia-1.7.2\\share\\julia\\stdlib\\v1.7\\Dates\\src\\periods.jl:362\n",
       "[137] +(x::Dates.CompoundPeriod, y::Dates.TimeType) in Dates at C:\\ProgramData\\Julia-1.7.2\\share\\julia\\stdlib\\v1.7\\Dates\\src\\periods.jl:392\n",
       "[138] +(x::Dates.CompoundPeriod, y::Dates.CompoundPeriod) in Dates at C:\\ProgramData\\Julia-1.7.2\\share\\julia\\stdlib\\v1.7\\Dates\\src\\periods.jl:364\n",
       "[139] +(x::Bool) in Base at bool.jl:159\n",
       "[140] +(x::Integer, y::Ptr) in Base at pointer.jl:161\n",
       "[141] +(y::Integer, x::Rational) in Base at rational.jl:318\n",
       "[142] +(x::Integer, y::AbstractChar) in Base at char.jl:247\n",
       "[143] +(x::Number, y::Base.TwicePrecision) in Base at twiceprecision.jl:283\n",
       "[144] +(::Number, ::Missing) in Base at missing.jl:124\n",
       "[145] +(x::Number, J::LinearAlgebra.UniformScaling) in LinearAlgebra at C:\\ProgramData\\Julia-1.7.2\\share\\julia\\stdlib\\v1.7\\LinearAlgebra\\src\\uniformscaling.jl:146\n",
       "[146] +(x::Bool, y::T) where T<:AbstractFloat in Base at bool.jl:169\n",
       "[147] +(x::Bool, y::Bool) in Base at bool.jl:162\n",
       "[148] +(x::Bool, z::Complex{Bool}) in Base at complex.jl:299\n",
       "[149] +(x::Real, z::Complex{Bool}) in Base at complex.jl:313\n",
       "[150] +(x::Bool, z::Complex) in Base at complex.jl:306\n",
       "[151] +(x::Real, z::Complex) in Base at complex.jl:325\n",
       "[152] +(x::BigInt, c::Union{UInt16, UInt32, UInt8}) in Base.GMP at gmp.jl:528\n",
       "[153] +(x::BigInt, c::Union{Int16, Int32, Int8}) in Base.GMP at gmp.jl:534\n",
       "[154] +(x::BigInt, y::BigInt) in Base.GMP at gmp.jl:480\n",
       "[155] +(a::BigInt, b::BigInt, c::BigInt) in Base.GMP at gmp.jl:520\n",
       "[156] +(a::BigInt, b::BigInt, c::BigInt, d::BigInt) in Base.GMP at gmp.jl:521\n",
       "[157] +(a::BigInt, b::BigInt, c::BigInt, d::BigInt, e::BigInt) in Base.GMP at gmp.jl:522\n",
       "[158] +(x::BigInt, y::BigInt, rest::BigInt...) in Base.GMP at gmp.jl:635\n",
       "[159] +(a::Integer, b::Integer) in Base at int.jl:978\n",
       "[160] +(c::BigInt, x::BigFloat) in Base.MPFR at mpfr.jl:414\n",
       "[161] +(x::Float32, y::Float32) in Base at float.jl:398\n",
       "[162] +(::Missing) in Base at missing.jl:101\n",
       "[163] +(::Missing, ::Number) in Base at missing.jl:123\n",
       "[164] +(x::Missing, y::Dates.AbstractTime) in Dates at C:\\ProgramData\\Julia-1.7.2\\share\\julia\\stdlib\\v1.7\\Dates\\src\\arithmetic.jl:89\n",
       "[165] +(::Missing, ::Missing) in Base at missing.jl:122\n",
       "[166] +(z::Complex{Bool}, x::Bool) in Base at complex.jl:300\n",
       "[167] +(z::Complex, x::Bool) in Base at complex.jl:307\n",
       "[168] +(z::Complex{Bool}, x::Real) in Base at complex.jl:314\n",
       "[169] +(z::Complex) in Base at complex.jl:286\n",
       "[170] +(z::Complex, x::Real) in Base at complex.jl:326\n",
       "[171] +(dt::Dates.DateTime, y::Dates.Year) in Dates at C:\\ProgramData\\Julia-1.7.2\\share\\julia\\stdlib\\v1.7\\Dates\\src\\arithmetic.jl:23\n",
       "[172] +(dt::Dates.DateTime, z::Dates.Month) in Dates at C:\\ProgramData\\Julia-1.7.2\\share\\julia\\stdlib\\v1.7\\Dates\\src\\arithmetic.jl:47\n",
       "[173] +(x::Dates.DateTime, y::Dates.Quarter) in Dates at C:\\ProgramData\\Julia-1.7.2\\share\\julia\\stdlib\\v1.7\\Dates\\src\\arithmetic.jl:75\n",
       "[174] +(x::Dates.DateTime, y::Dates.Period) in Dates at C:\\ProgramData\\Julia-1.7.2\\share\\julia\\stdlib\\v1.7\\Dates\\src\\arithmetic.jl:81\n",
       "[175] +(x::Rational{BigInt}, y::Rational{BigInt}) in Base.GMP.MPQ at gmp.jl:885\n",
       "[176] +(x::Rational) in Base at rational.jl:268\n",
       "[177] +(x::Rational, y::Rational) in Base at rational.jl:282\n",
       "[178] +(level::Base.CoreLogging.LogLevel, inc::Integer) in Base.CoreLogging at logging.jl:131\n",
       "[179] +(x::Dates.Time, y::Dates.TimePeriod) in Dates at C:\\ProgramData\\Julia-1.7.2\\share\\julia\\stdlib\\v1.7\\Dates\\src\\arithmetic.jl:83\n",
       "[180] +(t::Dates.Time, dt::Dates.Date) in Dates at C:\\ProgramData\\Julia-1.7.2\\share\\julia\\stdlib\\v1.7\\Dates\\src\\arithmetic.jl:20\n",
       "[181] +(B::BitMatrix, J::LinearAlgebra.UniformScaling) in LinearAlgebra at C:\\ProgramData\\Julia-1.7.2\\share\\julia\\stdlib\\v1.7\\LinearAlgebra\\src\\uniformscaling.jl:152\n",
       "[182] +(A::AbstractMatrix, J::LinearAlgebra.UniformScaling) in LinearAlgebra at C:\\ProgramData\\Julia-1.7.2\\share\\julia\\stdlib\\v1.7\\LinearAlgebra\\src\\uniformscaling.jl:215\n",
       "[183] +(x::AbstractArray{<:Number}) in Base at abstractarraymath.jl:104\n",
       "[184] +(a::Pkg.Resolve.VersionWeight, b::Pkg.Resolve.VersionWeight) in Pkg.Resolve at C:\\ProgramData\\Julia-1.7.2\\share\\julia\\stdlib\\v1.7\\Pkg\\src\\Resolve\\versionweights.jl:22\n",
       "[185] +(a::Pkg.Resolve.FieldValue, b::Pkg.Resolve.FieldValue) in Pkg.Resolve at C:\\ProgramData\\Julia-1.7.2\\share\\julia\\stdlib\\v1.7\\Pkg\\src\\Resolve\\fieldvalues.jl:43\n",
       "[186] +(x::BigFloat, c::Union{UInt16, UInt32, UInt8}) in Base.MPFR at mpfr.jl:385\n",
       "[187] +(x::BigFloat, c::Union{Int16, Int32, Int8}) in Base.MPFR at mpfr.jl:393\n",
       "[188] +(x::BigFloat, c::Union{Float16, Float32, Float64}) in Base.MPFR at mpfr.jl:401\n",
       "[189] +(x::BigFloat, y::BigFloat) in Base.MPFR at mpfr.jl:378\n",
       "[190] +(x::BigFloat, c::BigInt) in Base.MPFR at mpfr.jl:409\n",
       "[191] +(a::BigFloat, b::BigFloat, c::BigFloat) in Base.MPFR at mpfr.jl:550\n",
       "[192] +(a::BigFloat, b::BigFloat, c::BigFloat, d::BigFloat) in Base.MPFR at mpfr.jl:556\n",
       "[193] +(a::BigFloat, b::BigFloat, c::BigFloat, d::BigFloat, e::BigFloat) in Base.MPFR at mpfr.jl:563\n",
       "[194] +(x::Float16, y::Float16) in Base at float.jl:397\n",
       "[195] +(x::Number) in Base at operators.jl:592\n",
       "[196] +(x::T, y::T) where T<:Number in Base at promotion.jl:454\n",
       "[197] +(x::Number, y::Number) in Base at promotion.jl:379\n",
       "[198] +(dt::Dates.Date, t::Dates.Time) in Dates at C:\\ProgramData\\Julia-1.7.2\\share\\julia\\stdlib\\v1.7\\Dates\\src\\arithmetic.jl:19\n",
       "[199] +(dt::Dates.Date, y::Dates.Year) in Dates at C:\\ProgramData\\Julia-1.7.2\\share\\julia\\stdlib\\v1.7\\Dates\\src\\arithmetic.jl:27\n",
       "[200] +(dt::Dates.Date, z::Dates.Month) in Dates at C:\\ProgramData\\Julia-1.7.2\\share\\julia\\stdlib\\v1.7\\Dates\\src\\arithmetic.jl:54\n",
       "[201] +(x::Dates.Date, y::Dates.Quarter) in Dates at C:\\ProgramData\\Julia-1.7.2\\share\\julia\\stdlib\\v1.7\\Dates\\src\\arithmetic.jl:73\n",
       "[202] +(x::Dates.Date, y::Dates.Week) in Dates at C:\\ProgramData\\Julia-1.7.2\\share\\julia\\stdlib\\v1.7\\Dates\\src\\arithmetic.jl:77\n",
       "[203] +(x::Dates.Date, y::Dates.Day) in Dates at C:\\ProgramData\\Julia-1.7.2\\share\\julia\\stdlib\\v1.7\\Dates\\src\\arithmetic.jl:79\n",
       "[204] +(x::Dates.TimeType) in Dates at C:\\ProgramData\\Julia-1.7.2\\share\\julia\\stdlib\\v1.7\\Dates\\src\\arithmetic.jl:8\n",
       "[205] +(a::Dates.TimeType, b::Dates.Period, c::Dates.Period) in Dates at C:\\ProgramData\\Julia-1.7.2\\share\\julia\\stdlib\\v1.7\\Dates\\src\\periods.jl:383\n",
       "[206] +(a::Dates.TimeType, b::Dates.Period, c::Dates.Period, d::Dates.Period...) in Dates at C:\\ProgramData\\Julia-1.7.2\\share\\julia\\stdlib\\v1.7\\Dates\\src\\periods.jl:384\n",
       "[207] +(x::Dates.TimeType, y::Dates.CompoundPeriod) in Dates at C:\\ProgramData\\Julia-1.7.2\\share\\julia\\stdlib\\v1.7\\Dates\\src\\periods.jl:386\n",
       "[208] +(a, b, c, xs...) in Base at operators.jl:655"
      ]
     },
     "execution_count": 28,
     "metadata": {},
     "output_type": "execute_result"
    }
   ],
   "source": [
    "methods(+)\n"
   ]
  },
  {
   "cell_type": "markdown",
   "id": "0de4fa5b",
   "metadata": {},
   "source": [
    "El operador + está definido en diferentes bibliotecas de Julia, vamos a redefinir el operador en la biblioteca standar Base\n",
    "\n"
   ]
  },
  {
   "cell_type": "code",
   "execution_count": 29,
   "id": "4dc20ce2",
   "metadata": {},
   "outputs": [],
   "source": [
    "import Base.+"
   ]
  },
  {
   "cell_type": "markdown",
   "id": "4161f9a6",
   "metadata": {},
   "source": [
    "Importamos del módulo `Base` el operador `+` y se define un nuevo método para que opere con dos vectores de tipo `Vector2D`\n",
    "\n"
   ]
  },
  {
   "cell_type": "code",
   "execution_count": 30,
   "id": "8f5c208f",
   "metadata": {},
   "outputs": [
    {
     "data": {
      "text/plain": [
       "+ (generic function with 209 methods)"
      ]
     },
     "execution_count": 30,
     "metadata": {},
     "output_type": "execute_result"
    }
   ],
   "source": [
    "+(v::Vector2D, w::Vector2D) = Vector2D(v.x + w.x, v.y + w.y)\n"
   ]
  },
  {
   "cell_type": "code",
   "execution_count": 31,
   "id": "a4c4c6c8",
   "metadata": {},
   "outputs": [
    {
     "data": {
      "text/plain": [
       "Vector2D(6.0, 4.0)"
      ]
     },
     "execution_count": 31,
     "metadata": {},
     "output_type": "execute_result"
    }
   ],
   "source": [
    "v1 + v2\n"
   ]
  },
  {
   "cell_type": "code",
   "execution_count": 32,
   "id": "45f246ed",
   "metadata": {},
   "outputs": [
    {
     "data": {
      "text/plain": [
       "Vector2D(9.0, 6.0)"
      ]
     },
     "execution_count": 32,
     "metadata": {},
     "output_type": "execute_result"
    }
   ],
   "source": [
    "v1 + v2 + v3\n"
   ]
  },
  {
   "cell_type": "markdown",
   "id": "003d70c6",
   "metadata": {},
   "source": [
    "Julia identifica la nueva definición del método asociado al operador `+` para que funcione con objetos de tipo `Vector2D`, esto lo entenderemos como el despacho múltiple.\n",
    "\n"
   ]
  },
  {
   "cell_type": "markdown",
   "id": "bd4cbf85",
   "metadata": {},
   "source": [
    "### Otras sobrecargas de operadores\n",
    "Julia tiene ciertos operadores predefinidos en su librería standand, por ejemplo: `+ , -, *, /`\n",
    "\n"
   ]
  },
  {
   "cell_type": "code",
   "execution_count": 34,
   "id": "9dc54780",
   "metadata": {},
   "outputs": [
    {
     "data": {
      "text/plain": [
       "(+, -, *, /)"
      ]
     },
     "execution_count": 34,
     "metadata": {},
     "output_type": "execute_result"
    }
   ],
   "source": [
    "+,-,*,/"
   ]
  },
  {
   "cell_type": "markdown",
   "id": "7ceb8c1a",
   "metadata": {},
   "source": [
    "Además de sus equivalentes implementaciones como funciones como por ejemplo `sum` o `div`\n",
    "\n"
   ]
  },
  {
   "cell_type": "code",
   "execution_count": 37,
   "id": "e052cb27",
   "metadata": {},
   "outputs": [
    {
     "data": {
      "text/plain": [
       "sum (generic function with 14 methods)"
      ]
     },
     "execution_count": 37,
     "metadata": {},
     "output_type": "execute_result"
    }
   ],
   "source": [
    "sum"
   ]
  },
  {
   "cell_type": "code",
   "execution_count": 35,
   "id": "ccd20313",
   "metadata": {},
   "outputs": [
    {
     "data": {
      "text/html": [
       "# 14 methods for generic function <b>sum</b>:<ul><li> sum(f::<b>Union{Function, Type}</b>, x::<b>SparseArrays.AbstractSparseVector</b>) in SparseArrays at <a href=\"file://C:/buildbot/worker/package_win64/build/usr/share/julia/stdlib/v1.7/SparseArrays/src/sparsevector.jl\" target=\"_blank\">C:\\ProgramData\\Julia-1.7.2\\share\\julia\\stdlib\\v1.7\\SparseArrays\\src\\sparsevector.jl:1376</a></li> <li> sum(x::<b>SparseArrays.AbstractSparseVector</b>) in SparseArrays at <a href=\"file://C:/buildbot/worker/package_win64/build/usr/share/julia/stdlib/v1.7/SparseArrays/src/sparsevector.jl\" target=\"_blank\">C:\\ProgramData\\Julia-1.7.2\\share\\julia\\stdlib\\v1.7\\SparseArrays\\src\\sparsevector.jl:1378</a></li> <li> sum(r::<b>StepRangeLen{<:Any, <:Base.TwicePrecision, <:Base.TwicePrecision}</b>) in Base at <a href=\"https://github.com/JuliaLang/julia/tree/bf534986350a991e4a1b29126de0342ffd76205e/base/twiceprecision.jl#L592\" target=\"_blank\">twiceprecision.jl:592</a></li> <li> sum(r::<b>StepRangeLen</b>) in Base at <a href=\"https://github.com/JuliaLang/julia/tree/bf534986350a991e4a1b29126de0342ffd76205e/base/twiceprecision.jl#L577\" target=\"_blank\">twiceprecision.jl:577</a></li> <li> sum(x::<b>Tuple{Any, Vararg{Any}}</b>) in Base at <a href=\"https://github.com/JuliaLang/julia/tree/bf534986350a991e4a1b29126de0342ffd76205e/base/tuple.jl#L493\" target=\"_blank\">tuple.jl:493</a></li> <li> sum(r::<b>AbstractRange{<:Real}</b>) in Base at <a href=\"https://github.com/JuliaLang/julia/tree/bf534986350a991e4a1b29126de0342ffd76205e/base/range.jl#L1312\" target=\"_blank\">range.jl:1312</a></li> <li> sum(arr::<b>Union{Tuple{BigInt, Vararg{BigInt}}, AbstractArray{BigInt}}</b>) in Base.GMP at <a href=\"https://github.com/JuliaLang/julia/tree/bf534986350a991e4a1b29126de0342ffd76205e/base/gmp.jl#L636\" target=\"_blank\">gmp.jl:636</a></li> <li> sum(a::<b>AbstractArray{Bool}</b>; <i>kw...</i>) in Base at <a href=\"https://github.com/JuliaLang/julia/tree/bf534986350a991e4a1b29126de0342ffd76205e/base/reduce.jl#L533\" target=\"_blank\">reduce.jl:533</a></li> <li> sum(arr::<b>AbstractArray{BigFloat}</b>) in Base.MPFR at <a href=\"https://github.com/JuliaLang/julia/tree/bf534986350a991e4a1b29126de0342ffd76205e/base/mpfr.jl#L730\" target=\"_blank\">mpfr.jl:730</a></li> <li> sum(a::<b>AbstractArray</b>; <i>dims, kw...</i>) in Base at <a href=\"https://github.com/JuliaLang/julia/tree/bf534986350a991e4a1b29126de0342ffd76205e/base/reducedim.jl#L889\" target=\"_blank\">reducedim.jl:889</a></li> <li> sum(a; <i>kw...</i>) in Base at <a href=\"https://github.com/JuliaLang/julia/tree/bf534986350a991e4a1b29126de0342ffd76205e/base/reduce.jl#L532\" target=\"_blank\">reduce.jl:532</a></li> <li> sum(f, x::<b>SparseArrays.AbstractSparseVector</b>) in SparseArrays at <a href=\"file://C:/buildbot/worker/package_win64/build/usr/share/julia/stdlib/v1.7/SparseArrays/src/sparsevector.jl\" target=\"_blank\">C:\\ProgramData\\Julia-1.7.2\\share\\julia\\stdlib\\v1.7\\SparseArrays\\src\\sparsevector.jl:1377</a></li> <li> sum(f, a::<b>AbstractArray</b>; <i>dims, kw...</i>) in Base at <a href=\"https://github.com/JuliaLang/julia/tree/bf534986350a991e4a1b29126de0342ffd76205e/base/reducedim.jl#L890\" target=\"_blank\">reducedim.jl:890</a></li> <li> sum(f, a; <i>kw...</i>) in Base at <a href=\"https://github.com/JuliaLang/julia/tree/bf534986350a991e4a1b29126de0342ffd76205e/base/reduce.jl#L503\" target=\"_blank\">reduce.jl:503</a></li> </ul>"
      ],
      "text/plain": [
       "# 14 methods for generic function \"sum\":\n",
       "[1] sum(f::Union{Function, Type}, x::SparseArrays.AbstractSparseVector) in SparseArrays at C:\\ProgramData\\Julia-1.7.2\\share\\julia\\stdlib\\v1.7\\SparseArrays\\src\\sparsevector.jl:1376\n",
       "[2] sum(x::SparseArrays.AbstractSparseVector) in SparseArrays at C:\\ProgramData\\Julia-1.7.2\\share\\julia\\stdlib\\v1.7\\SparseArrays\\src\\sparsevector.jl:1378\n",
       "[3] sum(r::StepRangeLen{<:Any, <:Base.TwicePrecision, <:Base.TwicePrecision}) in Base at twiceprecision.jl:592\n",
       "[4] sum(r::StepRangeLen) in Base at twiceprecision.jl:577\n",
       "[5] sum(x::Tuple{Any, Vararg{Any}}) in Base at tuple.jl:493\n",
       "[6] sum(r::AbstractRange{<:Real}) in Base at range.jl:1312\n",
       "[7] sum(arr::Union{Tuple{BigInt, Vararg{BigInt}}, AbstractArray{BigInt}}) in Base.GMP at gmp.jl:636\n",
       "[8] sum(a::AbstractArray{Bool}; kw...) in Base at reduce.jl:533\n",
       "[9] sum(arr::AbstractArray{BigFloat}) in Base.MPFR at mpfr.jl:730\n",
       "[10] sum(a::AbstractArray; dims, kw...) in Base at reducedim.jl:889\n",
       "[11] sum(a; kw...) in Base at reduce.jl:532\n",
       "[12] sum(f, x::SparseArrays.AbstractSparseVector) in SparseArrays at C:\\ProgramData\\Julia-1.7.2\\share\\julia\\stdlib\\v1.7\\SparseArrays\\src\\sparsevector.jl:1377\n",
       "[13] sum(f, a::AbstractArray; dims, kw...) in Base at reducedim.jl:890\n",
       "[14] sum(f, a; kw...) in Base at reduce.jl:503"
      ]
     },
     "execution_count": 35,
     "metadata": {},
     "output_type": "execute_result"
    }
   ],
   "source": [
    "methods(sum)\n"
   ]
  },
  {
   "cell_type": "code",
   "execution_count": 38,
   "id": "540926b7",
   "metadata": {},
   "outputs": [
    {
     "data": {
      "text/plain": [
       "div (generic function with 53 methods)"
      ]
     },
     "execution_count": 38,
     "metadata": {},
     "output_type": "execute_result"
    }
   ],
   "source": [
    "div\n"
   ]
  },
  {
   "cell_type": "code",
   "execution_count": 39,
   "id": "540d9267",
   "metadata": {},
   "outputs": [
    {
     "data": {
      "text/html": [
       "# 53 methods for generic function <b>div</b>:<ul><li> div(a::<b>T</b>, b::<b>Base.MultiplicativeInverses.SignedMultiplicativeInverse{T}</b>)<i> where T</i> in Base.MultiplicativeInverses at <a href=\"https://github.com/JuliaLang/julia/tree/bf534986350a991e4a1b29126de0342ffd76205e/base/multinverses.jl#L138\" target=\"_blank\">multinverses.jl:138</a></li> <li> div(a::<b>T</b>, b::<b>Base.MultiplicativeInverses.UnsignedMultiplicativeInverse{T}</b>)<i> where T</i> in Base.MultiplicativeInverses at <a href=\"https://github.com/JuliaLang/julia/tree/bf534986350a991e4a1b29126de0342ffd76205e/base/multinverses.jl#L143\" target=\"_blank\">multinverses.jl:143</a></li> <li> div(x::<b>Union{Int128, Int16, Int32, Int64, Int8}</b>, y::<b>Unsigned</b>) in Base at <a href=\"https://github.com/JuliaLang/julia/tree/bf534986350a991e4a1b29126de0342ffd76205e/base/int.jl#L218\" target=\"_blank\">int.jl:218</a></li> <li> div(x::<b>T</b>, y::<b>T</b>)<i> where T<:Union{Int16, Int32, Int64, Int8}</i> in Base at <a href=\"https://github.com/JuliaLang/julia/tree/bf534986350a991e4a1b29126de0342ffd76205e/base/int.jl#L284\" target=\"_blank\">int.jl:284</a></li> <li> div(x::<b>T</b>, y::<b>T</b>)<i> where T<:Union{UInt16, UInt32, UInt64, UInt8}</i> in Base at <a href=\"https://github.com/JuliaLang/julia/tree/bf534986350a991e4a1b29126de0342ffd76205e/base/int.jl#L286\" target=\"_blank\">int.jl:286</a></li> <li> div(c::<b>Union{UInt16, UInt32, UInt8}</b>, x::<b>BigFloat</b>) in Base.MPFR at <a href=\"https://github.com/JuliaLang/julia/tree/bf534986350a991e4a1b29126de0342ffd76205e/base/mpfr.jl#L503\" target=\"_blank\">mpfr.jl:503</a></li> <li> div(c::<b>Union{Int16, Int32, Int8}</b>, x::<b>BigFloat</b>) in Base.MPFR at <a href=\"https://github.com/JuliaLang/julia/tree/bf534986350a991e4a1b29126de0342ffd76205e/base/mpfr.jl#L517\" target=\"_blank\">mpfr.jl:517</a></li> <li> div(c::<b>Union{Float16, Float32, Float64}</b>, x::<b>BigFloat</b>) in Base.MPFR at <a href=\"https://github.com/JuliaLang/julia/tree/bf534986350a991e4a1b29126de0342ffd76205e/base/mpfr.jl#L531\" target=\"_blank\">mpfr.jl:531</a></li> <li> div(x::<b>Signed</b>, y::<b>Unsigned</b>, ::<b>RoundingMode{:Down}</b>) in Base at <a href=\"https://github.com/JuliaLang/julia/tree/bf534986350a991e4a1b29126de0342ffd76205e/base/div.jl#L231\" target=\"_blank\">div.jl:231</a></li> <li> div(x::<b>Signed</b>, y::<b>Unsigned</b>, ::<b>RoundingMode{:Up}</b>) in Base at <a href=\"https://github.com/JuliaLang/julia/tree/bf534986350a991e4a1b29126de0342ffd76205e/base/div.jl#L240\" target=\"_blank\">div.jl:240</a></li> <li> div(x::<b>Integer</b>, y::<b>Rational</b>) in Base at <a href=\"https://github.com/JuliaLang/julia/tree/bf534986350a991e4a1b29126de0342ffd76205e/base/rational.jl#L449\" target=\"_blank\">rational.jl:449</a></li> <li> div(x::<b>Integer</b>, y::<b>Rational</b>, r::<b>RoundingMode</b>) in Base at <a href=\"https://github.com/JuliaLang/julia/tree/bf534986350a991e4a1b29126de0342ffd76205e/base/rational.jl#L433\" target=\"_blank\">rational.jl:433</a></li> <li> div(x::<b>P</b>, y::<b>P</b>, r::<b>RoundingMode</b>)<i> where P<:Dates.Period</i> in Dates at <a href=\"file://C:/buildbot/worker/package_win64/build/usr/share/julia/stdlib/v1.7/Dates/src/periods.jl\" target=\"_blank\">C:\\ProgramData\\Julia-1.7.2\\share\\julia\\stdlib\\v1.7\\Dates\\src\\periods.jl:84</a></li> <li> div(x::<b>P</b>, y::<b>Real</b>, r::<b>RoundingMode</b>)<i> where P<:Dates.Period</i> in Dates at <a href=\"file://C:/buildbot/worker/package_win64/build/usr/share/julia/stdlib/v1.7/Dates/src/periods.jl\" target=\"_blank\">C:\\ProgramData\\Julia-1.7.2\\share\\julia\\stdlib\\v1.7\\Dates\\src\\periods.jl:85</a></li> <li> div(::<b>Number</b>, ::<b>Missing</b>, r::<b>RoundingMode</b>) in Base at <a href=\"https://github.com/JuliaLang/julia/tree/bf534986350a991e4a1b29126de0342ffd76205e/base/missing.jl#L130\" target=\"_blank\">missing.jl:130</a></li> <li> div(x::<b>Unsigned</b>, y::<b>Union{Int128, Int16, Int32, Int64, Int8}</b>) in Base at <a href=\"https://github.com/JuliaLang/julia/tree/bf534986350a991e4a1b29126de0342ffd76205e/base/int.jl#L219\" target=\"_blank\">int.jl:219</a></li> <li> div(x::<b>Unsigned</b>, y::<b>Signed</b>, ::<b>RoundingMode{:Down}</b>) in Base at <a href=\"https://github.com/JuliaLang/julia/tree/bf534986350a991e4a1b29126de0342ffd76205e/base/div.jl#L235\" target=\"_blank\">div.jl:235</a></li> <li> div(x::<b>Unsigned</b>, y::<b>Signed</b>, ::<b>RoundingMode{:Up}</b>) in Base at <a href=\"https://github.com/JuliaLang/julia/tree/bf534986350a991e4a1b29126de0342ffd76205e/base/div.jl#L244\" target=\"_blank\">div.jl:244</a></li> <li> div(x::<b>Rational</b>, y::<b>Integer</b>) in Base at <a href=\"https://github.com/JuliaLang/julia/tree/bf534986350a991e4a1b29126de0342ffd76205e/base/rational.jl#L449\" target=\"_blank\">rational.jl:449</a></li> <li> div(x::<b>Rational</b>, y::<b>Integer</b>, r::<b>RoundingMode</b>) in Base at <a href=\"https://github.com/JuliaLang/julia/tree/bf534986350a991e4a1b29126de0342ffd76205e/base/rational.jl#L429\" target=\"_blank\">rational.jl:429</a></li> <li> div(x::<b>Rational</b>, y::<b>Rational</b>) in Base at <a href=\"https://github.com/JuliaLang/julia/tree/bf534986350a991e4a1b29126de0342ffd76205e/base/rational.jl#L449\" target=\"_blank\">rational.jl:449</a></li> <li> div(x::<b>T</b>, y::<b>T</b>, r::<b>RoundingMode</b>)<i> where T<:Rational</i> in Base at <a href=\"https://github.com/JuliaLang/julia/tree/bf534986350a991e4a1b29126de0342ffd76205e/base/rational.jl#L445\" target=\"_blank\">rational.jl:445</a></li> <li> div(x::<b>Rational</b>, y::<b>Rational</b>, r::<b>RoundingMode</b>) in Base at <a href=\"https://github.com/JuliaLang/julia/tree/bf534986350a991e4a1b29126de0342ffd76205e/base/rational.jl#L437\" target=\"_blank\">rational.jl:437</a></li> <li> div(::<b>Missing</b>, ::<b>Missing</b>, r::<b>RoundingMode</b>) in Base at <a href=\"https://github.com/JuliaLang/julia/tree/bf534986350a991e4a1b29126de0342ffd76205e/base/missing.jl#L128\" target=\"_blank\">missing.jl:128</a></li> <li> div(::<b>Missing</b>, ::<b>Number</b>, r::<b>RoundingMode</b>) in Base at <a href=\"https://github.com/JuliaLang/julia/tree/bf534986350a991e4a1b29126de0342ffd76205e/base/missing.jl#L129\" target=\"_blank\">missing.jl:129</a></li> <li> div(x::<b>UInt128</b>, y::<b>UInt128</b>) in Base at <a href=\"https://github.com/JuliaLang/julia/tree/bf534986350a991e4a1b29126de0342ffd76205e/base/int.jl#L970\" target=\"_blank\">int.jl:970</a></li> <li> div(x::<b>T</b>, y::<b>T</b>, ::<b>RoundingMode{:Down}</b>)<i> where T<:Unsigned</i> in Base at <a href=\"https://github.com/JuliaLang/julia/tree/bf534986350a991e4a1b29126de0342ffd76205e/base/div.jl#L300\" target=\"_blank\">div.jl:300</a></li> <li> div(x::<b>T</b>, y::<b>T</b>, ::<b>RoundingMode{:Up}</b>)<i> where T<:Unsigned</i> in Base at <a href=\"https://github.com/JuliaLang/julia/tree/bf534986350a991e4a1b29126de0342ffd76205e/base/div.jl#L307\" target=\"_blank\">div.jl:307</a></li> <li> div(a::<b>UInt128</b>, b::<b>UInt128</b>, ::<b>RoundingMode{:ToZero}</b>) in Base at <a href=\"https://github.com/JuliaLang/julia/tree/bf534986350a991e4a1b29126de0342ffd76205e/base/div.jl#L271\" target=\"_blank\">div.jl:271</a></li> <li> div(x::<b>Bool</b>, y::<b>Bool</b>) in Base at <a href=\"https://github.com/JuliaLang/julia/tree/bf534986350a991e4a1b29126de0342ffd76205e/base/bool.jl#L180\" target=\"_blank\">bool.jl:180</a></li> <li> div(x::<b>Bool</b>, y::<b>Bool</b>, rnd::<b>Union{RoundingMode{:NearestTiesAway}, RoundingMode{:NearestTiesUp}, RoundingMode{:Nearest}}</b>) in Base at <a href=\"https://github.com/JuliaLang/julia/tree/bf534986350a991e4a1b29126de0342ffd76205e/base/div.jl#L263\" target=\"_blank\">div.jl:263</a></li> <li> div(a::<b>Bool</b>, b::<b>Bool</b>, r::<b>RoundingMode{:Up}</b>) in Base at <a href=\"https://github.com/JuliaLang/julia/tree/bf534986350a991e4a1b29126de0342ffd76205e/base/div.jl#L261\" target=\"_blank\">div.jl:261</a></li> <li> div(a::<b>Bool</b>, b::<b>Bool</b>, r::<b>RoundingMode{:Down}</b>) in Base at <a href=\"https://github.com/JuliaLang/julia/tree/bf534986350a991e4a1b29126de0342ffd76205e/base/div.jl#L261\" target=\"_blank\">div.jl:261</a></li> <li> div(a::<b>Bool</b>, b::<b>Bool</b>, r::<b>RoundingMode{:ToZero}</b>) in Base at <a href=\"https://github.com/JuliaLang/julia/tree/bf534986350a991e4a1b29126de0342ffd76205e/base/div.jl#L261\" target=\"_blank\">div.jl:261</a></li> <li> div(a::<b>Bool</b>, b::<b>Bool</b>, r::<b>RoundingMode</b>) in Base at <a href=\"https://github.com/JuliaLang/julia/tree/bf534986350a991e4a1b29126de0342ffd76205e/base/div.jl#L258\" target=\"_blank\">div.jl:258</a></li> <li> div(x::<b>BigInt</b>, y::<b>BigInt</b>) in Base.GMP at <a href=\"https://github.com/JuliaLang/julia/tree/bf534986350a991e4a1b29126de0342ffd76205e/base/gmp.jl#L491\" target=\"_blank\">gmp.jl:491</a></li> <li> div(x::<b>BigInt</b>, y::<b>BigInt</b>, ::<b>RoundingMode{:ToZero}</b>) in Base.GMP at <a href=\"https://github.com/JuliaLang/julia/tree/bf534986350a991e4a1b29126de0342ffd76205e/base/gmp.jl#L487\" target=\"_blank\">gmp.jl:487</a></li> <li> div(x::<b>BigInt</b>, y::<b>BigInt</b>, ::<b>RoundingMode{:Down}</b>) in Base.GMP at <a href=\"https://github.com/JuliaLang/julia/tree/bf534986350a991e4a1b29126de0342ffd76205e/base/gmp.jl#L487\" target=\"_blank\">gmp.jl:487</a></li> <li> div(x::<b>BigInt</b>, y::<b>BigInt</b>, ::<b>RoundingMode{:Up}</b>) in Base.GMP at <a href=\"https://github.com/JuliaLang/julia/tree/bf534986350a991e4a1b29126de0342ffd76205e/base/gmp.jl#L487\" target=\"_blank\">gmp.jl:487</a></li> <li> div(x::<b>BigFloat</b>, c::<b>Union{UInt16, UInt32, UInt8}</b>) in Base.MPFR at <a href=\"https://github.com/JuliaLang/julia/tree/bf534986350a991e4a1b29126de0342ffd76205e/base/mpfr.jl#L497\" target=\"_blank\">mpfr.jl:497</a></li> <li> div(x::<b>BigFloat</b>, c::<b>Union{Int16, Int32, Int8}</b>) in Base.MPFR at <a href=\"https://github.com/JuliaLang/julia/tree/bf534986350a991e4a1b29126de0342ffd76205e/base/mpfr.jl#L511\" target=\"_blank\">mpfr.jl:511</a></li> <li> div(x::<b>BigFloat</b>, c::<b>Union{Float16, Float32, Float64}</b>) in Base.MPFR at <a href=\"https://github.com/JuliaLang/julia/tree/bf534986350a991e4a1b29126de0342ffd76205e/base/mpfr.jl#L525\" target=\"_blank\">mpfr.jl:525</a></li> <li> div(x::<b>BigFloat</b>, y::<b>BigFloat</b>) in Base.MPFR at <a href=\"https://github.com/JuliaLang/julia/tree/bf534986350a991e4a1b29126de0342ffd76205e/base/mpfr.jl#L489\" target=\"_blank\">mpfr.jl:489</a></li> <li> div(x::<b>T</b>, y::<b>T</b>, r::<b>RoundingMode</b>)<i> where T<:AbstractFloat</i> in Base at <a href=\"https://github.com/JuliaLang/julia/tree/bf534986350a991e4a1b29126de0342ffd76205e/base/div.jl#L319\" target=\"_blank\">div.jl:319</a></li> <li> div(x::<b>BigFloat</b>, c::<b>BigInt</b>) in Base.MPFR at <a href=\"https://github.com/JuliaLang/julia/tree/bf534986350a991e4a1b29126de0342ffd76205e/base/mpfr.jl#L539\" target=\"_blank\">mpfr.jl:539</a></li> <li> div(x::<b>Int128</b>, y::<b>Int128</b>) in Base at <a href=\"https://github.com/JuliaLang/julia/tree/bf534986350a991e4a1b29126de0342ffd76205e/base/int.jl#L969\" target=\"_blank\">int.jl:969</a></li> <li> div(x::<b>Integer</b>, y::<b>Integer</b>, rnd::<b>Union{RoundingMode{:NearestTiesAway}, RoundingMode{:NearestTiesUp}, RoundingMode{:Nearest}}</b>) in Base at <a href=\"https://github.com/JuliaLang/julia/tree/bf534986350a991e4a1b29126de0342ffd76205e/base/div.jl#L249\" target=\"_blank\">div.jl:249</a></li> <li> div(x::<b>T</b>, y::<b>T</b>, ::<b>RoundingMode{:Down}</b>)<i> where T<:Integer</i> in Base at <a href=\"https://github.com/JuliaLang/julia/tree/bf534986350a991e4a1b29126de0342ffd76205e/base/div.jl#L301\" target=\"_blank\">div.jl:301</a></li> <li> div(x::<b>T</b>, y::<b>T</b>, ::<b>RoundingMode{:Up}</b>)<i> where T<:Integer</i> in Base at <a href=\"https://github.com/JuliaLang/julia/tree/bf534986350a991e4a1b29126de0342ffd76205e/base/div.jl#L311\" target=\"_blank\">div.jl:311</a></li> <li> div(a::<b>Int128</b>, b::<b>Int128</b>, ::<b>RoundingMode{:ToZero}</b>) in Base at <a href=\"https://github.com/JuliaLang/julia/tree/bf534986350a991e4a1b29126de0342ffd76205e/base/div.jl#L270\" target=\"_blank\">div.jl:270</a></li> <li> div(a::<b>T</b>, b::<b>T</b>, ::<b>RoundingMode{:ToZero}</b>)<i> where T<:Union{Int128, Int16, Int32, Int64, Int8, UInt16, UInt32, UInt64, UInt8}</i> in Base at <a href=\"https://github.com/JuliaLang/julia/tree/bf534986350a991e4a1b29126de0342ffd76205e/base/div.jl#L257\" target=\"_blank\">div.jl:257</a></li> <li> div(x::<b>Real</b>, y::<b>Real</b>, r::<b>RoundingMode</b>) in Base at <a href=\"https://github.com/JuliaLang/julia/tree/bf534986350a991e4a1b29126de0342ffd76205e/base/div.jl#L288\" target=\"_blank\">div.jl:288</a></li> <li> div(a, b) in Base at <a href=\"https://github.com/JuliaLang/julia/tree/bf534986350a991e4a1b29126de0342ffd76205e/base/div.jl#L37\" target=\"_blank\">div.jl:37</a></li> </ul>"
      ],
      "text/plain": [
       "# 53 methods for generic function \"div\":\n",
       "[1] div(a::T, b::Base.MultiplicativeInverses.SignedMultiplicativeInverse{T}) where T in Base.MultiplicativeInverses at multinverses.jl:138\n",
       "[2] div(a::T, b::Base.MultiplicativeInverses.UnsignedMultiplicativeInverse{T}) where T in Base.MultiplicativeInverses at multinverses.jl:143\n",
       "[3] div(x::Union{Int128, Int16, Int32, Int64, Int8}, y::Unsigned) in Base at int.jl:218\n",
       "[4] div(x::T, y::T) where T<:Union{Int16, Int32, Int64, Int8} in Base at int.jl:284\n",
       "[5] div(x::T, y::T) where T<:Union{UInt16, UInt32, UInt64, UInt8} in Base at int.jl:286\n",
       "[6] div(c::Union{UInt16, UInt32, UInt8}, x::BigFloat) in Base.MPFR at mpfr.jl:503\n",
       "[7] div(c::Union{Int16, Int32, Int8}, x::BigFloat) in Base.MPFR at mpfr.jl:517\n",
       "[8] div(c::Union{Float16, Float32, Float64}, x::BigFloat) in Base.MPFR at mpfr.jl:531\n",
       "[9] div(x::Signed, y::Unsigned, ::RoundingMode{:Down}) in Base at div.jl:231\n",
       "[10] div(x::Signed, y::Unsigned, ::RoundingMode{:Up}) in Base at div.jl:240\n",
       "[11] div(x::Integer, y::Rational) in Base at rational.jl:449\n",
       "[12] div(x::Integer, y::Rational, r::RoundingMode) in Base at rational.jl:433\n",
       "[13] div(x::P, y::P, r::RoundingMode) where P<:Dates.Period in Dates at C:\\ProgramData\\Julia-1.7.2\\share\\julia\\stdlib\\v1.7\\Dates\\src\\periods.jl:84\n",
       "[14] div(x::P, y::Real, r::RoundingMode) where P<:Dates.Period in Dates at C:\\ProgramData\\Julia-1.7.2\\share\\julia\\stdlib\\v1.7\\Dates\\src\\periods.jl:85\n",
       "[15] div(::Number, ::Missing, r::RoundingMode) in Base at missing.jl:130\n",
       "[16] div(x::Unsigned, y::Union{Int128, Int16, Int32, Int64, Int8}) in Base at int.jl:219\n",
       "[17] div(x::Unsigned, y::Signed, ::RoundingMode{:Down}) in Base at div.jl:235\n",
       "[18] div(x::Unsigned, y::Signed, ::RoundingMode{:Up}) in Base at div.jl:244\n",
       "[19] div(x::Rational, y::Integer) in Base at rational.jl:449\n",
       "[20] div(x::Rational, y::Integer, r::RoundingMode) in Base at rational.jl:429\n",
       "[21] div(x::Rational, y::Rational) in Base at rational.jl:449\n",
       "[22] div(x::T, y::T, r::RoundingMode) where T<:Rational in Base at rational.jl:445\n",
       "[23] div(x::Rational, y::Rational, r::RoundingMode) in Base at rational.jl:437\n",
       "[24] div(::Missing, ::Missing, r::RoundingMode) in Base at missing.jl:128\n",
       "[25] div(::Missing, ::Number, r::RoundingMode) in Base at missing.jl:129\n",
       "[26] div(x::UInt128, y::UInt128) in Base at int.jl:970\n",
       "[27] div(x::T, y::T, ::RoundingMode{:Down}) where T<:Unsigned in Base at div.jl:300\n",
       "[28] div(x::T, y::T, ::RoundingMode{:Up}) where T<:Unsigned in Base at div.jl:307\n",
       "[29] div(a::UInt128, b::UInt128, ::RoundingMode{:ToZero}) in Base at div.jl:271\n",
       "[30] div(x::Bool, y::Bool) in Base at bool.jl:180\n",
       "[31] div(x::Bool, y::Bool, rnd::Union{RoundingMode{:NearestTiesAway}, RoundingMode{:NearestTiesUp}, RoundingMode{:Nearest}}) in Base at div.jl:263\n",
       "[32] div(a::Bool, b::Bool, r::RoundingMode{:Up}) in Base at div.jl:261\n",
       "[33] div(a::Bool, b::Bool, r::RoundingMode{:Down}) in Base at div.jl:261\n",
       "[34] div(a::Bool, b::Bool, r::RoundingMode{:ToZero}) in Base at div.jl:261\n",
       "[35] div(a::Bool, b::Bool, r::RoundingMode) in Base at div.jl:258\n",
       "[36] div(x::BigInt, y::BigInt) in Base.GMP at gmp.jl:491\n",
       "[37] div(x::BigInt, y::BigInt, ::RoundingMode{:ToZero}) in Base.GMP at gmp.jl:487\n",
       "[38] div(x::BigInt, y::BigInt, ::RoundingMode{:Down}) in Base.GMP at gmp.jl:487\n",
       "[39] div(x::BigInt, y::BigInt, ::RoundingMode{:Up}) in Base.GMP at gmp.jl:487\n",
       "[40] div(x::BigFloat, c::Union{UInt16, UInt32, UInt8}) in Base.MPFR at mpfr.jl:497\n",
       "[41] div(x::BigFloat, c::Union{Int16, Int32, Int8}) in Base.MPFR at mpfr.jl:511\n",
       "[42] div(x::BigFloat, c::Union{Float16, Float32, Float64}) in Base.MPFR at mpfr.jl:525\n",
       "[43] div(x::BigFloat, y::BigFloat) in Base.MPFR at mpfr.jl:489\n",
       "[44] div(x::T, y::T, r::RoundingMode) where T<:AbstractFloat in Base at div.jl:319\n",
       "[45] div(x::BigFloat, c::BigInt) in Base.MPFR at mpfr.jl:539\n",
       "[46] div(x::Int128, y::Int128) in Base at int.jl:969\n",
       "[47] div(x::Integer, y::Integer, rnd::Union{RoundingMode{:NearestTiesAway}, RoundingMode{:NearestTiesUp}, RoundingMode{:Nearest}}) in Base at div.jl:249\n",
       "[48] div(x::T, y::T, ::RoundingMode{:Down}) where T<:Integer in Base at div.jl:301\n",
       "[49] div(x::T, y::T, ::RoundingMode{:Up}) where T<:Integer in Base at div.jl:311\n",
       "[50] div(a::Int128, b::Int128, ::RoundingMode{:ToZero}) in Base at div.jl:270\n",
       "[51] div(a::T, b::T, ::RoundingMode{:ToZero}) where T<:Union{Int128, Int16, Int32, Int64, Int8, UInt16, UInt32, UInt64, UInt8} in Base at div.jl:257\n",
       "[52] div(x::Real, y::Real, r::RoundingMode) in Base at div.jl:288\n",
       "[53] div(a, b) in Base at div.jl:37"
      ]
     },
     "execution_count": 39,
     "metadata": {},
     "output_type": "execute_result"
    }
   ],
   "source": [
    "methods(div)"
   ]
  },
  {
   "cell_type": "code",
   "execution_count": 40,
   "id": "ac7450e0",
   "metadata": {},
   "outputs": [
    {
     "ename": "LoadError",
     "evalue": "UndefVarError: dot not defined",
     "output_type": "error",
     "traceback": [
      "UndefVarError: dot not defined",
      "",
      "Stacktrace:",
      " [1] top-level scope",
      "   @ In[40]:1",
      " [2] eval",
      "   @ .\\boot.jl:373 [inlined]",
      " [3] include_string(mapexpr::typeof(REPL.softscope), mod::Module, code::String, filename::String)",
      "   @ Base .\\loading.jl:1196"
     ]
    }
   ],
   "source": [
    "methods(dot)"
   ]
  },
  {
   "cell_type": "markdown",
   "id": "012a7996",
   "metadata": {},
   "source": [
    "Sin embargo podemos definirlo para que operen con dos vectores de tipo `Vector2D`\n",
    "\n"
   ]
  },
  {
   "cell_type": "code",
   "execution_count": 41,
   "id": "a2f9c936",
   "metadata": {},
   "outputs": [
    {
     "data": {
      "text/plain": [
       "⋅ (generic function with 1 method)"
      ]
     },
     "execution_count": 41,
     "metadata": {},
     "output_type": "execute_result"
    }
   ],
   "source": [
    "⋅(v::Vector2D, w::Vector2D) = (v.x * w.x +  v.y * w.y)\n"
   ]
  },
  {
   "cell_type": "code",
   "execution_count": 42,
   "id": "ce21afb1",
   "metadata": {},
   "outputs": [
    {
     "data": {
      "text/plain": [
       "13.0"
      ]
     },
     "execution_count": 42,
     "metadata": {},
     "output_type": "execute_result"
    }
   ],
   "source": [
    "v1 ⋅ v2"
   ]
  },
  {
   "cell_type": "markdown",
   "id": "99526349",
   "metadata": {},
   "source": [
    "de la misma forma podemos definir `dot` para que opere con vectores de tipo `Vector2D`"
   ]
  },
  {
   "cell_type": "code",
   "execution_count": 43,
   "id": "fc340b78",
   "metadata": {},
   "outputs": [
    {
     "data": {
      "text/plain": [
       "dot (generic function with 1 method)"
      ]
     },
     "execution_count": 43,
     "metadata": {},
     "output_type": "execute_result"
    }
   ],
   "source": [
    "dot(v::Vector2D, w::Vector2D) = (v.x * w.x +  v.y * w.y)"
   ]
  },
  {
   "cell_type": "code",
   "execution_count": 44,
   "id": "1b04283f",
   "metadata": {},
   "outputs": [
    {
     "data": {
      "text/plain": [
       "13.0"
      ]
     },
     "execution_count": 44,
     "metadata": {},
     "output_type": "execute_result"
    }
   ],
   "source": [
    "dot(v1,v2)"
   ]
  },
  {
   "cell_type": "markdown",
   "id": "f73faf0e",
   "metadata": {},
   "source": [
    "Adicionalmente ciertos operadores Unicode están implementados en algunos paquetes como `LinearAlgebra`.\n",
    "\n",
    "Reiniciamos el Kernel para mostrar los operadores implementados en este paquete..."
   ]
  },
  {
   "cell_type": "code",
   "execution_count": 46,
   "id": "0b9f58ed",
   "metadata": {},
   "outputs": [],
   "source": [
    "using Pkg"
   ]
  },
  {
   "cell_type": "code",
   "execution_count": 50,
   "id": "1ddf4f7c",
   "metadata": {},
   "outputs": [
    {
     "name": "stderr",
     "output_type": "stream",
     "text": [
      "\u001b[32m\u001b[1m    Updating\u001b[22m\u001b[39m registry at `C:\\Users\\Pedro Elias\\.julia\\registries\\General.toml`\n",
      "\u001b[32m\u001b[1m   Resolving\u001b[22m\u001b[39m package versions...\n",
      "\u001b[32m\u001b[1m   Installed\u001b[22m\u001b[39m Qt5Base_jll ── v5.15.3+2\n",
      "\u001b[32m\u001b[1m   Installed\u001b[22m\u001b[39m Bzip2_jll ──── v1.0.8+1\n",
      "\u001b[32m\u001b[1m   Installed\u001b[22m\u001b[39m Libiconv_jll ─ v1.16.1+2\n",
      "\u001b[32m\u001b[1m   Installed\u001b[22m\u001b[39m libpng_jll ─── v1.6.38+1\n",
      "\u001b[32m\u001b[1m  No Changes\u001b[22m\u001b[39m to `C:\\Users\\Pedro Elias\\.julia\\environments\\v1.7\\Project.toml`\n",
      "\u001b[32m\u001b[1m    Updating\u001b[22m\u001b[39m `C:\\Users\\Pedro Elias\\.julia\\environments\\v1.7\\Manifest.toml`\n",
      " \u001b[90m [6e34b625] \u001b[39m\u001b[93m↑ Bzip2_jll v1.0.8+0 ⇒ v1.0.8+1\u001b[39m\n",
      " \u001b[90m [94ce4f54] \u001b[39m\u001b[93m↑ Libiconv_jll v1.16.1+1 ⇒ v1.16.1+2\u001b[39m\n",
      " \u001b[90m [ea2cea3b] \u001b[39m\u001b[93m↑ Qt5Base_jll v5.15.3+1 ⇒ v5.15.3+2\u001b[39m\n",
      " \u001b[90m [b53b4c65] \u001b[39m\u001b[93m↑ libpng_jll v1.6.38+0 ⇒ v1.6.38+1\u001b[39m\n",
      "\u001b[32m\u001b[1mPrecompiling\u001b[22m\u001b[39m project...\n",
      "\u001b[32m  ✓ \u001b[39m\u001b[90mInvertedIndices\u001b[39m\n",
      "\u001b[32m  ✓ \u001b[39m\u001b[90mPooledArrays\u001b[39m\n",
      "\u001b[32m  ✓ \u001b[39m\u001b[90mLibiconv_jll\u001b[39m\n",
      "\u001b[32m  ✓ \u001b[39m\u001b[90mBzip2_jll\u001b[39m\n",
      "\u001b[32m  ✓ \u001b[39m\u001b[90mlibpng_jll\u001b[39m\n",
      "\u001b[32m  ✓ \u001b[39m\u001b[90mFreeType2_jll\u001b[39m\n",
      "\u001b[32m  ✓ \u001b[39m\u001b[90mXML2_jll\u001b[39m\n",
      "\u001b[32m  ✓ \u001b[39m\u001b[90mWayland_jll\u001b[39m\n",
      "\u001b[32m  ✓ \u001b[39m\u001b[90mXSLT_jll\u001b[39m\n",
      "\u001b[32m  ✓ \u001b[39m\u001b[90mFontconfig_jll\u001b[39m\n",
      "\u001b[32m  ✓ \u001b[39m\u001b[90mGettext_jll\u001b[39m\n",
      "\u001b[32m  ✓ \u001b[39m\u001b[90mXorg_libxcb_jll\u001b[39m\n",
      "\u001b[32m  ✓ \u001b[39m\u001b[90mGlib_jll\u001b[39m\n",
      "\u001b[32m  ✓ \u001b[39m\u001b[90mXorg_xcb_util_jll\u001b[39m\n",
      "\u001b[32m  ✓ \u001b[39m\u001b[90mXorg_libX11_jll\u001b[39m\n",
      "\u001b[32m  ✓ \u001b[39m\u001b[90mXorg_xcb_util_keysyms_jll\u001b[39m\n",
      "\u001b[32m  ✓ \u001b[39m\u001b[90mXorg_xcb_util_wm_jll\u001b[39m\n",
      "\u001b[32m  ✓ \u001b[39m\u001b[90mXorg_xcb_util_image_jll\u001b[39m\n",
      "\u001b[32m  ✓ \u001b[39m\u001b[90mXorg_xcb_util_renderutil_jll\u001b[39m\n",
      "\u001b[32m  ✓ \u001b[39m\u001b[90mXorg_libXrender_jll\u001b[39m\n",
      "\u001b[32m  ✓ \u001b[39m\u001b[90mXorg_libXfixes_jll\u001b[39m\n",
      "\u001b[32m  ✓ \u001b[39m\u001b[90mXorg_libXext_jll\u001b[39m\n",
      "\u001b[32m  ✓ \u001b[39m\u001b[90mXorg_libxkbfile_jll\u001b[39m\n",
      "\u001b[32m  ✓ \u001b[39m\u001b[90mXorg_libXi_jll\u001b[39m\n",
      "\u001b[32m  ✓ \u001b[39m\u001b[90mLibglvnd_jll\u001b[39m\n",
      "\u001b[32m  ✓ \u001b[39m\u001b[90mXorg_libXcursor_jll\u001b[39m\n",
      "\u001b[32m  ✓ \u001b[39m\u001b[90mPrettyTables\u001b[39m\n",
      "\u001b[32m  ✓ \u001b[39m\u001b[90mXorg_libXinerama_jll\u001b[39m\n",
      "\u001b[32m  ✓ \u001b[39m\u001b[90mXorg_libXrandr_jll\u001b[39m\n",
      "\u001b[32m  ✓ \u001b[39m\u001b[90mXorg_xkbcomp_jll\u001b[39m\n",
      "\u001b[32m  ✓ \u001b[39m\u001b[90mCairo_jll\u001b[39m\n",
      "\u001b[32m  ✓ \u001b[39m\u001b[90mXorg_xkeyboard_config_jll\u001b[39m\n",
      "\u001b[32m  ✓ \u001b[39m\u001b[90mGLFW_jll\u001b[39m\n",
      "\u001b[32m  ✓ \u001b[39m\u001b[90mHarfBuzz_jll\u001b[39m\n",
      "\u001b[32m  ✓ \u001b[39m\u001b[90mxkbcommon_jll\u001b[39m\n",
      "\u001b[32m  ✓ \u001b[39m\u001b[90mlibass_jll\u001b[39m\n",
      "\u001b[32m  ✓ \u001b[39m\u001b[90mQt5Base_jll\u001b[39m\n",
      "\u001b[32m  ✓ \u001b[39m\u001b[90mFFMPEG_jll\u001b[39m\n",
      "\u001b[32m  ✓ \u001b[39m\u001b[90mFFMPEG\u001b[39m\n",
      "\u001b[32m  ✓ \u001b[39m\u001b[90mGR_jll\u001b[39m\n",
      "\u001b[32m  ✓ \u001b[39m\u001b[90mGR\u001b[39m\n",
      "\u001b[32m  ✓ \u001b[39mDataFrames\n",
      "\u001b[32m  ✓ \u001b[39mPlots\n",
      "  43 dependencies successfully precompiled in 103 seconds (200 already precompiled, 1 skipped during auto due to previous errors)\n"
     ]
    }
   ],
   "source": [
    "Pkg.add(\"LinearAlgebra\")"
   ]
  },
  {
   "cell_type": "code",
   "execution_count": 1,
   "id": "081b8581",
   "metadata": {},
   "outputs": [],
   "source": [
    "using LinearAlgebra"
   ]
  },
  {
   "cell_type": "code",
   "execution_count": 2,
   "id": "43603db5",
   "metadata": {},
   "outputs": [
    {
     "data": {
      "text/plain": [
       "dot (generic function with 42 methods)"
      ]
     },
     "execution_count": 2,
     "metadata": {},
     "output_type": "execute_result"
    }
   ],
   "source": [
    "⋅"
   ]
  },
  {
   "cell_type": "code",
   "execution_count": 3,
   "id": "98d28a73",
   "metadata": {},
   "outputs": [
    {
     "data": {
      "text/plain": [
       "dot (generic function with 42 methods)"
      ]
     },
     "execution_count": 3,
     "metadata": {},
     "output_type": "execute_result"
    }
   ],
   "source": [
    "dot"
   ]
  },
  {
   "cell_type": "code",
   "execution_count": 4,
   "id": "553b5e82",
   "metadata": {},
   "outputs": [
    {
     "data": {
      "text/plain": [
       "cross (generic function with 1 method)"
      ]
     },
     "execution_count": 4,
     "metadata": {},
     "output_type": "execute_result"
    }
   ],
   "source": [
    "×"
   ]
  },
  {
   "cell_type": "code",
   "execution_count": 5,
   "id": "c1e4626d",
   "metadata": {},
   "outputs": [
    {
     "data": {
      "text/html": [
       "# 1 method for generic function <b>cross</b>:<ul><li> cross(a::<b>AbstractVector</b>, b::<b>AbstractVector</b>) in LinearAlgebra at <a href=\"file://C:/buildbot/worker/package_win64/build/usr/share/julia/stdlib/v1.7/LinearAlgebra/src/generic.jl\" target=\"_blank\">C:\\ProgramData\\Julia-1.7.2\\share\\julia\\stdlib\\v1.7\\LinearAlgebra\\src\\generic.jl:310</a></li> </ul>"
      ],
      "text/plain": [
       "# 1 method for generic function \"cross\":\n",
       "[1] cross(a::AbstractVector, b::AbstractVector) in LinearAlgebra at C:\\ProgramData\\Julia-1.7.2\\share\\julia\\stdlib\\v1.7\\LinearAlgebra\\src\\generic.jl:310"
      ]
     },
     "execution_count": 5,
     "metadata": {},
     "output_type": "execute_result"
    }
   ],
   "source": [
    "methods(cross)"
   ]
  },
  {
   "cell_type": "markdown",
   "id": "97b6ab93",
   "metadata": {},
   "source": [
    "El operador × es el alias de cross.\n",
    "\n",
    "Vamos a sobrecargar el operador ⋅ que equivale a crear un nuevo método para dot en el contexto del paquete LinearAlgebra:"
   ]
  },
  {
   "cell_type": "code",
   "execution_count": 6,
   "id": "5d4aa743",
   "metadata": {},
   "outputs": [],
   "source": [
    "import LinearAlgebra.dot\n"
   ]
  },
  {
   "cell_type": "code",
   "execution_count": 7,
   "id": "d93d7306",
   "metadata": {},
   "outputs": [],
   "source": [
    "struct Vector2D\n",
    "    x::Float64\n",
    "    y::Float64\n",
    "end"
   ]
  },
  {
   "cell_type": "code",
   "execution_count": 8,
   "id": "ed6a8662",
   "metadata": {},
   "outputs": [
    {
     "data": {
      "text/plain": [
       "Vector2D(3.0, 4.0)"
      ]
     },
     "execution_count": 8,
     "metadata": {},
     "output_type": "execute_result"
    }
   ],
   "source": [
    "v = Vector2D(3,4)\n"
   ]
  },
  {
   "cell_type": "code",
   "execution_count": 9,
   "id": "aba13d8b",
   "metadata": {},
   "outputs": [
    {
     "data": {
      "text/plain": [
       "Vector2D(2.0, 2.0)"
      ]
     },
     "execution_count": 9,
     "metadata": {},
     "output_type": "execute_result"
    }
   ],
   "source": [
    "w = Vector2D(2,2)\n"
   ]
  },
  {
   "cell_type": "code",
   "execution_count": 10,
   "id": "5c6a1da2",
   "metadata": {},
   "outputs": [
    {
     "data": {
      "text/plain": [
       "dot (generic function with 43 methods)"
      ]
     },
     "execution_count": 10,
     "metadata": {},
     "output_type": "execute_result"
    }
   ],
   "source": [
    "dot(v::Vector2D, w::Vector2D) = (v.x * w.x  +  v.y * w.y)\n"
   ]
  },
  {
   "cell_type": "code",
   "execution_count": 11,
   "id": "5fcae220",
   "metadata": {},
   "outputs": [
    {
     "data": {
      "text/plain": [
       "14.0"
      ]
     },
     "execution_count": 11,
     "metadata": {},
     "output_type": "execute_result"
    }
   ],
   "source": [
    "dot(v,w)\n"
   ]
  },
  {
   "cell_type": "code",
   "execution_count": 12,
   "id": "ed0971b6",
   "metadata": {},
   "outputs": [
    {
     "data": {
      "text/plain": [
       "14.0"
      ]
     },
     "execution_count": 12,
     "metadata": {},
     "output_type": "execute_result"
    }
   ],
   "source": [
    "v ⋅ w\n"
   ]
  },
  {
   "cell_type": "code",
   "execution_count": 15,
   "id": "daf91245",
   "metadata": {},
   "outputs": [],
   "source": [
    "@which dot(v, w);"
   ]
  },
  {
   "cell_type": "code",
   "execution_count": 16,
   "id": "a44c253b",
   "metadata": {},
   "outputs": [],
   "source": [
    "methods(dot);"
   ]
  },
  {
   "cell_type": "markdown",
   "id": "bdf4b450",
   "metadata": {},
   "source": [
    "Hemos creado un objeto eficiente, sin embargo ¡¡aún lo puede ser más!!\n",
    "\n"
   ]
  },
  {
   "cell_type": "markdown",
   "id": "bef2c99b",
   "metadata": {},
   "source": [
    "## Tipos de datos parametrizados\n"
   ]
  },
  {
   "cell_type": "markdown",
   "id": "6df68cbd",
   "metadata": {},
   "source": [
    "Es intuitiva la necesidad de construir un tipo  `Vector2D` que se ajuste solo a datos de tipo numérico y al mismo tiempo pueda contener: enteros, flotantes, racionales, flotantes grandes, etc. Para lograr esta funcionalidad es necesario parametrizar el tipo de dato creado.\n",
    "\n"
   ]
  },
  {
   "cell_type": "markdown",
   "id": "d390f2a1",
   "metadata": {},
   "source": [
    "Para indicarle a Julia que un tipo de dato es parametrizado hacemos:"
   ]
  },
  {
   "cell_type": "code",
   "execution_count": 1,
   "id": "7a7d500a",
   "metadata": {},
   "outputs": [],
   "source": [
    "struct Vector2D{T}\n",
    "    x::T\n",
    "    y::T\n",
    "end"
   ]
  },
  {
   "cell_type": "markdown",
   "id": "d33906ec",
   "metadata": {},
   "source": [
    "`{T}` es el parámetro que parametriza a la estructura `Vector2D`, esto crea una especie de template. `{T}` que indica que la estructura pueden ser de cualquier tipo y que ambos, `x` y `y`, son del mismo tipo que `T`.\n",
    "\n",
    "\n",
    "La parametrización es un concepto muy poderoso que se combina con el despacho múltiple."
   ]
  },
  {
   "cell_type": "code",
   "execution_count": 2,
   "id": "4e494351",
   "metadata": {},
   "outputs": [
    {
     "data": {
      "text/html": [
       "# 1 method for type constructor:<ul><li> Vector2D(x::<b>T</b>, y::<b>T</b>)<i> where T</i> in Main at In[1]:2</li> </ul>"
      ],
      "text/plain": [
       "# 1 method for type constructor:\n",
       "[1] Vector2D(x::T, y::T) where T in Main at In[1]:2"
      ]
     },
     "execution_count": 2,
     "metadata": {},
     "output_type": "execute_result"
    }
   ],
   "source": [
    "methods(Vector2D)"
   ]
  },
  {
   "cell_type": "code",
   "execution_count": 3,
   "id": "82d7cc46",
   "metadata": {},
   "outputs": [
    {
     "data": {
      "text/plain": [
       "Vector2D{Int64}(3, 5)"
      ]
     },
     "execution_count": 3,
     "metadata": {},
     "output_type": "execute_result"
    }
   ],
   "source": [
    "v = Vector2D(3,5)\n"
   ]
  },
  {
   "cell_type": "code",
   "execution_count": 4,
   "id": "e5684075",
   "metadata": {},
   "outputs": [
    {
     "data": {
      "text/plain": [
       "Vector2D{Float64}(3.0, 5.0)"
      ]
     },
     "execution_count": 4,
     "metadata": {},
     "output_type": "execute_result"
    }
   ],
   "source": [
    "w = Vector2D(3.0, 5.0)"
   ]
  },
  {
   "cell_type": "code",
   "execution_count": 5,
   "id": "8fb45267",
   "metadata": {},
   "outputs": [
    {
     "data": {
      "text/plain": [
       "Vector2D{Rational{Int64}}(3//4, 5//7)"
      ]
     },
     "execution_count": 5,
     "metadata": {},
     "output_type": "execute_result"
    }
   ],
   "source": [
    "z = Vector2D(3//4, 5//7)"
   ]
  },
  {
   "cell_type": "code",
   "execution_count": 6,
   "id": "e1f50370",
   "metadata": {},
   "outputs": [
    {
     "ename": "LoadError",
     "evalue": "MethodError: no method matching Vector2D(::Int64, ::Float64)\n\u001b[0mClosest candidates are:\n\u001b[0m  Vector2D(::T, \u001b[91m::T\u001b[39m) where T at In[1]:2",
     "output_type": "error",
     "traceback": [
      "MethodError: no method matching Vector2D(::Int64, ::Float64)\n\u001b[0mClosest candidates are:\n\u001b[0m  Vector2D(::T, \u001b[91m::T\u001b[39m) where T at In[1]:2",
      "",
      "Stacktrace:",
      " [1] top-level scope",
      "   @ In[6]:1",
      " [2] eval",
      "   @ .\\boot.jl:373 [inlined]",
      " [3] include_string(mapexpr::typeof(REPL.softscope), mod::Module, code::String, filename::String)",
      "   @ Base .\\loading.jl:1196"
     ]
    }
   ],
   "source": [
    "y = Vector2D(3,5.)"
   ]
  },
  {
   "cell_type": "markdown",
   "id": "da55c2f5",
   "metadata": {},
   "source": [
    "No es posible crear una instancia de `Vector2D` que tenga diferentes tipos, sin embargo es posible promover de un tipo a otro."
   ]
  },
  {
   "cell_type": "code",
   "execution_count": 8,
   "id": "1a999541",
   "metadata": {},
   "outputs": [
    {
     "data": {
      "text/plain": [
       "Vector2D"
      ]
     },
     "execution_count": 8,
     "metadata": {},
     "output_type": "execute_result"
    }
   ],
   "source": [
    "Vector2D(x,y) = Vector2D(promote(x,y)...)"
   ]
  },
  {
   "cell_type": "code",
   "execution_count": 9,
   "id": "7f81c6b8",
   "metadata": {},
   "outputs": [
    {
     "name": "stdout",
     "output_type": "stream",
     "text": [
      "search: \u001b[0m\u001b[1m.\u001b[22m\u001b[0m\u001b[1m.\u001b[22m\u001b[0m\u001b[1m.\u001b[22m\n",
      "\n"
     ]
    },
    {
     "data": {
      "text/latex": [
       "\\begin{verbatim}\n",
       "...\n",
       "\\end{verbatim}\n",
       "The \"splat\" operator, \\texttt{...}, represents a sequence of arguments. \\texttt{...} can be used in function definitions, to indicate that the function accepts an arbitrary number of arguments. \\texttt{...} can also be used to apply a function to a sequence of arguments.\n",
       "\n",
       "\\section{Examples}\n",
       "\\begin{verbatim}\n",
       "julia> add(xs...) = reduce(+, xs)\n",
       "add (generic function with 1 method)\n",
       "\n",
       "julia> add(1, 2, 3, 4, 5)\n",
       "15\n",
       "\n",
       "julia> add([1, 2, 3]...)\n",
       "6\n",
       "\n",
       "julia> add(7, 1:100..., 1000:1100...)\n",
       "111107\n",
       "\\end{verbatim}\n"
      ],
      "text/markdown": [
       "```\n",
       "...\n",
       "```\n",
       "\n",
       "The \"splat\" operator, `...`, represents a sequence of arguments. `...` can be used in function definitions, to indicate that the function accepts an arbitrary number of arguments. `...` can also be used to apply a function to a sequence of arguments.\n",
       "\n",
       "# Examples\n",
       "\n",
       "```jldoctest\n",
       "julia> add(xs...) = reduce(+, xs)\n",
       "add (generic function with 1 method)\n",
       "\n",
       "julia> add(1, 2, 3, 4, 5)\n",
       "15\n",
       "\n",
       "julia> add([1, 2, 3]...)\n",
       "6\n",
       "\n",
       "julia> add(7, 1:100..., 1000:1100...)\n",
       "111107\n",
       "```\n"
      ],
      "text/plain": [
       "\u001b[36m  ...\u001b[39m\n",
       "\n",
       "  The \"splat\" operator, \u001b[36m...\u001b[39m, represents a sequence of arguments. \u001b[36m...\u001b[39m can be\n",
       "  used in function definitions, to indicate that the function accepts an\n",
       "  arbitrary number of arguments. \u001b[36m...\u001b[39m can also be used to apply a function to a\n",
       "  sequence of arguments.\n",
       "\n",
       "\u001b[1m  Examples\u001b[22m\n",
       "\u001b[1m  ≡≡≡≡≡≡≡≡≡≡\u001b[22m\n",
       "\n",
       "\u001b[36m  julia> add(xs...) = reduce(+, xs)\u001b[39m\n",
       "\u001b[36m  add (generic function with 1 method)\u001b[39m\n",
       "\u001b[36m  \u001b[39m\n",
       "\u001b[36m  julia> add(1, 2, 3, 4, 5)\u001b[39m\n",
       "\u001b[36m  15\u001b[39m\n",
       "\u001b[36m  \u001b[39m\n",
       "\u001b[36m  julia> add([1, 2, 3]...)\u001b[39m\n",
       "\u001b[36m  6\u001b[39m\n",
       "\u001b[36m  \u001b[39m\n",
       "\u001b[36m  julia> add(7, 1:100..., 1000:1100...)\u001b[39m\n",
       "\u001b[36m  111107\u001b[39m"
      ]
     },
     "execution_count": 9,
     "metadata": {},
     "output_type": "execute_result"
    }
   ],
   "source": [
    "?..."
   ]
  },
  {
   "cell_type": "code",
   "execution_count": 10,
   "id": "49342f15",
   "metadata": {},
   "outputs": [
    {
     "data": {
      "text/plain": [
       "Vector2D{Float64}(3.0, 5.0)"
      ]
     },
     "execution_count": 10,
     "metadata": {},
     "output_type": "execute_result"
    }
   ],
   "source": [
    "y = Vector2D(3,5.)"
   ]
  },
  {
   "cell_type": "code",
   "execution_count": 11,
   "id": "245708e8",
   "metadata": {},
   "outputs": [
    {
     "data": {
      "text/plain": [
       "Vector2D{ComplexF64}(3.0 + 4.0im, 5.0 + 0.0im)"
      ]
     },
     "execution_count": 11,
     "metadata": {},
     "output_type": "execute_result"
    }
   ],
   "source": [
    "z = Vector2D(3+4im, 5.0)"
   ]
  },
  {
   "cell_type": "code",
   "execution_count": 12,
   "id": "2896344c",
   "metadata": {},
   "outputs": [
    {
     "data": {
      "text/plain": [
       "(3.0, 5.0)"
      ]
     },
     "execution_count": 12,
     "metadata": {},
     "output_type": "execute_result"
    }
   ],
   "source": [
    "promote(3,5.)"
   ]
  },
  {
   "cell_type": "markdown",
   "id": "7623e574",
   "metadata": {},
   "source": [
    "Ahora queremos crear un método para el operador `+` que considere el parámetro `T` para sumar variables de tipo `Vector2D` parametrizadas."
   ]
  },
  {
   "cell_type": "code",
   "execution_count": 14,
   "id": "f61cff72",
   "metadata": {},
   "outputs": [],
   "source": [
    "import Base.+"
   ]
  },
  {
   "cell_type": "code",
   "execution_count": 15,
   "id": "d2879a5b",
   "metadata": {},
   "outputs": [
    {
     "data": {
      "text/plain": [
       "+ (generic function with 209 methods)"
      ]
     },
     "execution_count": 15,
     "metadata": {},
     "output_type": "execute_result"
    }
   ],
   "source": [
    "+(v::Vector2D{T}, w::Vector2D{T}) where {T} = Vector2D{T}(v.x + w.x, v.y + w.y)"
   ]
  },
  {
   "cell_type": "code",
   "execution_count": 16,
   "id": "7b2c0c2f",
   "metadata": {},
   "outputs": [
    {
     "data": {
      "text/plain": [
       "Vector2D{Float64}(2.0, 2.0)"
      ]
     },
     "execution_count": 16,
     "metadata": {},
     "output_type": "execute_result"
    }
   ],
   "source": [
    "v = Vector2D(2., 2.)"
   ]
  },
  {
   "cell_type": "code",
   "execution_count": 17,
   "id": "bfa9b6ab",
   "metadata": {},
   "outputs": [
    {
     "data": {
      "text/plain": [
       "Vector2D{Float64}(3.0, 5.0)"
      ]
     },
     "execution_count": 17,
     "metadata": {},
     "output_type": "execute_result"
    }
   ],
   "source": [
    "w = Vector2D(3.0, 5.0)"
   ]
  },
  {
   "cell_type": "code",
   "execution_count": 18,
   "id": "c03803df",
   "metadata": {},
   "outputs": [
    {
     "data": {
      "text/plain": [
       "Vector2D{Float64}(5.0, 7.0)"
      ]
     },
     "execution_count": 18,
     "metadata": {},
     "output_type": "execute_result"
    }
   ],
   "source": [
    "v + w"
   ]
  },
  {
   "cell_type": "code",
   "execution_count": 19,
   "id": "dafea416",
   "metadata": {},
   "outputs": [
    {
     "data": {
      "text/plain": [
       "Vector2D{Int64}(2, 2)"
      ]
     },
     "execution_count": 19,
     "metadata": {},
     "output_type": "execute_result"
    }
   ],
   "source": [
    "v = Vector2D(2, 2)"
   ]
  },
  {
   "cell_type": "code",
   "execution_count": 20,
   "id": "f2dd6c5a",
   "metadata": {},
   "outputs": [
    {
     "data": {
      "text/plain": [
       "Vector2D{Int64}(3, 5)"
      ]
     },
     "execution_count": 20,
     "metadata": {},
     "output_type": "execute_result"
    }
   ],
   "source": [
    "w = Vector2D(3, 5)"
   ]
  },
  {
   "cell_type": "code",
   "execution_count": 21,
   "id": "d9572f80",
   "metadata": {},
   "outputs": [
    {
     "data": {
      "text/plain": [
       "Vector2D{Int64}(5, 7)"
      ]
     },
     "execution_count": 21,
     "metadata": {},
     "output_type": "execute_result"
    }
   ],
   "source": [
    "v + w"
   ]
  },
  {
   "cell_type": "markdown",
   "id": "92495969",
   "metadata": {},
   "source": [
    "Es importante asegurarse de la integridad de los tipos:\n"
   ]
  },
  {
   "cell_type": "code",
   "execution_count": 22,
   "id": "2bac0213",
   "metadata": {},
   "outputs": [
    {
     "name": "stdout",
     "output_type": "stream",
     "text": [
      "search: \u001b[0m\u001b[1m{\u001b[22m\u001b[0m\u001b[1m}\u001b[22m Union\u001b[0m\u001b[1m{\u001b[22m\u001b[0m\u001b[1m}\u001b[22m\n",
      "\n"
     ]
    },
    {
     "data": {
      "text/latex": [
       "\\begin{verbatim}\n",
       "{}\n",
       "\\end{verbatim}\n",
       "Curly braces are used to specify \\href{@ref man-parametric-types}{type parameters}.\n",
       "\n",
       "Type parameters allow a single type declaration to introduce a whole family of new types — one for each possible combination of parameter values. For example, the \\href{@ref}{\\texttt{Set}} type describes many possible types of sets; it uses one type parameter to describe the type of the elements it contains. The specific \\emph{parameterized} types \\texttt{Set\\{Float64\\}} and \\texttt{Set\\{Int64\\}} describe two \\emph{concrete} types: both are subtypes (\\href{@ref}{\\texttt{<:}}) of \\texttt{Set}, but the former has \\texttt{Float64} elements and the latter has \\texttt{Int64} elements.\n",
       "\n"
      ],
      "text/markdown": [
       "```\n",
       "{}\n",
       "```\n",
       "\n",
       "Curly braces are used to specify [type parameters](@ref man-parametric-types).\n",
       "\n",
       "Type parameters allow a single type declaration to introduce a whole family of new types — one for each possible combination of parameter values. For example, the [`Set`](@ref) type describes many possible types of sets; it uses one type parameter to describe the type of the elements it contains. The specific *parameterized* types `Set{Float64}` and `Set{Int64}` describe two *concrete* types: both are subtypes ([`<:`](@ref)) of `Set`, but the former has `Float64` elements and the latter has `Int64` elements.\n"
      ],
      "text/plain": [
       "\u001b[36m  {}\u001b[39m\n",
       "\n",
       "  Curly braces are used to specify type parameters.\n",
       "\n",
       "  Type parameters allow a single type declaration to introduce a whole family\n",
       "  of new types — one for each possible combination of parameter values. For\n",
       "  example, the \u001b[36mSet\u001b[39m type describes many possible types of sets; it uses one\n",
       "  type parameter to describe the type of the elements it contains. The\n",
       "  specific \u001b[4mparameterized\u001b[24m types \u001b[36mSet{Float64}\u001b[39m and \u001b[36mSet{Int64}\u001b[39m describe two\n",
       "  \u001b[4mconcrete\u001b[24m types: both are subtypes (\u001b[36m<:\u001b[39m) of \u001b[36mSet\u001b[39m, but the former has \u001b[36mFloat64\u001b[39m\n",
       "  elements and the latter has \u001b[36mInt64\u001b[39m elements."
      ]
     },
     "execution_count": 22,
     "metadata": {},
     "output_type": "execute_result"
    }
   ],
   "source": [
    "?{}"
   ]
  },
  {
   "cell_type": "code",
   "execution_count": 23,
   "id": "f236391c",
   "metadata": {},
   "outputs": [
    {
     "data": {
      "text/plain": [
       "Vector2D{Int64}(2, 2)"
      ]
     },
     "execution_count": 23,
     "metadata": {},
     "output_type": "execute_result"
    }
   ],
   "source": [
    "v = Vector2D(2, 2)\n"
   ]
  },
  {
   "cell_type": "code",
   "execution_count": 24,
   "id": "9bab3d06",
   "metadata": {},
   "outputs": [
    {
     "data": {
      "text/plain": [
       "Vector2D{Float64}(3.0, 5.0)"
      ]
     },
     "execution_count": 24,
     "metadata": {},
     "output_type": "execute_result"
    }
   ],
   "source": [
    "w = Vector2D(3, 5.0)"
   ]
  },
  {
   "cell_type": "code",
   "execution_count": 25,
   "id": "8fc0f657",
   "metadata": {},
   "outputs": [
    {
     "ename": "LoadError",
     "evalue": "MethodError: no method matching +(::Vector2D{Int64}, ::Vector2D{Float64})\n\u001b[0mClosest candidates are:\n\u001b[0m  +(::Any, ::Any, \u001b[91m::Any\u001b[39m, \u001b[91m::Any...\u001b[39m) at C:\\ProgramData\\Julia-1.7.2\\share\\julia\\base\\operators.jl:655\n\u001b[0m  +(::Vector2D{T}, \u001b[91m::Vector2D{T}\u001b[39m) where T at In[15]:1",
     "output_type": "error",
     "traceback": [
      "MethodError: no method matching +(::Vector2D{Int64}, ::Vector2D{Float64})\n\u001b[0mClosest candidates are:\n\u001b[0m  +(::Any, ::Any, \u001b[91m::Any\u001b[39m, \u001b[91m::Any...\u001b[39m) at C:\\ProgramData\\Julia-1.7.2\\share\\julia\\base\\operators.jl:655\n\u001b[0m  +(::Vector2D{T}, \u001b[91m::Vector2D{T}\u001b[39m) where T at In[15]:1",
      "",
      "Stacktrace:",
      " [1] top-level scope",
      "   @ In[25]:1",
      " [2] eval",
      "   @ .\\boot.jl:373 [inlined]",
      " [3] include_string(mapexpr::typeof(REPL.softscope), mod::Module, code::String, filename::String)",
      "   @ Base .\\loading.jl:1196"
     ]
    }
   ],
   "source": [
    "v + w"
   ]
  },
  {
   "cell_type": "markdown",
   "id": "63189d71",
   "metadata": {},
   "source": [
    "Construyamos una versión especial (excepcional) del operador `+` para que funcione con `Float64` o `Int64`"
   ]
  },
  {
   "cell_type": "code",
   "execution_count": 26,
   "id": "a0555712",
   "metadata": {},
   "outputs": [
    {
     "data": {
      "text/plain": [
       "+ (generic function with 210 methods)"
      ]
     },
     "execution_count": 26,
     "metadata": {},
     "output_type": "execute_result"
    }
   ],
   "source": [
    "+(v::Vector2D, w::Vector2D) = Vector2D(v.x + w.x, v.y + w.y)"
   ]
  },
  {
   "cell_type": "code",
   "execution_count": 27,
   "id": "592b59e0",
   "metadata": {},
   "outputs": [
    {
     "data": {
      "text/plain": [
       "Vector2D{Int64}(2, 2)"
      ]
     },
     "execution_count": 27,
     "metadata": {},
     "output_type": "execute_result"
    }
   ],
   "source": [
    "v"
   ]
  },
  {
   "cell_type": "code",
   "execution_count": 28,
   "id": "980dd25e",
   "metadata": {},
   "outputs": [
    {
     "data": {
      "text/plain": [
       "Vector2D{Float64}(3.0, 5.0)"
      ]
     },
     "execution_count": 28,
     "metadata": {},
     "output_type": "execute_result"
    }
   ],
   "source": [
    "w"
   ]
  },
  {
   "cell_type": "code",
   "execution_count": 29,
   "id": "491669a8",
   "metadata": {},
   "outputs": [
    {
     "data": {
      "text/plain": [
       "Vector2D{Float64}(5.0, 7.0)"
      ]
     },
     "execution_count": 29,
     "metadata": {},
     "output_type": "execute_result"
    }
   ],
   "source": [
    "v + w     # promueve a flotantes"
   ]
  },
  {
   "cell_type": "markdown",
   "id": "12987dc3",
   "metadata": {},
   "source": [
    "O bien, una versión especial para `Float64`"
   ]
  },
  {
   "cell_type": "code",
   "execution_count": 31,
   "id": "7baa54bc",
   "metadata": {},
   "outputs": [
    {
     "data": {
      "text/plain": [
       "+ (generic function with 211 methods)"
      ]
     },
     "execution_count": 31,
     "metadata": {},
     "output_type": "execute_result"
    }
   ],
   "source": [
    "+(v::Vector2D{Float64}, w::Vector2D{Float64}) = Vector2D(v.x + w.x, v.y + w.y)"
   ]
  },
  {
   "cell_type": "code",
   "execution_count": 32,
   "id": "2e3cb017",
   "metadata": {},
   "outputs": [
    {
     "data": {
      "text/plain": [
       "Vector2D{Float64}(6.0, 7.5)"
      ]
     },
     "execution_count": 32,
     "metadata": {},
     "output_type": "execute_result"
    }
   ],
   "source": [
    "v = Vector2D(2.5, 3.1)\n",
    "w = Vector2D(3.5, 4.4)\n",
    "v + w"
   ]
  },
  {
   "cell_type": "markdown",
   "id": "e50f8578",
   "metadata": {},
   "source": [
    "Modifiquemos el significado del operador `*` para que opere con variables de tipo `Vector2D`"
   ]
  },
  {
   "cell_type": "code",
   "execution_count": 33,
   "id": "b6ad1133",
   "metadata": {},
   "outputs": [],
   "source": [
    "import Base.*"
   ]
  },
  {
   "cell_type": "code",
   "execution_count": 34,
   "id": "dd792de4",
   "metadata": {},
   "outputs": [
    {
     "data": {
      "text/plain": [
       "* (generic function with 365 methods)"
      ]
     },
     "execution_count": 34,
     "metadata": {},
     "output_type": "execute_result"
    }
   ],
   "source": [
    "*(v::Vector2D{T}, α::Number) where {T} = Vector2D{T}(v.x * α, v.y * α)"
   ]
  },
  {
   "cell_type": "code",
   "execution_count": 35,
   "id": "708cd319",
   "metadata": {},
   "outputs": [
    {
     "data": {
      "text/plain": [
       "Vector2D{Float64}(2.5, 3.1)"
      ]
     },
     "execution_count": 35,
     "metadata": {},
     "output_type": "execute_result"
    }
   ],
   "source": [
    "v = Vector2D(2.5, 3.1)"
   ]
  },
  {
   "cell_type": "code",
   "execution_count": 36,
   "id": "f2e50599",
   "metadata": {},
   "outputs": [
    {
     "data": {
      "text/plain": [
       "Vector2D{Float64}(12.5, 15.5)"
      ]
     },
     "execution_count": 36,
     "metadata": {},
     "output_type": "execute_result"
    }
   ],
   "source": [
    "v * 5"
   ]
  },
  {
   "cell_type": "code",
   "execution_count": 37,
   "id": "2fccfb36",
   "metadata": {},
   "outputs": [
    {
     "data": {
      "text/plain": [
       "Vector2D{Int64}(4, 5)"
      ]
     },
     "execution_count": 37,
     "metadata": {},
     "output_type": "execute_result"
    }
   ],
   "source": [
    "w = Vector2D(4,5)"
   ]
  },
  {
   "cell_type": "code",
   "execution_count": 39,
   "id": "4105ff0a",
   "metadata": {},
   "outputs": [
    {
     "ename": "LoadError",
     "evalue": "MethodError: no method matching *(::Int64, ::Vector2D{Float64})\n\u001b[0mClosest candidates are:\n\u001b[0m  *(::Any, ::Any, \u001b[91m::Any\u001b[39m, \u001b[91m::Any...\u001b[39m) at C:\\ProgramData\\Julia-1.7.2\\share\\julia\\base\\operators.jl:655\n\u001b[0m  *(::T, \u001b[91m::T\u001b[39m) where T<:Union{Int128, Int16, Int32, Int64, Int8, UInt128, UInt16, UInt32, UInt64, UInt8} at C:\\ProgramData\\Julia-1.7.2\\share\\julia\\base\\int.jl:88\n\u001b[0m  *(::Union{Real, Complex}, \u001b[91m::Union{LinearAlgebra.Adjoint{var\"#s859\", var\"#s8591\"}, LinearAlgebra.Transpose{var\"#s859\", var\"#s8591\"}} where {var\"#s859\"<:Union{Real, Complex}, var\"#s8591\"<:(AbstractVector)}\u001b[39m, \u001b[91m::AbstractMatrix{<:Union{Real, Complex}}\u001b[39m, \u001b[91m::AbstractMatrix{<:Union{Real, Complex}}\u001b[39m) at C:\\ProgramData\\Julia-1.7.2\\share\\julia\\stdlib\\v1.7\\LinearAlgebra\\src\\matmul.jl:1172\n\u001b[0m  ...",
     "output_type": "error",
     "traceback": [
      "MethodError: no method matching *(::Int64, ::Vector2D{Float64})\n\u001b[0mClosest candidates are:\n\u001b[0m  *(::Any, ::Any, \u001b[91m::Any\u001b[39m, \u001b[91m::Any...\u001b[39m) at C:\\ProgramData\\Julia-1.7.2\\share\\julia\\base\\operators.jl:655\n\u001b[0m  *(::T, \u001b[91m::T\u001b[39m) where T<:Union{Int128, Int16, Int32, Int64, Int8, UInt128, UInt16, UInt32, UInt64, UInt8} at C:\\ProgramData\\Julia-1.7.2\\share\\julia\\base\\int.jl:88\n\u001b[0m  *(::Union{Real, Complex}, \u001b[91m::Union{LinearAlgebra.Adjoint{var\"#s859\", var\"#s8591\"}, LinearAlgebra.Transpose{var\"#s859\", var\"#s8591\"}} where {var\"#s859\"<:Union{Real, Complex}, var\"#s8591\"<:(AbstractVector)}\u001b[39m, \u001b[91m::AbstractMatrix{<:Union{Real, Complex}}\u001b[39m, \u001b[91m::AbstractMatrix{<:Union{Real, Complex}}\u001b[39m) at C:\\ProgramData\\Julia-1.7.2\\share\\julia\\stdlib\\v1.7\\LinearAlgebra\\src\\matmul.jl:1172\n\u001b[0m  ...",
      "",
      "Stacktrace:",
      " [1] top-level scope",
      "   @ In[39]:1",
      " [2] eval",
      "   @ .\\boot.jl:373 [inlined]",
      " [3] include_string(mapexpr::typeof(REPL.softscope), mod::Module, code::String, filename::String)",
      "   @ Base .\\loading.jl:1196"
     ]
    }
   ],
   "source": [
    "5 * v"
   ]
  },
  {
   "cell_type": "code",
   "execution_count": 40,
   "id": "cec74dba",
   "metadata": {},
   "outputs": [
    {
     "data": {
      "text/plain": [
       "Vector2D{Int64}(20, 25)"
      ]
     },
     "execution_count": 40,
     "metadata": {},
     "output_type": "execute_result"
    }
   ],
   "source": [
    "w * 5"
   ]
  },
  {
   "cell_type": "markdown",
   "id": "3bf36bae",
   "metadata": {},
   "source": [
    "Cabe hacer notar que aún persiste el problema de construir `Vector2D` con miebros de tipo cadena, por lo tanto se requiere forzar el tipo `Vector2D` para que sólo contenga valores numéricos."
   ]
  },
  {
   "cell_type": "code",
   "execution_count": 41,
   "id": "2050fc10",
   "metadata": {},
   "outputs": [
    {
     "data": {
      "text/plain": [
       "Vector2D{String}(\"Hola\", \"Crayola\")"
      ]
     },
     "execution_count": 41,
     "metadata": {},
     "output_type": "execute_result"
    }
   ],
   "source": [
    "Vector2D(\"Hola\", \"Crayola\")"
   ]
  },
  {
   "cell_type": "markdown",
   "id": "e42a17a8",
   "metadata": {},
   "source": [
    "Es necesario entonces acotar el tipo de dato que puede recibir el parámetro. Para lograr lo anterior, es posible indicar explícitamente que el parámetro `T` puedae tomar cualquier subtipo de dato que derive de un supertipo abstracto numérico, por ejemplo:"
   ]
  },
  {
   "cell_type": "code",
   "execution_count": 1,
   "id": "c757ef0a",
   "metadata": {},
   "outputs": [],
   "source": [
    "struct Vector2D{T <: Real}\n",
    "    x::T\n",
    "    y::T\n",
    "end"
   ]
  },
  {
   "cell_type": "markdown",
   "id": "2ac7b9b3",
   "metadata": {},
   "source": [
    "`T` es el parámetro del tipo. La expresión `T <: Real` significa que T debe ser de un subtipo del tipo abstracto Real."
   ]
  },
  {
   "cell_type": "code",
   "execution_count": 2,
   "id": "0ddbea4d",
   "metadata": {},
   "outputs": [
    {
     "data": {
      "text/latex": [
       "\\begin{verbatim}\n",
       "Symbol\n",
       "\\end{verbatim}\n",
       "The type of object used to represent identifiers in parsed julia code (ASTs). Also often used as a name or label to identify an entity (e.g. as a dictionary key). \\texttt{Symbol}s can be entered using the \\texttt{:} quote operator:\n",
       "\n",
       "\\begin{verbatim}\n",
       "julia> :name\n",
       ":name\n",
       "\n",
       "julia> typeof(:name)\n",
       "Symbol\n",
       "\n",
       "julia> x = 42\n",
       "42\n",
       "\n",
       "julia> eval(:x)\n",
       "42\n",
       "\\end{verbatim}\n",
       "\\texttt{Symbol}s can also be constructed from strings or other values by calling the constructor \\texttt{Symbol(x...)}.\n",
       "\n",
       "\\texttt{Symbol}s are immutable and should be compared using \\texttt{===}. The implementation re-uses the same object for all \\texttt{Symbol}s with the same name, so comparison tends to be efficient (it can just compare pointers).\n",
       "\n",
       "Unlike strings, \\texttt{Symbol}s are \"atomic\" or \"scalar\" entities that do not support iteration over characters.\n",
       "\n",
       "\\rule{\\textwidth}{1pt}\n",
       "\\begin{verbatim}\n",
       "Symbol(x...) -> Symbol\n",
       "\\end{verbatim}\n",
       "Create a \\href{@ref}{\\texttt{Symbol}} by concatenating the string representations of the arguments together.\n",
       "\n",
       "\\section{Examples}\n",
       "\\begin{verbatim}\n",
       "julia> Symbol(\"my\", \"name\")\n",
       ":myname\n",
       "\n",
       "julia> Symbol(\"day\", 4)\n",
       ":day4\n",
       "\\end{verbatim}\n"
      ],
      "text/markdown": [
       "```\n",
       "Symbol\n",
       "```\n",
       "\n",
       "The type of object used to represent identifiers in parsed julia code (ASTs). Also often used as a name or label to identify an entity (e.g. as a dictionary key). `Symbol`s can be entered using the `:` quote operator:\n",
       "\n",
       "```jldoctest\n",
       "julia> :name\n",
       ":name\n",
       "\n",
       "julia> typeof(:name)\n",
       "Symbol\n",
       "\n",
       "julia> x = 42\n",
       "42\n",
       "\n",
       "julia> eval(:x)\n",
       "42\n",
       "```\n",
       "\n",
       "`Symbol`s can also be constructed from strings or other values by calling the constructor `Symbol(x...)`.\n",
       "\n",
       "`Symbol`s are immutable and should be compared using `===`. The implementation re-uses the same object for all `Symbol`s with the same name, so comparison tends to be efficient (it can just compare pointers).\n",
       "\n",
       "Unlike strings, `Symbol`s are \"atomic\" or \"scalar\" entities that do not support iteration over characters.\n",
       "\n",
       "---\n",
       "\n",
       "```\n",
       "Symbol(x...) -> Symbol\n",
       "```\n",
       "\n",
       "Create a [`Symbol`](@ref) by concatenating the string representations of the arguments together.\n",
       "\n",
       "# Examples\n",
       "\n",
       "```jldoctest\n",
       "julia> Symbol(\"my\", \"name\")\n",
       ":myname\n",
       "\n",
       "julia> Symbol(\"day\", 4)\n",
       ":day4\n",
       "```\n"
      ],
      "text/plain": [
       "\u001b[36m  Symbol\u001b[39m\n",
       "\n",
       "  The type of object used to represent identifiers in parsed julia code\n",
       "  (ASTs). Also often used as a name or label to identify an entity (e.g. as a\n",
       "  dictionary key). \u001b[36mSymbol\u001b[39ms can be entered using the \u001b[36m:\u001b[39m quote operator:\n",
       "\n",
       "\u001b[36m  julia> :name\u001b[39m\n",
       "\u001b[36m  :name\u001b[39m\n",
       "\u001b[36m  \u001b[39m\n",
       "\u001b[36m  julia> typeof(:name)\u001b[39m\n",
       "\u001b[36m  Symbol\u001b[39m\n",
       "\u001b[36m  \u001b[39m\n",
       "\u001b[36m  julia> x = 42\u001b[39m\n",
       "\u001b[36m  42\u001b[39m\n",
       "\u001b[36m  \u001b[39m\n",
       "\u001b[36m  julia> eval(:x)\u001b[39m\n",
       "\u001b[36m  42\u001b[39m\n",
       "\n",
       "  \u001b[36mSymbol\u001b[39ms can also be constructed from strings or other values by calling the\n",
       "  constructor \u001b[36mSymbol(x...)\u001b[39m.\n",
       "\n",
       "  \u001b[36mSymbol\u001b[39ms are immutable and should be compared using \u001b[36m===\u001b[39m. The implementation\n",
       "  re-uses the same object for all \u001b[36mSymbol\u001b[39ms with the same name, so comparison\n",
       "  tends to be efficient (it can just compare pointers).\n",
       "\n",
       "  Unlike strings, \u001b[36mSymbol\u001b[39ms are \"atomic\" or \"scalar\" entities that do not\n",
       "  support iteration over characters.\n",
       "\n",
       "  ────────────────────────────────────────────────────────────────────────────\n",
       "\n",
       "\u001b[36m  Symbol(x...) -> Symbol\u001b[39m\n",
       "\n",
       "  Create a \u001b[36mSymbol\u001b[39m by concatenating the string representations of the arguments\n",
       "  together.\n",
       "\n",
       "\u001b[1m  Examples\u001b[22m\n",
       "\u001b[1m  ≡≡≡≡≡≡≡≡≡≡\u001b[22m\n",
       "\n",
       "\u001b[36m  julia> Symbol(\"my\", \"name\")\u001b[39m\n",
       "\u001b[36m  :myname\u001b[39m\n",
       "\u001b[36m  \u001b[39m\n",
       "\u001b[36m  julia> Symbol(\"day\", 4)\u001b[39m\n",
       "\u001b[36m  :day4\u001b[39m"
      ]
     },
     "execution_count": 2,
     "metadata": {},
     "output_type": "execute_result"
    }
   ],
   "source": [
    "?:<"
   ]
  },
  {
   "cell_type": "code",
   "execution_count": 3,
   "id": "c825f3f5",
   "metadata": {},
   "outputs": [
    {
     "ename": "LoadError",
     "evalue": "MethodError: no method matching Vector2D(::String, ::String)",
     "output_type": "error",
     "traceback": [
      "MethodError: no method matching Vector2D(::String, ::String)",
      "",
      "Stacktrace:",
      " [1] top-level scope",
      "   @ In[3]:1",
      " [2] eval",
      "   @ .\\boot.jl:373 [inlined]",
      " [3] include_string(mapexpr::typeof(REPL.softscope), mod::Module, code::String, filename::String)",
      "   @ Base .\\loading.jl:1196"
     ]
    }
   ],
   "source": [
    "v = Vector2D(\"Hola\", \"Crayola\")"
   ]
  },
  {
   "cell_type": "code",
   "execution_count": 9,
   "id": "101ac96a",
   "metadata": {},
   "outputs": [
    {
     "data": {
      "text/plain": [
       "Vector2D{Int64}(3, 5)"
      ]
     },
     "execution_count": 9,
     "metadata": {},
     "output_type": "execute_result"
    }
   ],
   "source": [
    "v = Vector2D(3, 5)"
   ]
  },
  {
   "cell_type": "code",
   "execution_count": 5,
   "id": "2cef321c",
   "metadata": {},
   "outputs": [
    {
     "data": {
      "text/plain": [
       "Vector2D{Float64}(3.4, 5.6)"
      ]
     },
     "execution_count": 5,
     "metadata": {},
     "output_type": "execute_result"
    }
   ],
   "source": [
    "w = Vector2D(3.4, 5.6)"
   ]
  },
  {
   "cell_type": "code",
   "execution_count": 6,
   "id": "09fdeac5",
   "metadata": {},
   "outputs": [
    {
     "data": {
      "text/plain": [
       "Vector2D{Rational{Int64}}(3//4, 5//7)"
      ]
     },
     "execution_count": 6,
     "metadata": {},
     "output_type": "execute_result"
    }
   ],
   "source": [
    "z = Vector2D(3//4, 5//7)\n"
   ]
  },
  {
   "cell_type": "code",
   "execution_count": 7,
   "id": "3a10bc5f",
   "metadata": {},
   "outputs": [
    {
     "name": "stdout",
     "output_type": "stream",
     "text": [
      "Vector2D{Rational{Int64}}(3//4, 5//7)"
     ]
    }
   ],
   "source": [
    "print(z)"
   ]
  },
  {
   "cell_type": "markdown",
   "id": "d2b96208",
   "metadata": {},
   "source": [
    "Ahora modifiquemos el método show de tal forma que funcione para el tipo de datos Vector2D parametrizado, será necesario entonces especificar la derivación del parámetro T."
   ]
  },
  {
   "cell_type": "code",
   "execution_count": 10,
   "id": "9b16314c",
   "metadata": {},
   "outputs": [],
   "source": [
    "import Base.show"
   ]
  },
  {
   "cell_type": "code",
   "execution_count": 11,
   "id": "0301de12",
   "metadata": {},
   "outputs": [
    {
     "data": {
      "text/plain": [
       "show (generic function with 273 methods)"
      ]
     },
     "execution_count": 11,
     "metadata": {},
     "output_type": "execute_result"
    }
   ],
   "source": [
    "show(io::IO, v::Vector2D{T}) where {T<:Real} = print(io, \"[$(v.x), $(v.y)]\")"
   ]
  },
  {
   "cell_type": "code",
   "execution_count": 12,
   "id": "21ea20cc",
   "metadata": {},
   "outputs": [
    {
     "data": {
      "text/plain": [
       "[3//4, 5//7]"
      ]
     },
     "execution_count": 12,
     "metadata": {},
     "output_type": "execute_result"
    }
   ],
   "source": [
    "z"
   ]
  },
  {
   "cell_type": "code",
   "execution_count": 13,
   "id": "732e4b98",
   "metadata": {},
   "outputs": [
    {
     "data": {
      "text/plain": [
       "[3, 3]"
      ]
     },
     "execution_count": 13,
     "metadata": {},
     "output_type": "execute_result"
    }
   ],
   "source": [
    "v = Vector2D(3,3)"
   ]
  },
  {
   "cell_type": "markdown",
   "id": "0ed18aff",
   "metadata": {},
   "source": [
    "Por medio de un método especial, un constructor externo (outer constructor), definido fuera de la estructura de datos podemos crear variables de tipo Vector2D de diferentes formas."
   ]
  },
  {
   "cell_type": "markdown",
   "id": "d2fd02d0",
   "metadata": {},
   "source": [
    "Deseamos crear variables de tipo Vector2D con un solo argumento que se asignará por defecto a ambas variables internas."
   ]
  },
  {
   "cell_type": "code",
   "execution_count": 14,
   "id": "0415bea2",
   "metadata": {},
   "outputs": [
    {
     "ename": "LoadError",
     "evalue": "MethodError: no method matching Vector2D(::Int64)\n\u001b[0mClosest candidates are:\n\u001b[0m  Vector2D(::T, \u001b[91m::T\u001b[39m) where T<:Real at In[1]:2",
     "output_type": "error",
     "traceback": [
      "MethodError: no method matching Vector2D(::Int64)\n\u001b[0mClosest candidates are:\n\u001b[0m  Vector2D(::T, \u001b[91m::T\u001b[39m) where T<:Real at In[1]:2",
      "",
      "Stacktrace:",
      " [1] top-level scope",
      "   @ In[14]:1",
      " [2] eval",
      "   @ .\\boot.jl:373 [inlined]",
      " [3] include_string(mapexpr::typeof(REPL.softscope), mod::Module, code::String, filename::String)",
      "   @ Base .\\loading.jl:1196"
     ]
    }
   ],
   "source": [
    "v = Vector2D(3)"
   ]
  },
  {
   "cell_type": "code",
   "execution_count": 15,
   "id": "e01c333d",
   "metadata": {},
   "outputs": [
    {
     "data": {
      "text/plain": [
       "Vector2D"
      ]
     },
     "execution_count": 15,
     "metadata": {},
     "output_type": "execute_result"
    }
   ],
   "source": [
    "Vector2D(x::T) where {T <: Real} = Vector2D(x,x)"
   ]
  },
  {
   "cell_type": "code",
   "execution_count": 16,
   "id": "89963b82",
   "metadata": {},
   "outputs": [
    {
     "data": {
      "text/html": [
       "# 2 methods for type constructor:<ul><li> Vector2D(x::<b>T</b>)<i> where T<:Real</i> in Main at In[15]:1</li> <li> Vector2D(x::<b>T</b>, y::<b>T</b>)<i> where T<:Real</i> in Main at In[1]:2</li> </ul>"
      ],
      "text/plain": [
       "# 2 methods for type constructor:\n",
       "[1] Vector2D(x::T) where T<:Real in Main at In[15]:1\n",
       "[2] Vector2D(x::T, y::T) where T<:Real in Main at In[1]:2"
      ]
     },
     "execution_count": 16,
     "metadata": {},
     "output_type": "execute_result"
    }
   ],
   "source": [
    "methods(Vector2D)"
   ]
  },
  {
   "cell_type": "code",
   "execution_count": 17,
   "id": "8c7b2224",
   "metadata": {},
   "outputs": [
    {
     "data": {
      "text/plain": [
       "[3, 3]"
      ]
     },
     "execution_count": 17,
     "metadata": {},
     "output_type": "execute_result"
    }
   ],
   "source": [
    "vv = Vector2D(3)"
   ]
  },
  {
   "cell_type": "code",
   "execution_count": 18,
   "id": "63f08df6",
   "metadata": {},
   "outputs": [
    {
     "data": {
      "text/plain": [
       "[4.0, 4.0]"
      ]
     },
     "execution_count": 18,
     "metadata": {},
     "output_type": "execute_result"
    }
   ],
   "source": [
    "ww = Vector2D(4.)"
   ]
  },
  {
   "cell_type": "markdown",
   "id": "58bef182",
   "metadata": {},
   "source": [
    "Cabe hacer notar que hasta ahora no podemos crear varibles de tipo Vector2D que reciban argumentos con tipo de dato diferentes."
   ]
  },
  {
   "cell_type": "code",
   "execution_count": 20,
   "id": "bedf2516",
   "metadata": {},
   "outputs": [
    {
     "ename": "LoadError",
     "evalue": "MethodError: no method matching Vector2D(::Float64, ::Int64)\n\u001b[0mClosest candidates are:\n\u001b[0m  Vector2D(::T) where T<:Real at In[15]:1\n\u001b[0m  Vector2D(::T, \u001b[91m::T\u001b[39m) where T<:Real at In[1]:2",
     "output_type": "error",
     "traceback": [
      "MethodError: no method matching Vector2D(::Float64, ::Int64)\n\u001b[0mClosest candidates are:\n\u001b[0m  Vector2D(::T) where T<:Real at In[15]:1\n\u001b[0m  Vector2D(::T, \u001b[91m::T\u001b[39m) where T<:Real at In[1]:2",
      "",
      "Stacktrace:",
      " [1] top-level scope",
      "   @ In[20]:1",
      " [2] eval",
      "   @ .\\boot.jl:373 [inlined]",
      " [3] include_string(mapexpr::typeof(REPL.softscope), mod::Module, code::String, filename::String)",
      "   @ Base .\\loading.jl:1196"
     ]
    }
   ],
   "source": [
    "zz = Vector2D(2., 4)"
   ]
  },
  {
   "cell_type": "markdown",
   "id": "6723acb5",
   "metadata": {},
   "source": [
    "Julia nos permite agregar parámetros adicionales a la estructura Vector2D"
   ]
  },
  {
   "cell_type": "code",
   "execution_count": 1,
   "id": "4fc1002f",
   "metadata": {},
   "outputs": [],
   "source": [
    "struct Vector2D{T1,T2 <: Real}\n",
    "    x::T1\n",
    "    y::T2\n",
    "end"
   ]
  },
  {
   "cell_type": "code",
   "execution_count": 2,
   "id": "b4db5458",
   "metadata": {},
   "outputs": [
    {
     "data": {
      "text/plain": [
       "Vector2D{Float64, Int64}(3.0, 5)"
      ]
     },
     "execution_count": 2,
     "metadata": {},
     "output_type": "execute_result"
    }
   ],
   "source": [
    "v = Vector2D(3., 5)"
   ]
  },
  {
   "cell_type": "code",
   "execution_count": 3,
   "id": "0a6a7a35",
   "metadata": {},
   "outputs": [
    {
     "data": {
      "text/plain": [
       "Vector2D{Float64, Float64}(3.5, 5.0)"
      ]
     },
     "execution_count": 3,
     "metadata": {},
     "output_type": "execute_result"
    }
   ],
   "source": [
    "w = Vector2D(3.5, 5.0)"
   ]
  },
  {
   "cell_type": "code",
   "execution_count": 4,
   "id": "d7c46cc0",
   "metadata": {},
   "outputs": [
    {
     "data": {
      "text/plain": [
       "Vector2D{Int64, Int64}(3, 3)"
      ]
     },
     "execution_count": 4,
     "metadata": {},
     "output_type": "execute_result"
    }
   ],
   "source": [
    "z = Vector2D(3, 3)"
   ]
  },
  {
   "cell_type": "code",
   "execution_count": null,
   "id": "969cf2df",
   "metadata": {},
   "outputs": [],
   "source": []
  }
 ],
 "metadata": {
  "kernelspec": {
   "display_name": "Julia 1.7.2",
   "language": "julia",
   "name": "julia-1.7"
  },
  "language_info": {
   "file_extension": ".jl",
   "mimetype": "application/julia",
   "name": "julia",
   "version": "1.7.2"
  }
 },
 "nbformat": 4,
 "nbformat_minor": 5
}
