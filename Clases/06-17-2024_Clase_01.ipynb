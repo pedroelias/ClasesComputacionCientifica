{
 "cells": [
  {
   "cell_type": "markdown",
   "id": "bfa0a174",
   "metadata": {},
   "source": [
    "# Clase 1\n",
    "\n",
    "Discord de la clase https://discord.gg/2wXqqZQS\n",
    "Correo: clemens@astro.unam.mx\n",
    "\n",
    "\n",
    "## Instalación de Julia:\n",
    "\n",
    "Descargar/instalar Julia siguiendo las instrucciones de la página oficial:\n",
    "\n",
    "```https://julialang.org/downloads/```, detecta el sistema operativo de manera automática.\n",
    "\n",
    " ## Instalación de Anaconda o Miniconda\n",
    " \n",
    " Las opciones para paquetería son:\n",
    " \n",
    " 1. Anaconda: Tiene todo lo necesario, pero es demasiado pesado para instalar, ocupado principalmente para aplicaciones de machine learning.\n",
    " 2. Miniconda: Es más rápido de instalar y para los objetivos del curso es suficiente.\n",
    " \n",
    " ## Creación del ambiente (conda)\n",
    "\n",
    "Para crear un ambiente desde conda es necesario usar \n",
    "\n",
    "```conda create -n JuliaEnv2 pip```\n",
    "\n",
    "Donde en lugar de JuliaEnv2 es el nombre que quieres usar para el ambiente.\n",
    "\n",
    "Esto también se puede hacer desde el ambiente Anaconda (interfaz gráfica).\n",
    "\n",
    "## Instalación de IJulia.\n",
    "\n",
    "Para usar Jupyter notebooks es necesario instalar IJulia, desde Julia:\n",
    "\n",
    " ```using Pkg\n",
    " Pkg.add(\"IJulia\") ```\n",
    " \n",
    "o\n",
    "\n",
    "``] add IJulia```\n",
    "\n",
    "Y usarlo con ```using IJulia```\n",
    "\n",
    "Para abrir la notebook \n",
    "\n",
    "```notebook()```\n",
    "\n",
    "Lo cual nos llevará a la ventana de un navegador, una vez creada una carpeta y creado una notebook para la versión de Julia en uso.\n",
    "\n",
    "## Primer Programa en Julia"
   ]
  },
  {
   "cell_type": "code",
   "execution_count": 1,
   "id": "6eea39f2-3ae4-4b64-989c-20e59da1171d",
   "metadata": {},
   "outputs": [
    {
     "data": {
      "text/plain": [
       "2"
      ]
     },
     "execution_count": 1,
     "metadata": {},
     "output_type": "execute_result"
    }
   ],
   "source": [
    "1*2"
   ]
  },
  {
   "cell_type": "code",
   "execution_count": 2,
   "id": "f6959adb",
   "metadata": {},
   "outputs": [
    {
     "name": "stdout",
     "output_type": "stream",
     "text": [
      "Hola Mundo!"
     ]
    }
   ],
   "source": [
    "print(\"Hola Mundo!\") # El clásico."
   ]
  },
  {
   "cell_type": "markdown",
   "id": "cf9f7d67",
   "metadata": {},
   "source": [
    "## Notas:\n",
    "\n",
    "Primera regla de la programación: 80% pensar, esbozar, escribir (lápiz y papel), 20% codificar.\n",
    "\n",
    "Usar pseudocódigo para representar nuestros algoritmos.\n",
    "\n",
    "#### Es importante diseñar el código:\n",
    "\n",
    "- Ejemplo: ir de casa a la escuela:\n",
    "- 0. Saber dónde está la escuela\n",
    "- 0.1 Saber una ruta para llegar a la escuela (preferentemente la más rápida).\n",
    "- 1. Salir de la casa.\n",
    "- 2. O camino ,o tomo el transporte público o uso un medio propio.\n",
    "- 3. Si camino, seguir el camino.\n",
    "- 4. Si no hay trasporte público bajar en la parada cercana a la escuela.\n",
    "- 5. Si no y voy en medio propio conduzco hasta llegar cerca de la escuela.\n",
    "- 6. Entro a la escuela.\n",
    "\n",
    "En una primera aproximación, nosotros tenemos un modelo del mundo que nos permite tomar ciertas cosas por hecho, como la identificación de un camino, del transporte público, de una casa, salir, etc. Hay pasos extra que se deben de incluir:\n",
    "\n",
    "###### Versión ampliada:\n",
    "\n",
    "- Ejemplo: ir de casa a la escuela:\n",
    "- 0. Saber dónde está la escuela\n",
    "- 0.1 Saber una ruta para llegar a la escuela (preferentemente la más rápida).\n",
    "- 1. Salir de la casa.\n",
    "- 1.1 Verificar que estoy dentro de mi casa (y saber que es mi casa).\n",
    "- 1.2 Encontrar la puerta que da a la salida.\n",
    "- 1.3 Abrirla.\n",
    "- 1.4 Cruzar la puerta abierta.\n",
    "- 1.5 Cerrar la puerta?  ## De esta misma manera hay muchos más pasos extra de abstracción que se deben de hacer explícitos.\n",
    "- 2. O camino ,o tomo el transporte público o uso un medio propio.\n",
    "- 3. Si camino, seguir el camino.\n",
    "- 4. Si no hay trasporte público bajar en la parada cercana a la escuela.\n",
    "- 5. Si no y voy en medio propio conduzco hasta llegar cerca de la escuela.\n",
    "- 6. Entro a la escuela."
   ]
  },
  {
   "cell_type": "markdown",
   "id": "19f74a76",
   "metadata": {},
   "source": [
    "### Ejemplo 2: integral\n",
    "\n",
    "Antecedentes:\n",
    "1. Saber que es una integral.\n",
    "2. Conocer la expresión que quiero resolver.\n",
    "3. Aplicar una estrategia/método de integración:\n",
    "    - Verificar que la expresión es integrable.\n",
    "    - i.e. que la sucesión de series parciales converge(?).\n",
    "4. Aplicar un método numérico.\n",
    "    - Es decir, tendremos una aproximación de la solución exacta. (realidad -> modelo fisico -> modelo matematico -> algoritmo computacional.\n",
    "     - Existen muchos métodos para implementar la solución numérica, como: trapecio, runge-kutta, simpson,  newton, cotes, etc....\n",
    "    - 4.1 Determino el intervalo a integrar.\n",
    "    - 4.2 Determinar cuantos intervalos se usarán.\n",
    "    - 4.3 Determinar la anchura de los intervalos.\n",
    "    - 4.4 Determinar la altura, i.e, dónde evaluar la función (extremo izq, derecho o central), aproximación más sencilla.\n",
    "    - 4.5 Multiplicar anchuras por alturas correspondientes y sumarlas entre sí (ya con esto se tiene una aproximación de la integral).\n",
    "\n",
    "#### Pseudocódigo::\n",
    "\n",
    "Debemos conocer lo siguiente (datos de entrada):\n",
    "- f(x)\n",
    "- A (punto inicial del intervalo de integración)\n",
    "- B (punto final del intervalo de integración)\n",
    "- B > A.\n",
    "- Numero de intervalos = pedazos\n",
    "\n",
    "Proceso:\n",
    "\n",
    "delta = $\\frac{B-A}{pedazos}$\n",
    "\n",
    "- x_i = A + delta/2\n",
    "- para i desde 1 hasta pedazos\n",
    "    - h_i = f(x_i + delta/2) ## aproximación de punto medio.\n",
    "    - x_i+1 = x_i+delta\n",
    "        - suma = h_i + suma\n",
    "       \n",
    "suma = suma $\\times$ delta\n",
    "\n",
    "Lo que también se puede expresar como:\n",
    "\n",
    "integral = (h_1+h_2+...)xdelta\n",
    "\n",
    "\n",
    "### Código de este ejemplo:"
   ]
  },
  {
   "cell_type": "code",
   "execution_count": 3,
   "id": "27b724d7",
   "metadata": {},
   "outputs": [
    {
     "data": {
      "text/plain": [
       "0.33203125"
      ]
     },
     "execution_count": 3,
     "metadata": {},
     "output_type": "execute_result"
    }
   ],
   "source": [
    "## Datos de entrada\n",
    "f(x)=x^2 #una función, intervalo y número de divisiones (intervalos) asignados:\n",
    "A=0.0\n",
    "B=1.0\n",
    "Pasos=4.\n",
    "#Proceso\n",
    "delta=(B-A)/Pasos\n",
    "x=A\n",
    "h=0\n",
    "for i in range(0,Pasos)\n",
    "    h+=f(x+delta/2)\n",
    "    x=i*delta\n",
    "end\n",
    "    \n",
    "integral=h*delta"
   ]
  },
  {
   "cell_type": "markdown",
   "id": "243a573b",
   "metadata": {},
   "source": [
    "## Recapitulación:\n",
    "\n",
    "1. Julia es un lenguaje interpretado (como python):\n",
    "    - Lenguaje interpretado: Se necesita un intermediario para poder correr el lenguaje.\n",
    "    - Lenguaje compilado: Una vez que se compila (i.e. se traduce a binario) se puede ejecutar en otro lado.\n",
    "2. REPL: es decir Read, Evaluate, Print, Look.\n",
    "3. Esto es útil para hacer prototipos. Por ejemplo:\n",
    "\n",
    "``` function hola()\n",
    "println(\"Hola Mundo\")\n",
    "end```\n",
    "\n",
    "Se usará la notebook para programar por bloques. De manera ideal es preferible usar programas (en terminaciones .jl).\n",
    "\n",
    "Es más práctico para cierta cantidad de datos/código, código .jl es mejor que la notebook."
   ]
  },
  {
   "cell_type": "markdown",
   "id": "cac4a698",
   "metadata": {},
   "source": [
    "### Ejercicio 1: Resolver la chicharronera:\n",
    "\n",
    "1. Pedir valores de a, b y c de $ax^2+bx+c$\n",
    "2. Determinar si $b^2-4ac$ es positivo o negativo\n",
    "\n",
    "    2.1 Si a = 0, entonces tomar x = c/b (si b es diferente de cero).\n",
    "    \n",
    "    2.2 Si es positivo seguir con 3\n",
    "    \n",
    "    2.3 Si es negativo agregar 0im,\n",
    "2. Meter valores en la fórmula : $x=\\frac{-b\\pm \\sqrt{b^2-4ac}}{2a}$\n",
    "3. Devolver los dos valores de x."
   ]
  },
  {
   "cell_type": "markdown",
   "id": "474d5eb2",
   "metadata": {},
   "source": [
    "$ax^2+bx+c=0$\n",
    "\n",
    "Hay 3 casos:\n",
    "\n",
    "1. a = 0\n",
    "    - Entonces x=-b/c\n",
    "2. b = 0\n",
    "    Entonces\n",
    "\n",
    "   $x_1=+sqrt(c/a)$\n",
    "\n",
    "   $x_2=-sqrt(c/a)$\n",
    "\n",
    "3. Ninguno de los coeficientes es diferente de cero o c es igual a 0.\n",
    "### Datos de entrada:\n",
    "\n",
    "a\n",
    "b\n",
    "c\n",
    "\n",
    "### Procedimiento:\n",
    "\n",
    "Si a=0, entonces x=-c/b\n",
    "\n",
    "Si $b^2-4ac>0$\n",
    "\n",
    "$$x_1=(-b + \\sqrt{(b^2-4ac))}/2a$$\n",
    "    $$x_2=(-b + \\sqrt{(b^2-4ac))}/2a$$\n",
    "    \n",
    "Si  $b^2-4ac==0$\n",
    "\n",
    "$$x_1=x_2=-b/2a$$\n",
    "    \n",
    "Si ninguno es cero\n",
    "\n",
    "$$\n",
    "x_1=(-b + sqrt(b^2-4ac))/2a \\\\\n",
    "x_2=(-b + sqrt(b^2-4ac))/2a\n",
    "$$"
   ]
  },
  {
   "cell_type": "code",
   "execution_count": 19,
   "id": "ed6d37df",
   "metadata": {},
   "outputs": [
    {
     "name": "stdout",
     "output_type": "stream",
     "text": [
      "Las raices son:\n",
      "x1 = 1.0\n",
      "x2 = -1.0\n"
     ]
    }
   ],
   "source": [
    "#Datos\n",
    "a = 1\n",
    "b = 0\n",
    "c = -1\n",
    "\n",
    "#Procedimiento:\n",
    "\n",
    "#=\n",
    "    Esta función encuentra las raices de una ecuación de segundo grado usando la ecuación general que es:\n",
    "        x_±=(-b ±sqrt(b^2-4ac))/2a\n",
    "    los datos de entrada son los coeficientes de la ecuación de segundo grado a,b y c, que son números reales.\n",
    "\n",
    "    Los datos de salida son las raíces que pueden ser reales o complejas.\n",
    "\n",
    "    Ejemplo:\n",
    "        para a=b=c=1\n",
    "        la respuesta debe de ser números complejos:\n",
    "\n",
    "        x1= -0.5 + i 0.8660254037844386\n",
    "        x2= -0.5 - i 0.8660254037844386\n",
    "\n",
    "    Ejemplo de uso:\n",
    "        SolucionEc2d0Grado(a,b,c)\n",
    "=#\n",
    "    \n",
    "\n",
    "if a==0\n",
    "    x=-c/b\n",
    "    println(\"Solo hay una raiz y es $x\")\n",
    "elseif c==0\n",
    "    println(\"Las raices son:\")\n",
    "    println(\"x1 = 0\")\n",
    "    x2=-b/2a\n",
    "    println(\"x2 = $x2\")\n",
    "else\n",
    "    det = b*b-4a*c\n",
    "    if det > 0\n",
    "        x_1=(-b + sqrt(det))/2a\n",
    "        x_2=(-b - sqrt(det))/2a\n",
    "        println(\"Las raices son:\")\n",
    "        println(\"x1 = $x_1\")\n",
    "        println(\"x2 = $x_2\")\n",
    "    elseif det == 0\n",
    "        x1 = x2 = -b/2a\n",
    "        println(\"Las raices son x1 = x2 = $x1\")\n",
    "    else\n",
    "        xa = -b/2a\n",
    "        xb = sqrt(-1*(b*b-4a*c))/2\n",
    "        println(\"Las raices son:\")\n",
    "        println(\"x1 = $xa + i $xb\")\n",
    "        println(\"x2 = $xa - i $xb\")\n",
    "    end\n",
    "end"
   ]
  },
  {
   "cell_type": "markdown",
   "id": "1cb88a6b-e00d-40d6-9b29-db138344fd3b",
   "metadata": {},
   "source": [
    "### Uso de funciones"
   ]
  },
  {
   "cell_type": "code",
   "execution_count": 12,
   "id": "29520d52-5785-4470-9120-0db86cee0151",
   "metadata": {},
   "outputs": [
    {
     "data": {
      "text/plain": [
       "promediode3 (generic function with 1 method)"
      ]
     },
     "execution_count": 12,
     "metadata": {},
     "output_type": "execute_result"
    }
   ],
   "source": [
    "function promediode3(a,b,c)\n",
    "    sum=a+b+c\n",
    "    println(sum/3)\n",
    "end"
   ]
  },
  {
   "cell_type": "code",
   "execution_count": 13,
   "id": "3f188e46-f6b2-462f-a926-d5c3f1e9230f",
   "metadata": {},
   "outputs": [
    {
     "name": "stdout",
     "output_type": "stream",
     "text": [
      "2.0\n"
     ]
    }
   ],
   "source": [
    "promediode3(1,2,3)"
   ]
  },
  {
   "cell_type": "markdown",
   "id": "661dd2be-6be2-47af-a498-1ba82f08b423",
   "metadata": {},
   "source": [
    "### Convertimos la solución de la ecuación cuadrática en una función:"
   ]
  },
  {
   "cell_type": "code",
   "execution_count": 23,
   "id": "87d29d43-f5d4-4452-9967-3ead9b17bd19",
   "metadata": {},
   "outputs": [
    {
     "name": "stdout",
     "output_type": "stream",
     "text": [
      "Las raices son:\n",
      "x1 = 1.0\n",
      "x2 = -1.0\n"
     ]
    }
   ],
   "source": [
    "function SolucionEc2d0Grado(a,b,c)\n",
    "if a==0\n",
    "    x=-c/b\n",
    "    println(\"Solo hay una raiz y es $x\")\n",
    "elseif c==0\n",
    "    println(\"Las raices son:\")\n",
    "    println(\"x1 = 0\")\n",
    "    x2=-b/2a\n",
    "    println(\"x2 = $x2\")\n",
    "else\n",
    "    det = b*b-4a*c\n",
    "    if det > 0\n",
    "        x_1=(-b + sqrt(det))/2a\n",
    "        x_2=(-b - sqrt(det))/2a\n",
    "        println(\"Las raices son:\")\n",
    "        println(\"x1 = $x_1\")\n",
    "        println(\"x2 = $x_2\")\n",
    "    elseif det == 0\n",
    "        x1 = x2 = -b/2a\n",
    "        println(\"Las raices son x1 = x2 = $x1\")\n",
    "    else\n",
    "        xa = -b/2a\n",
    "        xb = sqrt(-1*(b*b-4a*c))/2\n",
    "        println(\"Las raices son:\")\n",
    "        println(\"x1 = $xa + i $xb\")\n",
    "        println(\"x2 = $xa - i $xb\")\n",
    "    end\n",
    "end\n",
    "end\n",
    "\n",
    "SolucionEc2d0Grado(1,0,-1)"
   ]
  },
  {
   "cell_type": "markdown",
   "id": "04eee9be-a60c-474d-9b07-7e69e16b6f47",
   "metadata": {},
   "source": [
    "## Tipos de datos\n",
    "\n",
    "La función ```typeof()``` nos regresa el tipo de dato en Julia:"
   ]
  },
  {
   "cell_type": "code",
   "execution_count": 24,
   "id": "9dbc89c3-60d5-4dcf-bd95-7f985dad7807",
   "metadata": {},
   "outputs": [
    {
     "data": {
      "text/plain": [
       "Bool"
      ]
     },
     "execution_count": 24,
     "metadata": {},
     "output_type": "execute_result"
    }
   ],
   "source": [
    "typeof(true)"
   ]
  },
  {
   "cell_type": "code",
   "execution_count": 25,
   "id": "7a7245f7-e18f-4d34-a776-29b65632e4d3",
   "metadata": {},
   "outputs": [
    {
     "data": {
      "text/plain": [
       "Int64"
      ]
     },
     "execution_count": 25,
     "metadata": {},
     "output_type": "execute_result"
    }
   ],
   "source": [
    "typeof(2)"
   ]
  },
  {
   "cell_type": "code",
   "execution_count": 26,
   "id": "c1c496e9-9bde-4401-acc8-25cfae09c617",
   "metadata": {},
   "outputs": [
    {
     "data": {
      "text/plain": [
       "Float64"
      ]
     },
     "execution_count": 26,
     "metadata": {},
     "output_type": "execute_result"
    }
   ],
   "source": [
    "typeof(1.)"
   ]
  },
  {
   "cell_type": "code",
   "execution_count": 29,
   "id": "4da58108-77a2-47de-aa08-a29cd72ec49e",
   "metadata": {},
   "outputs": [
    {
     "data": {
      "text/plain": [
       "String"
      ]
     },
     "execution_count": 29,
     "metadata": {},
     "output_type": "execute_result"
    }
   ],
   "source": [
    "typeof(\"a\")"
   ]
  },
  {
   "cell_type": "code",
   "execution_count": 30,
   "id": "63c56fa8-3267-4fea-bb85-5f7a0c4d27d5",
   "metadata": {},
   "outputs": [
    {
     "data": {
      "text/plain": [
       "\"a\""
      ]
     },
     "execution_count": 30,
     "metadata": {},
     "output_type": "execute_result"
    }
   ],
   "source": [
    "w=\"a\""
   ]
  },
  {
   "cell_type": "code",
   "execution_count": 31,
   "id": "9e80a3e1-ab09-4c16-a418-11dd8d228987",
   "metadata": {},
   "outputs": [
    {
     "data": {
      "text/plain": [
       "String"
      ]
     },
     "execution_count": 31,
     "metadata": {},
     "output_type": "execute_result"
    }
   ],
   "source": [
    "typeof(w)"
   ]
  },
  {
   "cell_type": "code",
   "execution_count": 32,
   "id": "be5c1395-6ef3-45da-8b09-46e4ca4ea8ae",
   "metadata": {},
   "outputs": [
    {
     "data": {
      "text/plain": [
       "'a': ASCII/Unicode U+0061 (category Ll: Letter, lowercase)"
      ]
     },
     "execution_count": 32,
     "metadata": {},
     "output_type": "execute_result"
    }
   ],
   "source": [
    "w='a'"
   ]
  },
  {
   "cell_type": "markdown",
   "id": "50bcf4ea-88b4-4b69-b8f5-e0d1c1423bee",
   "metadata": {},
   "source": [
    "## \"\" y '' funcionan diferente!"
   ]
  },
  {
   "cell_type": "code",
   "execution_count": 33,
   "id": "763a2992-edc3-41e3-873b-6a2c49c497f7",
   "metadata": {},
   "outputs": [
    {
     "data": {
      "text/plain": [
       "7-element Vector{Int64}:\n",
       " 1\n",
       " 2\n",
       " 3\n",
       " 4\n",
       " 5\n",
       " 6\n",
       " 7"
      ]
     },
     "execution_count": 33,
     "metadata": {},
     "output_type": "execute_result"
    }
   ],
   "source": [
    "datos=[1,2,3,4,5,6,7]"
   ]
  },
  {
   "cell_type": "markdown",
   "id": "c880951b-58dd-4c0e-9446-acf00c0f8b12",
   "metadata": {},
   "source": [
    "## Operaciones entre vectores\n",
    "\n",
    "### Sumas:"
   ]
  },
  {
   "cell_type": "code",
   "execution_count": 36,
   "id": "a55c54ea-ec4a-415c-afc2-ec13a1d45cb2",
   "metadata": {},
   "outputs": [
    {
     "data": {
      "text/plain": [
       "7-element Vector{Int64}:\n",
       "  3\n",
       "  5\n",
       "  7\n",
       "  9\n",
       " 11\n",
       " 13\n",
       " 15"
      ]
     },
     "execution_count": 36,
     "metadata": {},
     "output_type": "execute_result"
    }
   ],
   "source": [
    "datos1 = datos+[2,3,4,5,6,7,8]"
   ]
  },
  {
   "cell_type": "code",
   "execution_count": 37,
   "id": "4ed62fad-1c97-4ba8-aa43-0dc64a71623e",
   "metadata": {},
   "outputs": [
    {
     "data": {
      "text/plain": [
       "Vector{Int64} (alias for Array{Int64, 1})"
      ]
     },
     "execution_count": 37,
     "metadata": {},
     "output_type": "execute_result"
    }
   ],
   "source": [
    "typeof(datos1)"
   ]
  },
  {
   "cell_type": "markdown",
   "id": "2c602b11-68cb-4fc8-afd0-f51470039fb8",
   "metadata": {},
   "source": [
    "## Indexación"
   ]
  },
  {
   "cell_type": "code",
   "execution_count": 40,
   "id": "c30eb3ee-d675-4d35-ab7e-6ce70d885ff7",
   "metadata": {},
   "outputs": [
    {
     "data": {
      "text/plain": [
       "(1, 5)"
      ]
     },
     "execution_count": 40,
     "metadata": {},
     "output_type": "execute_result"
    }
   ],
   "source": [
    "datos[1],datos1[2]"
   ]
  },
  {
   "cell_type": "markdown",
   "id": "6d886df9-8939-4d25-8ebb-0ac9629fd9e1",
   "metadata": {},
   "source": [
    "## Los índices empiezan en 1 (la mayoría de los lenguajes, inspirados en C, empiezan en 0)"
   ]
  },
  {
   "cell_type": "code",
   "execution_count": 41,
   "id": "2a1a8511-1ad9-4d34-ad81-da58f2904f81",
   "metadata": {},
   "outputs": [
    {
     "data": {
      "text/plain": [
       "3-element Vector{Any}:\n",
       " 1\n",
       " 2\n",
       "  'a': ASCII/Unicode U+0061 (category Ll: Letter, lowercase)"
      ]
     },
     "execution_count": 41,
     "metadata": {},
     "output_type": "execute_result"
    }
   ],
   "source": [
    "prueba=[1,2,'a'] #Podemos tener vectores de entradas mixtas, ie números y cadenas o Unicode."
   ]
  },
  {
   "cell_type": "markdown",
   "id": "93a5c9d1-03b1-436e-a91d-c6e2dade9e96",
   "metadata": {},
   "source": [
    "# Tarea: Escribir una función para calcular la raíz de una función cuadrática."
   ]
  },
  {
   "cell_type": "code",
   "execution_count": 47,
   "id": "b9b5c062-de89-4b55-9e33-c517767813bc",
   "metadata": {},
   "outputs": [
    {
     "data": {
      "text/plain": [
       "\"C:\\\\Users\\\\Pedro Elias\\\\ComputacionCientifica\""
      ]
     },
     "execution_count": 47,
     "metadata": {},
     "output_type": "execute_result"
    }
   ],
   "source": [
    "pwd()"
   ]
  },
  {
   "cell_type": "code",
   "execution_count": null,
   "id": "8ae2ed4e-5ef3-49e9-bcdc-b9e4a7b86586",
   "metadata": {},
   "outputs": [],
   "source": []
  }
 ],
 "metadata": {
  "kernelspec": {
   "display_name": "Julia 1.7.2",
   "language": "julia",
   "name": "julia-1.7"
  },
  "language_info": {
   "file_extension": ".jl",
   "mimetype": "application/julia",
   "name": "julia",
   "version": "1.7.2"
  }
 },
 "nbformat": 4,
 "nbformat_minor": 5
}
