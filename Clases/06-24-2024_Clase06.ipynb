{
 "cells": [
  {
   "cell_type": "markdown",
   "id": "cd3e2785",
   "metadata": {},
   "source": [
    "# Convención de números de variables\n",
    "\n",
    "No está permitido usar los nombres reservados, en el caso de julia estos nombres son:\n",
    "\n",
    "## Palabras reservadas en Julia\n",
    "\n",
    "abstract type    baremodule    begin        break        catch\n",
    "const            continue      do           else         elseif\n",
    "end              export        finally      for          function\n",
    "global           if            import       let          local\n",
    "macro            module        quote        return       struct\n",
    "try              using         while\n",
    "\n",
    "## Palabras clave especiales\n",
    "true    false   missing   nothing\n",
    "\n",
    "## Operadores que funcionan como palabras reservadas en ciertos contextos\n",
    "where   in      isa\n",
    "\n",
    "## Funciones\n",
    "Como sqrt\n",
    "\n",
    "function identificator([argumentos opcionales])\n",
    "    argumentos"
   ]
  },
  {
   "cell_type": "code",
   "execution_count": 1,
   "id": "976b40f9",
   "metadata": {},
   "outputs": [
    {
     "name": "stdout",
     "output_type": "stream",
     "text": [
      "Este es el valor: 34\n",
      "Este es el valor: $var\n"
     ]
    }
   ],
   "source": [
    "var=34\n",
    "println(\"Este es el valor: $var\")\n",
    "println(\"Este es el valor: \\$var\")"
   ]
  },
  {
   "cell_type": "markdown",
   "id": "f9ea7ccf",
   "metadata": {},
   "source": [
    "    \\n nueva línea\n",
    "    \\$ para imprimir el signo de pesos [*]\n",
    "    \\\\ Diagonal invertida[*]\n",
    "    \\\" Doble comillas[*]\n",
    "    \\' Comilla sencilla[*]\n",
    "    \\r Retorno de carro\n",
    "    \\b backspace\n",
    "    \\t tabulador horizontal \n",
    "    \\f nueva página\n"
   ]
  },
  {
   "cell_type": "code",
   "execution_count": 2,
   "id": "7ed2c2d2",
   "metadata": {},
   "outputs": [
    {
     "ename": "LoadError",
     "evalue": "syntax: extra token \"a\" after end of expression",
     "output_type": "error",
     "traceback": [
      "syntax: extra token \"a\" after end of expression",
      "",
      "Stacktrace:",
      " [1] top-level scope",
      "   @ In[2]:1",
      " [2] eval",
      "   @ .\\boot.jl:373 [inlined]",
      " [3] include_string(mapexpr::typeof(REPL.softscope), mod::Module, code::String, filename::String)",
      "   @ Base .\\loading.jl:1196"
     ]
    }
   ],
   "source": [
    "Sentencia a cualquier instrucción válda de Julia\n",
    "a=23 \n",
    "while condicion tarea end\n"
   ]
  },
  {
   "cell_type": "code",
   "execution_count": 4,
   "id": "fead1e7a",
   "metadata": {},
   "outputs": [
    {
     "data": {
      "text/plain": [
       "0"
      ]
     },
     "execution_count": 4,
     "metadata": {},
     "output_type": "execute_result"
    }
   ],
   "source": [
    "numero=Int8(0)"
   ]
  },
  {
   "cell_type": "code",
   "execution_count": 5,
   "id": "5cd03152",
   "metadata": {},
   "outputs": [
    {
     "data": {
      "text/plain": [
       "0"
      ]
     },
     "execution_count": 5,
     "metadata": {},
     "output_type": "execute_result"
    }
   ],
   "source": [
    "numero"
   ]
  },
  {
   "cell_type": "code",
   "execution_count": 6,
   "id": "f959482d",
   "metadata": {},
   "outputs": [
    {
     "data": {
      "text/plain": [
       "-10"
      ]
     },
     "execution_count": 6,
     "metadata": {},
     "output_type": "execute_result"
    }
   ],
   "source": [
    "numero2=Int16(-10)"
   ]
  },
  {
   "cell_type": "code",
   "execution_count": 7,
   "id": "71c621cc",
   "metadata": {},
   "outputs": [
    {
     "data": {
      "text/plain": [
       "-10"
      ]
     },
     "execution_count": 7,
     "metadata": {},
     "output_type": "execute_result"
    }
   ],
   "source": [
    "numero2"
   ]
  },
  {
   "cell_type": "markdown",
   "id": "c499abae",
   "metadata": {},
   "source": [
    "Tipos de enteros\n",
    "\n",
    "Signados: Int8, Int16, Int32, Int64, Int128\n",
    "\n",
    "Sin signo: UInt8, UInt16, UInt32, UInt64, UInt128"
   ]
  },
  {
   "cell_type": "code",
   "execution_count": 10,
   "id": "9e671d08",
   "metadata": {},
   "outputs": [
    {
     "name": "stdout",
     "output_type": "stream",
     "text": [
      "168"
     ]
    },
    {
     "data": {
      "text/plain": [
       "(UInt8, nothing)"
      ]
     },
     "execution_count": 10,
     "metadata": {},
     "output_type": "execute_result"
    }
   ],
   "source": [
    "num1=Int8(-120)\n",
    "num2=UInt8(32)\n",
    "num3=num1+num2\n",
    "typeof(num3),print(num3)"
   ]
  },
  {
   "cell_type": "code",
   "execution_count": 11,
   "id": "0f4440d0",
   "metadata": {},
   "outputs": [
    {
     "name": "stdout",
     "output_type": "stream",
     "text": [
      "-88"
     ]
    },
    {
     "data": {
      "text/plain": [
       "(Int16, nothing)"
      ]
     },
     "execution_count": 11,
     "metadata": {},
     "output_type": "execute_result"
    }
   ],
   "source": [
    "num4=Int8(-120)\n",
    "num5=Int16(32)\n",
    "num6=num4+num5\n",
    "typeof(num6),print(num6)"
   ]
  },
  {
   "cell_type": "markdown",
   "id": "7e6edb89",
   "metadata": {},
   "source": [
    "En el lenguaje de programación Julia, los tipos de datos numéricos tienen diferentes rangos y representaciones. Aquí tienes algunos de los tipos numéricos básicos junto con sus rangos:\n",
    "\n",
    "1. **Tipos Enteros con Signo:**\n",
    "   - **Int8:** Números enteros con signo de 8 bits.\n",
    "     - Rango: -128 a 127\n",
    "   - **Int16:** Números enteros con signo de 16 bits.\n",
    "     - Rango: -32768 a 32767\n",
    "   - **Int32:** Números enteros con signo de 32 bits.\n",
    "     - Rango: -2147483648 a 2147483647\n",
    "   - **Int64:** Números enteros con signo de 64 bits.\n",
    "     - Rango: -9223372036854775808 a 9223372036854775807\n",
    "   - **Int128:** Números enteros con signo de 128 bits.\n",
    "     - Rango: -170141183460469231731687303715884105728 a 170141183460469231731687303715884105727\n",
    "   \n",
    "2. **Tipos Enteros sin Signo:**\n",
    "   - **UInt8:** Números enteros sin signo de 8 bits.\n",
    "     - Rango: 0 a 255\n",
    "   - **UInt16:** Números enteros sin signo de 16 bits.\n",
    "     - Rango: 0 a 65535\n",
    "   - **UInt32:** Números enteros sin signo de 32 bits.\n",
    "     - Rango: 0 a 4294967295\n",
    "   - **UInt64:** Números enteros sin signo de 64 bits.\n",
    "     - Rango: 0 a 18446744073709551615\n",
    "   - **UInt128:** Números enteros sin signo de 128 bits.\n",
    "     - Rango: 0 a 340282366920938463463374607431768211455\n",
    "\n",
    "3. **Punto Flotante:**\n",
    "   - **Float16:** Número de punto flotante de 16 bits (IEEE 754 half precision).\n",
    "   - **Float32:** Número de punto flotante de 32 bits (IEEE 754 single precision).\n",
    "   - **Float64:** Número de punto flotante de 64 bits (IEEE 754 double precision).\n",
    "\n",
    "Estos tipos numéricos en Julia tienen diferentes rangos y precisión, lo que permite elegir el tipo más adecuado según las necesidades del cálculo y el uso de memoria."
   ]
  },
  {
   "cell_type": "markdown",
   "id": "962e52c8",
   "metadata": {},
   "source": [
    "El Instituto de Ingenieros Eléctricos y Electrónicos (IEEE, por sus siglas en inglés) ha establecido varios estándares para representación de números en computadoras, conocidos como los estándares IEEE 754. Estos estánndares especifican formatos para la representación de números de punto flotante en sistemas informáticos y aseguran consistencia en operaciones matemáticas básicas como suma, resta, multiplicación y división. A continuación, se explican los dos formatos principales bajo el estándar IEEE 754:\n",
    "\n",
    "### IEEE 754 Half Precision (16-bit)\n",
    "\n",
    "El formato de precisión media (half precision) de IEEE 754 utiliza 16 bits para representar un número de punto flotante. Se divide en:\n",
    "\n",
    "- **Signo:** 1 bit, indica si el número es positivo (0) o negativo (1).\n",
    "- **Exponente:** 5 bits, para representar el exponente en notación binaria de exceso 15 (es decir, el valor del exponente se resta de 15 para obtener el valor real).\n",
    "- **Mantisa (Fracción):** 10 bits, que representan la fracción decimal en forma binaria.\n",
    "\n",
    "El rango y precisión de este formato son limitados comparados con formatos más grandes como el de 32 bits:\n",
    "\n",
    "- **Rango:** Aproximadamente ±6.1 × 10^-5 a ±6.5 × 10^4.\n",
    "- **Precisión:** Aproximadamente 3 dígitos decimales significativos.\n",
    "\n",
    "### IEEE 754 Single Precision (32-bit)\n",
    "\n",
    "El formato de precisión simple (single precision) de IEEE 754 utiliza 32 bits para representar un número de punto flotante. Se divide en:\n",
    "\n",
    "- **Signo:** 1 bit, indica si el número es positivo (0) o negativo (1).\n",
    "- **Exponente:** 8 bits, para representar el exponente en notación binaria de exceso 127 (es decir, el valor del exponente se resta de 127 para obtener el valor real).\n",
    "- **Mantisa (Fracción):** 23 bits, que representan la fracción decimal en forma binaria.\n",
    "\n",
    "Este formato ofrece un mayor rango y precisión que el de 16 bits:\n",
    "\n",
    "- **Rango:** Aproximadamente ±1.4 × 10^-45 a ±3.4 × 10^38.\n",
    "- **Precisión:** Aproximadamente 7 dígitos decimales significativos.\n",
    "\n",
    "### Ventajas y Uso\n",
    "\n",
    "- **Rendimiento vs. Precisión:** El uso de formatos más pequeños como el de 16 bits (half precision) es útil en aplicaciones donde el almacenamiento y la transferencia de datos son críticos, como en redes neuronales y procesamiento de imágenes en tiempo real.\n",
    "  \n",
    "- **Mayor Precisión:** Los formatos más grandes como el de 32 bits (single precision) se utilizan en cálculos científicos y de ingeniería que requieren una precisión más alta.\n",
    "\n",
    "### Consideraciones\n",
    "\n",
    "- **Redondeo y Precisión:** Debido a la representación finita de los números en binario, los cálculos con números de punto flotante pueden llevar a errores de redondeo. Es crucial comprender y manejar estos errores en aplicaciones críticas.\n",
    "\n",
    "- **Normas de IEEE:** La implementación precisa de los estándares IEEE 754 asegura la portabilidad y consistencia de los cálculos entre diferentes plataformas informáticas.\n",
    "\n",
    "Estos estándares son fundamentales para asegurar que los cálculos numéricos en sistemas informáticos sean precisos y reproducibles, independientemente del hardware utilizado."
   ]
  },
  {
   "cell_type": "code",
   "execution_count": 14,
   "id": "746d26e2",
   "metadata": {},
   "outputs": [
    {
     "data": {
      "text/plain": [
       "\"Hola Mundo\""
      ]
     },
     "execution_count": 14,
     "metadata": {},
     "output_type": "execute_result"
    }
   ],
   "source": [
    "cadena1=\"Hola \"\n",
    "cadena2=\"Mundo\"\n",
    "cadena1*cadena2 #el operador * es concadenación"
   ]
  },
  {
   "cell_type": "code",
   "execution_count": 15,
   "id": "dcad21db",
   "metadata": {},
   "outputs": [
    {
     "data": {
      "text/plain": [
       "'M': ASCII/Unicode U+004D (category Lu: Letter, uppercase)"
      ]
     },
     "execution_count": 15,
     "metadata": {},
     "output_type": "execute_result"
    }
   ],
   "source": [
    "cadena2[1]"
   ]
  },
  {
   "cell_type": "code",
   "execution_count": 16,
   "id": "3d909995",
   "metadata": {},
   "outputs": [
    {
     "name": "stdout",
     "output_type": "stream",
     "text": [
      "search: \u001b[0m\u001b[1ma\u001b[22m\u001b[0m\u001b[1ms\u001b[22m\u001b[0m\u001b[1mc\u001b[22m\u001b[0m\u001b[1mi\u001b[22m\u001b[0m\u001b[1mi\u001b[22m is\u001b[0m\u001b[1ma\u001b[22m\u001b[0m\u001b[1ms\u001b[22m\u001b[0m\u001b[1mc\u001b[22m\u001b[0m\u001b[1mi\u001b[22m\u001b[0m\u001b[1mi\u001b[22m \u001b[0m\u001b[1mA\u001b[22mb\u001b[0m\u001b[1ms\u001b[22mtra\u001b[0m\u001b[1mc\u001b[22mt\u001b[0m\u001b[1mI\u001b[22mrrat\u001b[0m\u001b[1mi\u001b[22monal \u001b[0m\u001b[1mA\u001b[22mb\u001b[0m\u001b[1ms\u001b[22mtra\u001b[0m\u001b[1mc\u001b[22mtD\u001b[0m\u001b[1mi\u001b[22mct \u001b[0m\u001b[1mA\u001b[22mb\u001b[0m\u001b[1ms\u001b[22mtra\u001b[0m\u001b[1mc\u001b[22mtD\u001b[0m\u001b[1mi\u001b[22msplay\n",
      "\n",
      "Couldn't find \u001b[36mASCII\u001b[39m\n",
      "Perhaps you meant ARGS\n"
     ]
    },
    {
     "data": {
      "text/latex": [
       "No documentation found.\n",
       "\n",
       "Binding \\texttt{ASCII} does not exist.\n",
       "\n"
      ],
      "text/markdown": [
       "No documentation found.\n",
       "\n",
       "Binding `ASCII` does not exist.\n"
      ],
      "text/plain": [
       "  No documentation found.\n",
       "\n",
       "  Binding \u001b[36mASCII\u001b[39m does not exist."
      ]
     },
     "execution_count": 16,
     "metadata": {},
     "output_type": "execute_result"
    }
   ],
   "source": [
    "?ASCII"
   ]
  },
  {
   "cell_type": "code",
   "execution_count": 19,
   "id": "e043ca4d",
   "metadata": {},
   "outputs": [
    {
     "data": {
      "text/plain": [
       "Any[]"
      ]
     },
     "execution_count": 19,
     "metadata": {},
     "output_type": "execute_result"
    }
   ],
   "source": [
    "letras=[]"
   ]
  },
  {
   "cell_type": "code",
   "execution_count": 23,
   "id": "6fb9372b",
   "metadata": {},
   "outputs": [
    {
     "data": {
      "text/plain": [
       "2-element Vector{Any}:\n",
       " 'H': ASCII/Unicode U+0048 (category Lu: Letter, uppercase)\n",
       " 'H': ASCII/Unicode U+0048 (category Lu: Letter, uppercase)"
      ]
     },
     "execution_count": 23,
     "metadata": {},
     "output_type": "execute_result"
    }
   ],
   "source": [
    "push!(letras, cadena1[1])"
   ]
  },
  {
   "cell_type": "code",
   "execution_count": 22,
   "id": "6965783c",
   "metadata": {},
   "outputs": [
    {
     "data": {
      "text/plain": [
       "\"Hola \""
      ]
     },
     "execution_count": 22,
     "metadata": {},
     "output_type": "execute_result"
    }
   ],
   "source": [
    "cadena1"
   ]
  },
  {
   "cell_type": "code",
   "execution_count": 24,
   "id": "2b83e880",
   "metadata": {},
   "outputs": [
    {
     "data": {
      "text/plain": [
       "2-element Vector{Any}:\n",
       " 'H': ASCII/Unicode U+0048 (category Lu: Letter, uppercase)\n",
       " 'H': ASCII/Unicode U+0048 (category Lu: Letter, uppercase)"
      ]
     },
     "execution_count": 24,
     "metadata": {},
     "output_type": "execute_result"
    }
   ],
   "source": [
    "letras"
   ]
  },
  {
   "cell_type": "code",
   "execution_count": 26,
   "id": "f2d12e36",
   "metadata": {},
   "outputs": [
    {
     "name": "stdout",
     "output_type": "stream",
     "text": [
      "HH"
     ]
    }
   ],
   "source": [
    "print(letras[1]*letras[2])"
   ]
  },
  {
   "cell_type": "markdown",
   "id": "d309c560",
   "metadata": {},
   "source": [
    "##  Formalización de ciclos:\n",
    "\n",
    "if condicion\n",
    "    sentencias\n",
    "elseif condicion2\n",
    "    sentencias\n",
    "else\n",
    "    sentencias2\n",
    "end\n",
    "\n",
    "0 falso\n",
    "\n",
    "\n",
    "1 verdadero \n",
    "\n",
    "\n",
    "No funciona así en julia (pero si en python)"
   ]
  },
  {
   "cell_type": "markdown",
   "id": "f67767dc",
   "metadata": {},
   "source": [
    "Ciclos controlados por contador\n",
    "- Conocemos el número de iteraciones a realizar.\n",
    "- for\n",
    "\n",
    "Ciclos controlados por centinela.\n",
    "- No conoces la cantidad de iteraciones, pero existe una condición de paro.\n",
    "- Existe una variable centinela o bandera que se activa cuando se cumple la condicione de paro\n",
    "- while"
   ]
  },
  {
   "cell_type": "code",
   "execution_count": 40,
   "id": "d24b5206",
   "metadata": {},
   "outputs": [
    {
     "name": "stdout",
     "output_type": "stream",
     "text": [
      "12345678910\n",
      "1, 3, 5, 7, 9, 11, 13, 15, 17, 19, 21, 23, 25, 27, 29, 31, 33, 35, 37, 39, 41, 43, 45, 47, 49, Any['M', 'u', 'n', 'd', 'o']\n",
      "Nvoep"
     ]
    }
   ],
   "source": [
    "for i=1:10\n",
    "    print(i)\n",
    "end\n",
    "println(\"\")\n",
    "\n",
    "for k=1:2:50\n",
    "    print(\"$k, \")\n",
    "end\n",
    "#println(k)\n",
    "\n",
    "letras23=[]\n",
    "for i in cadena2\n",
    "    push!(letras23,i)\n",
    "end\n",
    "println(letras23)\n",
    "for i in letras23\n",
    "    print(i+1)\n",
    "end"
   ]
  },
  {
   "cell_type": "code",
   "execution_count": 42,
   "id": "9339562e",
   "metadata": {},
   "outputs": [
    {
     "name": "stdout",
     "output_type": "stream",
     "text": [
      "1\n",
      "2\n",
      "3\n",
      "4\n",
      "5\n",
      "2\n",
      "4\n",
      "6\n",
      "8\n",
      "10\n",
      "3\n",
      "6\n",
      "9\n",
      "12\n",
      "15\n",
      "4\n",
      "8\n",
      "12\n",
      "16\n",
      "20\n",
      "5\n",
      "10\n",
      "15\n",
      "20\n",
      "25\n",
      "6\n",
      "12\n",
      "18\n",
      "24\n",
      "30\n",
      "7\n",
      "14\n",
      "21\n",
      "28\n",
      "35\n",
      "8\n",
      "16\n",
      "24\n",
      "32\n",
      "40\n",
      "9\n",
      "18\n",
      "27\n",
      "36\n",
      "45\n",
      "10\n",
      "20\n",
      "30\n",
      "40\n",
      "50\n"
     ]
    }
   ],
   "source": [
    "for i ∈ 1:10\n",
    "    for j=1:5\n",
    "        println(i*j)\n",
    "    end\n",
    "end"
   ]
  },
  {
   "cell_type": "code",
   "execution_count": 43,
   "id": "e0abb784",
   "metadata": {},
   "outputs": [
    {
     "name": "stdout",
     "output_type": "stream",
     "text": [
      "1\n",
      "2\n",
      "3\n",
      "4\n",
      "5\n",
      "2\n",
      "4\n",
      "6\n",
      "8\n",
      "10\n",
      "3\n",
      "6\n",
      "9\n",
      "12\n",
      "15\n",
      "4\n",
      "8\n",
      "12\n",
      "16\n",
      "20\n",
      "5\n",
      "10\n",
      "15\n",
      "20\n",
      "25\n",
      "6\n",
      "12\n",
      "18\n",
      "24\n",
      "30\n",
      "7\n",
      "14\n",
      "21\n",
      "28\n",
      "35\n",
      "8\n",
      "16\n",
      "24\n",
      "32\n",
      "40\n",
      "9\n",
      "18\n",
      "27\n",
      "36\n",
      "45\n",
      "10\n",
      "20\n",
      "30\n",
      "40\n",
      "50\n"
     ]
    }
   ],
   "source": [
    "for i ∈ 1:10, j=1:5\n",
    "    println(i*j)\n",
    "end"
   ]
  },
  {
   "cell_type": "code",
   "execution_count": 44,
   "id": "03f7dfe0",
   "metadata": {},
   "outputs": [
    {
     "name": "stdout",
     "output_type": "stream",
     "text": [
      "5.0e33\n",
      "2.5e33\n",
      "1.25e33\n",
      "6.25e32\n",
      "3.125e32\n",
      "1.5625e32\n",
      "7.8125e31\n",
      "3.90625e31\n",
      "1.953125e31\n",
      "9.765625e30\n",
      "4.8828125e30\n",
      "2.44140625e30\n",
      "1.220703125e30\n",
      "6.103515625e29\n",
      "3.0517578125e29\n",
      "1.52587890625e29\n",
      "7.62939453125e28\n",
      "3.814697265625e28\n",
      "1.9073486328125e28\n",
      "9.5367431640625e27\n",
      "4.76837158203125e27\n",
      "2.384185791015625e27\n",
      "1.1920928955078124e27\n",
      "5.960464477539062e26\n",
      "2.980232238769531e26\n",
      "1.4901161193847655e26\n",
      "7.450580596923828e25\n",
      "3.725290298461914e25\n",
      "1.862645149230957e25\n",
      "9.313225746154785e24\n",
      "4.6566128730773923e24\n",
      "2.3283064365386962e24\n",
      "1.1641532182693481e24\n",
      "5.8207660913467404e23\n",
      "2.9103830456733702e23\n",
      "1.4551915228366851e23\n",
      "7.2759576141834255e22\n",
      "3.6379788070917128e22\n",
      "1.8189894035458564e22\n",
      "9.094947017729282e21\n",
      "4.547473508864641e21\n",
      "2.2737367544323205e21\n",
      "1.1368683772161602e21\n",
      "5.684341886080801e20\n",
      "2.8421709430404006e20\n",
      "1.4210854715202003e20\n",
      "7.1054273576010015e19\n",
      "3.5527136788005007e19\n",
      "1.7763568394002504e19\n",
      "8.881784197001252e18\n",
      "4.440892098500626e18\n",
      "2.220446049250313e18\n",
      "1.1102230246251565e18\n",
      "5.5511151231257824e17\n",
      "2.7755575615628912e17\n",
      "1.3877787807814456e17\n",
      "6.938893903907228e16\n",
      "3.469446951953614e16\n",
      "1.734723475976807e16\n",
      "8.673617379884035e15\n",
      "4.3368086899420175e15\n",
      "2.1684043449710088e15\n",
      "1.0842021724855044e15\n",
      "5.421010862427522e14\n",
      "2.710505431213761e14\n",
      "1.3552527156068805e14\n",
      "6.776263578034402e13\n",
      "3.388131789017201e13\n",
      "1.6940658945086006e13\n",
      "8.470329472543003e12\n",
      "4.2351647362715015e12\n",
      "2.1175823681357507e12\n",
      "1.0587911840678754e12\n",
      "5.293955920339377e11\n",
      "2.6469779601696884e11\n",
      "1.3234889800848442e11\n",
      "6.617444900424221e10\n",
      "3.3087224502121105e10\n",
      "1.6543612251060553e10\n",
      "8.271806125530276e9\n",
      "4.135903062765138e9\n",
      "2.067951531382569e9\n",
      "1.0339757656912845e9\n",
      "5.1698788284564227e8\n",
      "2.5849394142282113e8\n",
      "1.2924697071141057e8\n",
      "6.462348535570528e7\n",
      "3.231174267785264e7\n",
      "1.615587133892632e7\n",
      "8.07793566946316e6\n",
      "4.03896783473158e6\n",
      "2.01948391736579e6\n",
      "1.009741958682895e6\n",
      "504870.9793414475\n",
      "252435.48967072376\n",
      "126217.74483536188\n",
      "63108.87241768094\n",
      "31554.43620884047\n",
      "15777.218104420235\n",
      "7888.609052210118\n",
      "3944.304526105059\n",
      "1972.1522630525294\n",
      "986.0761315262647\n",
      "493.03806576313235\n",
      "246.51903288156618\n",
      "123.25951644078309\n",
      "61.629758220391544\n",
      "30.814879110195772\n",
      "15.407439555097886\n",
      "7.703719777548943\n",
      "3.8518598887744715\n",
      "1.9259299443872357\n",
      "0.9629649721936179\n",
      "0.48148248609680894\n",
      "0.24074124304840447\n",
      "0.12037062152420223\n",
      "0.06018531076210112\n",
      "0.03009265538105056\n",
      "0.01504632769052528\n",
      "0.00752316384526264\n",
      "0.00376158192263132\n",
      "0.00188079096131566\n",
      "0.00094039548065783\n",
      "0.000470197740328915\n",
      "0.0002350988701644575\n",
      "0.00011754943508222874\n",
      "5.877471754111437e-5\n",
      "2.9387358770557186e-5\n",
      "1.4693679385278593e-5\n",
      "7.3468396926392965e-6\n",
      "3.6734198463196483e-6\n",
      "1.8367099231598241e-6\n",
      "9.183549615799121e-7\n"
     ]
    }
   ],
   "source": [
    "tol=0.000001\n",
    "centinela=1e34\n",
    "while centinela>tol\n",
    "    centinela=centinela/2\n",
    "    println(centinela)\n",
    "end\n",
    "    "
   ]
  },
  {
   "cell_type": "code",
   "execution_count": 45,
   "id": "37525c12",
   "metadata": {},
   "outputs": [
    {
     "name": "stdout",
     "output_type": "stream",
     "text": [
      "1, \n",
      "2, \n",
      "3, \n",
      "4, \n",
      "5, \n",
      "6, \n",
      "7, \n",
      "8, \n",
      "9, \n",
      "10, \n",
      "11, \n",
      "12, \n",
      "13, \n",
      "14, \n",
      "15, \n",
      "16, \n",
      "17, \n",
      "18, \n",
      "19, \n",
      "20, \n",
      "21, \n",
      "22, \n",
      "23, \n",
      "24, \n",
      "25, \n",
      "26, \n",
      "27, \n",
      "28, \n",
      "29, \n",
      "30, \n",
      "31, \n",
      "32, \n",
      "33, \n",
      "34, \n",
      "35, \n",
      "36, \n",
      "37, \n",
      "38, \n",
      "39, \n",
      "40, \n",
      "41, \n",
      "42, \n",
      "43, \n",
      "44, \n",
      "45, \n",
      "46, \n",
      "47, \n",
      "48, \n",
      "49, \n",
      "50, \n",
      "51, \n",
      "52, \n",
      "53, \n",
      "54, \n",
      "55, \n",
      "56, \n",
      "57, \n",
      "58, \n",
      "59, \n",
      "60, \n",
      "61, \n",
      "62, \n",
      "63, \n",
      "64, \n",
      "65, \n",
      "66, \n",
      "67, \n",
      "68, \n",
      "69, \n",
      "70, \n",
      "71, \n",
      "72, \n",
      "73, \n",
      "74, \n",
      "75, \n",
      "76, \n",
      "77, \n",
      "78, \n",
      "79, \n",
      "80, \n",
      "81, \n",
      "82, \n",
      "83, \n",
      "84, \n",
      "85, \n",
      "86, \n",
      "87, \n",
      "88, \n",
      "89, \n",
      "90, \n",
      "91, \n",
      "92, \n",
      "93, \n",
      "94, \n",
      "95, \n",
      "96, \n",
      "97, \n",
      "98, \n",
      "99, \n",
      "100, \n"
     ]
    }
   ],
   "source": [
    "contador=0\n",
    "while contador<100\n",
    "    contador += 1\n",
    "    println(\"$contador, \")\n",
    "end"
   ]
  },
  {
   "cell_type": "code",
   "execution_count": 46,
   "id": "f3ffccc1",
   "metadata": {},
   "outputs": [
    {
     "name": "stdout",
     "output_type": "stream",
     "text": [
      "1, 2, 3, 4, 5, 6, 7, 8, 9, 10, 11, 12, 13, 14, 15, 16, 17, 18, 19, 20, 21, 22, 23, 24, 25, 26, 27, 28, 29, 30, 31, 32, 33, 34, 35, 36, 37, 38, 39, 40, 41, 42, 43, 44, 45, 46, 47, 48, 49, 50, 51, 52, 53, 54, 55, 56, 57, 58, 59, 60, 61, 62, 63, 64, 65, 66, 67, 68, 69, 70, 71, 72, 73, 74, 75, 76, 77, 78, 79, 80, 81, 82, 83, 84, 85, 86, 87, 88, 89, 90, 91, 92, 93, 94, 95, 96, 97, 98, 99, 100, "
     ]
    }
   ],
   "source": [
    "contador=0\n",
    "while contador<100\n",
    "    contador += 1\n",
    "    print(\"$contador, \")\n",
    "end"
   ]
  },
  {
   "cell_type": "code",
   "execution_count": 50,
   "id": "320b3d30",
   "metadata": {},
   "outputs": [
    {
     "name": "stdout",
     "output_type": "stream",
     "text": [
      "1234568910"
     ]
    }
   ],
   "source": [
    "for i=1:10\n",
    "    if i==7\n",
    "        continue\n",
    "    end\n",
    "    print(i)\n",
    "end"
   ]
  },
  {
   "cell_type": "code",
   "execution_count": null,
   "id": "3f53fd68",
   "metadata": {},
   "outputs": [],
   "source": []
  }
 ],
 "metadata": {
  "kernelspec": {
   "display_name": "Julia 1.7.2",
   "language": "julia",
   "name": "julia-1.7"
  },
  "language_info": {
   "file_extension": ".jl",
   "mimetype": "application/julia",
   "name": "julia",
   "version": "1.7.2"
  }
 },
 "nbformat": 4,
 "nbformat_minor": 5
}
